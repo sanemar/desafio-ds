{
  "nbformat": 4,
  "nbformat_minor": 0,
  "metadata": {
    "colab": {
      "provenance": [],
      "toc_visible": true,
      "include_colab_link": true
    },
    "kernelspec": {
      "name": "python3",
      "display_name": "Python 3"
    },
    "language_info": {
      "name": "python"
    }
  },
  "cells": [
    {
      "cell_type": "markdown",
      "metadata": {
        "id": "view-in-github",
        "colab_type": "text"
      },
      "source": [
        "<a href=\"https://colab.research.google.com/github/sanemar/desafio-ds/blob/main/AluraStoreBr.ipynb\" target=\"_parent\"><img src=\"https://colab.research.google.com/assets/colab-badge.svg\" alt=\"Open In Colab\"/></a>"
      ]
    },
    {
      "cell_type": "markdown",
      "source": [
        "### Importação dos dados\n",
        "\n"
      ],
      "metadata": {
        "id": "RhEdWd9YUR6H"
      }
    },
    {
      "cell_type": "code",
      "execution_count": 90,
      "metadata": {
        "colab": {
          "base_uri": "https://localhost:8080/",
          "height": 328
        },
        "id": "T3EvaeQ_INIL",
        "outputId": "ca431ddb-f166-424e-cacd-0ebafcf1f671"
      },
      "outputs": [
        {
          "output_type": "execute_result",
          "data": {
            "text/plain": [
              "                 Produto Categoria do Produto    Preço      Frete  \\\n",
              "0     Assistente virtual          eletronicos   219.08   9.249790   \n",
              "1         Mesa de jantar               moveis   256.35  11.234305   \n",
              "2      Jogo de tabuleiro           brinquedos   279.51  21.262681   \n",
              "3            Micro-ondas     eletrodomesticos  1009.99  54.667344   \n",
              "4  Cadeira de escritório               moveis   446.99  26.964689   \n",
              "\n",
              "  Data da Compra        Vendedor Local da compra  Avaliação da compra  \\\n",
              "0     16/01/2021     Pedro Gomes              SP                    4   \n",
              "1     18/05/2022  Beatriz Moraes              RJ                    1   \n",
              "2     15/03/2021      João Souza              DF                    1   \n",
              "3     03/05/2022      João Souza              RS                    4   \n",
              "4     07/11/2020   Larissa Alves              MG                    5   \n",
              "\n",
              "  Tipo de pagamento  Quantidade de parcelas    lat    lon  \n",
              "0    cartao_credito                       8 -22.19 -48.79  \n",
              "1    cartao_credito                       4 -22.25 -42.66  \n",
              "2    cartao_credito                       1 -15.83 -47.86  \n",
              "3            boleto                       1 -30.17 -53.50  \n",
              "4            boleto                       1 -18.10 -44.38  "
            ],
            "text/html": [
              "\n",
              "  <div id=\"df-9ade24fe-4e57-4fed-8c0a-dcd089253187\" class=\"colab-df-container\">\n",
              "    <div>\n",
              "<style scoped>\n",
              "    .dataframe tbody tr th:only-of-type {\n",
              "        vertical-align: middle;\n",
              "    }\n",
              "\n",
              "    .dataframe tbody tr th {\n",
              "        vertical-align: top;\n",
              "    }\n",
              "\n",
              "    .dataframe thead th {\n",
              "        text-align: right;\n",
              "    }\n",
              "</style>\n",
              "<table border=\"1\" class=\"dataframe\">\n",
              "  <thead>\n",
              "    <tr style=\"text-align: right;\">\n",
              "      <th></th>\n",
              "      <th>Produto</th>\n",
              "      <th>Categoria do Produto</th>\n",
              "      <th>Preço</th>\n",
              "      <th>Frete</th>\n",
              "      <th>Data da Compra</th>\n",
              "      <th>Vendedor</th>\n",
              "      <th>Local da compra</th>\n",
              "      <th>Avaliação da compra</th>\n",
              "      <th>Tipo de pagamento</th>\n",
              "      <th>Quantidade de parcelas</th>\n",
              "      <th>lat</th>\n",
              "      <th>lon</th>\n",
              "    </tr>\n",
              "  </thead>\n",
              "  <tbody>\n",
              "    <tr>\n",
              "      <th>0</th>\n",
              "      <td>Assistente virtual</td>\n",
              "      <td>eletronicos</td>\n",
              "      <td>219.08</td>\n",
              "      <td>9.249790</td>\n",
              "      <td>16/01/2021</td>\n",
              "      <td>Pedro Gomes</td>\n",
              "      <td>SP</td>\n",
              "      <td>4</td>\n",
              "      <td>cartao_credito</td>\n",
              "      <td>8</td>\n",
              "      <td>-22.19</td>\n",
              "      <td>-48.79</td>\n",
              "    </tr>\n",
              "    <tr>\n",
              "      <th>1</th>\n",
              "      <td>Mesa de jantar</td>\n",
              "      <td>moveis</td>\n",
              "      <td>256.35</td>\n",
              "      <td>11.234305</td>\n",
              "      <td>18/05/2022</td>\n",
              "      <td>Beatriz Moraes</td>\n",
              "      <td>RJ</td>\n",
              "      <td>1</td>\n",
              "      <td>cartao_credito</td>\n",
              "      <td>4</td>\n",
              "      <td>-22.25</td>\n",
              "      <td>-42.66</td>\n",
              "    </tr>\n",
              "    <tr>\n",
              "      <th>2</th>\n",
              "      <td>Jogo de tabuleiro</td>\n",
              "      <td>brinquedos</td>\n",
              "      <td>279.51</td>\n",
              "      <td>21.262681</td>\n",
              "      <td>15/03/2021</td>\n",
              "      <td>João Souza</td>\n",
              "      <td>DF</td>\n",
              "      <td>1</td>\n",
              "      <td>cartao_credito</td>\n",
              "      <td>1</td>\n",
              "      <td>-15.83</td>\n",
              "      <td>-47.86</td>\n",
              "    </tr>\n",
              "    <tr>\n",
              "      <th>3</th>\n",
              "      <td>Micro-ondas</td>\n",
              "      <td>eletrodomesticos</td>\n",
              "      <td>1009.99</td>\n",
              "      <td>54.667344</td>\n",
              "      <td>03/05/2022</td>\n",
              "      <td>João Souza</td>\n",
              "      <td>RS</td>\n",
              "      <td>4</td>\n",
              "      <td>boleto</td>\n",
              "      <td>1</td>\n",
              "      <td>-30.17</td>\n",
              "      <td>-53.50</td>\n",
              "    </tr>\n",
              "    <tr>\n",
              "      <th>4</th>\n",
              "      <td>Cadeira de escritório</td>\n",
              "      <td>moveis</td>\n",
              "      <td>446.99</td>\n",
              "      <td>26.964689</td>\n",
              "      <td>07/11/2020</td>\n",
              "      <td>Larissa Alves</td>\n",
              "      <td>MG</td>\n",
              "      <td>5</td>\n",
              "      <td>boleto</td>\n",
              "      <td>1</td>\n",
              "      <td>-18.10</td>\n",
              "      <td>-44.38</td>\n",
              "    </tr>\n",
              "  </tbody>\n",
              "</table>\n",
              "</div>\n",
              "    <div class=\"colab-df-buttons\">\n",
              "\n",
              "  <div class=\"colab-df-container\">\n",
              "    <button class=\"colab-df-convert\" onclick=\"convertToInteractive('df-9ade24fe-4e57-4fed-8c0a-dcd089253187')\"\n",
              "            title=\"Convert this dataframe to an interactive table.\"\n",
              "            style=\"display:none;\">\n",
              "\n",
              "  <svg xmlns=\"http://www.w3.org/2000/svg\" height=\"24px\" viewBox=\"0 -960 960 960\">\n",
              "    <path d=\"M120-120v-720h720v720H120Zm60-500h600v-160H180v160Zm220 220h160v-160H400v160Zm0 220h160v-160H400v160ZM180-400h160v-160H180v160Zm440 0h160v-160H620v160ZM180-180h160v-160H180v160Zm440 0h160v-160H620v160Z\"/>\n",
              "  </svg>\n",
              "    </button>\n",
              "\n",
              "  <style>\n",
              "    .colab-df-container {\n",
              "      display:flex;\n",
              "      gap: 12px;\n",
              "    }\n",
              "\n",
              "    .colab-df-convert {\n",
              "      background-color: #E8F0FE;\n",
              "      border: none;\n",
              "      border-radius: 50%;\n",
              "      cursor: pointer;\n",
              "      display: none;\n",
              "      fill: #1967D2;\n",
              "      height: 32px;\n",
              "      padding: 0 0 0 0;\n",
              "      width: 32px;\n",
              "    }\n",
              "\n",
              "    .colab-df-convert:hover {\n",
              "      background-color: #E2EBFA;\n",
              "      box-shadow: 0px 1px 2px rgba(60, 64, 67, 0.3), 0px 1px 3px 1px rgba(60, 64, 67, 0.15);\n",
              "      fill: #174EA6;\n",
              "    }\n",
              "\n",
              "    .colab-df-buttons div {\n",
              "      margin-bottom: 4px;\n",
              "    }\n",
              "\n",
              "    [theme=dark] .colab-df-convert {\n",
              "      background-color: #3B4455;\n",
              "      fill: #D2E3FC;\n",
              "    }\n",
              "\n",
              "    [theme=dark] .colab-df-convert:hover {\n",
              "      background-color: #434B5C;\n",
              "      box-shadow: 0px 1px 3px 1px rgba(0, 0, 0, 0.15);\n",
              "      filter: drop-shadow(0px 1px 2px rgba(0, 0, 0, 0.3));\n",
              "      fill: #FFFFFF;\n",
              "    }\n",
              "  </style>\n",
              "\n",
              "    <script>\n",
              "      const buttonEl =\n",
              "        document.querySelector('#df-9ade24fe-4e57-4fed-8c0a-dcd089253187 button.colab-df-convert');\n",
              "      buttonEl.style.display =\n",
              "        google.colab.kernel.accessAllowed ? 'block' : 'none';\n",
              "\n",
              "      async function convertToInteractive(key) {\n",
              "        const element = document.querySelector('#df-9ade24fe-4e57-4fed-8c0a-dcd089253187');\n",
              "        const dataTable =\n",
              "          await google.colab.kernel.invokeFunction('convertToInteractive',\n",
              "                                                    [key], {});\n",
              "        if (!dataTable) return;\n",
              "\n",
              "        const docLinkHtml = 'Like what you see? Visit the ' +\n",
              "          '<a target=\"_blank\" href=https://colab.research.google.com/notebooks/data_table.ipynb>data table notebook</a>'\n",
              "          + ' to learn more about interactive tables.';\n",
              "        element.innerHTML = '';\n",
              "        dataTable['output_type'] = 'display_data';\n",
              "        await google.colab.output.renderOutput(dataTable, element);\n",
              "        const docLink = document.createElement('div');\n",
              "        docLink.innerHTML = docLinkHtml;\n",
              "        element.appendChild(docLink);\n",
              "      }\n",
              "    </script>\n",
              "  </div>\n",
              "\n",
              "\n",
              "    <div id=\"df-509762ba-7a11-4554-ab49-73b1c2d54afc\">\n",
              "      <button class=\"colab-df-quickchart\" onclick=\"quickchart('df-509762ba-7a11-4554-ab49-73b1c2d54afc')\"\n",
              "                title=\"Suggest charts\"\n",
              "                style=\"display:none;\">\n",
              "\n",
              "<svg xmlns=\"http://www.w3.org/2000/svg\" height=\"24px\"viewBox=\"0 0 24 24\"\n",
              "     width=\"24px\">\n",
              "    <g>\n",
              "        <path d=\"M19 3H5c-1.1 0-2 .9-2 2v14c0 1.1.9 2 2 2h14c1.1 0 2-.9 2-2V5c0-1.1-.9-2-2-2zM9 17H7v-7h2v7zm4 0h-2V7h2v10zm4 0h-2v-4h2v4z\"/>\n",
              "    </g>\n",
              "</svg>\n",
              "      </button>\n",
              "\n",
              "<style>\n",
              "  .colab-df-quickchart {\n",
              "      --bg-color: #E8F0FE;\n",
              "      --fill-color: #1967D2;\n",
              "      --hover-bg-color: #E2EBFA;\n",
              "      --hover-fill-color: #174EA6;\n",
              "      --disabled-fill-color: #AAA;\n",
              "      --disabled-bg-color: #DDD;\n",
              "  }\n",
              "\n",
              "  [theme=dark] .colab-df-quickchart {\n",
              "      --bg-color: #3B4455;\n",
              "      --fill-color: #D2E3FC;\n",
              "      --hover-bg-color: #434B5C;\n",
              "      --hover-fill-color: #FFFFFF;\n",
              "      --disabled-bg-color: #3B4455;\n",
              "      --disabled-fill-color: #666;\n",
              "  }\n",
              "\n",
              "  .colab-df-quickchart {\n",
              "    background-color: var(--bg-color);\n",
              "    border: none;\n",
              "    border-radius: 50%;\n",
              "    cursor: pointer;\n",
              "    display: none;\n",
              "    fill: var(--fill-color);\n",
              "    height: 32px;\n",
              "    padding: 0;\n",
              "    width: 32px;\n",
              "  }\n",
              "\n",
              "  .colab-df-quickchart:hover {\n",
              "    background-color: var(--hover-bg-color);\n",
              "    box-shadow: 0 1px 2px rgba(60, 64, 67, 0.3), 0 1px 3px 1px rgba(60, 64, 67, 0.15);\n",
              "    fill: var(--button-hover-fill-color);\n",
              "  }\n",
              "\n",
              "  .colab-df-quickchart-complete:disabled,\n",
              "  .colab-df-quickchart-complete:disabled:hover {\n",
              "    background-color: var(--disabled-bg-color);\n",
              "    fill: var(--disabled-fill-color);\n",
              "    box-shadow: none;\n",
              "  }\n",
              "\n",
              "  .colab-df-spinner {\n",
              "    border: 2px solid var(--fill-color);\n",
              "    border-color: transparent;\n",
              "    border-bottom-color: var(--fill-color);\n",
              "    animation:\n",
              "      spin 1s steps(1) infinite;\n",
              "  }\n",
              "\n",
              "  @keyframes spin {\n",
              "    0% {\n",
              "      border-color: transparent;\n",
              "      border-bottom-color: var(--fill-color);\n",
              "      border-left-color: var(--fill-color);\n",
              "    }\n",
              "    20% {\n",
              "      border-color: transparent;\n",
              "      border-left-color: var(--fill-color);\n",
              "      border-top-color: var(--fill-color);\n",
              "    }\n",
              "    30% {\n",
              "      border-color: transparent;\n",
              "      border-left-color: var(--fill-color);\n",
              "      border-top-color: var(--fill-color);\n",
              "      border-right-color: var(--fill-color);\n",
              "    }\n",
              "    40% {\n",
              "      border-color: transparent;\n",
              "      border-right-color: var(--fill-color);\n",
              "      border-top-color: var(--fill-color);\n",
              "    }\n",
              "    60% {\n",
              "      border-color: transparent;\n",
              "      border-right-color: var(--fill-color);\n",
              "    }\n",
              "    80% {\n",
              "      border-color: transparent;\n",
              "      border-right-color: var(--fill-color);\n",
              "      border-bottom-color: var(--fill-color);\n",
              "    }\n",
              "    90% {\n",
              "      border-color: transparent;\n",
              "      border-bottom-color: var(--fill-color);\n",
              "    }\n",
              "  }\n",
              "</style>\n",
              "\n",
              "      <script>\n",
              "        async function quickchart(key) {\n",
              "          const quickchartButtonEl =\n",
              "            document.querySelector('#' + key + ' button');\n",
              "          quickchartButtonEl.disabled = true;  // To prevent multiple clicks.\n",
              "          quickchartButtonEl.classList.add('colab-df-spinner');\n",
              "          try {\n",
              "            const charts = await google.colab.kernel.invokeFunction(\n",
              "                'suggestCharts', [key], {});\n",
              "          } catch (error) {\n",
              "            console.error('Error during call to suggestCharts:', error);\n",
              "          }\n",
              "          quickchartButtonEl.classList.remove('colab-df-spinner');\n",
              "          quickchartButtonEl.classList.add('colab-df-quickchart-complete');\n",
              "        }\n",
              "        (() => {\n",
              "          let quickchartButtonEl =\n",
              "            document.querySelector('#df-509762ba-7a11-4554-ab49-73b1c2d54afc button');\n",
              "          quickchartButtonEl.style.display =\n",
              "            google.colab.kernel.accessAllowed ? 'block' : 'none';\n",
              "        })();\n",
              "      </script>\n",
              "    </div>\n",
              "\n",
              "    </div>\n",
              "  </div>\n"
            ],
            "application/vnd.google.colaboratory.intrinsic+json": {
              "type": "dataframe",
              "variable_name": "loja",
              "summary": "{\n  \"name\": \"loja\",\n  \"rows\": 2359,\n  \"fields\": [\n    {\n      \"column\": \"Produto\",\n      \"properties\": {\n        \"dtype\": \"category\",\n        \"num_unique_values\": 51,\n        \"samples\": [\n          \"Viol\\u00e3o\",\n          \"Bola de basquete\",\n          \"Smartwatch\"\n        ],\n        \"semantic_type\": \"\",\n        \"description\": \"\"\n      }\n    },\n    {\n      \"column\": \"Categoria do Produto\",\n      \"properties\": {\n        \"dtype\": \"category\",\n        \"num_unique_values\": 8,\n        \"samples\": [\n          \"moveis\",\n          \"esporte e lazer\",\n          \"eletronicos\"\n        ],\n        \"semantic_type\": \"\",\n        \"description\": \"\"\n      }\n    },\n    {\n      \"column\": \"Pre\\u00e7o\",\n      \"properties\": {\n        \"dtype\": \"number\",\n        \"std\": 819.5827782539145,\n        \"min\": 10.07,\n        \"max\": 3969.38,\n        \"num_unique_values\": 2315,\n        \"samples\": [\n          446.11,\n          107.31,\n          65.86\n        ],\n        \"semantic_type\": \"\",\n        \"description\": \"\"\n      }\n    },\n    {\n      \"column\": \"Frete\",\n      \"properties\": {\n        \"dtype\": \"number\",\n        \"std\": 43.814183327408166,\n        \"min\": 0.0,\n        \"max\": 214.3770604781,\n        \"num_unique_values\": 2149,\n        \"samples\": [\n          83.815279607,\n          16.069664669,\n          14.0344876928\n        ],\n        \"semantic_type\": \"\",\n        \"description\": \"\"\n      }\n    },\n    {\n      \"column\": \"Data da Compra\",\n      \"properties\": {\n        \"dtype\": \"object\",\n        \"num_unique_values\": 1018,\n        \"samples\": [\n          \"15/09/2022\",\n          \"03/06/2020\",\n          \"06/11/2021\"\n        ],\n        \"semantic_type\": \"\",\n        \"description\": \"\"\n      }\n    },\n    {\n      \"column\": \"Vendedor\",\n      \"properties\": {\n        \"dtype\": \"category\",\n        \"num_unique_values\": 14,\n        \"samples\": [\n          \"Juliana Costa\",\n          \"Mariana Ferreira\",\n          \"Pedro Gomes\"\n        ],\n        \"semantic_type\": \"\",\n        \"description\": \"\"\n      }\n    },\n    {\n      \"column\": \"Local da compra\",\n      \"properties\": {\n        \"dtype\": \"category\",\n        \"num_unique_values\": 26,\n        \"samples\": [\n          \"TO\",\n          \"RN\",\n          \"SP\"\n        ],\n        \"semantic_type\": \"\",\n        \"description\": \"\"\n      }\n    },\n    {\n      \"column\": \"Avalia\\u00e7\\u00e3o da compra\",\n      \"properties\": {\n        \"dtype\": \"number\",\n        \"std\": 1,\n        \"min\": 1,\n        \"max\": 5,\n        \"num_unique_values\": 5,\n        \"samples\": [\n          1,\n          2,\n          5\n        ],\n        \"semantic_type\": \"\",\n        \"description\": \"\"\n      }\n    },\n    {\n      \"column\": \"Tipo de pagamento\",\n      \"properties\": {\n        \"dtype\": \"category\",\n        \"num_unique_values\": 4,\n        \"samples\": [\n          \"boleto\",\n          \"cartao_debito\",\n          \"cartao_credito\"\n        ],\n        \"semantic_type\": \"\",\n        \"description\": \"\"\n      }\n    },\n    {\n      \"column\": \"Quantidade de parcelas\",\n      \"properties\": {\n        \"dtype\": \"number\",\n        \"std\": 2,\n        \"min\": 1,\n        \"max\": 24,\n        \"num_unique_values\": 15,\n        \"samples\": [\n          7,\n          14,\n          8\n        ],\n        \"semantic_type\": \"\",\n        \"description\": \"\"\n      }\n    },\n    {\n      \"column\": \"lat\",\n      \"properties\": {\n        \"dtype\": \"number\",\n        \"std\": 5.372399916530833,\n        \"min\": -30.17,\n        \"max\": 1.41,\n        \"num_unique_values\": 26,\n        \"samples\": [\n          -9.46,\n          -5.81,\n          -22.19\n        ],\n        \"semantic_type\": \"\",\n        \"description\": \"\"\n      }\n    },\n    {\n      \"column\": \"lon\",\n      \"properties\": {\n        \"dtype\": \"number\",\n        \"std\": 4.183180020544179,\n        \"min\": -70.55,\n        \"max\": -36.59,\n        \"num_unique_values\": 26,\n        \"samples\": [\n          -48.26,\n          -36.59,\n          -48.79\n        ],\n        \"semantic_type\": \"\",\n        \"description\": \"\"\n      }\n    }\n  ]\n}"
            }
          },
          "metadata": {},
          "execution_count": 90
        }
      ],
      "source": [
        "import pandas as pd\n",
        "\n",
        "url = \"https://raw.githubusercontent.com/alura-es-cursos/challenge1-data-science/refs/heads/main/base-de-dados-challenge-1/loja_1.csv\"\n",
        "url2 = \"https://raw.githubusercontent.com/alura-es-cursos/challenge1-data-science/refs/heads/main/base-de-dados-challenge-1/loja_2.csv\"\n",
        "url3 = \"https://raw.githubusercontent.com/alura-es-cursos/challenge1-data-science/refs/heads/main/base-de-dados-challenge-1/loja_3.csv\"\n",
        "url4 = \"https://raw.githubusercontent.com/alura-es-cursos/challenge1-data-science/refs/heads/main/base-de-dados-challenge-1/loja_4.csv\"\n",
        "\n",
        "loja = pd.read_csv(url)\n",
        "loja2 = pd.read_csv(url2)\n",
        "loja3 = pd.read_csv(url3)\n",
        "loja4 = pd.read_csv(url4)\n",
        "\n",
        "loja.head()"
      ]
    },
    {
      "cell_type": "markdown",
      "source": [
        "#1. Análise do faturamento\n"
      ],
      "metadata": {
        "id": "X62IW3KFUIYm"
      }
    },
    {
      "cell_type": "code",
      "source": [
        "import pandas as pd\n",
        "\n",
        "url = \"https://raw.githubusercontent.com/alura-es-cursos/challenge1-data-science/refs/heads/main/base-de-dados-challenge-1/loja_1.csv\"\n",
        "loja1 = pd.read_csv(url)\n",
        "\n",
        "loja1.head()"
      ],
      "metadata": {
        "colab": {
          "base_uri": "https://localhost:8080/",
          "height": 328
        },
        "id": "jdUpxDYb6phY",
        "outputId": "a96b0740-d897-4ee6-a7d1-c33dd97d082b"
      },
      "execution_count": 13,
      "outputs": [
        {
          "output_type": "execute_result",
          "data": {
            "text/plain": [
              "                 Produto Categoria do Produto    Preço      Frete  \\\n",
              "0     Assistente virtual          eletronicos   219.08   9.249790   \n",
              "1         Mesa de jantar               moveis   256.35  11.234305   \n",
              "2      Jogo de tabuleiro           brinquedos   279.51  21.262681   \n",
              "3            Micro-ondas     eletrodomesticos  1009.99  54.667344   \n",
              "4  Cadeira de escritório               moveis   446.99  26.964689   \n",
              "\n",
              "  Data da Compra        Vendedor Local da compra  Avaliação da compra  \\\n",
              "0     16/01/2021     Pedro Gomes              SP                    4   \n",
              "1     18/05/2022  Beatriz Moraes              RJ                    1   \n",
              "2     15/03/2021      João Souza              DF                    1   \n",
              "3     03/05/2022      João Souza              RS                    4   \n",
              "4     07/11/2020   Larissa Alves              MG                    5   \n",
              "\n",
              "  Tipo de pagamento  Quantidade de parcelas    lat    lon  \n",
              "0    cartao_credito                       8 -22.19 -48.79  \n",
              "1    cartao_credito                       4 -22.25 -42.66  \n",
              "2    cartao_credito                       1 -15.83 -47.86  \n",
              "3            boleto                       1 -30.17 -53.50  \n",
              "4            boleto                       1 -18.10 -44.38  "
            ],
            "text/html": [
              "\n",
              "  <div id=\"df-0b8b9aee-f371-4afd-ba5b-b1731f49a591\" class=\"colab-df-container\">\n",
              "    <div>\n",
              "<style scoped>\n",
              "    .dataframe tbody tr th:only-of-type {\n",
              "        vertical-align: middle;\n",
              "    }\n",
              "\n",
              "    .dataframe tbody tr th {\n",
              "        vertical-align: top;\n",
              "    }\n",
              "\n",
              "    .dataframe thead th {\n",
              "        text-align: right;\n",
              "    }\n",
              "</style>\n",
              "<table border=\"1\" class=\"dataframe\">\n",
              "  <thead>\n",
              "    <tr style=\"text-align: right;\">\n",
              "      <th></th>\n",
              "      <th>Produto</th>\n",
              "      <th>Categoria do Produto</th>\n",
              "      <th>Preço</th>\n",
              "      <th>Frete</th>\n",
              "      <th>Data da Compra</th>\n",
              "      <th>Vendedor</th>\n",
              "      <th>Local da compra</th>\n",
              "      <th>Avaliação da compra</th>\n",
              "      <th>Tipo de pagamento</th>\n",
              "      <th>Quantidade de parcelas</th>\n",
              "      <th>lat</th>\n",
              "      <th>lon</th>\n",
              "    </tr>\n",
              "  </thead>\n",
              "  <tbody>\n",
              "    <tr>\n",
              "      <th>0</th>\n",
              "      <td>Assistente virtual</td>\n",
              "      <td>eletronicos</td>\n",
              "      <td>219.08</td>\n",
              "      <td>9.249790</td>\n",
              "      <td>16/01/2021</td>\n",
              "      <td>Pedro Gomes</td>\n",
              "      <td>SP</td>\n",
              "      <td>4</td>\n",
              "      <td>cartao_credito</td>\n",
              "      <td>8</td>\n",
              "      <td>-22.19</td>\n",
              "      <td>-48.79</td>\n",
              "    </tr>\n",
              "    <tr>\n",
              "      <th>1</th>\n",
              "      <td>Mesa de jantar</td>\n",
              "      <td>moveis</td>\n",
              "      <td>256.35</td>\n",
              "      <td>11.234305</td>\n",
              "      <td>18/05/2022</td>\n",
              "      <td>Beatriz Moraes</td>\n",
              "      <td>RJ</td>\n",
              "      <td>1</td>\n",
              "      <td>cartao_credito</td>\n",
              "      <td>4</td>\n",
              "      <td>-22.25</td>\n",
              "      <td>-42.66</td>\n",
              "    </tr>\n",
              "    <tr>\n",
              "      <th>2</th>\n",
              "      <td>Jogo de tabuleiro</td>\n",
              "      <td>brinquedos</td>\n",
              "      <td>279.51</td>\n",
              "      <td>21.262681</td>\n",
              "      <td>15/03/2021</td>\n",
              "      <td>João Souza</td>\n",
              "      <td>DF</td>\n",
              "      <td>1</td>\n",
              "      <td>cartao_credito</td>\n",
              "      <td>1</td>\n",
              "      <td>-15.83</td>\n",
              "      <td>-47.86</td>\n",
              "    </tr>\n",
              "    <tr>\n",
              "      <th>3</th>\n",
              "      <td>Micro-ondas</td>\n",
              "      <td>eletrodomesticos</td>\n",
              "      <td>1009.99</td>\n",
              "      <td>54.667344</td>\n",
              "      <td>03/05/2022</td>\n",
              "      <td>João Souza</td>\n",
              "      <td>RS</td>\n",
              "      <td>4</td>\n",
              "      <td>boleto</td>\n",
              "      <td>1</td>\n",
              "      <td>-30.17</td>\n",
              "      <td>-53.50</td>\n",
              "    </tr>\n",
              "    <tr>\n",
              "      <th>4</th>\n",
              "      <td>Cadeira de escritório</td>\n",
              "      <td>moveis</td>\n",
              "      <td>446.99</td>\n",
              "      <td>26.964689</td>\n",
              "      <td>07/11/2020</td>\n",
              "      <td>Larissa Alves</td>\n",
              "      <td>MG</td>\n",
              "      <td>5</td>\n",
              "      <td>boleto</td>\n",
              "      <td>1</td>\n",
              "      <td>-18.10</td>\n",
              "      <td>-44.38</td>\n",
              "    </tr>\n",
              "  </tbody>\n",
              "</table>\n",
              "</div>\n",
              "    <div class=\"colab-df-buttons\">\n",
              "\n",
              "  <div class=\"colab-df-container\">\n",
              "    <button class=\"colab-df-convert\" onclick=\"convertToInteractive('df-0b8b9aee-f371-4afd-ba5b-b1731f49a591')\"\n",
              "            title=\"Convert this dataframe to an interactive table.\"\n",
              "            style=\"display:none;\">\n",
              "\n",
              "  <svg xmlns=\"http://www.w3.org/2000/svg\" height=\"24px\" viewBox=\"0 -960 960 960\">\n",
              "    <path d=\"M120-120v-720h720v720H120Zm60-500h600v-160H180v160Zm220 220h160v-160H400v160Zm0 220h160v-160H400v160ZM180-400h160v-160H180v160Zm440 0h160v-160H620v160ZM180-180h160v-160H180v160Zm440 0h160v-160H620v160Z\"/>\n",
              "  </svg>\n",
              "    </button>\n",
              "\n",
              "  <style>\n",
              "    .colab-df-container {\n",
              "      display:flex;\n",
              "      gap: 12px;\n",
              "    }\n",
              "\n",
              "    .colab-df-convert {\n",
              "      background-color: #E8F0FE;\n",
              "      border: none;\n",
              "      border-radius: 50%;\n",
              "      cursor: pointer;\n",
              "      display: none;\n",
              "      fill: #1967D2;\n",
              "      height: 32px;\n",
              "      padding: 0 0 0 0;\n",
              "      width: 32px;\n",
              "    }\n",
              "\n",
              "    .colab-df-convert:hover {\n",
              "      background-color: #E2EBFA;\n",
              "      box-shadow: 0px 1px 2px rgba(60, 64, 67, 0.3), 0px 1px 3px 1px rgba(60, 64, 67, 0.15);\n",
              "      fill: #174EA6;\n",
              "    }\n",
              "\n",
              "    .colab-df-buttons div {\n",
              "      margin-bottom: 4px;\n",
              "    }\n",
              "\n",
              "    [theme=dark] .colab-df-convert {\n",
              "      background-color: #3B4455;\n",
              "      fill: #D2E3FC;\n",
              "    }\n",
              "\n",
              "    [theme=dark] .colab-df-convert:hover {\n",
              "      background-color: #434B5C;\n",
              "      box-shadow: 0px 1px 3px 1px rgba(0, 0, 0, 0.15);\n",
              "      filter: drop-shadow(0px 1px 2px rgba(0, 0, 0, 0.3));\n",
              "      fill: #FFFFFF;\n",
              "    }\n",
              "  </style>\n",
              "\n",
              "    <script>\n",
              "      const buttonEl =\n",
              "        document.querySelector('#df-0b8b9aee-f371-4afd-ba5b-b1731f49a591 button.colab-df-convert');\n",
              "      buttonEl.style.display =\n",
              "        google.colab.kernel.accessAllowed ? 'block' : 'none';\n",
              "\n",
              "      async function convertToInteractive(key) {\n",
              "        const element = document.querySelector('#df-0b8b9aee-f371-4afd-ba5b-b1731f49a591');\n",
              "        const dataTable =\n",
              "          await google.colab.kernel.invokeFunction('convertToInteractive',\n",
              "                                                    [key], {});\n",
              "        if (!dataTable) return;\n",
              "\n",
              "        const docLinkHtml = 'Like what you see? Visit the ' +\n",
              "          '<a target=\"_blank\" href=https://colab.research.google.com/notebooks/data_table.ipynb>data table notebook</a>'\n",
              "          + ' to learn more about interactive tables.';\n",
              "        element.innerHTML = '';\n",
              "        dataTable['output_type'] = 'display_data';\n",
              "        await google.colab.output.renderOutput(dataTable, element);\n",
              "        const docLink = document.createElement('div');\n",
              "        docLink.innerHTML = docLinkHtml;\n",
              "        element.appendChild(docLink);\n",
              "      }\n",
              "    </script>\n",
              "  </div>\n",
              "\n",
              "\n",
              "    <div id=\"df-c92a3af3-f805-4037-a6fe-d166e17b9416\">\n",
              "      <button class=\"colab-df-quickchart\" onclick=\"quickchart('df-c92a3af3-f805-4037-a6fe-d166e17b9416')\"\n",
              "                title=\"Suggest charts\"\n",
              "                style=\"display:none;\">\n",
              "\n",
              "<svg xmlns=\"http://www.w3.org/2000/svg\" height=\"24px\"viewBox=\"0 0 24 24\"\n",
              "     width=\"24px\">\n",
              "    <g>\n",
              "        <path d=\"M19 3H5c-1.1 0-2 .9-2 2v14c0 1.1.9 2 2 2h14c1.1 0 2-.9 2-2V5c0-1.1-.9-2-2-2zM9 17H7v-7h2v7zm4 0h-2V7h2v10zm4 0h-2v-4h2v4z\"/>\n",
              "    </g>\n",
              "</svg>\n",
              "      </button>\n",
              "\n",
              "<style>\n",
              "  .colab-df-quickchart {\n",
              "      --bg-color: #E8F0FE;\n",
              "      --fill-color: #1967D2;\n",
              "      --hover-bg-color: #E2EBFA;\n",
              "      --hover-fill-color: #174EA6;\n",
              "      --disabled-fill-color: #AAA;\n",
              "      --disabled-bg-color: #DDD;\n",
              "  }\n",
              "\n",
              "  [theme=dark] .colab-df-quickchart {\n",
              "      --bg-color: #3B4455;\n",
              "      --fill-color: #D2E3FC;\n",
              "      --hover-bg-color: #434B5C;\n",
              "      --hover-fill-color: #FFFFFF;\n",
              "      --disabled-bg-color: #3B4455;\n",
              "      --disabled-fill-color: #666;\n",
              "  }\n",
              "\n",
              "  .colab-df-quickchart {\n",
              "    background-color: var(--bg-color);\n",
              "    border: none;\n",
              "    border-radius: 50%;\n",
              "    cursor: pointer;\n",
              "    display: none;\n",
              "    fill: var(--fill-color);\n",
              "    height: 32px;\n",
              "    padding: 0;\n",
              "    width: 32px;\n",
              "  }\n",
              "\n",
              "  .colab-df-quickchart:hover {\n",
              "    background-color: var(--hover-bg-color);\n",
              "    box-shadow: 0 1px 2px rgba(60, 64, 67, 0.3), 0 1px 3px 1px rgba(60, 64, 67, 0.15);\n",
              "    fill: var(--button-hover-fill-color);\n",
              "  }\n",
              "\n",
              "  .colab-df-quickchart-complete:disabled,\n",
              "  .colab-df-quickchart-complete:disabled:hover {\n",
              "    background-color: var(--disabled-bg-color);\n",
              "    fill: var(--disabled-fill-color);\n",
              "    box-shadow: none;\n",
              "  }\n",
              "\n",
              "  .colab-df-spinner {\n",
              "    border: 2px solid var(--fill-color);\n",
              "    border-color: transparent;\n",
              "    border-bottom-color: var(--fill-color);\n",
              "    animation:\n",
              "      spin 1s steps(1) infinite;\n",
              "  }\n",
              "\n",
              "  @keyframes spin {\n",
              "    0% {\n",
              "      border-color: transparent;\n",
              "      border-bottom-color: var(--fill-color);\n",
              "      border-left-color: var(--fill-color);\n",
              "    }\n",
              "    20% {\n",
              "      border-color: transparent;\n",
              "      border-left-color: var(--fill-color);\n",
              "      border-top-color: var(--fill-color);\n",
              "    }\n",
              "    30% {\n",
              "      border-color: transparent;\n",
              "      border-left-color: var(--fill-color);\n",
              "      border-top-color: var(--fill-color);\n",
              "      border-right-color: var(--fill-color);\n",
              "    }\n",
              "    40% {\n",
              "      border-color: transparent;\n",
              "      border-right-color: var(--fill-color);\n",
              "      border-top-color: var(--fill-color);\n",
              "    }\n",
              "    60% {\n",
              "      border-color: transparent;\n",
              "      border-right-color: var(--fill-color);\n",
              "    }\n",
              "    80% {\n",
              "      border-color: transparent;\n",
              "      border-right-color: var(--fill-color);\n",
              "      border-bottom-color: var(--fill-color);\n",
              "    }\n",
              "    90% {\n",
              "      border-color: transparent;\n",
              "      border-bottom-color: var(--fill-color);\n",
              "    }\n",
              "  }\n",
              "</style>\n",
              "\n",
              "      <script>\n",
              "        async function quickchart(key) {\n",
              "          const quickchartButtonEl =\n",
              "            document.querySelector('#' + key + ' button');\n",
              "          quickchartButtonEl.disabled = true;  // To prevent multiple clicks.\n",
              "          quickchartButtonEl.classList.add('colab-df-spinner');\n",
              "          try {\n",
              "            const charts = await google.colab.kernel.invokeFunction(\n",
              "                'suggestCharts', [key], {});\n",
              "          } catch (error) {\n",
              "            console.error('Error during call to suggestCharts:', error);\n",
              "          }\n",
              "          quickchartButtonEl.classList.remove('colab-df-spinner');\n",
              "          quickchartButtonEl.classList.add('colab-df-quickchart-complete');\n",
              "        }\n",
              "        (() => {\n",
              "          let quickchartButtonEl =\n",
              "            document.querySelector('#df-c92a3af3-f805-4037-a6fe-d166e17b9416 button');\n",
              "          quickchartButtonEl.style.display =\n",
              "            google.colab.kernel.accessAllowed ? 'block' : 'none';\n",
              "        })();\n",
              "      </script>\n",
              "    </div>\n",
              "\n",
              "    </div>\n",
              "  </div>\n"
            ],
            "application/vnd.google.colaboratory.intrinsic+json": {
              "type": "dataframe",
              "variable_name": "loja1",
              "summary": "{\n  \"name\": \"loja1\",\n  \"rows\": 2359,\n  \"fields\": [\n    {\n      \"column\": \"Produto\",\n      \"properties\": {\n        \"dtype\": \"category\",\n        \"num_unique_values\": 51,\n        \"samples\": [\n          \"Viol\\u00e3o\",\n          \"Bola de basquete\",\n          \"Smartwatch\"\n        ],\n        \"semantic_type\": \"\",\n        \"description\": \"\"\n      }\n    },\n    {\n      \"column\": \"Categoria do Produto\",\n      \"properties\": {\n        \"dtype\": \"category\",\n        \"num_unique_values\": 8,\n        \"samples\": [\n          \"moveis\",\n          \"esporte e lazer\",\n          \"eletronicos\"\n        ],\n        \"semantic_type\": \"\",\n        \"description\": \"\"\n      }\n    },\n    {\n      \"column\": \"Pre\\u00e7o\",\n      \"properties\": {\n        \"dtype\": \"number\",\n        \"std\": 819.5827782539145,\n        \"min\": 10.07,\n        \"max\": 3969.38,\n        \"num_unique_values\": 2315,\n        \"samples\": [\n          446.11,\n          107.31,\n          65.86\n        ],\n        \"semantic_type\": \"\",\n        \"description\": \"\"\n      }\n    },\n    {\n      \"column\": \"Frete\",\n      \"properties\": {\n        \"dtype\": \"number\",\n        \"std\": 43.814183327408166,\n        \"min\": 0.0,\n        \"max\": 214.3770604781,\n        \"num_unique_values\": 2149,\n        \"samples\": [\n          83.815279607,\n          16.069664669,\n          14.0344876928\n        ],\n        \"semantic_type\": \"\",\n        \"description\": \"\"\n      }\n    },\n    {\n      \"column\": \"Data da Compra\",\n      \"properties\": {\n        \"dtype\": \"object\",\n        \"num_unique_values\": 1018,\n        \"samples\": [\n          \"15/09/2022\",\n          \"03/06/2020\",\n          \"06/11/2021\"\n        ],\n        \"semantic_type\": \"\",\n        \"description\": \"\"\n      }\n    },\n    {\n      \"column\": \"Vendedor\",\n      \"properties\": {\n        \"dtype\": \"category\",\n        \"num_unique_values\": 14,\n        \"samples\": [\n          \"Juliana Costa\",\n          \"Mariana Ferreira\",\n          \"Pedro Gomes\"\n        ],\n        \"semantic_type\": \"\",\n        \"description\": \"\"\n      }\n    },\n    {\n      \"column\": \"Local da compra\",\n      \"properties\": {\n        \"dtype\": \"category\",\n        \"num_unique_values\": 26,\n        \"samples\": [\n          \"TO\",\n          \"RN\",\n          \"SP\"\n        ],\n        \"semantic_type\": \"\",\n        \"description\": \"\"\n      }\n    },\n    {\n      \"column\": \"Avalia\\u00e7\\u00e3o da compra\",\n      \"properties\": {\n        \"dtype\": \"number\",\n        \"std\": 1,\n        \"min\": 1,\n        \"max\": 5,\n        \"num_unique_values\": 5,\n        \"samples\": [\n          1,\n          2,\n          5\n        ],\n        \"semantic_type\": \"\",\n        \"description\": \"\"\n      }\n    },\n    {\n      \"column\": \"Tipo de pagamento\",\n      \"properties\": {\n        \"dtype\": \"category\",\n        \"num_unique_values\": 4,\n        \"samples\": [\n          \"boleto\",\n          \"cartao_debito\",\n          \"cartao_credito\"\n        ],\n        \"semantic_type\": \"\",\n        \"description\": \"\"\n      }\n    },\n    {\n      \"column\": \"Quantidade de parcelas\",\n      \"properties\": {\n        \"dtype\": \"number\",\n        \"std\": 2,\n        \"min\": 1,\n        \"max\": 24,\n        \"num_unique_values\": 15,\n        \"samples\": [\n          7,\n          14,\n          8\n        ],\n        \"semantic_type\": \"\",\n        \"description\": \"\"\n      }\n    },\n    {\n      \"column\": \"lat\",\n      \"properties\": {\n        \"dtype\": \"number\",\n        \"std\": 5.372399916530833,\n        \"min\": -30.17,\n        \"max\": 1.41,\n        \"num_unique_values\": 26,\n        \"samples\": [\n          -9.46,\n          -5.81,\n          -22.19\n        ],\n        \"semantic_type\": \"\",\n        \"description\": \"\"\n      }\n    },\n    {\n      \"column\": \"lon\",\n      \"properties\": {\n        \"dtype\": \"number\",\n        \"std\": 4.183180020544179,\n        \"min\": -70.55,\n        \"max\": -36.59,\n        \"num_unique_values\": 26,\n        \"samples\": [\n          -48.26,\n          -36.59,\n          -48.79\n        ],\n        \"semantic_type\": \"\",\n        \"description\": \"\"\n      }\n    }\n  ]\n}"
            }
          },
          "metadata": {},
          "execution_count": 13
        }
      ]
    },
    {
      "cell_type": "code",
      "source": [
        "#Faturamento loja 1\n",
        "preco_loja1 = 0\n",
        "\n",
        "faturamento1 = loja1['Preço'].sum()\n",
        "print(f'O faturamento total da loja1 é: {faturamento1}')\n"
      ],
      "metadata": {
        "colab": {
          "base_uri": "https://localhost:8080/"
        },
        "id": "EMbHWjcxBOro",
        "outputId": "99a0b61f-2146-425c-b70c-ecbd112db536"
      },
      "execution_count": 17,
      "outputs": [
        {
          "output_type": "stream",
          "name": "stdout",
          "text": [
            "O faturamento total da loja1 é: 1534509.12\n"
          ]
        }
      ]
    },
    {
      "cell_type": "code",
      "source": [
        "#Faturamento loja 2\n",
        "preco_loja2 = 0\n",
        "\n",
        "faturamento2 = loja2['Preço'].sum()\n",
        "print(f'O faturamento total da loja2 é: {faturamento2}')"
      ],
      "metadata": {
        "colab": {
          "base_uri": "https://localhost:8080/"
        },
        "id": "Q709Nd3NBLEL",
        "outputId": "55519081-b6ac-480b-9772-c7549093859b"
      },
      "execution_count": 18,
      "outputs": [
        {
          "output_type": "stream",
          "name": "stdout",
          "text": [
            "O faturamento total da loja2 é: 1488459.06\n"
          ]
        }
      ]
    },
    {
      "cell_type": "code",
      "source": [
        "#Faturamento loja 3\n",
        "preco_loja3 = 0\n",
        "\n",
        "faturamento3 = loja3['Preço'].sum()\n",
        "print(f'O faturamento total da loja3 é: {faturamento3}')"
      ],
      "metadata": {
        "colab": {
          "base_uri": "https://localhost:8080/"
        },
        "id": "NE5wC3xzBFAX",
        "outputId": "bf944e81-18a1-4f6a-bec4-bd409ca5b41c"
      },
      "execution_count": 19,
      "outputs": [
        {
          "output_type": "stream",
          "name": "stdout",
          "text": [
            "O faturamento total da loja3 é: 1464025.03\n"
          ]
        }
      ]
    },
    {
      "cell_type": "code",
      "source": [
        "#Faturamento loja 4\n",
        "preco_loja4 = 0\n",
        "\n",
        "faturamento4 = loja4['Preço'].sum()\n",
        "print(f'O faturamento total da loja4 é: {faturamento4}')"
      ],
      "metadata": {
        "id": "xykobSftV64I",
        "colab": {
          "base_uri": "https://localhost:8080/"
        },
        "outputId": "a1b181f4-b24d-4438-8e92-c80138e67b73"
      },
      "execution_count": 20,
      "outputs": [
        {
          "output_type": "stream",
          "name": "stdout",
          "text": [
            "O faturamento total da loja4 é: 1384497.58\n"
          ]
        }
      ]
    },
    {
      "cell_type": "markdown",
      "source": [
        "## Data da Compra"
      ],
      "metadata": {
        "id": "in8uwk1uD2fy"
      }
    },
    {
      "cell_type": "code",
      "source": [
        "data_min = 0\n",
        "data_max = 0\n",
        "\n",
        "data_min = loja1['Data da Compra'].min()\n",
        "data_max = loja1['Data da Compra'].max()\n",
        "\n",
        "print(data_min)\n",
        "print(data_max)"
      ],
      "metadata": {
        "colab": {
          "base_uri": "https://localhost:8080/"
        },
        "id": "WgROUWGlD-Vr",
        "outputId": "040e64db-67b0-47f4-8870-d058657c3dfc"
      },
      "execution_count": 21,
      "outputs": [
        {
          "output_type": "stream",
          "name": "stdout",
          "text": [
            "01/01/2020\n",
            "31/12/2022\n"
          ]
        }
      ]
    },
    {
      "cell_type": "code",
      "source": [
        "#Loja 1 - criar 3 listas com as compras realizadas em 2020, 2021, 2022\n",
        "\n",
        "qtde_2020 = []\n",
        "qtde_2021 = []\n",
        "qtde_2022 = []\n",
        "\n",
        "for data in loja1['Data da Compra']:\n",
        "  if '2020' in data:\n",
        "    qtde_2020.append(data)\n",
        "  elif '2021' in data:\n",
        "    qtde_2021.append(data)\n",
        "  elif '2022' in data:\n",
        "    qtde_2022.append(data)\n",
        "\n",
        "print(len(qtde_2020))\n",
        "print(len(qtde_2021))\n",
        "print(len(qtde_2022))\n"
      ],
      "metadata": {
        "colab": {
          "base_uri": "https://localhost:8080/"
        },
        "id": "HnpRKFOZDyvP",
        "outputId": "0caa30b7-6fb3-4493-b405-eeb67bb21889"
      },
      "execution_count": 33,
      "outputs": [
        {
          "output_type": "stream",
          "name": "stdout",
          "text": [
            "715\n",
            "739\n",
            "713\n"
          ]
        }
      ]
    },
    {
      "cell_type": "markdown",
      "source": [],
      "metadata": {
        "id": "AljDqXCFINKX"
      }
    },
    {
      "cell_type": "code",
      "source": [
        "data_min = 0\n",
        "data_max = 0\n",
        "\n",
        "data_min = loja2['Data da Compra'].min()\n",
        "data_max = loja2['Data da Compra'].max()\n",
        "\n",
        "print(data_min)\n",
        "print(data_max)"
      ],
      "metadata": {
        "id": "KDyr8E71V3m-",
        "colab": {
          "base_uri": "https://localhost:8080/"
        },
        "outputId": "4437ace6-f54a-408e-b682-2b40c66691b8"
      },
      "execution_count": 23,
      "outputs": [
        {
          "output_type": "stream",
          "name": "stdout",
          "text": [
            "01/01/2020\n",
            "31/12/2022\n"
          ]
        }
      ]
    },
    {
      "cell_type": "code",
      "source": [
        "#Loja 2 - criar 3 listas com as compras realizadas em 2020, 2021, 2022\n",
        "\n",
        "qtde_2020 = []\n",
        "qtde_2021 = []\n",
        "qtde_2022 = []\n",
        "\n",
        "for data in loja2['Data da Compra']:\n",
        "  if '2020' in data:\n",
        "    qtde_2020.append(data)\n",
        "  elif '2021' in data:\n",
        "    qtde_2021.append(data)\n",
        "  elif '2022' in data:\n",
        "    qtde_2022.append(data)\n",
        "\n",
        "print(len(qtde_2020))\n",
        "print(len(qtde_2021))\n",
        "print(len(qtde_2022))"
      ],
      "metadata": {
        "colab": {
          "base_uri": "https://localhost:8080/"
        },
        "id": "LMoNlhdZHlOG",
        "outputId": "c277a1fd-6e8c-4a2a-af11-72fb59698ef3"
      },
      "execution_count": 34,
      "outputs": [
        {
          "output_type": "stream",
          "name": "stdout",
          "text": [
            "700\n",
            "759\n",
            "708\n"
          ]
        }
      ]
    },
    {
      "cell_type": "code",
      "source": [
        "data_min = 0\n",
        "data_max = 0\n",
        "\n",
        "data_min = loja3['Data da Compra'].min()\n",
        "data_max = loja3['Data da Compra'].max()\n",
        "\n",
        "print(data_min)\n",
        "print(data_max)"
      ],
      "metadata": {
        "colab": {
          "base_uri": "https://localhost:8080/"
        },
        "id": "TFF_4S4wHlKf",
        "outputId": "a9c56afc-d1f9-4886-e897-11e632153cde"
      },
      "execution_count": 25,
      "outputs": [
        {
          "output_type": "stream",
          "name": "stdout",
          "text": [
            "01/01/2020\n",
            "31/12/2021\n"
          ]
        }
      ]
    },
    {
      "cell_type": "code",
      "source": [
        "#Loja 3 - criar 3 listas com as compras realizadas em 2020, 2021, 2022\n",
        "\n",
        "qtde_2020 = []\n",
        "qtde_2021 = []\n",
        "qtde_2022 = []\n",
        "\n",
        "for data in loja3['Data da Compra']:\n",
        "  if '2020' in data:\n",
        "    qtde_2020.append(data)\n",
        "  elif '2021' in data:\n",
        "    qtde_2021.append(data)\n",
        "  elif '2022' in data:\n",
        "    qtde_2022.append(data)\n",
        "\n",
        "print(len(qtde_2020))\n",
        "print(len(qtde_2021))\n",
        "print(len(qtde_2022))"
      ],
      "metadata": {
        "colab": {
          "base_uri": "https://localhost:8080/"
        },
        "id": "3vLzgZRkHlHB",
        "outputId": "12d20e15-f2ca-4d17-e7a5-c9bfa6f752a5"
      },
      "execution_count": 29,
      "outputs": [
        {
          "output_type": "stream",
          "name": "stdout",
          "text": [
            "701\n",
            "740\n",
            "740\n"
          ]
        }
      ]
    },
    {
      "cell_type": "code",
      "source": [
        "data_min = 0\n",
        "data_max = 0\n",
        "\n",
        "data_min = loja4['Data da Compra'].min()\n",
        "data_max = loja4['Data da Compra'].max()\n",
        "\n",
        "print(data_min)\n",
        "print(data_max)"
      ],
      "metadata": {
        "colab": {
          "base_uri": "https://localhost:8080/"
        },
        "id": "Bd-RClEpHlC-",
        "outputId": "f3582e54-2f0f-420e-fba6-76546cac88ed"
      },
      "execution_count": 30,
      "outputs": [
        {
          "output_type": "stream",
          "name": "stdout",
          "text": [
            "01/01/2020\n",
            "31/12/2022\n"
          ]
        }
      ]
    },
    {
      "cell_type": "code",
      "source": [
        "#Loja 4 - criar 3 listas com as compras realizadas em 2020, 2021, 2022\n",
        "\n",
        "qtde_2020 = []\n",
        "qtde_2021 = []\n",
        "qtde_2022 = []\n",
        "\n",
        "for data in loja4['Data da Compra']:\n",
        "  if '2020' in data:\n",
        "    qtde_2020.append(data)\n",
        "  elif '2021' in data:\n",
        "    qtde_2021.append(data)\n",
        "  elif '2022' in data:\n",
        "    qtde_2022.append(data)\n",
        "\n",
        "print(len(qtde_2020))\n",
        "print(len(qtde_2021))\n",
        "print(len(qtde_2022))"
      ],
      "metadata": {
        "colab": {
          "base_uri": "https://localhost:8080/"
        },
        "id": "jenZQfFrHk5P",
        "outputId": "fd92caf4-002f-43e5-d9f9-4b78fb79f2e1"
      },
      "execution_count": 36,
      "outputs": [
        {
          "output_type": "stream",
          "name": "stdout",
          "text": [
            "745\n",
            "744\n",
            "712\n"
          ]
        }
      ]
    },
    {
      "cell_type": "markdown",
      "source": [
        "## Faturamento Anual por loja\n"
      ],
      "metadata": {
        "id": "EQphkGugInF1"
      }
    },
    {
      "cell_type": "code",
      "source": [
        "#Loja 1 - Criar duas listas com Data da Compra e Preço para o ano de 2020\n",
        "\n",
        "data_2020 = []\n",
        "preco_2020 = []\n",
        "\n",
        "for data, preco in zip(loja1['Data da Compra'], loja1['Preço']):\n",
        "  if '2020' in data:\n",
        "    data_2020.append(data)\n",
        "    preco_2020.append(preco)\n",
        "\n",
        "faturamento = sum(preco_2020)\n",
        "\n",
        "print(data_2020)\n",
        "print(preco_2020)\n",
        "print(round(faturamento, 2))"
      ],
      "metadata": {
        "colab": {
          "base_uri": "https://localhost:8080/"
        },
        "id": "8uOZkWPAMOgH",
        "outputId": "d389f8d9-2f8e-4054-a299-660d61acba6b"
      },
      "execution_count": 41,
      "outputs": [
        {
          "output_type": "stream",
          "name": "stdout",
          "text": [
            "['07/11/2020', '03/12/2020', '24/02/2020', '03/04/2020', '20/02/2020', '10/09/2020', '04/09/2020', '16/12/2020', '10/01/2020', '14/09/2020', '18/07/2020', '04/02/2020', '26/04/2020', '17/08/2020', '05/05/2020', '30/12/2020', '16/04/2020', '28/02/2020', '24/08/2020', '09/09/2020', '01/05/2020', '10/12/2020', '23/04/2020', '20/12/2020', '23/07/2020', '30/12/2020', '16/05/2020', '28/06/2020', '13/12/2020', '01/04/2020', '20/10/2020', '11/01/2020', '06/02/2020', '28/12/2020', '14/02/2020', '15/12/2020', '09/02/2020', '15/04/2020', '05/03/2020', '04/08/2020', '27/07/2020', '17/01/2020', '12/09/2020', '02/01/2020', '17/02/2020', '28/05/2020', '01/04/2020', '26/12/2020', '06/04/2020', '30/01/2020', '05/02/2020', '12/02/2020', '30/05/2020', '18/12/2020', '06/11/2020', '22/06/2020', '18/03/2020', '28/03/2020', '26/02/2020', '05/11/2020', '26/10/2020', '27/07/2020', '02/06/2020', '26/05/2020', '23/07/2020', '24/01/2020', '04/04/2020', '14/01/2020', '25/10/2020', '18/09/2020', '21/07/2020', '05/08/2020', '09/06/2020', '18/07/2020', '14/01/2020', '29/05/2020', '25/10/2020', '13/02/2020', '04/02/2020', '20/03/2020', '20/08/2020', '04/07/2020', '11/12/2020', '11/02/2020', '21/09/2020', '05/04/2020', '19/03/2020', '25/02/2020', '08/12/2020', '23/02/2020', '07/12/2020', '14/05/2020', '28/05/2020', '21/09/2020', '16/01/2020', '08/03/2020', '15/11/2020', '12/01/2020', '31/03/2020', '17/06/2020', '19/03/2020', '07/04/2020', '06/10/2020', '02/04/2020', '20/11/2020', '01/09/2020', '06/11/2020', '28/06/2020', '30/03/2020', '25/10/2020', '18/02/2020', '10/10/2020', '23/02/2020', '16/09/2020', '23/01/2020', '25/12/2020', '11/01/2020', '13/02/2020', '16/10/2020', '30/03/2020', '03/02/2020', '10/09/2020', '22/10/2020', '14/01/2020', '27/04/2020', '06/12/2020', '12/09/2020', '05/08/2020', '29/03/2020', '27/03/2020', '01/09/2020', '18/03/2020', '16/06/2020', '09/10/2020', '17/08/2020', '04/09/2020', '26/05/2020', '18/03/2020', '19/09/2020', '14/09/2020', '02/06/2020', '01/03/2020', '14/08/2020', '14/08/2020', '12/07/2020', '21/06/2020', '06/01/2020', '01/05/2020', '15/01/2020', '25/06/2020', '13/09/2020', '08/04/2020', '02/08/2020', '27/09/2020', '26/03/2020', '10/03/2020', '03/04/2020', '30/05/2020', '23/09/2020', '24/05/2020', '10/10/2020', '13/08/2020', '31/05/2020', '19/08/2020', '21/09/2020', '03/10/2020', '29/06/2020', '30/12/2020', '13/01/2020', '22/02/2020', '13/05/2020', '27/11/2020', '17/08/2020', '28/03/2020', '09/12/2020', '23/11/2020', '17/01/2020', '27/11/2020', '02/03/2020', '16/12/2020', '19/08/2020', '28/09/2020', '21/06/2020', '10/09/2020', '27/09/2020', '24/01/2020', '08/03/2020', '24/12/2020', '22/11/2020', '17/04/2020', '17/01/2020', '10/05/2020', '10/12/2020', '10/09/2020', '15/02/2020', '29/01/2020', '10/03/2020', '10/12/2020', '03/05/2020', '31/07/2020', '08/06/2020', '14/03/2020', '05/06/2020', '05/11/2020', '27/12/2020', '08/04/2020', '22/02/2020', '20/04/2020', '11/07/2020', '03/05/2020', '19/05/2020', '13/06/2020', '18/12/2020', '05/07/2020', '25/05/2020', '28/09/2020', '22/07/2020', '18/09/2020', '15/01/2020', '08/06/2020', '18/05/2020', '23/04/2020', '17/12/2020', '03/01/2020', '09/07/2020', '04/11/2020', '12/04/2020', '04/05/2020', '05/10/2020', '28/04/2020', '12/08/2020', '06/02/2020', '20/09/2020', '11/04/2020', '03/01/2020', '06/05/2020', '17/04/2020', '15/12/2020', '27/12/2020', '10/01/2020', '10/12/2020', '03/11/2020', '02/04/2020', '06/06/2020', '23/02/2020', '21/08/2020', '22/07/2020', '14/02/2020', '24/10/2020', '26/08/2020', '03/05/2020', '30/07/2020', '06/02/2020', '25/11/2020', '12/01/2020', '09/09/2020', '29/03/2020', '14/06/2020', '03/07/2020', '06/06/2020', '20/03/2020', '18/07/2020', '17/06/2020', '23/06/2020', '15/07/2020', '24/06/2020', '11/01/2020', '15/11/2020', '27/06/2020', '22/01/2020', '15/11/2020', '24/06/2020', '07/06/2020', '15/02/2020', '30/04/2020', '16/12/2020', '08/11/2020', '05/10/2020', '17/05/2020', '15/01/2020', '13/04/2020', '22/09/2020', '20/07/2020', '28/01/2020', '02/10/2020', '11/11/2020', '18/02/2020', '09/03/2020', '30/09/2020', '14/06/2020', '25/04/2020', '16/05/2020', '27/01/2020', '23/03/2020', '27/08/2020', '11/02/2020', '01/03/2020', '19/08/2020', '18/12/2020', '11/07/2020', '04/02/2020', '15/06/2020', '17/01/2020', '23/09/2020', '24/11/2020', '22/11/2020', '11/02/2020', '08/03/2020', '26/05/2020', '06/12/2020', '17/10/2020', '21/10/2020', '22/04/2020', '06/02/2020', '25/05/2020', '18/01/2020', '16/03/2020', '08/04/2020', '26/03/2020', '05/12/2020', '23/12/2020', '22/11/2020', '20/08/2020', '29/03/2020', '06/04/2020', '03/11/2020', '16/04/2020', '21/03/2020', '03/01/2020', '26/12/2020', '06/10/2020', '19/04/2020', '06/12/2020', '29/12/2020', '03/12/2020', '26/03/2020', '14/10/2020', '14/01/2020', '20/01/2020', '13/02/2020', '27/12/2020', '13/05/2020', '05/05/2020', '11/07/2020', '16/04/2020', '01/08/2020', '08/09/2020', '04/08/2020', '28/01/2020', '05/06/2020', '09/03/2020', '20/08/2020', '08/06/2020', '16/10/2020', '06/07/2020', '08/01/2020', '07/01/2020', '21/12/2020', '29/08/2020', '29/08/2020', '03/01/2020', '03/07/2020', '16/09/2020', '12/09/2020', '28/01/2020', '09/11/2020', '09/09/2020', '18/11/2020', '01/08/2020', '21/03/2020', '25/01/2020', '19/11/2020', '12/07/2020', '03/07/2020', '20/11/2020', '09/08/2020', '25/08/2020', '15/04/2020', '26/10/2020', '23/11/2020', '27/04/2020', '21/07/2020', '23/07/2020', '15/09/2020', '25/04/2020', '18/05/2020', '02/08/2020', '01/06/2020', '14/04/2020', '04/03/2020', '08/05/2020', '13/11/2020', '24/10/2020', '07/03/2020', '29/04/2020', '21/01/2020', '27/02/2020', '25/11/2020', '04/10/2020', '11/05/2020', '16/07/2020', '21/11/2020', '11/08/2020', '21/02/2020', '03/10/2020', '15/09/2020', '19/04/2020', '20/06/2020', '17/02/2020', '10/03/2020', '26/07/2020', '24/11/2020', '21/06/2020', '04/09/2020', '26/10/2020', '11/10/2020', '12/09/2020', '08/04/2020', '28/02/2020', '19/04/2020', '31/01/2020', '11/12/2020', '24/04/2020', '21/03/2020', '07/05/2020', '31/07/2020', '24/03/2020', '26/07/2020', '19/10/2020', '16/12/2020', '06/11/2020', '07/08/2020', '30/08/2020', '10/03/2020', '27/02/2020', '06/04/2020', '17/02/2020', '09/11/2020', '20/03/2020', '01/12/2020', '14/09/2020', '08/03/2020', '05/09/2020', '21/12/2020', '01/01/2020', '11/04/2020', '07/09/2020', '12/06/2020', '19/02/2020', '14/05/2020', '25/09/2020', '02/01/2020', '21/07/2020', '21/03/2020', '30/04/2020', '04/11/2020', '28/02/2020', '10/08/2020', '16/06/2020', '12/07/2020', '05/05/2020', '18/06/2020', '21/09/2020', '20/05/2020', '16/05/2020', '18/07/2020', '14/05/2020', '07/03/2020', '03/09/2020', '09/08/2020', '31/05/2020', '08/06/2020', '30/01/2020', '20/09/2020', '08/09/2020', '17/05/2020', '29/12/2020', '25/03/2020', '19/05/2020', '20/03/2020', '08/09/2020', '16/03/2020', '22/07/2020', '29/05/2020', '03/10/2020', '06/09/2020', '31/08/2020', '16/02/2020', '21/10/2020', '25/07/2020', '07/03/2020', '29/01/2020', '19/07/2020', '12/05/2020', '08/03/2020', '15/01/2020', '10/04/2020', '04/10/2020', '14/08/2020', '23/08/2020', '17/05/2020', '07/12/2020', '07/09/2020', '01/09/2020', '25/06/2020', '17/08/2020', '08/06/2020', '23/01/2020', '28/02/2020', '06/06/2020', '08/09/2020', '21/09/2020', '30/08/2020', '15/12/2020', '25/08/2020', '06/04/2020', '24/07/2020', '03/06/2020', '02/02/2020', '31/12/2020', '27/11/2020', '21/02/2020', '26/12/2020', '20/09/2020', '16/05/2020', '11/01/2020', '06/01/2020', '05/09/2020', '17/07/2020', '07/05/2020', '10/01/2020', '14/07/2020', '09/05/2020', '26/11/2020', '19/12/2020', '14/07/2020', '02/03/2020', '25/03/2020', '15/11/2020', '02/02/2020', '01/09/2020', '27/01/2020', '13/10/2020', '09/11/2020', '11/02/2020', '09/03/2020', '30/06/2020', '15/07/2020', '06/03/2020', '27/05/2020', '24/11/2020', '24/04/2020', '21/06/2020', '08/02/2020', '26/03/2020', '04/02/2020', '27/01/2020', '24/01/2020', '25/07/2020', '13/03/2020', '25/01/2020', '14/06/2020', '11/06/2020', '17/08/2020', '20/11/2020', '21/12/2020', '14/09/2020', '15/08/2020', '11/09/2020', '25/02/2020', '01/11/2020', '17/11/2020', '01/11/2020', '04/02/2020', '25/12/2020', '06/03/2020', '08/04/2020', '22/07/2020', '25/01/2020', '17/02/2020', '11/08/2020', '31/08/2020', '14/02/2020', '31/03/2020', '25/11/2020', '13/10/2020', '14/07/2020', '16/02/2020', '14/06/2020', '02/08/2020', '31/12/2020', '17/12/2020', '01/10/2020', '23/05/2020', '11/06/2020', '30/12/2020', '06/03/2020', '07/10/2020', '21/01/2020', '22/05/2020', '15/08/2020', '17/11/2020', '03/07/2020', '29/10/2020', '04/01/2020', '06/07/2020', '11/03/2020', '05/11/2020', '16/03/2020', '11/07/2020', '04/06/2020', '18/09/2020', '28/12/2020', '10/04/2020', '21/05/2020', '30/07/2020', '18/01/2020', '03/07/2020', '18/03/2020', '14/07/2020', '15/01/2020', '09/12/2020', '04/01/2020', '19/07/2020', '25/03/2020', '27/07/2020', '03/01/2020', '10/12/2020', '14/10/2020', '17/09/2020', '25/09/2020', '10/01/2020', '10/06/2020', '11/01/2020', '05/05/2020', '10/03/2020', '08/01/2020', '06/02/2020', '14/09/2020', '27/11/2020', '17/12/2020', '11/11/2020', '18/11/2020', '04/02/2020', '14/10/2020', '12/05/2020', '10/01/2020', '18/10/2020', '21/05/2020', '09/06/2020', '12/07/2020', '09/03/2020', '14/10/2020', '05/05/2020', '29/08/2020', '20/01/2020', '22/08/2020', '20/11/2020', '25/08/2020', '05/03/2020', '15/11/2020', '30/06/2020', '07/08/2020', '16/07/2020', '14/08/2020', '23/12/2020', '17/02/2020', '13/03/2020', '24/01/2020', '11/12/2020', '19/05/2020', '18/05/2020', '16/10/2020', '06/02/2020', '16/10/2020', '22/03/2020', '25/08/2020', '17/08/2020', '20/07/2020', '14/02/2020', '10/05/2020', '15/07/2020', '24/05/2020', '14/04/2020', '29/10/2020', '16/06/2020', '19/07/2020', '16/07/2020', '15/09/2020', '16/07/2020', '02/09/2020', '01/12/2020', '30/08/2020', '05/02/2020', '04/11/2020', '24/02/2020', '08/12/2020', '23/12/2020', '24/01/2020', '26/10/2020', '18/01/2020', '06/07/2020', '24/12/2020', '05/12/2020', '17/09/2020', '30/04/2020', '11/03/2020', '26/10/2020', '28/05/2020', '23/03/2020', '11/05/2020', '18/11/2020', '25/03/2020', '29/06/2020', '10/12/2020']\n",
            "[446.99, 32.26, 100.26, 3241.75, 122.42, 88.91, 817.71, 75.92, 185.17, 778.57, 24.58, 441.88, 74.16, 40.62, 986.28, 536.25, 51.55, 1496.89, 98.74, 333.47, 191.4, 491.6, 1861.96, 59.69, 47.03, 79.73, 384.36, 579.5, 633.45, 65.86, 30.41, 935.91, 1918.54, 71.0, 296.72, 3682.05, 2913.45, 59.2, 41.25, 2037.22, 952.33, 111.13, 46.67, 1809.14, 3135.25, 272.86, 83.2, 74.15, 40.71, 671.64, 3830.38, 602.71, 601.96, 39.36, 13.39, 85.44, 2394.68, 43.1, 72.85, 62.33, 46.2, 862.54, 269.55, 482.79, 43.14, 2120.55, 2098.54, 127.79, 213.7, 188.27, 431.26, 324.23, 651.21, 80.12, 1689.8, 670.91, 401.83, 67.46, 790.74, 61.72, 986.73, 62.5, 235.07, 91.39, 467.69, 50.43, 363.02, 292.65, 49.63, 181.48, 1017.25, 1296.59, 568.47, 318.96, 254.01, 2249.33, 3836.63, 611.01, 49.38, 90.71, 62.46, 187.38, 56.58, 990.72, 12.79, 1149.97, 169.17, 3186.94, 569.96, 27.7, 929.59, 10.45, 2856.32, 2505.44, 210.0, 311.78, 66.11, 71.39, 44.69, 447.01, 253.07, 107.02, 10.07, 323.19, 524.55, 236.16, 527.47, 110.59, 338.53, 435.44, 37.13, 673.95, 90.99, 54.61, 339.82, 1910.43, 1275.79, 32.45, 51.49, 32.4, 247.65, 21.43, 987.27, 2828.63, 74.67, 1553.61, 904.78, 20.28, 227.71, 887.25, 1711.32, 58.54, 85.79, 402.45, 57.21, 303.35, 102.03, 614.37, 357.61, 33.69, 72.79, 267.67, 1236.67, 1925.48, 53.74, 99.69, 1149.19, 333.86, 21.52, 1108.63, 1776.57, 102.41, 1787.53, 39.62, 19.56, 15.51, 840.82, 774.32, 791.91, 64.72, 103.81, 62.75, 368.31, 32.08, 67.97, 416.21, 992.84, 1224.97, 2402.6, 37.7, 66.57, 492.76, 944.36, 841.74, 1370.05, 422.98, 2054.11, 116.73, 333.52, 305.56, 411.7, 67.63, 74.66, 61.05, 54.57, 1031.55, 50.11, 1010.03, 949.94, 1612.81, 62.52, 1483.03, 404.53, 2856.68, 2004.12, 1674.08, 1800.41, 114.56, 85.52, 59.43, 23.08, 803.21, 105.98, 945.04, 890.51, 370.74, 57.15, 1011.43, 85.94, 22.12, 176.0, 641.71, 54.68, 47.48, 667.97, 1134.12, 3769.8, 1087.35, 247.47, 33.97, 40.13, 35.72, 233.58, 364.34, 2387.75, 358.75, 351.55, 148.59, 964.84, 20.65, 1076.01, 263.06, 79.27, 66.3, 73.96, 1698.17, 62.52, 1151.32, 330.4, 288.78, 602.61, 1778.97, 2056.98, 219.16, 2596.62, 354.65, 174.04, 83.99, 30.79, 152.16, 271.28, 912.34, 1210.85, 71.23, 489.12, 430.42, 63.16, 517.29, 339.76, 108.76, 458.77, 715.79, 694.69, 2132.85, 295.96, 542.47, 400.05, 63.3, 110.53, 212.36, 150.16, 1698.33, 328.05, 69.62, 2520.5, 645.44, 1451.86, 33.53, 19.8, 116.0, 291.96, 48.32, 35.76, 1690.25, 650.81, 95.25, 339.73, 74.74, 290.5, 76.08, 2414.21, 139.86, 931.27, 41.65, 1575.57, 1005.47, 1417.59, 279.11, 1249.74, 482.49, 1246.92, 921.59, 1156.68, 2249.86, 251.33, 346.19, 315.15, 85.94, 236.81, 2891.16, 344.93, 3200.96, 102.01, 1340.42, 42.37, 1306.92, 2851.36, 35.05, 95.01, 3048.86, 54.95, 1368.02, 588.39, 125.67, 683.78, 219.77, 142.5, 95.75, 57.06, 28.18, 2288.54, 32.66, 57.82, 980.13, 97.51, 1476.11, 2779.47, 1077.33, 341.1, 99.11, 934.08, 23.62, 2295.91, 71.63, 84.76, 88.02, 14.01, 40.4, 88.81, 64.71, 69.96, 111.65, 52.02, 628.67, 45.73, 403.12, 1937.74, 604.95, 1525.01, 70.29, 102.74, 3399.04, 86.45, 140.74, 1294.97, 523.91, 63.96, 57.53, 2920.79, 25.67, 91.21, 2540.79, 416.52, 150.7, 1485.87, 28.39, 456.99, 414.45, 91.33, 2660.31, 396.97, 34.52, 297.19, 1679.68, 2237.94, 1424.63, 694.94, 835.73, 1657.76, 143.04, 2094.54, 370.74, 19.96, 347.48, 24.85, 652.3, 72.36, 2462.2, 509.9, 82.94, 14.43, 778.74, 109.31, 1002.2, 483.99, 350.46, 77.41, 102.25, 866.97, 627.78, 59.19, 456.08, 1997.95, 189.37, 25.71, 64.18, 1979.75, 883.74, 1016.19, 56.8, 263.29, 209.26, 1793.54, 82.21, 1920.01, 271.28, 1735.93, 47.22, 3212.11, 2264.7, 339.99, 468.0, 1273.07, 687.16, 806.8, 1439.11, 34.59, 968.79, 50.27, 21.26, 766.7, 930.32, 69.35, 59.3, 41.87, 29.93, 610.44, 287.36, 59.69, 356.61, 2059.72, 1068.96, 40.0, 432.38, 694.69, 78.97, 193.05, 26.97, 672.69, 865.48, 401.38, 985.09, 50.25, 418.91, 229.47, 77.4, 81.58, 36.42, 1679.47, 1929.54, 326.83, 194.27, 126.83, 3169.69, 45.89, 3310.93, 2829.24, 446.27, 74.95, 3969.38, 626.49, 1218.13, 1771.33, 23.5, 1863.13, 23.67, 193.17, 53.79, 950.3, 625.11, 1327.18, 24.35, 48.06, 59.19, 1956.19, 390.22, 147.83, 620.5, 1574.62, 154.18, 552.53, 285.85, 64.19, 395.17, 812.91, 1058.56, 63.39, 897.97, 2589.57, 1164.74, 297.63, 3852.45, 474.86, 741.34, 2130.47, 2147.46, 99.55, 229.86, 813.21, 740.23, 915.43, 1284.36, 344.57, 195.04, 27.54, 646.85, 3954.82, 29.46, 679.15, 927.3, 295.58, 298.7, 35.6, 41.45, 75.26, 1983.51, 1978.2, 517.69, 1803.81, 80.22, 70.97, 37.46, 399.02, 44.06, 71.48, 62.05, 126.44, 243.87, 1361.43, 910.76, 1583.53, 707.62, 375.61, 1501.36, 43.02, 70.9, 2551.23, 110.31, 66.06, 1775.81, 635.58, 3448.51, 23.44, 84.44, 863.71, 68.72, 232.24, 147.06, 837.41, 350.15, 254.9, 2383.97, 855.11, 2438.11, 380.62, 997.98, 71.83, 35.37, 72.17, 22.08, 29.17, 1321.29, 1256.69, 36.9, 428.8, 171.6, 428.64, 119.85, 81.89, 52.32, 2125.74, 2528.67, 87.91, 62.19, 288.43, 2444.28, 1928.19, 64.23, 2065.17, 1054.22, 979.67, 330.17, 105.99, 977.55, 129.33, 117.58, 313.35, 73.07, 84.23, 730.84, 97.35, 111.93, 67.78, 58.64, 76.77, 1045.43, 89.65, 1759.61, 75.78, 534.02, 819.03, 95.85, 53.12, 282.35, 293.11, 851.5, 458.45, 500.85, 3025.44, 217.94, 238.95, 921.2, 3399.62, 1119.05, 2603.85, 3317.46, 464.71, 50.53, 689.82, 3216.14, 154.85, 2355.32, 1470.48, 549.24, 1282.42, 57.81, 320.94, 87.82, 11.35, 2389.18, 817.6, 78.2, 104.59, 23.18, 2013.04, 1861.18, 269.37, 65.42, 435.23, 60.41, 75.43, 155.99, 249.28, 1402.71, 662.89, 165.94, 731.11, 676.78, 52.41, 381.56, 297.42, 3346.69, 201.68, 254.48, 443.87, 59.26, 375.89, 287.6, 71.6, 137.68, 1270.87, 259.56, 43.5, 33.52, 373.3, 3190.23, 10.84, 1808.99, 43.49, 1042.61, 425.78, 76.31, 37.76, 47.63, 652.36]\n",
            "491911.51\n"
          ]
        }
      ]
    },
    {
      "cell_type": "code",
      "source": [
        "#Loja 1 - Criar duas listas com Data da Compra e Preço para o ano de 2021\n",
        "\n",
        "data_2021 = []\n",
        "preco_2021 = []\n",
        "\n",
        "for data, preco in zip(loja1['Data da Compra'], loja1['Preço']):\n",
        "  if '2021' in data:\n",
        "    data_2021.append(data)\n",
        "    preco_2021.append(preco)\n",
        "\n",
        "faturamento = sum(preco_2021)\n",
        "\n",
        "print(data_2021)\n",
        "print(preco_2021)\n",
        "print(round(faturamento, 2))\n"
      ],
      "metadata": {
        "colab": {
          "base_uri": "https://localhost:8080/"
        },
        "id": "3stk81XsIsX1",
        "outputId": "de3905be-0c8c-4184-b445-0ca0b0de7706"
      },
      "execution_count": 42,
      "outputs": [
        {
          "output_type": "stream",
          "name": "stdout",
          "text": [
            "['16/01/2021', '15/03/2021', '07/08/2021', '18/06/2021', '05/07/2021', '22/07/2021', '11/03/2021', '20/03/2021', '15/12/2021', '08/09/2021', '15/08/2021', '13/05/2021', '16/08/2021', '31/07/2021', '21/09/2021', '02/08/2021', '27/04/2021', '19/02/2021', '17/12/2021', '19/07/2021', '19/12/2021', '03/09/2021', '10/12/2021', '01/07/2021', '25/09/2021', '17/08/2021', '28/01/2021', '06/09/2021', '02/11/2021', '23/01/2021', '02/10/2021', '29/07/2021', '22/01/2021', '24/09/2021', '30/09/2021', '29/07/2021', '04/07/2021', '11/10/2021', '04/12/2021', '07/09/2021', '02/07/2021', '26/10/2021', '09/09/2021', '14/06/2021', '30/10/2021', '13/04/2021', '12/05/2021', '15/12/2021', '03/02/2021', '24/10/2021', '15/09/2021', '08/02/2021', '09/03/2021', '06/07/2021', '01/04/2021', '29/08/2021', '22/04/2021', '04/12/2021', '14/09/2021', '08/04/2021', '08/01/2021', '27/07/2021', '13/03/2021', '20/08/2021', '24/07/2021', '21/03/2021', '26/03/2021', '21/02/2021', '24/08/2021', '04/05/2021', '22/10/2021', '19/07/2021', '03/08/2021', '03/09/2021', '06/06/2021', '20/02/2021', '25/03/2021', '04/07/2021', '25/11/2021', '03/10/2021', '03/10/2021', '06/02/2021', '30/05/2021', '20/06/2021', '27/07/2021', '09/07/2021', '11/05/2021', '14/09/2021', '26/08/2021', '05/02/2021', '03/05/2021', '31/01/2021', '18/11/2021', '15/03/2021', '13/10/2021', '04/08/2021', '29/12/2021', '31/07/2021', '25/04/2021', '24/09/2021', '06/04/2021', '09/09/2021', '16/04/2021', '09/07/2021', '03/03/2021', '15/05/2021', '08/03/2021', '02/12/2021', '23/11/2021', '22/02/2021', '06/12/2021', '10/08/2021', '16/10/2021', '20/06/2021', '25/05/2021', '23/11/2021', '02/11/2021', '04/09/2021', '25/09/2021', '08/05/2021', '21/03/2021', '15/04/2021', '21/02/2021', '02/12/2021', '02/05/2021', '12/01/2021', '18/06/2021', '24/01/2021', '28/04/2021', '07/11/2021', '17/02/2021', '28/12/2021', '25/01/2021', '12/04/2021', '28/11/2021', '26/01/2021', '30/11/2021', '04/10/2021', '01/02/2021', '21/04/2021', '28/10/2021', '11/12/2021', '16/12/2021', '23/02/2021', '04/07/2021', '25/01/2021', '18/09/2021', '15/07/2021', '16/01/2021', '10/10/2021', '16/09/2021', '13/09/2021', '27/09/2021', '01/10/2021', '27/07/2021', '07/08/2021', '24/09/2021', '03/03/2021', '23/08/2021', '19/02/2021', '15/04/2021', '29/10/2021', '22/01/2021', '15/01/2021', '26/12/2021', '16/08/2021', '06/06/2021', '27/03/2021', '15/08/2021', '28/07/2021', '29/06/2021', '01/03/2021', '04/11/2021', '05/01/2021', '12/12/2021', '09/08/2021', '26/09/2021', '25/02/2021', '21/07/2021', '23/04/2021', '29/01/2021', '10/09/2021', '22/11/2021', '28/01/2021', '17/05/2021', '28/02/2021', '10/09/2021', '30/10/2021', '21/07/2021', '30/11/2021', '26/04/2021', '15/05/2021', '20/05/2021', '19/08/2021', '18/08/2021', '03/01/2021', '01/06/2021', '06/09/2021', '10/04/2021', '01/04/2021', '12/07/2021', '05/01/2021', '26/08/2021', '22/05/2021', '09/03/2021', '17/08/2021', '30/04/2021', '26/02/2021', '22/05/2021', '05/09/2021', '05/10/2021', '09/04/2021', '18/02/2021', '28/12/2021', '29/08/2021', '12/02/2021', '27/11/2021', '27/08/2021', '14/06/2021', '27/06/2021', '13/11/2021', '14/02/2021', '03/11/2021', '23/02/2021', '06/10/2021', '14/08/2021', '03/11/2021', '20/11/2021', '10/09/2021', '28/07/2021', '18/10/2021', '21/03/2021', '08/08/2021', '18/05/2021', '15/04/2021', '26/09/2021', '23/05/2021', '02/01/2021', '14/09/2021', '11/02/2021', '27/08/2021', '15/09/2021', '05/12/2021', '05/08/2021', '10/07/2021', '23/09/2021', '22/07/2021', '14/12/2021', '09/07/2021', '15/11/2021', '12/02/2021', '07/09/2021', '24/02/2021', '06/01/2021', '17/01/2021', '17/11/2021', '09/11/2021', '05/09/2021', '21/12/2021', '26/12/2021', '06/11/2021', '24/02/2021', '06/11/2021', '27/06/2021', '02/07/2021', '12/07/2021', '27/02/2021', '30/06/2021', '18/06/2021', '02/03/2021', '09/03/2021', '18/04/2021', '12/02/2021', '25/02/2021', '10/04/2021', '26/08/2021', '16/10/2021', '31/07/2021', '21/02/2021', '28/03/2021', '31/07/2021', '02/01/2021', '18/07/2021', '15/07/2021', '14/04/2021', '11/05/2021', '04/11/2021', '24/11/2021', '18/05/2021', '17/09/2021', '16/03/2021', '03/08/2021', '28/12/2021', '27/11/2021', '01/10/2021', '21/10/2021', '06/04/2021', '08/09/2021', '01/05/2021', '30/06/2021', '04/02/2021', '08/12/2021', '04/03/2021', '13/08/2021', '07/05/2021', '24/08/2021', '04/03/2021', '12/09/2021', '10/04/2021', '01/12/2021', '13/05/2021', '18/02/2021', '23/09/2021', '30/11/2021', '14/12/2021', '16/08/2021', '23/12/2021', '25/01/2021', '15/05/2021', '04/06/2021', '25/05/2021', '21/10/2021', '02/07/2021', '06/01/2021', '01/12/2021', '01/03/2021', '16/05/2021', '06/07/2021', '15/05/2021', '09/02/2021', '26/02/2021', '04/05/2021', '21/12/2021', '04/02/2021', '26/03/2021', '14/01/2021', '09/07/2021', '12/06/2021', '29/07/2021', '26/10/2021', '28/03/2021', '17/12/2021', '01/08/2021', '19/05/2021', '10/03/2021', '05/04/2021', '07/05/2021', '08/11/2021', '26/12/2021', '05/03/2021', '29/10/2021', '26/02/2021', '17/10/2021', '22/04/2021', '10/11/2021', '12/08/2021', '09/01/2021', '01/06/2021', '02/07/2021', '18/06/2021', '21/08/2021', '15/05/2021', '20/01/2021', '28/01/2021', '09/06/2021', '11/09/2021', '02/12/2021', '10/03/2021', '23/11/2021', '14/02/2021', '23/11/2021', '24/01/2021', '25/08/2021', '21/09/2021', '27/08/2021', '20/09/2021', '23/09/2021', '10/06/2021', '19/09/2021', '04/08/2021', '08/07/2021', '20/02/2021', '25/03/2021', '21/12/2021', '20/02/2021', '01/12/2021', '11/03/2021', '09/03/2021', '23/02/2021', '23/10/2021', '25/03/2021', '22/06/2021', '18/11/2021', '09/10/2021', '17/02/2021', '23/01/2021', '26/07/2021', '01/09/2021', '28/11/2021', '11/11/2021', '24/04/2021', '13/06/2021', '06/07/2021', '12/05/2021', '09/01/2021', '15/10/2021', '03/01/2021', '04/02/2021', '13/10/2021', '01/02/2021', '08/04/2021', '03/04/2021', '22/04/2021', '14/10/2021', '05/11/2021', '07/02/2021', '07/08/2021', '17/12/2021', '19/09/2021', '29/11/2021', '12/10/2021', '23/02/2021', '13/06/2021', '09/11/2021', '27/08/2021', '26/04/2021', '17/07/2021', '25/06/2021', '06/03/2021', '20/01/2021', '04/02/2021', '17/11/2021', '20/09/2021', '05/08/2021', '26/03/2021', '28/12/2021', '16/03/2021', '12/08/2021', '03/03/2021', '10/10/2021', '22/11/2021', '13/11/2021', '20/10/2021', '13/06/2021', '26/06/2021', '23/09/2021', '24/10/2021', '30/09/2021', '06/01/2021', '11/04/2021', '29/10/2021', '25/12/2021', '15/03/2021', '12/11/2021', '04/06/2021', '25/07/2021', '04/10/2021', '08/05/2021', '16/03/2021', '12/09/2021', '31/10/2021', '01/08/2021', '20/03/2021', '30/06/2021', '16/01/2021', '20/09/2021', '12/11/2021', '19/06/2021', '07/06/2021', '21/05/2021', '28/04/2021', '08/12/2021', '15/01/2021', '11/04/2021', '04/02/2021', '20/03/2021', '26/04/2021', '30/03/2021', '19/08/2021', '23/08/2021', '30/12/2021', '25/03/2021', '30/09/2021', '13/05/2021', '23/07/2021', '03/01/2021', '07/05/2021', '06/07/2021', '24/06/2021', '08/12/2021', '24/06/2021', '03/02/2021', '06/11/2021', '13/02/2021', '22/10/2021', '27/06/2021', '01/10/2021', '11/12/2021', '21/10/2021', '13/09/2021', '28/04/2021', '07/12/2021', '27/03/2021', '23/07/2021', '20/06/2021', '06/10/2021', '21/05/2021', '25/02/2021', '24/01/2021', '03/01/2021', '22/09/2021', '16/05/2021', '02/09/2021', '30/11/2021', '23/08/2021', '29/04/2021', '13/12/2021', '24/12/2021', '03/03/2021', '09/10/2021', '11/04/2021', '09/04/2021', '27/01/2021', '13/03/2021', '05/08/2021', '18/12/2021', '01/11/2021', '22/08/2021', '09/07/2021', '02/12/2021', '23/03/2021', '24/03/2021', '02/08/2021', '03/06/2021', '20/06/2021', '02/02/2021', '02/10/2021', '18/04/2021', '03/09/2021', '14/05/2021', '29/09/2021', '27/05/2021', '22/06/2021', '08/07/2021', '18/03/2021', '28/06/2021', '19/06/2021', '14/12/2021', '07/05/2021', '12/10/2021', '14/09/2021', '24/06/2021', '01/09/2021', '27/10/2021', '27/01/2021', '01/09/2021', '17/01/2021', '23/04/2021', '10/03/2021', '27/12/2021', '29/09/2021', '15/05/2021', '05/12/2021', '30/12/2021', '10/04/2021', '18/10/2021', '09/08/2021', '12/10/2021', '20/04/2021', '25/06/2021', '23/01/2021', '14/07/2021', '11/08/2021', '21/05/2021', '06/08/2021', '07/01/2021', '26/02/2021', '05/04/2021', '14/05/2021', '27/12/2021', '16/11/2021', '20/04/2021', '12/01/2021', '16/06/2021', '13/08/2021', '03/12/2021', '27/06/2021', '09/01/2021', '19/11/2021', '28/04/2021', '13/12/2021', '28/08/2021', '23/02/2021', '04/06/2021', '20/09/2021', '20/11/2021', '26/09/2021', '30/09/2021', '01/01/2021', '14/02/2021', '05/10/2021', '26/09/2021', '18/04/2021', '13/01/2021', '29/09/2021', '12/02/2021', '18/06/2021', '05/10/2021', '18/08/2021', '22/10/2021', '10/05/2021', '15/03/2021', '10/01/2021', '27/05/2021', '03/06/2021', '07/08/2021', '27/12/2021', '07/02/2021', '02/08/2021', '21/07/2021', '04/06/2021', '22/06/2021', '19/04/2021', '11/07/2021', '28/06/2021', '01/02/2021', '20/11/2021', '21/03/2021', '23/08/2021', '04/10/2021', '07/08/2021', '23/05/2021', '22/09/2021', '01/02/2021', '06/02/2021', '30/09/2021', '05/04/2021', '16/03/2021', '25/08/2021', '25/02/2021', '13/04/2021', '13/06/2021', '25/04/2021', '10/11/2021', '24/01/2021', '22/10/2021', '14/11/2021', '28/02/2021', '26/09/2021', '22/07/2021', '06/05/2021', '25/06/2021', '28/06/2021', '01/03/2021', '28/07/2021', '30/06/2021', '16/09/2021', '14/12/2021', '19/12/2021', '14/12/2021', '30/01/2021', '18/03/2021', '10/06/2021', '12/01/2021', '20/08/2021', '03/08/2021', '09/02/2021', '20/08/2021', '08/05/2021', '04/09/2021', '18/07/2021', '19/02/2021', '27/12/2021', '16/08/2021', '12/07/2021', '10/04/2021', '06/04/2021', '08/04/2021', '25/04/2021', '27/03/2021', '03/12/2021', '16/01/2021', '27/03/2021', '14/07/2021', '29/07/2021', '08/12/2021', '29/05/2021', '03/05/2021', '18/09/2021', '11/06/2021', '23/06/2021', '23/03/2021', '22/03/2021', '24/01/2021', '29/09/2021', '10/06/2021', '01/10/2021', '11/02/2021', '14/09/2021', '06/12/2021', '05/06/2021', '09/05/2021', '17/02/2021', '04/09/2021', '25/05/2021', '29/11/2021', '03/09/2021', '24/11/2021', '02/10/2021', '23/01/2021', '14/07/2021', '03/09/2021', '23/07/2021', '10/12/2021', '13/09/2021', '27/09/2021', '20/11/2021', '17/07/2021', '27/05/2021', '30/01/2021', '23/09/2021', '09/06/2021', '07/10/2021', '10/11/2021', '14/10/2021', '12/09/2021', '15/05/2021', '25/03/2021', '24/11/2021', '12/11/2021', '22/07/2021', '06/10/2021', '27/03/2021', '09/12/2021', '16/10/2021', '11/02/2021', '10/02/2021', '15/11/2021', '06/07/2021']\n",
            "[219.08, 279.51, 58.9, 1586.23, 1889.5, 39.44, 580.92, 63.85, 105.48, 752.25, 205.26, 32.94, 400.26, 407.18, 436.23, 684.48, 18.55, 482.73, 571.09, 134.52, 425.25, 22.86, 167.81, 24.39, 17.11, 391.78, 60.08, 653.87, 112.75, 395.14, 174.39, 549.97, 55.96, 327.5, 963.53, 44.68, 73.75, 714.47, 741.11, 3766.19, 3880.0, 45.29, 30.16, 201.76, 1204.87, 40.4, 24.78, 728.81, 57.26, 427.94, 686.09, 144.15, 86.66, 210.29, 94.58, 600.9, 2509.24, 1742.66, 289.4, 58.62, 359.51, 384.97, 447.98, 15.58, 383.53, 104.0, 47.04, 291.53, 2674.02, 1600.36, 634.32, 427.06, 980.46, 88.11, 988.27, 1362.06, 3523.43, 1027.39, 302.7, 143.84, 2310.14, 3208.54, 87.3, 2813.37, 2119.81, 654.5, 3109.99, 122.27, 77.91, 950.37, 726.87, 415.06, 65.81, 45.91, 43.16, 70.73, 857.34, 616.91, 37.85, 2008.4, 1175.91, 559.91, 128.28, 1236.9, 56.74, 1195.35, 498.95, 668.91, 1089.38, 959.24, 178.2, 74.44, 210.56, 876.45, 26.7, 272.16, 56.56, 51.78, 253.17, 1291.64, 15.37, 57.63, 944.77, 2072.6, 210.52, 42.21, 2761.79, 57.25, 1242.14, 286.8, 347.75, 103.08, 36.78, 300.74, 262.73, 82.27, 37.26, 915.49, 126.59, 94.0, 2268.88, 369.18, 44.25, 694.5, 2414.98, 1541.5, 136.77, 39.23, 445.91, 50.65, 1997.95, 57.18, 417.83, 26.5, 269.81, 1800.71, 600.61, 3245.3, 120.02, 42.35, 55.29, 297.81, 39.69, 66.21, 633.26, 682.94, 98.17, 58.27, 30.75, 61.75, 2447.05, 1522.65, 1390.26, 1137.91, 643.56, 2003.89, 645.87, 43.22, 1057.97, 34.27, 92.17, 645.48, 685.78, 149.63, 826.62, 906.63, 70.71, 40.8, 1966.4, 2408.03, 1432.66, 2821.51, 60.7, 293.28, 3332.58, 392.14, 695.31, 267.89, 712.85, 1822.44, 275.2, 2360.11, 18.77, 389.53, 286.43, 2715.32, 842.74, 348.66, 52.56, 1421.6, 2524.58, 1350.8, 923.39, 20.5, 58.93, 1773.53, 214.73, 207.51, 839.8, 892.28, 21.01, 474.13, 1043.01, 59.03, 20.65, 1796.34, 1833.57, 151.08, 1004.7, 552.04, 990.86, 204.58, 85.12, 1782.8, 1180.44, 22.83, 49.91, 17.91, 334.74, 334.69, 863.14, 978.67, 52.16, 1110.7, 101.74, 44.9, 558.3, 948.05, 491.74, 379.31, 1333.28, 78.98, 897.26, 1496.64, 495.71, 151.91, 36.61, 98.2, 2100.95, 318.28, 56.48, 63.99, 318.02, 48.05, 1685.19, 926.01, 1350.09, 163.89, 984.03, 123.85, 3545.33, 20.33, 27.35, 3336.49, 19.63, 427.64, 312.45, 1918.51, 76.69, 21.78, 260.68, 361.03, 228.15, 90.64, 24.77, 378.35, 3209.26, 77.37, 3742.56, 346.23, 2006.43, 48.2, 123.69, 44.69, 1231.88, 39.12, 3367.28, 68.87, 2405.84, 166.35, 627.83, 554.38, 544.17, 335.52, 281.35, 365.72, 1767.91, 111.94, 40.09, 1682.61, 35.57, 531.09, 44.54, 1664.71, 1442.94, 64.95, 56.64, 400.86, 69.52, 198.66, 78.3, 325.05, 2583.82, 310.78, 10.58, 28.76, 267.18, 77.51, 337.87, 365.46, 1892.2, 113.58, 728.67, 1999.81, 1737.14, 124.92, 235.24, 295.32, 698.52, 63.13, 439.17, 15.22, 269.3, 81.7, 167.1, 929.2, 636.61, 452.99, 65.93, 56.03, 367.77, 72.62, 1839.4, 1715.78, 48.05, 401.04, 670.41, 818.58, 466.68, 1882.99, 3555.39, 425.47, 25.81, 3056.57, 690.26, 2843.23, 216.97, 3083.29, 238.73, 710.01, 431.16, 37.55, 2312.45, 1572.45, 54.86, 2727.13, 105.71, 75.19, 138.57, 971.36, 906.95, 69.42, 47.96, 255.08, 76.38, 74.44, 99.75, 439.58, 36.59, 76.33, 83.92, 1294.99, 1233.13, 1864.15, 297.7, 929.17, 974.02, 1461.16, 141.12, 693.36, 136.71, 2999.21, 3515.39, 190.61, 153.62, 66.03, 1734.16, 1267.97, 2424.54, 660.46, 324.62, 58.73, 2303.34, 1123.14, 290.85, 76.05, 657.6, 75.02, 357.51, 652.69, 56.72, 711.96, 657.9, 411.91, 277.82, 41.76, 1042.85, 32.87, 327.7, 70.23, 476.63, 465.81, 94.22, 128.85, 496.55, 316.82, 693.3, 2556.1, 385.29, 36.63, 61.5, 350.5, 173.76, 49.22, 960.58, 3157.95, 74.7, 52.81, 1058.88, 158.02, 35.91, 1736.83, 66.77, 3449.89, 1993.67, 688.8, 40.73, 724.3, 51.88, 746.37, 38.22, 1304.52, 456.91, 305.53, 231.17, 452.48, 690.42, 86.63, 58.72, 388.05, 12.97, 85.69, 101.31, 41.98, 88.85, 86.94, 87.34, 940.84, 1092.57, 303.65, 563.04, 181.71, 254.47, 2239.38, 162.24, 1886.81, 2924.32, 1476.01, 46.16, 81.65, 19.31, 1951.94, 111.41, 766.15, 300.65, 2295.13, 860.34, 2068.18, 666.9, 1521.34, 3085.99, 82.17, 2217.84, 72.68, 51.66, 78.17, 258.24, 278.2, 374.91, 51.77, 1635.24, 371.12, 21.49, 160.54, 64.73, 59.44, 49.48, 108.37, 73.73, 28.42, 552.75, 51.18, 1791.0, 602.41, 239.97, 270.73, 60.27, 45.04, 338.37, 77.3, 323.96, 404.84, 891.3, 2204.56, 175.36, 985.32, 19.82, 645.33, 915.31, 1570.84, 340.75, 1252.68, 502.22, 213.47, 271.12, 1049.89, 373.2, 113.83, 83.01, 119.86, 57.72, 109.63, 288.45, 2236.47, 1137.73, 3655.0, 50.27, 219.42, 291.94, 1414.54, 1846.51, 73.27, 87.49, 23.8, 62.23, 49.86, 91.53, 306.89, 76.5, 84.85, 799.12, 670.63, 1541.05, 74.13, 447.64, 521.32, 19.93, 322.09, 296.91, 118.31, 30.33, 31.47, 51.78, 362.17, 55.41, 163.93, 1061.09, 379.37, 241.37, 569.48, 617.69, 976.28, 1356.3, 627.98, 285.81, 27.01, 23.76, 1278.75, 791.81, 379.56, 73.46, 551.65, 352.74, 304.53, 587.52, 370.93, 69.48, 59.69, 940.5, 76.69, 697.82, 114.17, 26.45, 48.18, 63.34, 983.72, 16.55, 53.82, 68.89, 581.56, 75.34, 43.01, 45.42, 696.92, 343.45, 61.73, 347.16, 1777.73, 448.5, 2167.03, 528.29, 328.4, 607.01, 819.22, 372.24, 120.72, 353.35, 36.18, 1268.08, 837.81, 341.92, 338.83, 245.97, 13.02, 996.55, 2903.39, 3118.73, 172.97, 83.78, 658.44, 588.25, 643.62, 146.24, 930.94, 79.21, 50.64, 2789.01, 53.62, 63.32, 29.25, 2600.35, 927.62, 991.64, 884.41, 340.93, 28.57, 285.7, 69.23, 22.41, 568.83, 204.81, 158.12, 83.1, 982.19, 2680.46, 42.2, 41.11, 232.23, 380.13, 58.15, 864.83, 79.14, 229.11, 1185.7, 194.37, 183.21, 413.23, 59.52, 276.47, 112.49, 20.64, 100.98, 639.99, 409.61, 284.81, 784.89, 275.98, 428.48, 67.4, 2516.02, 65.38, 101.42, 251.34, 70.94, 74.88, 940.11, 659.77, 233.98, 649.19, 20.4, 196.12, 2729.32, 72.01, 450.15, 27.68, 46.16, 754.45, 893.96, 899.01, 1689.22, 1565.75, 405.52, 271.52, 93.05, 339.25, 2131.82, 245.52, 42.09, 91.62, 1175.85, 437.03, 1912.38, 1140.93, 65.5, 83.67, 1742.04, 677.19, 1712.54, 163.82]\n",
            "482829.91\n"
          ]
        }
      ]
    },
    {
      "cell_type": "markdown",
      "source": [],
      "metadata": {
        "id": "apom9D9mPAXu"
      }
    },
    {
      "cell_type": "code",
      "source": [
        "#Loja 1 - Criar duas listas com Data da Compra e Preço para o ano de 2022\n",
        "\n",
        "data_2022 = []\n",
        "preco_2022 = []\n",
        "\n",
        "for data, preco in zip(loja1['Data da Compra'], loja1['Preço']):\n",
        "  if '2022' in data:\n",
        "    data_2022.append(data)\n",
        "    preco_2022.append(preco)\n",
        "\n",
        "faturamento = sum(preco_2022)\n",
        "\n",
        "print(data_2022)\n",
        "print(preco_2022)\n",
        "print(round(faturamento, 2))"
      ],
      "metadata": {
        "colab": {
          "base_uri": "https://localhost:8080/"
        },
        "id": "jROWIsnvIthd",
        "outputId": "43d46c86-80e9-4c51-905d-1f40c322d373"
      },
      "execution_count": 43,
      "outputs": [
        {
          "output_type": "stream",
          "name": "stdout",
          "text": [
            "['18/05/2022', '03/05/2022', '08/01/2022', '03/05/2022', '09/01/2022', '11/07/2022', '21/04/2022', '22/05/2022', '16/09/2022', '26/03/2022', '26/12/2022', '06/08/2022', '23/05/2022', '01/09/2022', '02/01/2022', '05/06/2022', '01/02/2022', '17/07/2022', '28/10/2022', '11/09/2022', '27/10/2022', '05/05/2022', '27/09/2022', '03/05/2022', '10/02/2022', '27/01/2022', '11/02/2022', '18/05/2022', '06/07/2022', '25/11/2022', '23/01/2022', '15/04/2022', '01/09/2022', '06/09/2022', '17/11/2022', '21/10/2022', '24/07/2022', '24/02/2022', '11/01/2022', '08/07/2022', '04/10/2022', '10/11/2022', '22/03/2022', '29/09/2022', '26/03/2022', '17/08/2022', '18/01/2022', '01/05/2022', '24/11/2022', '12/11/2022', '06/02/2022', '16/06/2022', '06/06/2022', '03/03/2022', '21/04/2022', '26/04/2022', '01/11/2022', '04/10/2022', '10/05/2022', '27/02/2022', '13/09/2022', '14/05/2022', '07/03/2022', '15/10/2022', '07/05/2022', '04/06/2022', '10/11/2022', '06/02/2022', '13/03/2022', '17/10/2022', '08/02/2022', '03/09/2022', '31/12/2022', '10/02/2022', '19/07/2022', '04/11/2022', '12/04/2022', '27/02/2022', '06/05/2022', '15/10/2022', '21/10/2022', '22/04/2022', '01/07/2022', '26/01/2022', '16/08/2022', '16/01/2022', '21/12/2022', '11/02/2022', '19/04/2022', '24/11/2022', '09/09/2022', '06/06/2022', '27/07/2022', '16/09/2022', '15/12/2022', '11/07/2022', '16/03/2022', '10/12/2022', '30/09/2022', '28/07/2022', '19/07/2022', '17/08/2022', '01/04/2022', '14/03/2022', '22/12/2022', '31/08/2022', '07/04/2022', '19/11/2022', '12/07/2022', '06/06/2022', '08/03/2022', '25/02/2022', '07/10/2022', '14/05/2022', '03/08/2022', '22/04/2022', '26/02/2022', '01/09/2022', '20/01/2022', '08/07/2022', '31/08/2022', '22/12/2022', '14/07/2022', '13/02/2022', '14/02/2022', '13/04/2022', '02/01/2022', '27/03/2022', '19/07/2022', '02/01/2022', '13/05/2022', '12/09/2022', '12/02/2022', '16/06/2022', '11/07/2022', '19/09/2022', '06/02/2022', '21/06/2022', '27/08/2022', '27/12/2022', '25/01/2022', '01/12/2022', '16/01/2022', '29/12/2022', '25/02/2022', '02/05/2022', '29/11/2022', '27/04/2022', '08/07/2022', '01/06/2022', '10/10/2022', '11/01/2022', '03/02/2022', '24/12/2022', '11/04/2022', '13/11/2022', '10/11/2022', '02/08/2022', '25/04/2022', '22/02/2022', '20/07/2022', '30/04/2022', '19/04/2022', '04/11/2022', '20/08/2022', '01/03/2022', '01/02/2022', '22/12/2022', '01/02/2022', '23/08/2022', '03/08/2022', '04/12/2022', '09/11/2022', '25/12/2022', '18/06/2022', '10/06/2022', '20/01/2022', '23/07/2022', '05/06/2022', '28/03/2022', '05/09/2022', '09/08/2022', '15/02/2022', '12/01/2022', '23/03/2022', '25/10/2022', '24/04/2022', '25/08/2022', '26/01/2022', '31/07/2022', '15/05/2022', '13/11/2022', '23/05/2022', '17/11/2022', '03/06/2022', '08/02/2022', '14/03/2022', '26/05/2022', '11/11/2022', '08/04/2022', '20/02/2022', '08/01/2022', '21/09/2022', '12/09/2022', '28/12/2022', '01/12/2022', '09/03/2022', '02/08/2022', '16/12/2022', '14/07/2022', '23/07/2022', '14/09/2022', '28/11/2022', '29/01/2022', '03/09/2022', '01/07/2022', '11/09/2022', '13/11/2022', '17/09/2022', '14/01/2022', '26/02/2022', '28/11/2022', '07/10/2022', '25/07/2022', '25/08/2022', '22/01/2022', '15/09/2022', '05/06/2022', '30/05/2022', '20/02/2022', '12/04/2022', '09/07/2022', '04/09/2022', '30/04/2022', '12/07/2022', '29/09/2022', '18/11/2022', '20/06/2022', '20/03/2022', '17/12/2022', '25/08/2022', '01/11/2022', '03/01/2022', '12/07/2022', '01/03/2022', '29/09/2022', '12/07/2022', '07/02/2022', '03/03/2022', '16/06/2022', '10/07/2022', '01/12/2022', '03/07/2022', '13/04/2022', '01/04/2022', '08/04/2022', '26/08/2022', '07/08/2022', '29/03/2022', '02/04/2022', '15/09/2022', '26/10/2022', '25/08/2022', '21/01/2022', '20/06/2022', '24/09/2022', '08/07/2022', '03/11/2022', '22/12/2022', '18/09/2022', '21/06/2022', '08/02/2022', '09/07/2022', '15/05/2022', '01/11/2022', '27/06/2022', '19/05/2022', '29/12/2022', '02/03/2022', '18/12/2022', '03/06/2022', '15/12/2022', '02/02/2022', '13/12/2022', '07/04/2022', '06/03/2022', '11/12/2022', '15/06/2022', '05/12/2022', '06/07/2022', '10/02/2022', '19/07/2022', '14/09/2022', '01/12/2022', '27/08/2022', '27/10/2022', '05/07/2022', '29/01/2022', '18/01/2022', '23/08/2022', '02/04/2022', '24/10/2022', '20/09/2022', '02/10/2022', '14/09/2022', '03/06/2022', '02/09/2022', '02/04/2022', '08/04/2022', '09/02/2022', '29/08/2022', '15/06/2022', '07/01/2022', '12/12/2022', '23/10/2022', '01/08/2022', '03/08/2022', '03/12/2022', '19/08/2022', '06/11/2022', '10/02/2022', '13/04/2022', '10/09/2022', '18/03/2022', '11/11/2022', '30/11/2022', '08/01/2022', '28/12/2022', '15/07/2022', '01/11/2022', '27/03/2022', '19/07/2022', '27/10/2022', '14/05/2022', '19/02/2022', '02/11/2022', '10/09/2022', '19/06/2022', '17/10/2022', '01/07/2022', '18/08/2022', '31/10/2022', '28/09/2022', '01/10/2022', '20/06/2022', '11/03/2022', '20/05/2022', '02/01/2022', '25/08/2022', '18/09/2022', '19/04/2022', '02/04/2022', '21/10/2022', '08/02/2022', '14/06/2022', '22/01/2022', '16/03/2022', '22/09/2022', '15/04/2022', '23/02/2022', '28/08/2022', '22/08/2022', '31/10/2022', '05/10/2022', '11/09/2022', '16/05/2022', '04/01/2022', '22/03/2022', '02/12/2022', '24/05/2022', '24/11/2022', '13/09/2022', '11/12/2022', '16/08/2022', '24/04/2022', '12/10/2022', '30/12/2022', '20/01/2022', '12/02/2022', '09/06/2022', '21/01/2022', '17/09/2022', '13/06/2022', '29/04/2022', '18/11/2022', '19/05/2022', '12/10/2022', '01/04/2022', '27/10/2022', '31/07/2022', '09/12/2022', '01/03/2022', '27/10/2022', '01/05/2022', '17/07/2022', '25/02/2022', '14/02/2022', '02/06/2022', '21/07/2022', '05/06/2022', '08/05/2022', '22/04/2022', '07/03/2022', '25/03/2022', '14/09/2022', '14/08/2022', '16/08/2022', '01/02/2022', '01/04/2022', '21/10/2022', '13/03/2022', '04/10/2022', '02/07/2022', '30/09/2022', '04/08/2022', '13/10/2022', '23/04/2022', '06/12/2022', '11/08/2022', '29/04/2022', '27/06/2022', '24/01/2022', '28/08/2022', '16/05/2022', '20/09/2022', '04/08/2022', '14/05/2022', '22/03/2022', '20/04/2022', '09/04/2022', '21/09/2022', '08/11/2022', '09/03/2022', '19/11/2022', '26/02/2022', '28/11/2022', '29/05/2022', '13/10/2022', '31/12/2022', '07/12/2022', '25/09/2022', '23/10/2022', '11/08/2022', '10/05/2022', '16/11/2022', '08/03/2022', '11/05/2022', '29/01/2022', '20/07/2022', '13/09/2022', '05/12/2022', '23/10/2022', '07/08/2022', '25/02/2022', '25/03/2022', '31/01/2022', '30/04/2022', '24/02/2022', '21/11/2022', '28/06/2022', '17/03/2022', '25/01/2022', '26/02/2022', '24/12/2022', '10/01/2022', '16/02/2022', '13/02/2022', '14/10/2022', '24/08/2022', '11/09/2022', '07/04/2022', '12/03/2022', '22/04/2022', '07/01/2022', '23/09/2022', '26/09/2022', '01/01/2022', '17/03/2022', '30/09/2022', '16/12/2022', '28/02/2022', '22/05/2022', '25/06/2022', '06/05/2022', '13/03/2022', '04/12/2022', '08/11/2022', '30/03/2022', '20/12/2022', '16/01/2022', '20/12/2022', '10/09/2022', '10/08/2022', '02/11/2022', '29/06/2022', '30/01/2022', '27/11/2022', '01/10/2022', '17/04/2022', '01/09/2022', '17/12/2022', '17/03/2022', '26/11/2022', '19/01/2022', '30/04/2022', '04/06/2022', '09/11/2022', '10/03/2022', '22/08/2022', '25/03/2022', '22/11/2022', '12/09/2022', '16/01/2022', '21/12/2022', '23/07/2022', '07/08/2022', '01/06/2022', '23/02/2022', '10/05/2022', '21/09/2022', '26/01/2022', '04/11/2022', '24/05/2022', '17/07/2022', '09/06/2022', '12/05/2022', '09/05/2022', '21/11/2022', '17/09/2022', '09/05/2022', '31/12/2022', '13/02/2022', '14/01/2022', '10/11/2022', '13/02/2022', '09/06/2022', '17/01/2022', '22/04/2022', '24/09/2022', '29/03/2022', '22/08/2022', '19/06/2022', '20/08/2022', '15/12/2022', '11/02/2022', '20/07/2022', '20/12/2022', '22/05/2022', '23/04/2022', '12/08/2022', '22/02/2022', '09/03/2022', '07/05/2022', '23/07/2022', '22/09/2022', '06/12/2022', '29/12/2022', '19/11/2022', '25/03/2022', '11/02/2022', '27/05/2022', '17/07/2022', '17/07/2022', '02/04/2022', '16/03/2022', '09/09/2022', '29/04/2022', '26/05/2022', '02/04/2022', '18/02/2022', '15/05/2022', '11/06/2022', '22/11/2022', '28/07/2022', '10/04/2022', '07/04/2022', '27/03/2022', '20/11/2022', '30/09/2022', '30/03/2022', '06/04/2022', '02/06/2022', '11/08/2022', '15/06/2022', '27/04/2022', '25/12/2022', '01/05/2022', '18/09/2022', '21/05/2022', '28/10/2022', '06/09/2022', '07/07/2022', '06/01/2022', '12/01/2022', '08/02/2022', '10/10/2022', '19/04/2022', '23/06/2022', '07/06/2022', '04/07/2022', '08/10/2022', '30/11/2022', '20/10/2022', '11/01/2022', '12/08/2022', '02/11/2022', '22/06/2022', '31/07/2022', '20/09/2022', '29/06/2022', '25/12/2022', '10/07/2022', '03/11/2022', '16/07/2022', '03/10/2022', '05/03/2022', '30/04/2022', '13/10/2022', '16/03/2022', '18/04/2022', '08/12/2022', '06/08/2022', '08/11/2022', '05/05/2022', '01/12/2022', '24/11/2022', '26/05/2022', '05/08/2022', '27/12/2022', '21/12/2022', '12/06/2022', '25/09/2022', '11/01/2022', '31/01/2022', '30/01/2022', '09/01/2022', '30/08/2022', '29/06/2022', '27/10/2022', '28/05/2022', '03/01/2022', '26/11/2022', '04/01/2022', '13/01/2022', '03/08/2022', '26/11/2022', '24/07/2022', '15/05/2022', '22/12/2022', '26/08/2022', '23/12/2022', '13/09/2022', '19/11/2022', '09/11/2022', '10/07/2022', '07/07/2022', '20/06/2022', '25/04/2022', '09/06/2022', '07/03/2022', '29/07/2022', '25/02/2022', '04/06/2022', '30/04/2022', '03/02/2022', '07/02/2022', '21/04/2022', '14/08/2022', '23/09/2022', '01/09/2022', '24/04/2022', '25/10/2022', '26/04/2022', '25/04/2022', '21/06/2022', '17/04/2022', '28/12/2022', '04/12/2022', '29/09/2022', '24/05/2022', '05/07/2022', '12/03/2022', '25/08/2022', '29/04/2022', '19/08/2022', '04/06/2022', '18/06/2022', '22/05/2022', '11/04/2022', '04/07/2022', '04/10/2022', '04/10/2022', '24/03/2022', '03/06/2022', '02/10/2022', '20/03/2022', '15/08/2022', '10/10/2022', '06/05/2022', '01/10/2022', '27/02/2022', '10/08/2022', '15/01/2022', '18/12/2022', '27/03/2022', '13/02/2022', '26/09/2022', '04/04/2022', '24/03/2022', '21/11/2022', '30/12/2022', '02/05/2022', '18/06/2022']\n",
            "[256.35, 1009.99, 2024.31, 78.53, 2522.26, 67.73, 685.95, 83.08, 91.05, 320.35, 840.05, 396.02, 564.7, 420.24, 1600.38, 907.92, 147.99, 378.87, 185.52, 2896.52, 56.18, 593.11, 104.39, 372.39, 96.77, 72.82, 229.77, 52.97, 89.19, 243.75, 926.84, 92.99, 1454.34, 349.98, 2569.93, 215.52, 903.48, 201.06, 18.17, 47.66, 37.49, 950.49, 877.54, 3282.01, 70.8, 11.47, 786.92, 277.62, 362.56, 79.48, 54.41, 2094.53, 217.87, 65.04, 53.09, 142.64, 257.89, 67.89, 1121.4, 27.27, 1215.5, 2505.72, 116.95, 871.73, 884.13, 1704.65, 3240.02, 1337.09, 98.22, 88.93, 24.83, 1008.65, 73.63, 451.83, 197.5, 482.76, 263.85, 416.39, 391.92, 168.27, 28.89, 23.75, 3386.44, 1298.32, 454.81, 206.98, 541.84, 192.37, 93.13, 127.4, 606.36, 77.47, 685.39, 51.3, 3193.24, 180.37, 594.09, 472.29, 32.21, 56.37, 72.34, 667.67, 363.8, 136.2, 252.28, 542.45, 313.94, 98.53, 63.47, 2854.98, 171.9, 285.43, 59.31, 2232.46, 697.51, 60.42, 150.18, 147.24, 101.9, 1540.14, 297.78, 53.82, 373.88, 149.59, 13.53, 274.28, 258.77, 1181.49, 80.68, 22.12, 37.65, 86.55, 1127.15, 12.72, 1021.41, 351.35, 97.08, 44.39, 377.0, 22.58, 76.83, 1327.15, 3079.44, 3377.55, 831.95, 21.74, 234.86, 739.02, 174.84, 79.7, 107.88, 210.8, 74.25, 30.47, 35.74, 776.66, 67.12, 642.07, 142.75, 353.21, 872.27, 537.42, 40.75, 21.12, 912.15, 2060.2, 251.37, 3118.95, 57.63, 242.62, 926.29, 786.15, 79.22, 88.66, 395.06, 43.38, 116.76, 1507.74, 1211.48, 37.7, 3494.73, 58.5, 62.15, 288.87, 423.93, 106.27, 33.94, 73.59, 333.37, 98.15, 858.54, 1886.35, 144.88, 92.21, 369.99, 55.06, 195.66, 96.32, 77.09, 97.78, 97.66, 899.96, 49.79, 113.57, 135.89, 1245.97, 59.9, 110.51, 65.76, 64.91, 68.58, 746.32, 209.99, 68.29, 1021.25, 105.99, 583.39, 833.85, 38.12, 546.01, 1201.03, 165.78, 1130.91, 87.94, 364.48, 2270.27, 72.54, 21.55, 1303.92, 233.0, 1131.69, 446.11, 1271.79, 828.2, 88.75, 380.94, 2808.09, 42.97, 2022.06, 423.96, 1765.53, 71.59, 34.67, 970.53, 219.88, 46.47, 1082.54, 467.06, 325.44, 24.45, 476.11, 860.58, 1128.04, 699.75, 331.48, 250.47, 21.28, 972.95, 310.47, 111.53, 28.01, 40.28, 1375.49, 203.72, 660.47, 18.1, 343.46, 1600.92, 418.05, 55.2, 24.54, 345.59, 341.95, 313.75, 203.11, 72.27, 51.31, 283.51, 151.07, 654.6, 103.49, 107.44, 367.46, 1163.84, 92.37, 47.31, 1899.3, 1622.23, 2097.01, 373.29, 1305.35, 1481.88, 878.23, 39.34, 78.08, 890.74, 53.42, 881.81, 529.79, 23.76, 333.7, 25.3, 39.89, 69.25, 65.5, 54.14, 354.14, 64.05, 102.79, 981.47, 10.72, 538.65, 421.87, 288.46, 379.15, 323.0, 44.82, 2494.48, 1309.88, 107.31, 319.37, 77.19, 19.07, 2030.77, 999.77, 88.91, 2269.44, 3966.67, 135.06, 70.05, 27.59, 169.65, 53.05, 522.67, 3582.01, 2194.45, 35.02, 78.23, 437.54, 955.2, 201.27, 11.88, 735.3, 258.15, 212.91, 50.06, 3428.3, 95.7, 721.54, 203.74, 604.64, 970.05, 62.12, 1185.88, 134.02, 45.68, 780.19, 29.85, 660.87, 19.8, 443.68, 68.1, 656.25, 86.59, 964.94, 549.13, 50.11, 1841.73, 1295.57, 196.56, 111.36, 153.17, 257.55, 1225.92, 684.74, 679.93, 384.2, 828.92, 56.47, 602.58, 891.78, 337.49, 3712.69, 110.02, 228.46, 57.64, 36.79, 677.31, 69.38, 41.27, 75.13, 1732.36, 1650.83, 403.02, 38.86, 413.47, 343.69, 287.09, 34.66, 74.83, 37.42, 2544.32, 238.49, 438.43, 120.8, 28.28, 1483.67, 41.76, 76.93, 315.03, 93.95, 138.38, 678.62, 685.95, 41.66, 1068.33, 1339.88, 353.06, 392.29, 82.77, 73.05, 617.48, 611.39, 279.3, 57.41, 568.55, 42.02, 2008.55, 1904.12, 829.33, 1765.73, 238.59, 385.74, 699.31, 3142.47, 55.17, 818.14, 32.95, 472.77, 2012.13, 1400.06, 48.01, 930.5, 64.28, 283.36, 62.93, 59.41, 278.46, 175.95, 277.78, 61.0, 48.5, 83.46, 764.41, 85.17, 59.53, 47.55, 1123.16, 180.46, 139.46, 723.8, 1845.47, 85.82, 127.42, 63.51, 34.59, 1787.09, 641.21, 376.83, 392.89, 264.88, 23.72, 57.44, 354.92, 24.5, 72.91, 36.84, 325.91, 81.41, 79.03, 123.94, 111.79, 1050.74, 176.08, 1708.94, 27.07, 53.2, 116.7, 426.37, 616.03, 106.36, 3227.68, 49.19, 34.21, 86.33, 34.56, 125.87, 603.9, 437.67, 1200.6, 1027.0, 34.68, 66.34, 12.51, 50.35, 2320.42, 1957.59, 2037.66, 442.12, 478.32, 28.07, 423.2, 1951.95, 627.94, 1466.34, 63.72, 183.79, 1967.01, 94.88, 1457.3, 49.42, 41.97, 23.94, 72.62, 890.28, 906.67, 89.21, 76.68, 386.78, 99.54, 1398.25, 2215.84, 633.86, 1922.67, 43.21, 121.5, 788.88, 329.44, 419.04, 84.45, 386.87, 143.46, 62.48, 59.44, 86.9, 1750.87, 74.04, 1428.65, 84.88, 1775.24, 364.14, 221.63, 3746.15, 49.08, 873.13, 70.62, 143.9, 85.14, 894.48, 64.86, 643.88, 1336.36, 380.87, 936.62, 30.62, 2925.98, 1567.44, 429.14, 57.45, 40.17, 45.53, 1180.92, 16.76, 1089.68, 861.08, 749.27, 355.22, 915.36, 489.48, 3270.51, 975.15, 131.1, 593.58, 377.17, 63.01, 186.45, 1642.22, 45.89, 193.23, 190.43, 751.38, 1623.33, 93.15, 929.32, 98.18, 535.78, 1093.54, 445.77, 799.6, 82.32, 66.9, 33.39, 2000.13, 68.34, 2977.24, 159.9, 3033.74, 1224.99, 2064.81, 219.65, 860.62, 73.49, 72.24, 2548.17, 1669.63, 748.89, 697.39, 74.5, 73.85, 231.67, 56.49, 969.21, 23.29, 28.89, 222.18, 1975.66, 340.0, 522.82, 132.06, 725.58, 1012.89, 55.67, 28.86, 112.3, 94.5, 30.48, 31.79, 204.57, 1538.12, 326.2, 1686.37, 664.51, 200.58, 68.26, 1282.2, 32.58, 645.96, 93.78, 219.3, 2943.88, 2580.24, 3314.11, 64.37, 90.42, 783.56, 27.61, 1023.48, 493.1, 28.17, 1269.11, 115.92, 972.79, 453.95, 416.25, 1780.83, 21.43, 41.11, 3359.54, 463.43, 2017.54, 83.74, 1088.7, 59.68, 164.0, 573.75, 979.31, 60.69, 200.49, 484.59, 694.6, 49.12, 574.25, 39.43, 66.38, 116.36, 71.86, 87.11, 866.78, 181.79, 1873.81, 605.27, 43.28, 989.11, 119.08, 39.95, 147.81, 1492.31, 149.28, 850.57, 145.74, 1618.46, 75.8, 338.27, 902.15, 386.6, 3081.76, 166.74, 351.37, 63.95, 303.76, 53.95, 921.77, 259.95]\n",
            "422086.24\n"
          ]
        }
      ]
    },
    {
      "cell_type": "code",
      "source": [
        "#Loja 2 - Criar duas listas com Data da Compra e Preço para o ano de 2020\n",
        "\n",
        "data_2020 = []\n",
        "preco_2020 = []\n",
        "\n",
        "for data, preco in zip(loja2['Data da Compra'], loja1['Preço']):\n",
        "  if '2020' in data:\n",
        "    data_2020.append(data)\n",
        "    preco_2020.append(preco)\n",
        "\n",
        "faturamento = sum(preco_2020)\n",
        "\n",
        "print(data_2020)\n",
        "print(preco_2020)\n",
        "print(round(faturamento, 2))"
      ],
      "metadata": {
        "colab": {
          "base_uri": "https://localhost:8080/"
        },
        "id": "HEWMNRREItX2",
        "outputId": "f1d2347f-d255-47b0-956b-c5988bc9c3d8"
      },
      "execution_count": 44,
      "outputs": [
        {
          "output_type": "stream",
          "name": "stdout",
          "text": [
            "['26/11/2020', '10/06/2020', '18/04/2020', '27/06/2020', '01/01/2020', '20/11/2020', '13/08/2020', '28/03/2020', '11/09/2020', '05/05/2020', '07/07/2020', '25/07/2020', '13/12/2020', '16/09/2020', '24/10/2020', '18/03/2020', '13/12/2020', '25/11/2020', '16/08/2020', '21/07/2020', '25/04/2020', '27/10/2020', '27/04/2020', '20/08/2020', '05/06/2020', '02/02/2020', '16/07/2020', '17/08/2020', '18/12/2020', '23/07/2020', '28/08/2020', '10/03/2020', '08/05/2020', '03/01/2020', '15/10/2020', '05/10/2020', '05/12/2020', '09/07/2020', '18/02/2020', '05/05/2020', '14/03/2020', '13/04/2020', '25/11/2020', '13/12/2020', '08/07/2020', '07/12/2020', '13/03/2020', '19/10/2020', '17/05/2020', '04/09/2020', '22/04/2020', '28/11/2020', '27/09/2020', '29/08/2020', '24/10/2020', '19/05/2020', '08/04/2020', '22/09/2020', '25/04/2020', '10/05/2020', '31/07/2020', '27/02/2020', '31/10/2020', '23/02/2020', '13/12/2020', '19/10/2020', '20/02/2020', '29/01/2020', '13/10/2020', '09/09/2020', '23/03/2020', '08/11/2020', '14/09/2020', '19/06/2020', '23/11/2020', '08/10/2020', '26/03/2020', '31/08/2020', '03/04/2020', '24/06/2020', '19/02/2020', '17/10/2020', '05/06/2020', '09/09/2020', '31/01/2020', '05/10/2020', '09/04/2020', '28/02/2020', '06/02/2020', '10/06/2020', '15/10/2020', '18/10/2020', '13/12/2020', '08/10/2020', '21/03/2020', '09/03/2020', '21/04/2020', '08/04/2020', '05/12/2020', '14/10/2020', '06/09/2020', '22/07/2020', '03/01/2020', '28/05/2020', '28/11/2020', '01/01/2020', '29/12/2020', '21/04/2020', '04/06/2020', '02/12/2020', '15/07/2020', '08/12/2020', '14/10/2020', '19/02/2020', '20/07/2020', '30/04/2020', '01/08/2020', '05/02/2020', '24/11/2020', '28/09/2020', '05/06/2020', '07/01/2020', '28/09/2020', '22/09/2020', '27/07/2020', '27/03/2020', '02/08/2020', '06/12/2020', '09/03/2020', '10/07/2020', '28/09/2020', '18/10/2020', '23/12/2020', '21/11/2020', '24/12/2020', '11/03/2020', '27/03/2020', '01/01/2020', '07/08/2020', '25/05/2020', '07/06/2020', '20/10/2020', '21/01/2020', '24/07/2020', '05/09/2020', '04/06/2020', '21/11/2020', '18/05/2020', '03/05/2020', '26/07/2020', '20/12/2020', '22/01/2020', '25/03/2020', '30/07/2020', '01/08/2020', '27/01/2020', '07/11/2020', '30/09/2020', '31/03/2020', '02/06/2020', '20/08/2020', '07/01/2020', '05/09/2020', '29/07/2020', '09/12/2020', '03/05/2020', '03/06/2020', '06/07/2020', '12/01/2020', '22/12/2020', '13/10/2020', '23/10/2020', '05/12/2020', '16/06/2020', '09/12/2020', '03/02/2020', '08/09/2020', '01/07/2020', '11/04/2020', '30/05/2020', '14/08/2020', '20/06/2020', '12/09/2020', '11/01/2020', '21/01/2020', '20/09/2020', '16/08/2020', '26/09/2020', '02/09/2020', '11/12/2020', '17/05/2020', '21/08/2020', '20/06/2020', '03/07/2020', '12/03/2020', '17/03/2020', '17/03/2020', '03/09/2020', '09/10/2020', '17/09/2020', '04/06/2020', '19/11/2020', '06/01/2020', '05/06/2020', '05/02/2020', '24/09/2020', '23/02/2020', '08/06/2020', '18/08/2020', '13/09/2020', '12/06/2020', '20/10/2020', '03/07/2020', '07/01/2020', '03/01/2020', '13/10/2020', '14/07/2020', '15/05/2020', '21/01/2020', '19/07/2020', '27/09/2020', '05/08/2020', '21/01/2020', '26/07/2020', '29/07/2020', '12/10/2020', '18/11/2020', '05/08/2020', '06/01/2020', '16/09/2020', '08/07/2020', '02/02/2020', '06/02/2020', '22/04/2020', '24/06/2020', '08/08/2020', '14/04/2020', '03/09/2020', '20/07/2020', '23/11/2020', '26/05/2020', '23/03/2020', '03/09/2020', '24/05/2020', '04/09/2020', '26/10/2020', '13/07/2020', '08/05/2020', '18/08/2020', '23/02/2020', '08/06/2020', '03/01/2020', '09/03/2020', '29/04/2020', '16/10/2020', '04/09/2020', '29/05/2020', '18/08/2020', '10/03/2020', '24/01/2020', '11/10/2020', '20/10/2020', '30/11/2020', '15/12/2020', '20/10/2020', '11/08/2020', '03/12/2020', '17/06/2020', '19/05/2020', '05/12/2020', '16/06/2020', '01/11/2020', '31/07/2020', '25/12/2020', '27/04/2020', '05/09/2020', '22/05/2020', '17/05/2020', '05/01/2020', '08/11/2020', '29/06/2020', '09/12/2020', '04/05/2020', '08/07/2020', '04/01/2020', '12/06/2020', '12/02/2020', '11/03/2020', '27/12/2020', '25/06/2020', '11/09/2020', '06/12/2020', '13/02/2020', '24/12/2020', '02/04/2020', '20/05/2020', '23/08/2020', '25/10/2020', '18/10/2020', '24/04/2020', '11/03/2020', '14/11/2020', '01/02/2020', '19/06/2020', '31/01/2020', '28/10/2020', '03/04/2020', '29/11/2020', '02/05/2020', '10/05/2020', '26/05/2020', '22/03/2020', '21/08/2020', '18/07/2020', '23/03/2020', '15/08/2020', '30/03/2020', '10/09/2020', '16/10/2020', '28/11/2020', '28/05/2020', '05/03/2020', '14/04/2020', '07/10/2020', '04/08/2020', '03/04/2020', '09/11/2020', '19/09/2020', '01/06/2020', '25/04/2020', '11/04/2020', '12/05/2020', '24/11/2020', '17/12/2020', '22/09/2020', '07/01/2020', '03/09/2020', '29/06/2020', '25/09/2020', '21/06/2020', '26/11/2020', '17/09/2020', '23/08/2020', '15/07/2020', '04/09/2020', '26/11/2020', '15/11/2020', '29/01/2020', '29/05/2020', '21/03/2020', '09/02/2020', '30/06/2020', '20/02/2020', '25/10/2020', '23/09/2020', '20/12/2020', '11/07/2020', '23/08/2020', '27/02/2020', '08/01/2020', '28/04/2020', '03/08/2020', '27/11/2020', '18/01/2020', '28/01/2020', '19/04/2020', '27/07/2020', '01/05/2020', '11/10/2020', '01/03/2020', '16/03/2020', '02/07/2020', '24/12/2020', '20/10/2020', '06/02/2020', '07/12/2020', '31/10/2020', '16/07/2020', '20/04/2020', '09/02/2020', '15/10/2020', '27/09/2020', '11/10/2020', '08/12/2020', '10/11/2020', '14/09/2020', '22/06/2020', '01/07/2020', '28/09/2020', '14/05/2020', '21/12/2020', '21/11/2020', '24/10/2020', '30/04/2020', '21/03/2020', '27/10/2020', '30/06/2020', '23/03/2020', '26/04/2020', '26/09/2020', '07/08/2020', '13/07/2020', '27/08/2020', '24/10/2020', '20/02/2020', '31/07/2020', '17/08/2020', '29/10/2020', '22/01/2020', '27/03/2020', '15/11/2020', '26/12/2020', '25/01/2020', '19/01/2020', '15/01/2020', '13/08/2020', '28/12/2020', '22/09/2020', '14/04/2020', '26/06/2020', '24/09/2020', '29/08/2020', '22/07/2020', '03/08/2020', '03/11/2020', '26/08/2020', '14/03/2020', '19/03/2020', '31/01/2020', '24/06/2020', '15/11/2020', '29/01/2020', '14/12/2020', '28/10/2020', '01/11/2020', '14/06/2020', '28/07/2020', '20/01/2020', '11/08/2020', '30/12/2020', '07/04/2020', '03/07/2020', '11/05/2020', '03/12/2020', '12/08/2020', '07/10/2020', '05/12/2020', '24/01/2020', '09/11/2020', '30/03/2020', '08/07/2020', '26/07/2020', '29/04/2020', '15/02/2020', '14/02/2020', '09/12/2020', '25/03/2020', '22/02/2020', '17/03/2020', '25/04/2020', '29/03/2020', '19/03/2020', '08/06/2020', '05/12/2020', '17/10/2020', '04/08/2020', '11/07/2020', '15/04/2020', '03/04/2020', '14/07/2020', '30/10/2020', '19/02/2020', '12/08/2020', '07/03/2020', '10/09/2020', '08/07/2020', '09/06/2020', '06/10/2020', '04/08/2020', '28/03/2020', '17/11/2020', '22/03/2020', '26/02/2020', '08/11/2020', '17/03/2020', '23/11/2020', '18/05/2020', '17/07/2020', '25/03/2020', '13/11/2020', '16/04/2020', '29/01/2020', '07/01/2020', '27/01/2020', '31/01/2020', '08/07/2020', '18/12/2020', '23/05/2020', '02/02/2020', '06/09/2020', '05/08/2020', '20/08/2020', '26/10/2020', '23/03/2020', '18/05/2020', '02/02/2020', '25/03/2020', '12/03/2020', '23/11/2020', '02/03/2020', '04/05/2020', '30/12/2020', '24/12/2020', '27/07/2020', '27/08/2020', '21/03/2020', '23/01/2020', '16/01/2020', '07/10/2020', '23/10/2020', '06/05/2020', '18/06/2020', '03/09/2020', '13/02/2020', '09/05/2020', '17/01/2020', '13/11/2020', '20/06/2020', '16/05/2020', '30/04/2020', '22/05/2020', '27/12/2020', '01/03/2020', '28/03/2020', '23/01/2020', '08/10/2020', '05/07/2020', '22/07/2020', '21/09/2020', '13/02/2020', '04/07/2020', '23/02/2020', '17/07/2020', '11/03/2020', '05/05/2020', '25/09/2020', '06/12/2020', '23/10/2020', '06/07/2020', '30/05/2020', '02/03/2020', '17/03/2020', '08/12/2020', '15/05/2020', '21/04/2020', '03/04/2020', '30/01/2020', '04/03/2020', '06/05/2020', '20/11/2020', '09/03/2020', '24/10/2020', '03/11/2020', '15/05/2020', '13/11/2020', '22/04/2020', '27/07/2020', '29/09/2020', '04/06/2020', '06/06/2020', '24/01/2020', '29/01/2020', '08/11/2020', '23/08/2020', '22/01/2020', '13/03/2020', '27/01/2020', '16/04/2020', '30/10/2020', '02/03/2020', '03/05/2020', '12/03/2020', '26/03/2020', '24/02/2020', '14/12/2020', '23/09/2020', '07/05/2020', '25/11/2020', '03/07/2020', '07/07/2020', '29/03/2020', '13/05/2020', '11/05/2020', '10/05/2020', '02/08/2020', '01/02/2020', '29/04/2020', '01/11/2020', '15/11/2020', '15/10/2020', '25/03/2020', '06/08/2020', '24/08/2020', '20/03/2020', '15/11/2020', '14/01/2020', '14/07/2020', '13/02/2020', '03/11/2020', '08/06/2020', '23/11/2020', '24/01/2020', '23/07/2020', '01/03/2020', '23/12/2020', '25/02/2020', '10/11/2020', '30/06/2020', '29/01/2020', '20/03/2020', '16/09/2020', '12/10/2020', '03/08/2020', '29/12/2020', '26/01/2020', '21/06/2020', '22/09/2020', '03/03/2020', '30/01/2020', '21/12/2020', '10/01/2020', '11/01/2020', '24/03/2020', '15/07/2020', '01/04/2020', '21/08/2020', '18/06/2020', '31/03/2020', '18/03/2020', '07/09/2020', '14/10/2020', '03/09/2020', '01/05/2020', '01/01/2020', '23/08/2020', '20/03/2020', '05/04/2020', '10/07/2020', '23/06/2020', '26/08/2020', '21/04/2020', '15/02/2020', '12/05/2020', '15/01/2020', '14/09/2020', '24/03/2020', '27/04/2020', '06/03/2020', '20/09/2020', '02/09/2020', '14/09/2020', '16/06/2020', '18/03/2020', '19/03/2020', '14/09/2020', '24/10/2020', '27/09/2020', '14/06/2020', '13/11/2020', '21/06/2020', '16/01/2020', '18/01/2020', '10/05/2020', '17/11/2020', '30/09/2020', '25/03/2020', '02/11/2020', '20/04/2020', '10/04/2020', '25/09/2020', '04/06/2020', '31/12/2020', '20/08/2020', '10/06/2020', '10/04/2020', '01/08/2020', '08/09/2020', '19/12/2020', '06/05/2020', '07/08/2020', '20/08/2020', '13/08/2020', '01/03/2020', '26/06/2020', '15/02/2020', '25/04/2020', '27/06/2020', '28/02/2020', '13/10/2020', '09/02/2020']\n",
            "[256.35, 58.9, 3241.75, 2522.26, 185.17, 67.73, 685.95, 391.33, 105.48, 74.16, 400.26, 407.18, 1507.11, 425.25, 22.86, 24.39, 564.7, 3367.25, 1600.38, 378.87, 112.75, 535.83, 395.14, 59.69, 47.03, 593.11, 549.97, 79.73, 96.77, 65.86, 71.0, 229.77, 2913.45, 243.75, 952.33, 926.84, 92.99, 1809.14, 3135.25, 272.86, 1454.34, 74.15, 40.71, 3830.38, 1204.87, 950.49, 36.0, 3282.01, 686.09, 277.62, 86.66, 43.1, 72.85, 289.4, 65.04, 53.09, 862.54, 257.89, 269.55, 482.79, 67.89, 1121.4, 27.27, 116.95, 1704.65, 104.0, 1337.09, 291.53, 2674.02, 24.83, 651.21, 73.63, 80.12, 451.83, 197.5, 67.46, 62.5, 168.27, 28.89, 3523.43, 467.69, 302.7, 143.84, 1976.24, 2310.14, 87.3, 2813.37, 1296.59, 122.27, 568.47, 2249.33, 45.91, 70.73, 616.91, 472.29, 32.21, 2008.4, 903.13, 72.34, 1175.91, 56.58, 990.72, 27.7, 1236.9, 28.18, 56.74, 63.47, 2854.98, 10.45, 2505.44, 311.78, 59.31, 304.52, 2232.46, 60.42, 26.96, 101.9, 323.19, 2761.79, 527.47, 90.99, 347.75, 54.61, 368.58, 36.78, 80.68, 22.12, 1021.41, 351.35, 126.59, 377.0, 21.43, 369.18, 1327.15, 3079.44, 3377.55, 831.95, 887.25, 79.7, 58.54, 30.47, 314.91, 134.85, 417.83, 537.42, 614.37, 26.5, 2060.2, 98.17, 72.79, 786.15, 1236.67, 1925.48, 53.74, 99.69, 1149.19, 643.56, 2003.89, 87.25, 92.17, 43.38, 103.81, 149.63, 62.75, 1507.74, 40.8, 2408.03, 67.97, 2097.89, 288.87, 2821.51, 992.84, 333.37, 858.54, 3332.58, 92.21, 841.74, 267.89, 712.85, 1370.05, 116.73, 18.77, 135.89, 286.43, 64.91, 74.66, 68.58, 348.66, 1421.6, 61.05, 746.32, 1021.25, 923.39, 54.57, 1031.55, 50.11, 1201.03, 1773.53, 1612.81, 87.94, 839.8, 2004.12, 21.01, 1674.08, 21.55, 233.0, 1043.01, 25.32, 59.03, 59.43, 1833.57, 1004.7, 23.08, 204.58, 890.51, 2808.09, 1011.43, 17.91, 423.96, 176.0, 334.74, 34.67, 753.8, 52.16, 1110.7, 970.53, 101.74, 558.3, 46.47, 948.05, 325.44, 476.11, 247.47, 699.75, 33.97, 1496.64, 972.95, 495.71, 675.5, 203.72, 343.46, 358.75, 318.02, 55.2, 351.55, 964.84, 48.05, 203.11, 79.27, 51.31, 73.96, 654.6, 103.49, 984.03, 117.37, 2097.01, 1305.35, 878.23, 912.34, 1210.85, 39.34, 35.98, 78.08, 19.63, 890.74, 63.16, 53.42, 881.81, 529.79, 25.3, 62.1, 1779.04, 76.69, 54.14, 2444.31, 354.14, 458.77, 102.79, 694.69, 110.53, 10.72, 288.46, 69.62, 3742.56, 346.23, 48.2, 645.44, 1451.86, 33.53, 19.8, 116.0, 291.96, 2494.48, 107.31, 1690.25, 57.58, 74.74, 3367.28, 76.08, 2030.77, 139.07, 999.77, 68.87, 2405.84, 931.27, 41.65, 135.06, 27.59, 554.38, 169.65, 279.11, 365.72, 1246.92, 3582.01, 1682.61, 531.09, 44.54, 42.47, 78.23, 1442.94, 201.27, 11.88, 198.66, 258.15, 18.94, 344.93, 183.35, 3200.96, 3428.3, 10.58, 2851.36, 656.28, 95.01, 28.76, 203.74, 1368.02, 970.05, 62.12, 104.98, 834.31, 142.5, 1999.81, 2288.54, 1841.73, 354.24, 439.17, 15.22, 1476.11, 2779.47, 269.3, 1077.33, 196.56, 153.17, 934.08, 257.55, 23.62, 88.02, 452.99, 891.78, 56.03, 228.46, 88.81, 677.31, 3555.39, 111.65, 628.67, 38.86, 413.47, 3056.57, 690.26, 2843.23, 287.09, 1937.74, 604.95, 34.66, 238.73, 710.01, 70.29, 1572.45, 54.86, 1154.07, 77.19, 315.03, 91.21, 2540.79, 75.19, 138.57, 678.62, 1068.33, 353.06, 76.38, 2626.51, 617.48, 2237.94, 611.39, 835.73, 568.55, 42.02, 2094.54, 829.33, 1765.73, 238.59, 347.48, 136.71, 2999.21, 3515.39, 190.61, 2432.66, 24.85, 652.3, 2462.2, 1267.97, 660.46, 509.9, 58.73, 82.94, 14.43, 48.01, 357.51, 652.69, 64.28, 56.72, 657.9, 62.93, 350.46, 59.41, 177.78, 278.46, 327.7, 866.97, 61.0, 48.5, 59.19, 2556.1, 456.08, 1997.95, 173.76, 49.22, 3157.95, 1058.88, 63.51, 263.29, 1736.83, 66.77, 641.21, 40.73, 724.3, 23.72, 47.22, 3212.11, 354.92, 746.37, 339.99, 38.22, 456.91, 24.5, 687.16, 325.91, 123.94, 111.79, 1050.74, 34.59, 1708.94, 85.69, 87.34, 940.84, 930.32, 116.7, 3227.68, 78.97, 34.21, 125.87, 603.9, 2295.13, 860.34, 1027.0, 66.34, 1957.59, 442.12, 401.38, 28.07, 423.2, 627.94, 1466.34, 258.24, 418.91, 77.4, 36.42, 1679.47, 326.83, 3169.69, 45.89, 3310.93, 2829.24, 446.27, 28.42, 89.21, 51.18, 602.41, 239.97, 338.37, 48.06, 99.54, 62.87, 891.3, 1956.19, 1350.78, 121.5, 1574.62, 552.53, 788.88, 329.44, 84.45, 143.46, 59.44, 86.9, 1750.87, 271.12, 1428.65, 1049.89, 373.2, 1164.74, 119.86, 57.72, 3746.15, 288.45, 741.34, 50.27, 1846.51, 894.48, 643.88, 23.8, 27.54, 3954.82, 49.86, 306.89, 76.5, 936.62, 30.62, 298.7, 1541.05, 2925.98, 847.66, 1567.44, 429.14, 74.13, 521.32, 35.6, 296.91, 45.53, 16.76, 1089.68, 1978.2, 51.78, 915.36, 1803.81, 489.48, 70.97, 37.46, 241.37, 71.48, 62.05, 243.87, 45.89, 193.23, 1361.43, 190.43, 910.76, 375.61, 70.9, 110.31, 791.81, 93.15, 23.44, 84.44, 748.63, 1093.54, 990.24, 863.71, 445.77, 232.24, 33.39, 307.72, 2927.76, 68.34, 43.35, 76.69, 68.89, 1256.69, 36.9, 171.6, 73.49, 428.64, 343.45, 347.16, 72.24, 1669.63, 697.39, 448.5, 87.91, 969.21, 328.4, 23.29, 28.89, 819.22, 2065.17, 372.24, 353.35, 36.18, 105.99, 117.58, 112.3, 73.07, 588.25, 97.35, 146.24, 58.64, 1686.37, 930.94, 76.77, 1045.43, 2789.01, 200.58, 819.03, 68.26, 213.23, 93.78, 29.25, 282.35, 293.11, 2580.24, 991.64, 884.41, 3314.11, 90.42, 181.19, 22.41, 42.2, 41.11, 344.8, 3025.44, 115.92, 217.94, 972.79, 238.95, 2603.85, 3317.46, 1185.7, 194.37, 413.23, 59.52, 41.11, 276.47, 689.82, 83.74, 409.61, 1470.48, 1088.7, 57.81, 320.94, 78.2, 104.59, 200.49, 269.37, 51.06, 574.25, 66.38, 116.36, 71.86, 659.77, 75.43, 649.19, 605.27, 662.89, 165.94, 676.78, 43.28, 2729.32, 297.42, 899.01, 12.9, 201.68, 254.48, 77.17, 287.6, 71.6, 137.68, 902.15, 3081.76, 166.74, 1912.38, 351.37, 1808.99, 43.49, 597.95, 1742.04, 425.78, 37.76, 47.63, 377.02]\n",
            "482383.43\n"
          ]
        }
      ]
    },
    {
      "cell_type": "code",
      "source": [
        "#Loja 2 - Criar duas listas com Data da Compra e Preço para o ano de 2021\n",
        "\n",
        "data_2021 = []\n",
        "preco_2021 = []\n",
        "\n",
        "for data, preco in zip(loja2['Data da Compra'], loja1['Preço']):\n",
        "  if '2021' in data:\n",
        "    data_2021.append(data)\n",
        "    preco_2021.append(preco)\n",
        "\n",
        "faturamento = sum(preco_2021)\n",
        "\n",
        "print(data_2021)\n",
        "print(preco_2021)\n",
        "print(round(faturamento, 2))"
      ],
      "metadata": {
        "colab": {
          "base_uri": "https://localhost:8080/"
        },
        "id": "mr9iqCSfItNl",
        "outputId": "b317aaff-52f5-48ba-cc65-76e6ea181148"
      },
      "execution_count": 45,
      "outputs": [
        {
          "output_type": "stream",
          "name": "stdout",
          "text": [
            "['04/08/2021', '22/10/2021', '10/09/2021', '04/09/2021', '25/09/2021', '11/11/2021', '31/08/2021', '26/03/2021', '30/07/2021', '25/08/2021', '23/09/2021', '09/04/2021', '03/12/2021', '28/05/2021', '23/07/2021', '29/05/2021', '09/03/2021', '27/09/2021', '29/06/2021', '07/04/2021', '10/01/2021', '30/06/2021', '14/10/2021', '23/08/2021', '24/03/2021', '17/06/2021', '28/01/2021', '26/03/2021', '17/03/2021', '11/01/2021', '26/07/2021', '28/12/2021', '03/01/2021', '09/09/2021', '27/10/2021', '05/09/2021', '21/09/2021', '09/04/2021', '25/04/2021', '14/05/2021', '24/10/2021', '20/09/2021', '08/01/2021', '23/01/2021', '13/08/2021', '31/10/2021', '26/04/2021', '22/02/2021', '30/07/2021', '08/01/2021', '13/09/2021', '01/08/2021', '16/06/2021', '22/02/2021', '16/10/2021', '15/01/2021', '18/03/2021', '01/12/2021', '23/12/2021', '29/09/2021', '06/04/2021', '21/11/2021', '18/07/2021', '24/04/2021', '04/11/2021', '25/12/2021', '26/02/2021', '07/12/2021', '09/03/2021', '25/12/2021', '18/03/2021', '18/08/2021', '13/02/2021', '19/02/2021', '09/10/2021', '15/03/2021', '04/03/2021', '25/01/2021', '19/06/2021', '03/04/2021', '28/03/2021', '23/05/2021', '20/02/2021', '24/01/2021', '15/01/2021', '30/12/2021', '06/01/2021', '23/01/2021', '29/04/2021', '10/12/2021', '27/12/2021', '08/05/2021', '11/05/2021', '17/04/2021', '06/09/2021', '08/04/2021', '01/04/2021', '22/04/2021', '02/05/2021', '01/02/2021', '19/07/2021', '25/12/2021', '17/06/2021', '23/06/2021', '18/04/2021', '29/11/2021', '13/05/2021', '14/02/2021', '29/05/2021', '07/05/2021', '21/01/2021', '14/09/2021', '27/06/2021', '18/05/2021', '30/08/2021', '02/03/2021', '15/12/2021', '27/03/2021', '07/05/2021', '24/05/2021', '15/03/2021', '10/12/2021', '29/12/2021', '08/08/2021', '21/12/2021', '02/01/2021', '05/02/2021', '25/05/2021', '15/05/2021', '17/05/2021', '14/07/2021', '17/11/2021', '29/03/2021', '26/01/2021', '13/05/2021', '15/08/2021', '13/12/2021', '31/05/2021', '16/02/2021', '29/01/2021', '01/07/2021', '19/07/2021', '15/09/2021', '30/09/2021', '10/02/2021', '16/06/2021', '30/08/2021', '09/04/2021', '10/07/2021', '13/03/2021', '01/03/2021', '13/11/2021', '21/09/2021', '13/07/2021', '01/07/2021', '20/12/2021', '29/03/2021', '30/12/2021', '17/03/2021', '19/04/2021', '17/04/2021', '11/09/2021', '18/04/2021', '24/02/2021', '02/07/2021', '12/08/2021', '22/09/2021', '25/02/2021', '04/06/2021', '14/06/2021', '28/09/2021', '16/02/2021', '05/12/2021', '20/08/2021', '21/03/2021', '21/09/2021', '24/07/2021', '20/12/2021', '02/04/2021', '01/04/2021', '02/09/2021', '25/05/2021', '16/05/2021', '03/05/2021', '31/03/2021', '07/01/2021', '02/08/2021', '01/12/2021', '28/03/2021', '09/02/2021', '28/01/2021', '27/02/2021', '04/07/2021', '25/02/2021', '29/06/2021', '03/01/2021', '31/07/2021', '10/10/2021', '10/08/2021', '18/04/2021', '10/11/2021', '02/06/2021', '01/07/2021', '28/04/2021', '11/10/2021', '11/11/2021', '23/10/2021', '09/08/2021', '20/09/2021', '22/01/2021', '20/12/2021', '24/01/2021', '09/07/2021', '02/04/2021', '24/12/2021', '25/07/2021', '31/12/2021', '21/05/2021', '26/07/2021', '28/06/2021', '06/12/2021', '15/11/2021', '17/02/2021', '19/07/2021', '21/05/2021', '19/03/2021', '25/11/2021', '26/11/2021', '16/04/2021', '28/03/2021', '23/08/2021', '14/12/2021', '06/01/2021', '02/10/2021', '14/03/2021', '11/09/2021', '08/06/2021', '05/07/2021', '05/07/2021', '16/08/2021', '06/01/2021', '14/10/2021', '15/03/2021', '28/12/2021', '04/08/2021', '17/10/2021', '10/12/2021', '04/09/2021', '28/01/2021', '23/05/2021', '17/01/2021', '17/04/2021', '17/06/2021', '17/01/2021', '02/06/2021', '28/07/2021', '11/05/2021', '08/07/2021', '09/07/2021', '02/04/2021', '29/07/2021', '28/11/2021', '02/04/2021', '02/02/2021', '06/11/2021', '14/03/2021', '07/09/2021', '11/04/2021', '23/11/2021', '11/12/2021', '10/11/2021', '02/01/2021', '14/01/2021', '29/07/2021', '08/05/2021', '01/07/2021', '06/03/2021', '15/04/2021', '15/10/2021', '30/06/2021', '20/01/2021', '13/07/2021', '30/09/2021', '01/10/2021', '30/01/2021', '21/07/2021', '25/08/2021', '25/04/2021', '28/08/2021', '27/08/2021', '17/03/2021', '05/12/2021', '01/12/2021', '26/02/2021', '01/10/2021', '21/12/2021', '02/12/2021', '12/02/2021', '30/08/2021', '04/06/2021', '20/10/2021', '23/04/2021', '02/10/2021', '28/10/2021', '17/06/2021', '01/05/2021', '22/07/2021', '05/08/2021', '17/09/2021', '22/03/2021', '28/02/2021', '06/07/2021', '12/05/2021', '02/11/2021', '19/11/2021', '19/03/2021', '26/04/2021', '03/06/2021', '09/07/2021', '05/10/2021', '25/07/2021', '05/01/2021', '13/11/2021', '28/09/2021', '10/12/2021', '25/08/2021', '15/11/2021', '11/12/2021', '01/09/2021', '21/04/2021', '12/10/2021', '03/07/2021', '27/02/2021', '09/02/2021', '07/12/2021', '05/09/2021', '16/12/2021', '16/01/2021', '27/01/2021', '15/05/2021', '19/06/2021', '29/01/2021', '22/05/2021', '15/07/2021', '28/10/2021', '22/06/2021', '12/05/2021', '11/11/2021', '27/08/2021', '21/12/2021', '07/01/2021', '10/02/2021', '16/10/2021', '22/11/2021', '03/08/2021', '17/11/2021', '17/01/2021', '11/03/2021', '27/08/2021', '24/05/2021', '25/01/2021', '03/01/2021', '15/03/2021', '20/10/2021', '13/06/2021', '25/04/2021', '11/08/2021', '11/09/2021', '18/11/2021', '16/04/2021', '18/02/2021', '15/04/2021', '15/08/2021', '05/03/2021', '10/05/2021', '18/04/2021', '20/12/2021', '05/12/2021', '22/04/2021', '11/05/2021', '24/01/2021', '18/03/2021', '15/06/2021', '24/05/2021', '06/04/2021', '22/02/2021', '01/09/2021', '22/09/2021', '22/12/2021', '31/10/2021', '06/09/2021', '28/01/2021', '19/09/2021', '29/10/2021', '20/08/2021', '05/01/2021', '02/10/2021', '08/03/2021', '27/01/2021', '07/03/2021', '15/07/2021', '07/12/2021', '16/09/2021', '13/08/2021', '09/01/2021', '16/06/2021', '29/04/2021', '05/09/2021', '16/10/2021', '15/02/2021', '21/10/2021', '20/11/2021', '15/11/2021', '15/05/2021', '11/08/2021', '28/02/2021', '23/02/2021', '20/04/2021', '22/10/2021', '12/08/2021', '23/11/2021', '24/08/2021', '07/01/2021', '18/04/2021', '15/01/2021', '25/12/2021', '16/02/2021', '20/01/2021', '13/11/2021', '21/10/2021', '08/04/2021', '12/09/2021', '19/06/2021', '15/12/2021', '20/04/2021', '31/05/2021', '18/01/2021', '24/09/2021', '29/07/2021', '04/02/2021', '28/04/2021', '13/04/2021', '21/03/2021', '11/08/2021', '23/01/2021', '23/09/2021', '09/11/2021', '05/08/2021', '19/04/2021', '15/10/2021', '09/09/2021', '17/09/2021', '06/03/2021', '19/05/2021', '12/12/2021', '22/04/2021', '11/12/2021', '01/08/2021', '09/12/2021', '20/03/2021', '12/11/2021', '09/03/2021', '25/12/2021', '26/11/2021', '17/09/2021', '06/01/2021', '30/11/2021', '17/07/2021', '05/05/2021', '06/02/2021', '20/12/2021', '30/05/2021', '18/11/2021', '21/01/2021', '26/01/2021', '05/03/2021', '12/12/2021', '05/11/2021', '13/04/2021', '24/02/2021', '17/01/2021', '10/11/2021', '17/10/2021', '14/02/2021', '27/06/2021', '13/02/2021', '27/11/2021', '06/12/2021', '19/06/2021', '08/02/2021', '23/02/2021', '07/08/2021', '02/11/2021', '24/02/2021', '30/10/2021', '05/12/2021', '27/11/2021', '27/10/2021', '24/03/2021', '28/11/2021', '18/11/2021', '08/04/2021', '07/06/2021', '02/12/2021', '05/08/2021', '23/06/2021', '16/02/2021', '21/05/2021', '30/12/2021', '29/03/2021', '23/05/2021', '29/12/2021', '25/01/2021', '25/06/2021', '03/12/2021', '12/10/2021', '10/12/2021', '11/07/2021', '12/07/2021', '02/06/2021', '28/10/2021', '18/03/2021', '07/07/2021', '19/11/2021', '08/07/2021', '23/12/2021', '27/08/2021', '20/07/2021', '06/01/2021', '15/01/2021', '28/06/2021', '02/02/2021', '13/01/2021', '19/03/2021', '02/11/2021', '11/09/2021', '25/08/2021', '16/04/2021', '11/12/2021', '27/07/2021', '20/03/2021', '02/07/2021', '07/08/2021', '05/04/2021', '05/06/2021', '18/10/2021', '12/02/2021', '11/09/2021', '10/10/2021', '12/09/2021', '04/07/2021', '21/07/2021', '04/09/2021', '06/11/2021', '30/06/2021', '28/06/2021', '05/04/2021', '27/12/2021', '02/05/2021', '22/04/2021', '16/10/2021', '16/06/2021', '25/05/2021', '22/05/2021', '18/06/2021', '22/08/2021', '01/06/2021', '14/09/2021', '13/11/2021', '13/10/2021', '12/11/2021', '25/10/2021', '05/11/2021', '27/07/2021', '29/08/2021', '01/09/2021', '22/03/2021', '11/11/2021', '05/08/2021', '17/12/2021', '02/05/2021', '30/12/2021', '19/11/2021', '23/07/2021', '10/11/2021', '18/12/2021', '14/04/2021', '02/10/2021', '05/10/2021', '06/07/2021', '06/01/2021', '01/06/2021', '10/04/2021', '04/09/2021', '22/05/2021', '10/05/2021', '03/01/2021', '02/06/2021', '27/06/2021', '30/09/2021', '18/11/2021', '01/02/2021', '12/11/2021', '15/11/2021', '13/09/2021', '10/12/2021', '28/07/2021', '24/04/2021', '02/05/2021', '31/01/2021', '27/04/2021', '29/07/2021', '27/12/2021', '30/03/2021', '14/03/2021', '06/01/2021', '15/12/2021', '13/07/2021', '21/04/2021', '11/06/2021', '23/09/2021', '27/02/2021', '23/10/2021', '19/01/2021', '27/09/2021', '17/01/2021', '20/11/2021', '19/08/2021', '21/01/2021', '15/01/2021', '26/12/2021', '18/09/2021', '20/10/2021', '01/12/2021', '17/02/2021', '03/11/2021', '02/05/2021', '08/06/2021', '21/08/2021', '20/09/2021', '27/05/2021', '10/09/2021', '30/09/2021', '27/05/2021', '13/05/2021', '18/05/2021', '13/10/2021', '20/12/2021', '19/11/2021', '25/08/2021', '12/08/2021', '17/05/2021', '16/08/2021', '15/11/2021', '21/07/2021', '17/07/2021', '12/07/2021', '15/07/2021', '06/07/2021', '07/07/2021', '12/06/2021', '29/05/2021', '21/08/2021', '04/02/2021', '07/03/2021', '26/04/2021', '03/07/2021', '26/12/2021', '15/06/2021', '03/12/2021', '27/06/2021', '11/08/2021', '31/05/2021', '25/09/2021', '22/05/2021', '02/01/2021', '30/08/2021', '12/11/2021', '06/04/2021', '27/06/2021', '09/08/2021', '23/11/2021', '19/04/2021', '11/12/2021', '15/10/2021', '26/12/2021', '07/07/2021', '12/10/2021', '08/11/2021', '07/06/2021', '20/05/2021', '26/09/2021', '06/09/2021', '22/10/2021', '01/05/2021', '02/08/2021', '14/09/2021', '28/03/2021', '20/06/2021', '16/10/2021', '15/10/2021', '16/10/2021', '04/07/2021', '19/02/2021', '07/10/2021', '25/01/2021', '01/01/2021', '23/09/2021', '20/12/2021', '28/06/2021', '26/12/2021', '31/01/2021', '18/03/2021', '12/05/2021', '29/11/2021', '23/01/2021', '18/04/2021', '10/03/2021', '29/12/2021', '17/06/2021', '10/03/2021', '29/07/2021', '03/08/2021', '19/09/2021', '10/05/2021', '24/12/2021', '08/02/2021', '12/06/2021', '06/06/2021', '26/09/2021', '23/09/2021', '29/01/2021', '05/09/2021', '06/07/2021', '22/09/2021', '12/02/2021', '10/11/2021', '03/03/2021', '29/03/2021', '23/06/2021', '28/02/2021', '11/03/2021', '30/10/2021', '27/03/2021', '28/12/2021', '27/10/2021', '29/04/2021', '01/08/2021', '03/09/2021', '13/04/2021', '18/12/2021', '19/03/2021', '09/12/2021', '01/08/2021', '11/03/2021', '22/10/2021', '07/09/2021', '25/11/2021', '07/10/2021']\n",
            "[219.08, 279.51, 32.26, 100.26, 1889.5, 817.71, 78.53, 63.85, 185.73, 778.57, 24.58, 752.25, 205.26, 32.94, 40.62, 436.23, 320.35, 905.39, 986.28, 840.05, 396.02, 17.11, 420.24, 907.92, 1594.71, 653.87, 191.4, 2896.52, 174.39, 55.96, 963.53, 372.39, 633.45, 30.41, 73.75, 296.72, 83.2, 677.41, 45.29, 30.16, 40.4, 24.78, 18.17, 76.12, 877.54, 11.47, 144.15, 210.29, 2394.68, 94.58, 54.41, 2094.53, 2509.24, 217.87, 58.62, 142.64, 384.97, 53.58, 1215.5, 43.14, 2505.72, 15.58, 884.13, 47.04, 213.7, 431.26, 88.93, 324.23, 1008.65, 482.76, 670.91, 401.83, 427.06, 116.21, 23.75, 1362.06, 3386.44, 91.39, 50.43, 541.84, 77.91, 77.47, 415.06, 65.81, 611.01, 49.38, 90.71, 1208.97, 161.39, 62.46, 37.85, 837.19, 1149.97, 128.28, 169.17, 363.8, 569.96, 136.2, 89.99, 1195.35, 542.45, 98.53, 668.91, 1089.38, 2856.32, 53.79, 44.69, 26.7, 272.16, 51.78, 253.07, 253.17, 1291.64, 107.02, 57.63, 10.07, 944.77, 147.24, 42.21, 110.59, 57.25, 37.13, 1242.14, 286.8, 53.82, 373.88, 149.59, 103.08, 274.28, 258.77, 1181.49, 1275.79, 32.45, 56.82, 37.65, 262.73, 86.55, 51.49, 82.27, 1127.15, 97.08, 94.0, 44.39, 32.4, 247.65, 987.27, 694.5, 1541.5, 74.67, 136.77, 39.23, 904.78, 227.71, 50.65, 1997.95, 234.86, 1711.32, 107.88, 210.8, 57.21, 74.25, 35.74, 67.12, 872.27, 357.61, 1800.71, 912.15, 3245.3, 251.37, 297.81, 57.63, 39.69, 66.21, 633.26, 682.94, 30.75, 926.29, 267.67, 79.22, 61.75, 1522.65, 21.52, 1390.26, 395.06, 39.62, 15.51, 43.22, 1057.97, 34.27, 645.48, 116.76, 826.62, 906.63, 1211.48, 368.31, 32.08, 106.27, 293.28, 73.59, 98.15, 1224.97, 37.7, 392.14, 55.06, 944.36, 695.31, 182.69, 275.2, 97.66, 113.57, 773.21, 836.66, 814.04, 333.52, 59.9, 305.56, 411.7, 2715.32, 67.63, 52.56, 1350.8, 209.99, 105.99, 257.68, 1010.03, 546.01, 949.94, 214.73, 165.78, 207.51, 62.52, 78.22, 677.22, 1483.03, 404.53, 2856.68, 892.28, 37.96, 1303.92, 114.56, 85.52, 1271.79, 552.04, 828.2, 803.21, 88.75, 105.98, 945.04, 380.94, 1782.8, 370.74, 57.15, 42.97, 22.83, 22.12, 641.71, 54.68, 334.69, 71.59, 3408.33, 667.97, 1134.12, 467.06, 24.45, 1087.35, 379.31, 860.58, 1128.04, 250.47, 1333.28, 21.28, 151.91, 98.2, 35.72, 2100.95, 364.34, 56.48, 660.47, 18.1, 1600.92, 418.05, 1839.55, 24.54, 219.16, 148.59, 345.59, 20.65, 1076.01, 72.27, 66.3, 926.01, 1350.09, 163.89, 43.42, 107.44, 367.46, 1163.84, 92.37, 1778.97, 20.33, 373.29, 83.99, 3336.49, 489.12, 430.42, 517.29, 312.45, 333.7, 1918.51, 39.89, 428.95, 69.25, 65.5, 21.78, 260.68, 108.76, 361.03, 64.05, 981.47, 400.05, 378.35, 212.36, 538.65, 328.05, 123.69, 1309.88, 48.32, 319.37, 95.25, 3966.67, 1575.57, 627.83, 221.42, 281.35, 1249.74, 482.49, 111.94, 2249.86, 436.4, 346.19, 35.02, 840.38, 1664.71, 955.2, 69.52, 2891.16, 212.91, 50.06, 102.01, 1340.42, 325.05, 310.78, 35.05, 297.82, 95.7, 3048.86, 721.54, 365.46, 588.39, 134.02, 45.68, 113.58, 365.07, 95.75, 2065.14, 780.19, 660.87, 1737.14, 443.68, 68.1, 86.59, 124.92, 980.13, 549.13, 63.13, 1295.57, 167.1, 1225.92, 684.74, 929.2, 636.61, 14.01, 337.49, 3712.69, 110.02, 72.62, 1715.78, 48.05, 57.64, 401.04, 36.79, 466.68, 41.27, 75.13, 403.02, 425.47, 25.81, 52.02, 343.69, 216.97, 1525.01, 2544.32, 120.8, 28.28, 86.45, 1294.97, 523.91, 2727.13, 2342.38, 105.71, 1619.45, 1483.67, 76.93, 2920.79, 1153.06, 93.95, 138.38, 925.16, 1485.87, 1339.88, 456.99, 255.08, 74.44, 73.05, 396.97, 76.33, 1424.63, 1657.76, 143.04, 1294.99, 297.7, 1904.12, 929.17, 370.74, 19.96, 336.62, 385.74, 311.24, 55.17, 66.03, 72.36, 324.62, 638.18, 77.1, 2012.13, 1123.14, 76.05, 109.31, 1002.2, 283.36, 277.82, 175.95, 277.78, 465.81, 94.22, 128.85, 627.78, 316.82, 693.3, 385.29, 36.63, 61.5, 59.53, 25.71, 1123.16, 180.46, 901.92, 52.81, 723.8, 56.8, 1845.47, 85.82, 127.42, 35.91, 209.26, 3449.89, 34.59, 1793.54, 1787.09, 82.21, 392.89, 1920.01, 271.28, 1735.93, 72.91, 36.84, 690.42, 81.41, 79.03, 176.08, 158.78, 27.07, 968.79, 391.32, 766.7, 86.94, 1092.57, 563.04, 69.35, 59.3, 41.87, 2239.38, 610.44, 287.36, 356.61, 1068.96, 162.24, 616.03, 1886.81, 106.36, 49.19, 86.33, 34.56, 437.67, 19.31, 1951.94, 111.41, 300.65, 2068.18, 34.68, 666.9, 12.51, 2320.42, 2037.66, 3085.99, 985.09, 478.32, 698.34, 50.25, 1951.95, 2217.84, 51.66, 78.17, 278.2, 81.58, 63.72, 51.77, 1967.01, 371.12, 1929.54, 194.27, 126.83, 1981.92, 160.54, 49.42, 64.73, 59.44, 74.95, 49.48, 108.37, 626.49, 1218.13, 73.73, 23.67, 906.67, 552.75, 53.79, 950.3, 1327.18, 60.27, 45.04, 24.35, 985.32, 1922.67, 620.5, 19.82, 154.18, 285.85, 915.31, 1570.84, 340.75, 386.87, 395.17, 812.91, 897.94, 502.22, 213.47, 63.39, 897.97, 113.83, 2589.57, 364.14, 474.86, 2236.47, 173.37, 873.13, 2130.47, 2147.46, 99.55, 143.9, 291.94, 1414.54, 195.04, 91.53, 380.87, 927.3, 799.12, 295.58, 65.52, 670.63, 447.64, 19.93, 118.31, 30.33, 355.22, 517.69, 163.93, 3270.51, 975.15, 80.22, 399.02, 1061.09, 44.06, 379.37, 63.01, 126.44, 1583.53, 707.62, 627.98, 285.81, 27.01, 66.06, 41.19, 1278.75, 36.25, 635.58, 3448.51, 929.32, 535.78, 636.62, 73.46, 68.72, 352.74, 304.53, 837.41, 350.15, 2383.97, 59.69, 697.82, 114.17, 26.45, 997.98, 35.37, 2977.24, 16.55, 53.82, 29.17, 581.56, 1248.22, 61.73, 119.85, 368.1, 2139.37, 52.32, 2125.74, 74.5, 73.85, 923.97, 2167.03, 231.67, 1908.18, 288.43, 222.18, 1054.22, 1268.08, 977.55, 837.81, 129.33, 341.92, 245.97, 55.67, 996.55, 313.35, 3118.73, 94.5, 31.79, 204.57, 326.2, 664.51, 2916.58, 79.21, 50.64, 534.02, 32.58, 645.96, 32.43, 927.62, 219.3, 783.56, 83.1, 500.85, 2493.77, 311.37, 921.2, 89.13, 183.21, 1780.83, 21.43, 3359.54, 112.49, 100.98, 639.99, 430.28, 154.85, 2355.32, 1282.42, 784.89, 275.98, 59.68, 164.0, 2389.18, 573.75, 67.4, 2516.02, 60.69, 2013.04, 484.59, 1146.69, 49.12, 65.42, 70.94, 435.23, 39.43, 87.11, 233.98, 155.99, 866.78, 249.28, 1873.81, 20.4, 196.12, 72.01, 119.08, 450.15, 39.95, 46.16, 754.45, 893.96, 147.81, 1492.31, 405.52, 59.26, 271.52, 1618.46, 93.05, 75.8, 338.27, 339.25, 386.6, 1270.87, 245.52, 91.62, 1175.85, 373.3, 50.68, 637.67, 65.5, 91.81, 677.19]\n",
            "447590.44\n"
          ]
        }
      ]
    },
    {
      "cell_type": "code",
      "source": [
        "#Loja 2 - Criar duas listas com Data da Compra e Preço para o ano de 2022\n",
        "\n",
        "data_2022 = []\n",
        "preco_2022 = []\n",
        "\n",
        "for data, preco in zip(loja2['Data da Compra'], loja1['Preço']):\n",
        "  if '2022' in data:\n",
        "    data_2022.append(data)\n",
        "    preco_2022.append(preco)\n",
        "\n",
        "faturamento = sum(preco_2022)\n",
        "\n",
        "print(data_2022)\n",
        "print(preco_2022)\n",
        "print(round(faturamento, 2))"
      ],
      "metadata": {
        "colab": {
          "base_uri": "https://localhost:8080/"
        },
        "id": "LUF2TyvkHkoe",
        "outputId": "8948ad57-c30a-4c08-e39d-0491d226ad58"
      },
      "execution_count": 46,
      "outputs": [
        {
          "output_type": "stream",
          "name": "stdout",
          "text": [
            "['04/05/2022', '26/02/2022', '12/04/2022', '11/04/2022', '13/09/2022', '10/12/2022', '18/11/2022', '24/09/2022', '14/10/2022', '20/09/2022', '03/06/2022', '22/03/2022', '18/02/2022', '30/08/2022', '01/10/2022', '13/09/2022', '03/04/2022', '19/01/2022', '14/06/2022', '31/03/2022', '30/01/2022', '28/04/2022', '01/12/2022', '22/05/2022', '29/01/2022', '01/03/2022', '23/12/2022', '04/07/2022', '22/09/2022', '05/11/2022', '05/11/2022', '08/06/2022', '14/03/2022', '01/10/2022', '14/10/2022', '20/12/2022', '30/03/2022', '14/04/2022', '16/07/2022', '21/05/2022', '03/04/2022', '16/04/2022', '19/11/2022', '21/01/2022', '01/01/2022', '06/04/2022', '02/02/2022', '23/03/2022', '01/08/2022', '31/07/2022', '12/08/2022', '17/09/2022', '12/07/2022', '20/05/2022', '06/03/2022', '15/09/2022', '20/01/2022', '02/07/2022', '11/04/2022', '04/10/2022', '13/04/2022', '19/06/2022', '14/12/2022', '09/02/2022', '04/10/2022', '26/10/2022', '02/12/2022', '02/09/2022', '24/04/2022', '09/03/2022', '20/11/2022', '16/10/2022', '13/12/2022', '03/01/2022', '26/12/2022', '22/03/2022', '12/08/2022', '03/05/2022', '04/10/2022', '18/05/2022', '25/09/2022', '29/03/2022', '21/11/2022', '31/07/2022', '30/01/2022', '15/11/2022', '06/03/2022', '28/09/2022', '03/12/2022', '31/12/2022', '11/11/2022', '07/12/2022', '08/01/2022', '22/12/2022', '17/02/2022', '07/02/2022', '21/12/2022', '23/08/2022', '28/12/2022', '06/04/2022', '09/01/2022', '17/10/2022', '04/09/2022', '29/01/2022', '24/02/2022', '26/01/2022', '10/04/2022', '23/04/2022', '26/02/2022', '03/07/2022', '25/10/2022', '16/08/2022', '06/05/2022', '22/09/2022', '18/06/2022', '05/11/2022', '30/05/2022', '05/10/2022', '10/04/2022', '26/03/2022', '25/09/2022', '11/06/2022', '25/09/2022', '14/06/2022', '20/09/2022', '28/10/2022', '19/07/2022', '15/01/2022', '14/09/2022', '27/07/2022', '31/12/2022', '09/04/2022', '03/09/2022', '27/04/2022', '10/10/2022', '29/11/2022', '24/09/2022', '10/05/2022', '30/06/2022', '14/06/2022', '03/08/2022', '08/10/2022', '08/05/2022', '11/09/2022', '15/01/2022', '20/05/2022', '16/01/2022', '24/01/2022', '31/10/2022', '19/02/2022', '31/03/2022', '09/05/2022', '29/01/2022', '25/11/2022', '08/02/2022', '07/06/2022', '05/12/2022', '14/02/2022', '15/03/2022', '15/12/2022', '05/02/2022', '25/12/2022', '24/11/2022', '02/09/2022', '08/01/2022', '24/03/2022', '27/03/2022', '02/04/2022', '06/07/2022', '14/05/2022', '19/10/2022', '14/04/2022', '20/11/2022', '25/10/2022', '01/07/2022', '30/07/2022', '08/05/2022', '07/10/2022', '30/12/2022', '01/12/2022', '29/10/2022', '06/09/2022', '17/01/2022', '01/11/2022', '15/09/2022', '23/02/2022', '02/05/2022', '04/04/2022', '04/08/2022', '21/10/2022', '18/11/2022', '03/07/2022', '06/03/2022', '05/07/2022', '04/10/2022', '18/09/2022', '21/01/2022', '23/08/2022', '26/04/2022', '11/11/2022', '14/12/2022', '09/07/2022', '10/03/2022', '06/09/2022', '31/05/2022', '18/03/2022', '10/09/2022', '10/04/2022', '26/01/2022', '04/05/2022', '17/08/2022', '02/06/2022', '06/02/2022', '16/04/2022', '12/03/2022', '13/05/2022', '12/05/2022', '04/09/2022', '18/10/2022', '23/06/2022', '02/09/2022', '26/05/2022', '05/11/2022', '14/01/2022', '19/02/2022', '13/08/2022', '11/01/2022', '21/07/2022', '23/05/2022', '10/08/2022', '01/12/2022', '28/12/2022', '18/12/2022', '11/04/2022', '02/08/2022', '01/08/2022', '18/04/2022', '25/08/2022', '15/03/2022', '13/10/2022', '05/06/2022', '10/05/2022', '15/11/2022', '15/06/2022', '24/01/2022', '18/10/2022', '16/05/2022', '23/07/2022', '24/01/2022', '05/09/2022', '29/09/2022', '24/07/2022', '17/03/2022', '08/01/2022', '25/02/2022', '04/12/2022', '02/07/2022', '24/04/2022', '08/12/2022', '25/03/2022', '09/12/2022', '30/10/2022', '22/04/2022', '28/07/2022', '26/04/2022', '24/10/2022', '07/09/2022', '07/06/2022', '21/01/2022', '15/11/2022', '30/01/2022', '11/06/2022', '16/09/2022', '10/11/2022', '15/01/2022', '30/05/2022', '10/11/2022', '26/01/2022', '02/05/2022', '06/10/2022', '07/03/2022', '25/07/2022', '10/02/2022', '01/12/2022', '14/02/2022', '16/10/2022', '15/08/2022', '04/11/2022', '06/12/2022', '22/07/2022', '14/08/2022', '29/08/2022', '10/10/2022', '14/03/2022', '31/07/2022', '30/10/2022', '15/05/2022', '16/03/2022', '01/03/2022', '17/04/2022', '05/11/2022', '05/07/2022', '18/03/2022', '30/10/2022', '31/12/2022', '28/04/2022', '05/02/2022', '22/09/2022', '15/05/2022', '18/04/2022', '09/01/2022', '25/01/2022', '08/12/2022', '28/06/2022', '15/09/2022', '02/11/2022', '31/03/2022', '03/02/2022', '19/07/2022', '23/08/2022', '11/09/2022', '25/05/2022', '23/10/2022', '25/10/2022', '18/04/2022', '07/05/2022', '27/02/2022', '16/10/2022', '12/02/2022', '24/11/2022', '06/06/2022', '05/10/2022', '10/07/2022', '06/04/2022', '05/02/2022', '19/08/2022', '30/09/2022', '29/03/2022', '04/07/2022', '01/04/2022', '25/05/2022', '18/06/2022', '17/12/2022', '07/01/2022', '31/03/2022', '25/12/2022', '25/05/2022', '10/04/2022', '19/04/2022', '22/02/2022', '16/07/2022', '01/04/2022', '26/04/2022', '15/12/2022', '11/12/2022', '28/02/2022', '14/12/2022', '15/01/2022', '09/06/2022', '15/08/2022', '25/06/2022', '01/02/2022', '28/07/2022', '12/03/2022', '21/03/2022', '02/08/2022', '08/09/2022', '28/09/2022', '14/08/2022', '15/09/2022', '30/01/2022', '06/05/2022', '08/07/2022', '09/07/2022', '22/08/2022', '01/05/2022', '12/11/2022', '06/08/2022', '06/01/2022', '13/10/2022', '27/09/2022', '22/09/2022', '13/08/2022', '17/01/2022', '01/03/2022', '28/10/2022', '02/12/2022', '17/12/2022', '15/09/2022', '08/03/2022', '26/10/2022', '11/05/2022', '22/02/2022', '16/06/2022', '24/12/2022', '29/03/2022', '20/07/2022', '24/05/2022', '19/06/2022', '13/09/2022', '10/08/2022', '26/08/2022', '17/01/2022', '02/02/2022', '01/11/2022', '31/10/2022', '01/10/2022', '05/08/2022', '21/12/2022', '09/02/2022', '29/05/2022', '24/04/2022', '04/06/2022', '25/07/2022', '28/07/2022', '11/11/2022', '13/01/2022', '18/05/2022', '16/04/2022', '07/02/2022', '12/08/2022', '02/06/2022', '11/11/2022', '06/03/2022', '11/09/2022', '24/07/2022', '25/05/2022', '08/06/2022', '13/08/2022', '20/08/2022', '21/09/2022', '22/09/2022', '17/09/2022', '24/10/2022', '15/05/2022', '13/05/2022', '02/05/2022', '30/11/2022', '01/06/2022', '22/12/2022', '10/04/2022', '19/06/2022', '28/05/2022', '30/08/2022', '11/08/2022', '24/08/2022', '20/12/2022', '31/10/2022', '21/05/2022', '26/07/2022', '27/07/2022', '19/07/2022', '01/10/2022', '13/03/2022', '14/08/2022', '20/06/2022', '06/12/2022', '21/11/2022', '05/02/2022', '21/03/2022', '02/02/2022', '23/07/2022', '23/09/2022', '18/09/2022', '11/11/2022', '11/11/2022', '29/10/2022', '11/03/2022', '18/10/2022', '25/08/2022', '18/10/2022', '05/10/2022', '09/04/2022', '25/05/2022', '23/09/2022', '01/02/2022', '21/08/2022', '22/03/2022', '19/05/2022', '15/12/2022', '16/05/2022', '04/01/2022', '02/04/2022', '04/06/2022', '15/11/2022', '26/09/2022', '30/07/2022', '13/07/2022', '04/02/2022', '21/04/2022', '06/03/2022', '18/01/2022', '09/12/2022', '08/06/2022', '25/08/2022', '29/07/2022', '21/01/2022', '22/05/2022', '05/09/2022', '08/07/2022', '17/03/2022', '23/11/2022', '07/01/2022', '30/10/2022', '05/10/2022', '07/02/2022', '09/04/2022', '03/09/2022', '18/08/2022', '31/07/2022', '09/09/2022', '25/01/2022', '13/12/2022', '03/03/2022', '14/04/2022', '15/03/2022', '10/11/2022', '21/04/2022', '19/11/2022', '08/08/2022', '22/01/2022', '27/08/2022', '06/12/2022', '27/07/2022', '26/08/2022', '14/09/2022', '16/07/2022', '06/10/2022', '15/01/2022', '19/04/2022', '26/07/2022', '07/02/2022', '19/05/2022', '18/08/2022', '20/11/2022', '06/03/2022', '15/11/2022', '25/05/2022', '26/01/2022', '18/05/2022', '30/03/2022', '10/10/2022', '09/03/2022', '26/05/2022', '08/12/2022', '21/05/2022', '09/06/2022', '28/11/2022', '22/11/2022', '13/10/2022', '03/01/2022', '08/10/2022', '30/04/2022', '22/12/2022', '20/07/2022', '23/05/2022', '29/05/2022', '04/11/2022', '09/03/2022', '10/11/2022', '11/08/2022', '19/07/2022', '27/01/2022', '23/03/2022', '23/01/2022', '05/07/2022', '08/11/2022', '05/08/2022', '24/10/2022', '28/05/2022', '09/09/2022', '11/02/2022', '07/09/2022', '12/09/2022', '15/04/2022', '27/12/2022', '01/06/2022', '10/08/2022', '10/10/2022', '12/04/2022', '28/11/2022', '20/06/2022', '07/10/2022', '01/12/2022', '26/11/2022', '02/11/2022', '18/11/2022', '06/02/2022', '01/10/2022', '31/05/2022', '28/04/2022', '28/02/2022', '08/05/2022', '02/11/2022', '31/12/2022', '13/12/2022', '18/11/2022', '21/11/2022', '27/06/2022', '06/12/2022', '30/08/2022', '24/12/2022', '15/11/2022', '08/11/2022', '04/03/2022', '02/11/2022', '08/01/2022', '29/12/2022', '15/01/2022', '22/01/2022', '20/06/2022', '29/06/2022', '10/12/2022', '05/07/2022', '26/02/2022', '25/02/2022', '27/04/2022', '06/11/2022', '12/08/2022', '07/09/2022', '01/10/2022', '15/03/2022', '01/05/2022', '09/01/2022', '05/12/2022', '27/06/2022', '12/11/2022', '23/08/2022', '08/09/2022', '01/06/2022', '22/11/2022', '14/06/2022', '05/08/2022', '09/11/2022', '29/10/2022', '05/05/2022', '11/11/2022', '12/04/2022', '30/12/2022', '03/05/2022', '21/06/2022', '06/04/2022', '14/02/2022', '30/01/2022', '29/03/2022', '26/01/2022', '02/01/2022', '08/01/2022', '19/11/2022', '08/03/2022', '04/06/2022', '01/03/2022', '29/03/2022', '27/03/2022', '28/06/2022', '20/08/2022', '06/12/2022', '09/07/2022', '06/10/2022', '21/08/2022', '21/01/2022', '07/06/2022', '11/02/2022', '25/08/2022', '06/05/2022', '23/01/2022', '13/10/2022', '16/11/2022', '26/10/2022', '12/01/2022', '24/04/2022', '29/10/2022', '29/09/2022', '17/08/2022', '30/10/2022', '12/01/2022', '03/12/2022', '28/10/2022', '15/02/2022', '09/11/2022', '18/03/2022', '04/06/2022', '10/08/2022', '07/11/2022', '11/12/2022', '17/12/2022', '26/09/2022', '24/09/2022', '04/06/2022', '26/09/2022', '16/11/2022', '21/02/2022', '08/05/2022', '14/03/2022', '22/08/2022', '05/04/2022', '04/06/2022', '10/03/2022', '23/09/2022', '23/04/2022', '28/12/2022', '16/11/2022', '26/09/2022', '28/11/2022', '04/12/2022', '27/09/2022', '21/04/2022', '03/09/2022']\n",
            "[1009.99, 446.99, 1586.23, 2024.31, 122.42, 88.91, 75.92, 39.44, 44.69, 83.08, 684.48, 18.55, 482.73, 571.09, 536.25, 51.55, 807.7, 1496.89, 167.81, 70.68, 333.47, 147.99, 185.52, 491.6, 56.18, 384.36, 579.5, 327.5, 71.75, 104.39, 44.68, 935.91, 1918.54, 714.47, 52.97, 89.19, 741.11, 59.2, 41.25, 3766.19, 111.13, 46.67, 349.98, 2569.93, 671.64, 215.52, 903.48, 201.06, 602.71, 47.66, 601.96, 37.49, 39.36, 70.8, 786.92, 13.39, 85.44, 362.56, 600.9, 79.48, 1742.66, 62.33, 46.2, 359.51, 631.8, 383.53, 871.73, 2120.55, 2098.54, 3240.02, 127.79, 188.27, 98.22, 76.1, 40.98, 1600.36, 1689.8, 263.85, 416.39, 790.74, 980.46, 61.72, 986.73, 235.07, 988.27, 1027.39, 3208.54, 206.98, 363.02, 292.65, 2119.81, 49.63, 654.5, 1017.25, 93.13, 127.4, 60.39, 950.37, 318.96, 606.36, 726.87, 685.39, 51.3, 3836.63, 43.16, 180.37, 857.34, 594.09, 187.38, 56.37, 667.67, 12.79, 559.91, 3186.94, 313.94, 929.59, 498.95, 171.9, 210.0, 178.2, 285.43, 210.56, 71.39, 876.45, 56.56, 690.77, 697.51, 15.37, 150.18, 2072.6, 210.52, 524.55, 1540.14, 236.16, 338.53, 297.78, 435.44, 13.53, 2412.47, 339.82, 300.74, 222.29, 12.72, 37.26, 915.49, 2268.88, 76.83, 303.71, 2828.63, 2414.98, 20.28, 21.74, 57.18, 739.02, 53.07, 85.79, 402.45, 1176.23, 102.03, 776.66, 642.07, 142.75, 269.81, 21.12, 33.69, 600.61, 120.02, 42.35, 55.29, 3118.95, 242.62, 58.27, 1124.09, 2447.05, 88.66, 1108.63, 1776.57, 102.41, 1137.91, 1787.53, 645.87, 840.82, 791.91, 64.72, 685.78, 70.71, 37.7, 1966.4, 1432.66, 3494.73, 62.15, 60.7, 1886.35, 2402.6, 69.45, 144.88, 369.99, 66.57, 154.33, 195.66, 96.32, 1822.44, 422.98, 97.78, 899.96, 49.79, 2360.11, 2054.11, 389.53, 1245.97, 110.51, 65.76, 842.74, 2524.58, 68.29, 583.39, 20.5, 833.85, 38.12, 58.93, 1130.91, 364.48, 2270.27, 474.13, 72.54, 1800.41, 1131.69, 446.11, 20.65, 1796.34, 151.08, 85.12, 1180.44, 85.94, 2022.06, 49.91, 41.29, 1765.53, 47.48, 1082.54, 491.74, 288.1, 1946.17, 331.48, 78.98, 897.26, 40.13, 310.47, 28.01, 36.61, 233.58, 63.99, 341.95, 263.06, 1685.19, 283.51, 151.07, 1698.17, 62.52, 1151.32, 288.78, 602.61, 47.31, 123.85, 3545.33, 1622.23, 219.16, 2596.62, 174.04, 30.79, 27.35, 1481.88, 152.16, 271.28, 71.23, 427.64, 23.76, 339.76, 228.15, 90.64, 24.77, 715.79, 2132.85, 295.96, 542.47, 36.29, 63.3, 1698.33, 77.37, 421.87, 379.15, 2520.5, 323.0, 44.82, 1231.88, 514.26, 35.76, 39.12, 77.19, 339.73, 19.07, 2414.21, 139.86, 2269.44, 166.35, 1005.47, 292.03, 1417.59, 70.05, 88.6, 544.17, 335.52, 53.05, 1767.91, 522.67, 40.09, 921.59, 1156.68, 251.33, 315.15, 2194.45, 35.57, 236.81, 858.16, 437.54, 400.86, 735.3, 78.3, 486.94, 2583.82, 54.95, 267.18, 77.51, 337.87, 604.64, 1185.88, 125.67, 1892.2, 683.78, 219.77, 728.67, 1613.8, 19.8, 57.06, 28.18, 656.25, 32.66, 83.97, 964.94, 57.82, 235.24, 295.32, 698.52, 50.11, 97.51, 27.0, 81.7, 111.36, 341.1, 99.11, 2295.91, 679.93, 71.63, 384.2, 84.76, 65.93, 56.47, 40.4, 64.71, 670.41, 69.38, 1882.99, 1732.36, 1650.83, 69.96, 45.73, 41.37, 403.12, 1800.8, 74.83, 37.42, 3083.29, 431.16, 102.74, 238.49, 2312.45, 438.43, 553.83, 3399.04, 140.74, 41.76, 63.96, 458.06, 416.52, 150.7, 906.95, 69.42, 47.96, 685.95, 41.66, 28.39, 91.33, 99.75, 82.77, 439.58, 34.52, 36.59, 297.19, 1679.68, 83.92, 279.3, 694.94, 57.41, 1233.13, 1864.15, 385.39, 299.6, 974.02, 1461.16, 16.82, 141.12, 693.36, 699.31, 3142.47, 153.62, 818.14, 1734.16, 32.95, 2303.34, 472.77, 778.74, 290.85, 1400.06, 657.6, 930.5, 711.96, 483.99, 411.91, 32.87, 70.23, 77.41, 102.25, 83.46, 496.55, 764.41, 189.37, 350.5, 85.17, 47.55, 64.18, 1979.75, 960.58, 74.7, 139.46, 158.02, 1993.67, 688.8, 376.83, 51.88, 2264.7, 1640.74, 1304.52, 468.0, 305.53, 231.17, 452.48, 806.8, 86.63, 55.22, 388.05, 12.97, 53.2, 41.98, 88.85, 21.26, 303.65, 254.47, 29.93, 426.37, 59.69, 2059.72, 40.0, 432.38, 2924.32, 349.42, 694.69, 1476.01, 46.16, 193.05, 81.65, 1200.6, 26.97, 672.69, 50.35, 865.48, 1521.34, 82.17, 3646.25, 374.91, 229.47, 183.79, 1635.24, 94.88, 46.06, 21.49, 1457.3, 41.97, 23.94, 72.62, 3969.38, 890.28, 1771.33, 76.68, 625.11, 270.73, 77.3, 323.96, 2215.84, 59.19, 2522.05, 633.86, 2204.56, 390.22, 645.33, 419.04, 64.19, 62.48, 74.04, 1775.24, 83.01, 297.63, 3852.45, 1137.73, 3655.0, 219.42, 229.86, 85.14, 88.05, 813.21, 740.23, 915.43, 64.86, 1284.36, 73.27, 87.49, 62.23, 646.85, 40.33, 1336.36, 679.15, 84.85, 57.45, 322.09, 41.45, 1983.51, 31.47, 1180.92, 362.17, 749.27, 55.41, 131.1, 593.58, 569.48, 617.69, 186.45, 1642.22, 1501.36, 751.38, 2551.23, 1775.81, 1623.33, 23.76, 44.82, 98.18, 379.56, 551.65, 799.6, 82.32, 587.52, 254.9, 855.11, 370.93, 2438.11, 2000.13, 380.62, 48.18, 63.34, 72.17, 983.72, 159.9, 3033.74, 1224.99, 22.08, 75.34, 43.01, 428.8, 45.42, 219.65, 860.62, 696.92, 1777.73, 2548.17, 748.89, 371.11, 2528.67, 528.29, 56.49, 62.19, 44.26, 607.01, 1851.54, 2444.28, 64.23, 979.67, 120.72, 330.17, 340.0, 3676.86, 522.82, 725.58, 1012.89, 338.83, 13.02, 28.86, 2903.39, 172.97, 83.78, 658.44, 730.84, 643.62, 111.93, 1538.12, 67.78, 89.65, 1759.61, 75.78, 95.85, 1282.2, 63.32, 53.12, 2600.35, 2943.88, 50.26, 851.5, 340.93, 28.57, 285.7, 64.37, 204.81, 458.45, 1788.02, 493.1, 982.19, 28.17, 2680.46, 232.23, 1269.11, 453.95, 416.25, 3399.62, 380.13, 1119.05, 58.15, 408.11, 864.83, 79.14, 464.71, 463.43, 20.64, 3216.14, 2017.54, 284.81, 549.24, 537.02, 11.35, 817.6, 979.31, 428.48, 65.38, 23.18, 1861.18, 862.74, 251.34, 940.11, 1402.71, 66.85, 381.56, 989.11, 166.15, 1689.22, 1565.75, 850.57, 443.87, 145.74, 375.89, 2131.82, 437.03, 43.5, 33.52, 3190.23, 63.95, 83.67, 1042.61, 53.95, 1712.54, 163.82, 921.77, 259.95]\n",
            "474187.17\n"
          ]
        }
      ]
    },
    {
      "cell_type": "code",
      "source": [
        "#Loja 3 - Criar duas listas com Data da Compra e Preço para o ano de 2020\n",
        "\n",
        "data_2020 = []\n",
        "preco_2020 = []\n",
        "\n",
        "for data, preco in zip(loja3['Data da Compra'], loja1['Preço']):\n",
        "  if '2020' in data:\n",
        "    data_2020.append(data)\n",
        "    preco_2020.append(preco)\n",
        "\n",
        "faturamento = sum(preco_2020)\n",
        "\n",
        "print(data_2020)\n",
        "print(preco_2020)\n",
        "print(round(faturamento, 2))"
      ],
      "metadata": {
        "colab": {
          "base_uri": "https://localhost:8080/"
        },
        "id": "mVJJHQeXPoZD",
        "outputId": "8d419fc2-a421-415c-8ca6-336b865577cb"
      },
      "execution_count": 47,
      "outputs": [
        {
          "output_type": "stream",
          "name": "stdout",
          "text": [
            "['07/07/2020', '21/01/2020', '21/08/2020', '21/08/2020', '24/11/2020', '20/01/2020', '25/02/2020', '26/12/2020', '03/01/2020', '15/05/2020', '11/04/2020', '07/09/2020', '02/02/2020', '15/03/2020', '04/02/2020', '10/06/2020', '10/05/2020', '17/01/2020', '11/02/2020', '14/03/2020', '17/01/2020', '20/12/2020', '07/09/2020', '19/05/2020', '04/04/2020', '25/07/2020', '28/03/2020', '02/12/2020', '24/07/2020', '21/04/2020', '10/04/2020', '19/12/2020', '30/08/2020', '05/09/2020', '15/12/2020', '14/03/2020', '21/07/2020', '08/12/2020', '29/10/2020', '22/06/2020', '06/10/2020', '19/08/2020', '28/01/2020', '08/04/2020', '24/11/2020', '23/10/2020', '21/04/2020', '19/07/2020', '10/06/2020', '17/12/2020', '05/09/2020', '14/02/2020', '25/03/2020', '10/11/2020', '09/07/2020', '22/08/2020', '30/11/2020', '07/10/2020', '15/04/2020', '12/07/2020', '12/01/2020', '12/05/2020', '23/03/2020', '27/12/2020', '22/09/2020', '17/02/2020', '22/11/2020', '18/03/2020', '17/10/2020', '13/10/2020', '28/02/2020', '16/05/2020', '07/04/2020', '17/09/2020', '13/11/2020', '07/03/2020', '06/09/2020', '02/09/2020', '29/04/2020', '23/10/2020', '28/01/2020', '19/06/2020', '24/01/2020', '06/02/2020', '14/03/2020', '17/07/2020', '17/02/2020', '23/03/2020', '24/05/2020', '13/10/2020', '30/04/2020', '15/05/2020', '01/07/2020', '12/08/2020', '12/12/2020', '16/04/2020', '24/05/2020', '19/12/2020', '09/03/2020', '18/04/2020', '18/01/2020', '20/06/2020', '14/11/2020', '05/08/2020', '23/09/2020', '24/02/2020', '21/06/2020', '14/06/2020', '05/01/2020', '17/10/2020', '28/01/2020', '10/12/2020', '03/01/2020', '07/01/2020', '11/10/2020', '17/04/2020', '28/04/2020', '19/09/2020', '29/03/2020', '28/01/2020', '09/04/2020', '31/01/2020', '06/09/2020', '20/11/2020', '13/05/2020', '10/01/2020', '27/12/2020', '03/01/2020', '05/10/2020', '05/01/2020', '25/08/2020', '15/03/2020', '13/11/2020', '28/07/2020', '29/11/2020', '04/04/2020', '26/03/2020', '28/05/2020', '14/03/2020', '28/06/2020', '11/11/2020', '20/10/2020', '23/12/2020', '10/08/2020', '28/06/2020', '22/09/2020', '02/06/2020', '17/01/2020', '12/09/2020', '06/10/2020', '27/06/2020', '22/11/2020', '05/08/2020', '29/06/2020', '14/05/2020', '03/07/2020', '01/10/2020', '22/12/2020', '05/07/2020', '31/07/2020', '22/07/2020', '21/05/2020', '01/09/2020', '28/02/2020', '18/10/2020', '22/08/2020', '02/03/2020', '27/08/2020', '28/08/2020', '11/02/2020', '13/07/2020', '30/09/2020', '19/12/2020', '05/04/2020', '24/11/2020', '11/09/2020', '27/10/2020', '29/01/2020', '12/02/2020', '12/08/2020', '30/03/2020', '03/07/2020', '10/10/2020', '29/12/2020', '06/02/2020', '12/02/2020', '20/03/2020', '09/04/2020', '14/12/2020', '15/05/2020', '13/09/2020', '19/12/2020', '23/05/2020', '05/10/2020', '11/03/2020', '30/07/2020', '15/02/2020', '29/10/2020', '20/02/2020', '25/02/2020', '29/05/2020', '10/12/2020', '23/01/2020', '05/02/2020', '12/11/2020', '07/02/2020', '06/08/2020', '15/06/2020', '10/11/2020', '07/07/2020', '18/07/2020', '18/01/2020', '04/06/2020', '31/05/2020', '30/04/2020', '22/03/2020', '12/12/2020', '27/02/2020', '28/09/2020', '06/09/2020', '09/09/2020', '03/09/2020', '26/03/2020', '23/11/2020', '20/04/2020', '04/05/2020', '01/09/2020', '12/07/2020', '12/08/2020', '27/01/2020', '23/10/2020', '01/08/2020', '24/05/2020', '14/09/2020', '15/10/2020', '13/11/2020', '30/04/2020', '11/10/2020', '08/12/2020', '07/07/2020', '10/07/2020', '11/04/2020', '12/06/2020', '06/04/2020', '29/04/2020', '10/01/2020', '12/11/2020', '28/04/2020', '22/05/2020', '28/10/2020', '19/04/2020', '31/07/2020', '20/08/2020', '08/03/2020', '21/04/2020', '29/01/2020', '15/03/2020', '24/03/2020', '29/05/2020', '19/05/2020', '29/02/2020', '11/10/2020', '07/01/2020', '18/12/2020', '26/08/2020', '24/02/2020', '06/03/2020', '29/04/2020', '09/07/2020', '20/04/2020', '07/03/2020', '20/02/2020', '15/05/2020', '16/01/2020', '17/05/2020', '18/11/2020', '15/04/2020', '29/06/2020', '21/07/2020', '03/07/2020', '24/06/2020', '14/09/2020', '16/01/2020', '02/10/2020', '28/05/2020', '04/02/2020', '16/12/2020', '14/02/2020', '24/12/2020', '10/05/2020', '04/10/2020', '19/11/2020', '14/02/2020', '19/04/2020', '11/02/2020', '24/12/2020', '14/06/2020', '06/07/2020', '27/12/2020', '03/01/2020', '12/06/2020', '17/06/2020', '17/02/2020', '08/10/2020', '20/12/2020', '24/08/2020', '17/06/2020', '18/12/2020', '05/12/2020', '02/07/2020', '04/08/2020', '28/06/2020', '10/11/2020', '06/03/2020', '17/11/2020', '21/08/2020', '24/12/2020', '19/02/2020', '17/07/2020', '22/04/2020', '20/07/2020', '16/06/2020', '21/03/2020', '30/04/2020', '25/12/2020', '05/09/2020', '17/08/2020', '31/05/2020', '09/06/2020', '05/07/2020', '09/02/2020', '04/09/2020', '21/02/2020', '31/12/2020', '03/09/2020', '10/07/2020', '30/08/2020', '28/09/2020', '03/06/2020', '29/11/2020', '27/01/2020', '10/03/2020', '09/09/2020', '31/05/2020', '09/12/2020', '27/09/2020', '12/05/2020', '10/08/2020', '20/05/2020', '12/07/2020', '11/07/2020', '10/02/2020', '15/03/2020', '16/06/2020', '20/06/2020', '25/02/2020', '04/08/2020', '08/10/2020', '09/07/2020', '06/01/2020', '06/11/2020', '23/04/2020', '29/08/2020', '21/06/2020', '09/12/2020', '20/05/2020', '12/01/2020', '17/03/2020', '18/08/2020', '01/08/2020', '23/07/2020', '23/02/2020', '20/07/2020', '07/02/2020', '03/03/2020', '21/02/2020', '08/10/2020', '13/04/2020', '18/12/2020', '19/03/2020', '10/01/2020', '03/08/2020', '12/08/2020', '16/03/2020', '28/01/2020', '19/01/2020', '22/12/2020', '05/05/2020', '09/05/2020', '19/04/2020', '13/01/2020', '17/03/2020', '22/06/2020', '09/06/2020', '26/03/2020', '21/01/2020', '01/11/2020', '17/05/2020', '05/02/2020', '03/01/2020', '13/07/2020', '06/07/2020', '20/03/2020', '18/11/2020', '30/11/2020', '28/11/2020', '17/02/2020', '12/06/2020', '31/01/2020', '21/11/2020', '16/07/2020', '06/09/2020', '17/12/2020', '29/09/2020', '23/04/2020', '01/08/2020', '21/12/2020', '27/10/2020', '21/04/2020', '27/01/2020', '06/02/2020', '23/07/2020', '06/11/2020', '21/09/2020', '09/02/2020', '29/04/2020', '26/06/2020', '15/01/2020', '12/03/2020', '08/05/2020', '10/05/2020', '14/08/2020', '13/04/2020', '20/06/2020', '24/07/2020', '27/03/2020', '08/12/2020', '16/04/2020', '17/08/2020', '22/03/2020', '08/08/2020', '22/06/2020', '11/10/2020', '10/09/2020', '11/08/2020', '27/03/2020', '12/01/2020', '23/04/2020', '27/10/2020', '30/04/2020', '26/06/2020', '03/12/2020', '23/12/2020', '27/05/2020', '08/03/2020', '31/01/2020', '30/10/2020', '27/12/2020', '17/02/2020', '07/04/2020', '01/08/2020', '03/04/2020', '30/11/2020', '24/05/2020', '09/04/2020', '31/03/2020', '30/09/2020', '04/08/2020', '18/12/2020', '22/10/2020', '30/07/2020', '22/07/2020', '17/08/2020', '08/06/2020', '08/04/2020', '01/01/2020', '16/11/2020', '14/01/2020', '15/11/2020', '21/08/2020', '25/01/2020', '06/09/2020', '13/04/2020', '11/08/2020', '12/12/2020', '17/06/2020', '11/02/2020', '15/01/2020', '26/07/2020', '29/09/2020', '09/10/2020', '23/04/2020', '25/05/2020', '03/10/2020', '09/11/2020', '25/02/2020', '21/05/2020', '29/01/2020', '11/07/2020', '22/08/2020', '05/09/2020', '23/03/2020', '09/09/2020', '05/10/2020', '31/03/2020', '20/07/2020', '21/05/2020', '21/04/2020', '29/10/2020', '23/09/2020', '11/09/2020', '14/03/2020', '12/01/2020', '24/07/2020', '26/11/2020', '13/08/2020', '22/02/2020', '21/05/2020', '23/07/2020', '12/09/2020', '23/10/2020', '28/03/2020', '26/01/2020', '26/04/2020', '27/09/2020', '13/03/2020', '21/10/2020', '04/12/2020', '29/02/2020', '03/03/2020', '22/01/2020', '31/12/2020', '02/12/2020', '27/09/2020', '06/09/2020', '26/11/2020', '16/12/2020', '22/12/2020', '18/12/2020', '08/01/2020', '09/11/2020', '12/11/2020', '14/10/2020', '14/08/2020', '06/12/2020', '27/01/2020', '14/02/2020', '06/02/2020', '25/06/2020', '22/09/2020', '18/03/2020', '17/10/2020', '15/07/2020', '01/06/2020', '22/03/2020', '15/06/2020', '29/03/2020', '04/02/2020', '23/09/2020', '26/07/2020', '15/05/2020', '03/08/2020', '16/07/2020', '29/01/2020', '06/12/2020', '09/05/2020', '05/06/2020', '03/01/2020', '11/07/2020', '05/04/2020', '15/05/2020', '15/08/2020', '06/12/2020', '29/06/2020', '20/02/2020', '12/10/2020', '24/01/2020', '02/03/2020', '26/10/2020', '08/03/2020', '24/09/2020', '26/03/2020', '14/03/2020', '01/01/2020', '04/01/2020', '25/07/2020', '29/10/2020', '12/06/2020', '01/07/2020', '13/09/2020', '23/03/2020', '15/07/2020', '28/05/2020', '14/09/2020', '14/06/2020', '31/12/2020', '22/03/2020', '12/01/2020', '29/01/2020', '18/05/2020', '17/07/2020', '05/03/2020', '07/11/2020', '22/08/2020', '02/10/2020', '28/05/2020', '23/07/2020', '08/02/2020', '29/09/2020', '03/12/2020', '18/06/2020', '10/02/2020', '07/02/2020', '16/08/2020', '15/09/2020', '24/01/2020', '15/06/2020', '20/04/2020', '26/12/2020', '18/04/2020', '06/10/2020', '05/07/2020', '02/01/2020', '14/05/2020', '21/03/2020', '20/05/2020', '09/07/2020', '05/04/2020', '12/04/2020', '15/11/2020', '05/12/2020', '20/08/2020', '17/07/2020', '07/11/2020', '02/09/2020', '03/07/2020', '14/11/2020', '16/01/2020', '05/03/2020', '26/02/2020', '05/07/2020', '20/06/2020', '28/02/2020', '01/09/2020', '12/10/2020', '29/03/2020', '02/02/2020', '21/09/2020', '30/05/2020', '03/02/2020', '07/03/2020', '12/09/2020', '21/07/2020', '26/05/2020', '15/04/2020', '26/07/2020', '20/07/2020', '02/03/2020', '06/05/2020', '07/01/2020', '19/08/2020', '18/04/2020', '13/05/2020', '17/06/2020', '08/01/2020', '03/08/2020', '15/01/2020', '10/09/2020', '06/02/2020', '24/03/2020', '29/04/2020', '19/05/2020', '10/11/2020', '10/02/2020', '20/03/2020', '06/07/2020', '26/02/2020', '07/04/2020', '03/10/2020', '01/01/2020', '21/12/2020', '22/07/2020', '07/01/2020', '25/04/2020', '11/12/2020', '08/04/2020', '16/02/2020', '15/11/2020', '29/05/2020', '06/12/2020', '26/01/2020', '03/02/2020', '20/04/2020', '18/10/2020', '28/07/2020', '04/04/2020', '13/12/2020', '03/06/2020', '29/04/2020', '07/03/2020', '01/08/2020']\n",
            "[58.9, 685.95, 44.69, 24.58, 205.26, 482.73, 134.52, 1507.11, 425.25, 51.55, 1496.89, 564.7, 420.24, 391.78, 3367.25, 1594.71, 491.6, 1861.96, 56.18, 47.03, 579.5, 963.53, 372.39, 72.82, 952.33, 92.99, 272.86, 3880.0, 671.64, 215.52, 903.48, 201.06, 201.76, 1204.87, 24.78, 18.17, 57.26, 3282.01, 686.09, 277.62, 86.66, 600.9, 43.1, 79.48, 2509.24, 1742.66, 58.62, 142.64, 257.89, 384.97, 53.58, 269.55, 482.79, 67.89, 1215.5, 631.8, 2505.72, 2098.54, 1704.65, 431.26, 76.1, 2674.02, 88.93, 1600.36, 1008.65, 80.12, 451.83, 670.91, 401.83, 67.46, 391.92, 88.11, 28.89, 2310.14, 454.81, 206.98, 363.02, 541.84, 654.5, 3109.99, 1017.25, 93.13, 1296.59, 77.91, 606.36, 726.87, 685.39, 415.06, 2249.33, 65.81, 45.91, 70.73, 180.37, 62.46, 594.09, 616.91, 472.29, 37.85, 837.19, 903.13, 72.34, 1175.91, 667.67, 990.72, 559.91, 3402.14, 3186.94, 363.8, 1236.9, 136.2, 668.91, 10.45, 2856.32, 2505.44, 210.0, 178.2, 285.43, 311.78, 210.56, 71.39, 44.69, 272.16, 253.07, 697.51, 253.17, 1291.64, 57.63, 10.07, 944.77, 210.52, 236.16, 286.8, 90.99, 373.88, 347.75, 103.08, 1181.49, 339.82, 36.78, 1275.79, 300.74, 37.65, 262.73, 36.98, 222.29, 32.4, 44.25, 303.71, 694.5, 3079.44, 136.77, 3377.55, 57.18, 174.84, 30.47, 134.85, 417.83, 642.07, 357.61, 40.75, 912.15, 120.02, 297.81, 57.63, 39.69, 66.21, 242.62, 30.75, 786.15, 88.66, 1522.65, 1787.53, 643.56, 2003.89, 645.87, 19.56, 840.82, 43.22, 1057.97, 64.72, 645.48, 116.76, 70.71, 40.8, 37.7, 32.08, 3494.73, 2821.51, 423.93, 293.28, 1224.97, 2402.6, 37.7, 55.06, 944.36, 182.69, 1370.05, 97.78, 275.2, 899.96, 49.79, 2360.11, 2054.11, 135.89, 333.52, 59.9, 305.56, 65.76, 411.7, 842.74, 1421.6, 923.39, 583.39, 1031.55, 38.12, 1010.03, 214.73, 165.78, 2856.68, 2004.12, 21.01, 1674.08, 233.0, 1043.01, 1131.69, 446.11, 20.65, 114.56, 1796.34, 59.43, 204.58, 828.2, 105.98, 1782.8, 1180.44, 22.83, 22.12, 423.96, 41.29, 176.0, 54.68, 978.67, 47.48, 1649.07, 101.74, 44.9, 1087.35, 379.31, 331.48, 1496.64, 972.95, 495.71, 28.01, 98.2, 233.58, 364.34, 675.5, 63.99, 318.02, 1839.55, 148.59, 345.59, 313.75, 1685.19, 283.51, 151.07, 1698.17, 1350.09, 984.03, 43.42, 288.78, 602.61, 1778.97, 219.16, 2596.62, 2097.01, 83.99, 152.16, 3336.49, 35.98, 78.08, 71.23, 19.63, 430.42, 53.42, 529.79, 333.7, 260.68, 90.64, 102.79, 981.47, 110.53, 3209.26, 288.46, 379.15, 48.2, 123.69, 44.82, 645.44, 1451.86, 33.53, 116.0, 1309.88, 77.19, 1690.25, 650.81, 74.74, 290.5, 3367.28, 139.07, 88.91, 2405.84, 70.05, 335.52, 281.35, 1249.74, 365.72, 921.59, 1156.68, 251.33, 315.15, 42.47, 78.23, 858.16, 1664.71, 56.64, 18.94, 212.91, 344.93, 50.06, 325.05, 486.94, 28.76, 337.87, 721.54, 203.74, 970.05, 365.46, 62.12, 1185.88, 219.77, 728.67, 142.5, 29.85, 1737.14, 28.18, 443.68, 656.25, 83.97, 57.82, 235.24, 97.51, 439.17, 15.22, 1476.11, 2779.47, 1295.57, 99.11, 934.08, 636.61, 452.99, 602.58, 110.02, 367.77, 64.71, 1839.4, 401.04, 677.31, 403.02, 52.02, 628.67, 45.73, 1580.73, 2843.23, 287.09, 604.95, 37.42, 238.73, 710.01, 70.29, 102.74, 238.49, 1154.07, 2727.13, 458.06, 315.03, 120.14, 416.52, 75.19, 138.38, 1485.87, 685.95, 41.66, 1068.33, 353.06, 2660.31, 2626.51, 611.39, 694.94, 1294.99, 1233.13, 42.02, 2094.54, 829.33, 1461.16, 336.62, 141.12, 693.36, 136.71, 385.74, 699.31, 3142.47, 153.62, 24.85, 652.3, 2498.06, 2462.2, 660.46, 638.18, 2303.34, 1123.14, 1400.06, 48.01, 652.69, 350.46, 327.7, 102.25, 61.0, 94.22, 316.82, 2556.1, 764.41, 385.29, 456.08, 36.63, 61.5, 350.5, 173.76, 960.58, 63.51, 66.77, 1793.54, 1993.67, 688.8, 376.83, 392.89, 1920.01, 40.73, 1735.93, 57.44, 1640.74, 38.22, 687.16, 72.91, 690.42, 55.22, 123.94, 1439.11, 388.05, 158.78, 27.07, 41.98, 21.26, 86.94, 69.35, 254.47, 59.69, 349.42, 34.56, 603.9, 1200.6, 19.31, 1951.94, 300.65, 34.68, 66.34, 666.9, 2320.42, 865.48, 2037.66, 442.12, 3085.99, 478.32, 698.34, 423.2, 50.25, 2217.84, 1466.34, 3646.25, 374.91, 229.47, 51.77, 183.79, 1967.01, 94.88, 21.49, 3169.69, 108.37, 890.28, 23.5, 1863.13, 23.67, 193.17, 76.68, 1791.0, 53.79, 602.41, 950.3, 338.37, 48.06, 62.87, 59.19, 891.3, 2204.56, 175.36, 147.83, 1350.78, 43.21, 1574.62, 285.85, 788.88, 340.75, 395.17, 897.94, 1750.87, 271.12, 84.88, 1775.24, 113.83, 1164.74, 288.45, 2236.47, 70.62, 2147.46, 143.9, 291.94, 88.05, 1846.51, 894.48, 64.86, 1284.36, 643.88, 344.57, 23.8, 3954.82, 306.89, 380.87, 84.85, 670.63, 74.13, 447.64, 35.6, 322.09, 30.33, 31.47, 1180.92, 749.27, 55.41, 517.69, 915.36, 1803.81, 975.15, 1061.09, 617.69, 186.45, 707.62, 375.61, 43.02, 285.81, 66.06, 41.19, 791.81, 379.56, 551.65, 799.6, 587.52, 2927.76, 350.15, 940.5, 68.34, 43.35, 380.62, 76.69, 697.82, 114.17, 48.18, 997.98, 63.34, 72.17, 983.72, 3033.74, 2064.81, 1248.22, 171.6, 219.65, 860.62, 61.73, 347.16, 72.24, 368.1, 697.39, 74.5, 923.97, 87.91, 62.19, 44.26, 328.4, 607.01, 222.18, 819.22, 2065.17, 1268.08, 977.55, 837.81, 129.33, 55.67, 3118.73, 112.3, 172.97, 94.5, 30.48, 31.79, 83.78, 73.07, 146.24, 67.78, 79.21, 50.64, 75.78, 534.02, 213.23, 32.58, 63.32, 53.12, 2943.88, 64.37, 90.42, 69.23, 27.61, 1023.48, 42.2, 217.94, 453.95, 3399.62, 380.13, 58.15, 79.14, 183.21, 464.71, 1780.83, 59.52, 3359.54, 276.47, 639.99, 430.28, 154.85, 2355.32, 1470.48, 284.81, 784.89, 275.98, 59.68, 57.81, 164.0, 573.75, 979.31, 104.59, 67.4, 200.49, 269.37, 49.12, 251.34, 70.94, 87.11, 659.77, 249.28, 649.19, 1873.81, 196.12, 66.85, 676.78, 52.41, 72.01, 989.11, 46.16, 166.15, 899.01, 59.26, 271.52, 1618.46, 71.6, 166.74, 1175.85, 65.5, 63.95, 303.76, 1742.04, 425.78, 37.76, 91.81, 652.36]\n",
            "460289.54\n"
          ]
        }
      ]
    },
    {
      "cell_type": "code",
      "source": [
        "#Loja 3 - Criar duas listas com Data da Compra e Preço para o ano de 2021\n",
        "\n",
        "data_2021 = []\n",
        "preco_2021 = []\n",
        "\n",
        "for data, preco in zip(loja3['Data da Compra'], loja1['Preço']):\n",
        "  if '2021' in data:\n",
        "    data_2021.append(data)\n",
        "    preco_2021.append(preco)\n",
        "\n",
        "faturamento = sum(preco_2021)\n",
        "\n",
        "print(data_2021)\n",
        "print(preco_2021)\n",
        "print(round(faturamento, 2))"
      ],
      "metadata": {
        "colab": {
          "base_uri": "https://localhost:8080/"
        },
        "id": "4HT8bWCqPoLD",
        "outputId": "094946d8-aa40-458c-dc7a-4fffe651628a"
      },
      "execution_count": 48,
      "outputs": [
        {
          "output_type": "stream",
          "name": "stdout",
          "text": [
            "['17/12/2021', '10/02/2021', '27/10/2021', '16/08/2021', '08/11/2021', '04/02/2021', '01/04/2021', '05/11/2021', '19/05/2021', '10/04/2021', '25/11/2021', '15/01/2021', '06/02/2021', '29/07/2021', '02/06/2021', '21/03/2021', '22/09/2021', '16/12/2021', '06/01/2021', '06/11/2021', '27/12/2021', '28/11/2021', '26/06/2021', '30/08/2021', '20/07/2021', '05/08/2021', '16/05/2021', '06/11/2021', '04/06/2021', '10/10/2021', '10/04/2021', '06/02/2021', '02/05/2021', '09/04/2021', '01/04/2021', '24/03/2021', '02/06/2021', '09/12/2021', '12/07/2021', '27/03/2021', '17/02/2021', '15/05/2021', '12/02/2021', '11/11/2021', '30/01/2021', '30/10/2021', '27/02/2021', '01/01/2021', '16/08/2021', '04/02/2021', '14/12/2021', '13/05/2021', '05/01/2021', '22/06/2021', '13/02/2021', '11/01/2021', '21/02/2021', '24/09/2021', '27/06/2021', '28/10/2021', '07/11/2021', '19/11/2021', '09/01/2021', '28/05/2021', '18/12/2021', '21/08/2021', '14/11/2021', '24/04/2021', '02/12/2021', '16/04/2021', '23/10/2021', '15/03/2021', '21/11/2021', '07/02/2021', '24/11/2021', '03/12/2021', '03/04/2021', '05/12/2021', '20/03/2021', '25/05/2021', '26/08/2021', '02/07/2021', '01/06/2021', '10/05/2021', '21/01/2021', '25/05/2021', '07/12/2021', '11/03/2021', '20/06/2021', '13/06/2021', '02/01/2021', '01/04/2021', '29/10/2021', '06/09/2021', '06/09/2021', '24/05/2021', '06/02/2021', '15/10/2021', '15/11/2021', '28/07/2021', '05/07/2021', '06/02/2021', '31/10/2021', '30/08/2021', '03/09/2021', '09/10/2021', '12/03/2021', '22/05/2021', '05/10/2021', '13/01/2021', '23/09/2021', '01/08/2021', '24/12/2021', '29/07/2021', '10/10/2021', '14/02/2021', '09/04/2021', '03/04/2021', '06/07/2021', '18/12/2021', '08/12/2021', '30/04/2021', '17/08/2021', '28/03/2021', '25/12/2021', '08/05/2021', '21/11/2021', '24/12/2021', '28/08/2021', '08/01/2021', '26/06/2021', '12/02/2021', '29/04/2021', '21/11/2021', '14/09/2021', '07/02/2021', '16/11/2021', '09/10/2021', '09/12/2021', '30/09/2021', '12/09/2021', '21/04/2021', '01/04/2021', '10/07/2021', '01/04/2021', '22/09/2021', '07/07/2021', '27/05/2021', '27/04/2021', '01/03/2021', '15/08/2021', '31/03/2021', '10/12/2021', '25/07/2021', '24/05/2021', '11/10/2021', '26/08/2021', '27/04/2021', '10/07/2021', '12/10/2021', '02/03/2021', '05/10/2021', '09/01/2021', '03/04/2021', '22/01/2021', '03/10/2021', '14/12/2021', '14/03/2021', '16/07/2021', '06/03/2021', '18/07/2021', '30/05/2021', '11/09/2021', '08/10/2021', '24/03/2021', '01/07/2021', '19/12/2021', '27/12/2021', '04/11/2021', '17/09/2021', '21/07/2021', '29/08/2021', '30/08/2021', '10/06/2021', '20/09/2021', '07/06/2021', '22/03/2021', '03/03/2021', '15/04/2021', '17/10/2021', '03/07/2021', '12/04/2021', '05/05/2021', '19/05/2021', '24/07/2021', '27/08/2021', '09/04/2021', '01/05/2021', '08/09/2021', '09/07/2021', '15/03/2021', '05/12/2021', '09/07/2021', '16/10/2021', '04/01/2021', '05/03/2021', '07/05/2021', '08/08/2021', '06/12/2021', '06/08/2021', '06/03/2021', '25/12/2021', '28/03/2021', '01/08/2021', '04/01/2021', '24/11/2021', '02/06/2021', '09/10/2021', '15/05/2021', '28/11/2021', '03/11/2021', '21/09/2021', '13/01/2021', '20/04/2021', '19/11/2021', '24/08/2021', '30/10/2021', '14/04/2021', '10/11/2021', '20/03/2021', '25/12/2021', '03/09/2021', '22/09/2021', '12/04/2021', '28/04/2021', '01/02/2021', '19/06/2021', '19/06/2021', '15/01/2021', '04/09/2021', '14/10/2021', '06/08/2021', '01/07/2021', '15/01/2021', '18/07/2021', '09/10/2021', '18/05/2021', '27/09/2021', '23/12/2021', '12/11/2021', '02/02/2021', '18/10/2021', '18/08/2021', '29/12/2021', '11/10/2021', '27/08/2021', '28/03/2021', '03/06/2021', '01/08/2021', '22/06/2021', '01/07/2021', '01/09/2021', '24/02/2021', '19/11/2021', '07/11/2021', '29/09/2021', '03/01/2021', '12/05/2021', '29/03/2021', '16/11/2021', '16/11/2021', '02/06/2021', '12/10/2021', '05/10/2021', '22/07/2021', '05/08/2021', '28/01/2021', '07/11/2021', '19/06/2021', '11/01/2021', '07/02/2021', '04/12/2021', '02/11/2021', '23/09/2021', '08/06/2021', '09/02/2021', '02/02/2021', '24/05/2021', '18/12/2021', '29/12/2021', '04/02/2021', '19/11/2021', '02/12/2021', '12/01/2021', '15/03/2021', '05/02/2021', '14/07/2021', '06/06/2021', '23/11/2021', '03/05/2021', '03/07/2021', '04/07/2021', '20/11/2021', '16/06/2021', '26/11/2021', '18/11/2021', '13/11/2021', '08/03/2021', '24/02/2021', '14/11/2021', '03/12/2021', '29/12/2021', '29/07/2021', '11/06/2021', '19/11/2021', '21/01/2021', '11/11/2021', '17/12/2021', '25/12/2021', '25/05/2021', '12/08/2021', '01/12/2021', '29/11/2021', '25/05/2021', '18/09/2021', '18/02/2021', '05/04/2021', '20/06/2021', '23/06/2021', '16/10/2021', '26/05/2021', '23/03/2021', '24/01/2021', '27/03/2021', '11/08/2021', '16/02/2021', '03/12/2021', '16/07/2021', '17/05/2021', '15/07/2021', '25/06/2021', '05/02/2021', '17/05/2021', '15/03/2021', '03/09/2021', '13/06/2021', '06/08/2021', '31/10/2021', '03/11/2021', '26/06/2021', '28/04/2021', '18/02/2021', '12/05/2021', '04/08/2021', '14/02/2021', '20/07/2021', '08/07/2021', '02/12/2021', '28/04/2021', '22/10/2021', '21/10/2021', '17/03/2021', '10/11/2021', '24/12/2021', '13/04/2021', '25/03/2021', '18/12/2021', '10/12/2021', '01/06/2021', '26/07/2021', '01/11/2021', '22/01/2021', '31/01/2021', '12/08/2021', '17/05/2021', '02/08/2021', '01/05/2021', '09/02/2021', '12/08/2021', '10/10/2021', '18/08/2021', '24/05/2021', '24/12/2021', '12/02/2021', '01/07/2021', '24/12/2021', '23/12/2021', '13/03/2021', '01/12/2021', '12/10/2021', '15/12/2021', '15/02/2021', '01/10/2021', '19/05/2021', '14/01/2021', '22/10/2021', '13/12/2021', '19/08/2021', '13/05/2021', '26/01/2021', '30/06/2021', '08/04/2021', '30/12/2021', '13/01/2021', '20/02/2021', '27/02/2021', '07/10/2021', '17/11/2021', '13/09/2021', '11/10/2021', '06/07/2021', '13/09/2021', '06/12/2021', '13/10/2021', '04/04/2021', '27/08/2021', '21/06/2021', '12/07/2021', '14/06/2021', '22/07/2021', '08/04/2021', '21/04/2021', '17/11/2021', '05/02/2021', '25/07/2021', '02/04/2021', '10/03/2021', '10/10/2021', '07/12/2021', '02/03/2021', '12/10/2021', '23/03/2021', '12/01/2021', '22/08/2021', '23/01/2021', '10/04/2021', '16/08/2021', '18/04/2021', '16/06/2021', '12/11/2021', '04/10/2021', '07/03/2021', '25/07/2021', '08/03/2021', '16/10/2021', '19/06/2021', '27/12/2021', '01/05/2021', '15/07/2021', '07/08/2021', '18/11/2021', '25/12/2021', '06/12/2021', '18/10/2021', '10/01/2021', '07/01/2021', '06/11/2021', '01/07/2021', '21/11/2021', '26/05/2021', '25/04/2021', '16/07/2021', '05/11/2021', '15/04/2021', '18/12/2021', '07/01/2021', '26/06/2021', '02/01/2021', '05/07/2021', '08/08/2021', '09/04/2021', '19/10/2021', '08/06/2021', '26/08/2021', '28/03/2021', '26/08/2021', '13/06/2021', '06/11/2021', '02/05/2021', '20/04/2021', '28/05/2021', '15/04/2021', '03/11/2021', '22/08/2021', '29/01/2021', '30/01/2021', '31/10/2021', '12/08/2021', '13/09/2021', '26/01/2021', '13/12/2021', '29/12/2021', '15/11/2021', '21/01/2021', '13/01/2021', '23/08/2021', '15/08/2021', '07/04/2021', '12/12/2021', '24/05/2021', '21/07/2021', '01/08/2021', '24/01/2021', '24/08/2021', '31/07/2021', '19/04/2021', '19/06/2021', '17/10/2021', '10/11/2021', '02/09/2021', '15/09/2021', '25/12/2021', '09/07/2021', '28/03/2021', '13/10/2021', '22/10/2021', '20/02/2021', '17/10/2021', '05/12/2021', '15/11/2021', '21/07/2021', '29/07/2021', '16/11/2021', '23/10/2021', '08/04/2021', '12/11/2021', '15/10/2021', '31/08/2021', '30/12/2021', '20/03/2021', '09/02/2021', '07/08/2021', '03/11/2021', '26/06/2021', '20/03/2021', '22/01/2021', '25/08/2021', '11/01/2021', '02/09/2021', '27/12/2021', '25/10/2021', '04/06/2021', '26/06/2021', '28/01/2021', '31/08/2021', '11/04/2021', '11/10/2021', '13/03/2021', '22/03/2021', '01/11/2021', '31/08/2021', '25/08/2021', '24/10/2021', '31/08/2021', '31/12/2021', '17/11/2021', '01/03/2021', '16/09/2021', '31/12/2021', '04/08/2021', '12/06/2021', '06/03/2021', '05/11/2021', '16/08/2021', '06/06/2021', '14/01/2021', '24/06/2021', '13/12/2021', '27/04/2021', '29/06/2021', '19/11/2021', '06/07/2021', '02/02/2021', '18/09/2021', '09/01/2021', '28/01/2021', '24/11/2021', '27/08/2021', '13/03/2021', '05/07/2021', '30/05/2021', '05/06/2021', '18/07/2021', '21/04/2021', '28/06/2021', '27/06/2021', '08/07/2021', '04/05/2021', '24/02/2021', '13/12/2021', '02/11/2021', '19/12/2021', '26/08/2021', '13/11/2021', '16/02/2021', '02/08/2021', '12/11/2021', '09/09/2021', '24/06/2021', '07/11/2021', '01/12/2021', '23/10/2021', '08/09/2021', '13/06/2021', '16/12/2021', '03/11/2021', '06/08/2021', '31/01/2021', '13/04/2021', '29/11/2021', '17/11/2021', '31/12/2021', '02/08/2021', '23/03/2021', '26/12/2021', '12/11/2021', '02/08/2021', '06/12/2021', '26/10/2021', '17/06/2021', '12/10/2021', '26/02/2021', '01/11/2021', '08/10/2021', '03/12/2021', '16/07/2021', '09/08/2021', '15/02/2021', '27/03/2021', '17/06/2021', '06/08/2021', '25/10/2021', '17/05/2021', '05/08/2021', '29/06/2021', '13/08/2021', '03/08/2021', '18/08/2021', '04/11/2021', '12/03/2021', '07/09/2021', '02/09/2021', '28/08/2021', '26/09/2021', '17/07/2021', '06/01/2021', '02/06/2021', '28/08/2021', '29/09/2021', '20/12/2021', '07/11/2021', '18/10/2021', '07/10/2021', '15/11/2021', '10/01/2021', '09/03/2021', '17/11/2021', '12/03/2021', '10/01/2021', '20/06/2021', '12/06/2021', '30/05/2021', '01/05/2021', '08/09/2021', '05/01/2021', '14/02/2021', '16/03/2021', '02/12/2021', '21/10/2021', '12/02/2021', '07/03/2021', '01/10/2021', '23/08/2021', '18/07/2021', '25/07/2021', '29/10/2021', '03/01/2021', '15/06/2021', '08/03/2021', '16/03/2021', '10/04/2021', '16/08/2021', '05/11/2021', '23/07/2021', '28/01/2021', '24/12/2021', '25/02/2021', '12/09/2021', '05/03/2021', '02/07/2021', '24/12/2021', '19/01/2021', '26/10/2021', '17/10/2021', '04/11/2021', '27/10/2021', '27/01/2021', '30/12/2021', '24/02/2021', '02/03/2021', '29/10/2021', '15/04/2021', '23/02/2021', '09/03/2021', '22/07/2021', '22/01/2021', '17/11/2021', '20/05/2021', '03/08/2021', '03/01/2021', '23/11/2021', '09/03/2021', '10/10/2021', '19/12/2021', '14/02/2021', '30/10/2021', '16/05/2021', '19/07/2021', '15/06/2021', '01/04/2021', '07/01/2021', '07/07/2021', '21/05/2021', '06/08/2021', '31/01/2021', '16/05/2021', '24/06/2021', '22/04/2021', '11/11/2021', '22/12/2021', '06/06/2021', '17/08/2021', '02/07/2021', '27/02/2021', '19/04/2021', '30/12/2021', '13/08/2021', '12/08/2021', '26/03/2021', '19/09/2021']\n",
            "[219.08, 256.35, 2024.31, 3241.75, 817.71, 75.92, 2522.26, 63.85, 185.73, 752.25, 400.26, 40.62, 436.23, 571.09, 905.39, 986.28, 840.05, 396.02, 1600.38, 907.92, 60.08, 191.4, 535.83, 2896.52, 395.14, 593.11, 549.97, 79.73, 384.36, 327.5, 71.75, 104.39, 1918.54, 741.11, 2913.45, 41.25, 3766.19, 2037.22, 1454.34, 349.98, 45.29, 30.16, 40.4, 602.71, 47.66, 950.49, 36.0, 427.94, 877.54, 786.92, 13.39, 210.29, 94.58, 54.41, 72.85, 62.33, 362.7, 43.14, 383.53, 871.73, 2120.55, 213.7, 291.53, 1689.8, 416.39, 427.06, 116.21, 790.74, 980.46, 986.73, 62.5, 168.27, 3386.44, 143.84, 3208.54, 87.3, 50.43, 2119.81, 127.4, 122.27, 950.37, 77.47, 3836.63, 611.01, 49.38, 857.34, 161.39, 32.21, 12.79, 1149.97, 28.18, 56.74, 98.53, 929.59, 1089.38, 66.11, 876.45, 447.01, 51.78, 59.31, 304.52, 2232.46, 15.37, 2072.6, 147.24, 524.55, 527.47, 338.53, 435.44, 37.13, 673.95, 1242.14, 54.61, 13.53, 2412.47, 274.28, 258.77, 80.68, 22.12, 56.82, 1021.41, 915.49, 351.35, 97.08, 126.59, 44.39, 377.0, 247.65, 21.43, 76.83, 369.18, 1327.15, 2828.63, 2414.98, 74.67, 39.23, 904.78, 831.95, 227.71, 887.25, 234.86, 53.07, 303.35, 1176.23, 314.91, 67.12, 353.21, 872.27, 2060.2, 55.29, 98.17, 72.79, 58.27, 267.67, 79.22, 61.75, 1124.09, 53.74, 333.86, 21.52, 1390.26, 39.62, 15.51, 87.25, 774.32, 791.91, 34.27, 685.78, 149.63, 826.62, 62.75, 1211.48, 368.31, 1966.4, 58.5, 33.94, 73.59, 98.15, 858.54, 3332.58, 1886.35, 69.45, 144.88, 92.21, 369.99, 154.33, 195.66, 695.31, 267.89, 1822.44, 116.73, 836.66, 814.04, 389.53, 1245.97, 2715.32, 67.63, 74.66, 348.66, 2524.58, 1021.25, 54.57, 257.68, 546.01, 1773.53, 87.94, 78.22, 1483.03, 839.8, 2270.27, 892.28, 37.96, 25.32, 552.04, 945.04, 890.51, 2808.09, 57.15, 1011.43, 49.91, 334.74, 863.14, 71.59, 753.8, 1110.7, 219.88, 1134.12, 467.06, 948.05, 491.74, 288.1, 476.11, 247.47, 250.47, 40.13, 36.61, 2100.95, 56.48, 1375.49, 203.72, 660.47, 2387.75, 343.46, 358.75, 55.2, 351.55, 219.16, 341.95, 964.84, 48.05, 20.65, 1076.01, 263.06, 1151.32, 103.49, 92.37, 123.85, 3545.33, 1622.23, 117.37, 354.65, 174.04, 373.29, 1305.35, 30.79, 878.23, 271.28, 1210.85, 890.74, 427.64, 63.16, 517.29, 312.45, 1918.51, 361.03, 354.14, 64.05, 458.77, 694.69, 295.96, 150.16, 10.72, 1698.33, 346.23, 2006.43, 291.96, 44.69, 1231.88, 35.76, 57.58, 339.73, 19.07, 139.86, 1575.57, 135.06, 292.03, 1417.59, 27.59, 554.38, 279.11, 221.42, 53.05, 1767.91, 482.49, 2249.86, 3582.01, 2194.45, 35.57, 236.81, 840.38, 1442.94, 64.95, 955.2, 11.88, 69.52, 258.15, 3200.96, 1340.42, 1306.92, 297.82, 656.28, 95.01, 95.7, 3048.86, 54.95, 604.64, 125.67, 834.31, 45.68, 113.58, 365.07, 95.75, 780.19, 57.06, 32.66, 549.13, 295.32, 698.52, 50.11, 1841.73, 354.24, 1077.33, 196.56, 111.36, 153.17, 341.1, 257.55, 1225.92, 84.76, 65.93, 828.92, 56.47, 337.49, 228.46, 1715.78, 57.64, 818.58, 41.27, 1882.99, 1650.83, 25.81, 69.96, 413.47, 216.97, 1937.74, 1800.8, 34.66, 74.83, 3083.29, 37.55, 2312.45, 1572.45, 28.28, 86.45, 140.74, 77.19, 2342.38, 105.71, 1483.67, 63.96, 2920.79, 1153.06, 93.95, 2540.79, 925.16, 678.62, 28.39, 1339.88, 255.08, 76.38, 414.45, 82.77, 396.97, 617.48, 297.19, 2237.94, 83.92, 279.3, 57.41, 1657.76, 385.39, 297.7, 1904.12, 299.6, 19.96, 2999.21, 3515.39, 190.61, 55.17, 1734.16, 509.9, 324.62, 82.94, 657.6, 109.31, 1002.2, 64.28, 283.36, 711.96, 483.99, 411.91, 277.82, 1042.85, 278.46, 32.87, 77.41, 277.78, 476.63, 48.5, 128.85, 627.78, 496.55, 254.63, 693.3, 189.37, 59.53, 25.71, 47.55, 1979.75, 3157.95, 74.7, 139.46, 883.74, 52.81, 1845.47, 85.82, 158.02, 1736.83, 3449.89, 82.21, 264.88, 47.22, 3212.11, 51.88, 746.37, 952.25, 1273.07, 305.53, 452.48, 79.03, 58.72, 111.79, 1050.74, 34.59, 968.79, 85.69, 50.27, 53.2, 766.7, 87.34, 940.84, 930.32, 303.65, 59.3, 610.44, 287.36, 2059.72, 1068.96, 162.24, 616.03, 106.36, 3227.68, 49.19, 694.69, 78.97, 1476.01, 86.33, 125.87, 437.67, 81.65, 26.97, 2295.13, 2068.18, 28.07, 1951.95, 627.94, 72.68, 51.66, 78.17, 258.24, 418.91, 81.58, 46.06, 1929.54, 1457.3, 126.83, 45.89, 1981.92, 23.94, 72.62, 446.27, 59.44, 3969.38, 1771.33, 73.73, 28.42, 552.75, 1327.18, 270.73, 60.27, 77.3, 323.96, 2522.05, 1956.19, 985.32, 390.22, 645.33, 419.04, 386.87, 812.91, 62.48, 502.22, 86.9, 74.04, 373.2, 364.14, 83.01, 221.63, 119.86, 57.72, 109.63, 474.86, 3746.15, 173.37, 873.13, 741.34, 2130.47, 85.14, 813.21, 1414.54, 740.23, 73.27, 195.04, 27.54, 646.85, 40.33, 49.86, 29.46, 76.5, 936.62, 927.3, 295.58, 30.62, 1541.05, 2925.98, 1567.44, 429.14, 521.32, 19.93, 57.45, 75.26, 40.17, 118.31, 1983.51, 1089.68, 1978.2, 362.17, 163.93, 3270.51, 399.02, 593.58, 379.37, 241.37, 63.01, 126.44, 1642.22, 976.28, 1583.53, 627.98, 1501.36, 27.01, 110.31, 36.25, 44.82, 93.15, 84.44, 535.78, 73.46, 1093.54, 445.77, 82.32, 147.06, 304.53, 66.9, 837.41, 254.9, 370.93, 59.69, 71.83, 35.37, 16.55, 159.9, 1224.99, 22.08, 68.89, 581.56, 75.34, 43.01, 428.8, 428.64, 119.85, 1777.73, 2139.37, 2548.17, 1669.63, 288.43, 969.21, 23.29, 1851.54, 1928.19, 64.23, 120.72, 330.17, 353.35, 340.0, 3676.86, 105.99, 522.82, 725.58, 341.92, 1012.89, 338.83, 245.97, 13.02, 28.86, 2903.39, 643.62, 204.57, 326.2, 58.64, 1686.37, 2916.58, 930.94, 1759.61, 645.96, 32.43, 93.78, 29.25, 282.35, 2600.35, 293.11, 884.41, 340.93, 22.41, 158.12, 83.1, 458.45, 1788.02, 982.19, 500.85, 2680.46, 232.23, 344.8, 416.25, 89.13, 1119.05, 229.11, 3317.46, 463.43, 100.98, 3216.14, 83.74, 409.61, 549.24, 1282.42, 537.02, 320.94, 2389.18, 817.6, 308.96, 2516.02, 60.69, 2013.04, 1861.18, 862.74, 694.6, 51.06, 649.33, 435.23, 74.88, 940.11, 116.36, 60.41, 75.43, 233.98, 155.99, 866.78, 605.27, 662.89, 165.94, 20.4, 731.11, 381.56, 297.42, 450.15, 893.96, 201.68, 1492.31, 77.17, 149.28, 93.05, 75.8, 338.27, 902.15, 3527.4, 386.6, 3081.76, 2131.82, 1270.87, 42.09, 91.62, 1912.38, 3190.23, 351.37, 637.67, 83.67, 1042.61, 47.63, 677.19, 921.77]\n",
            "506934.93\n"
          ]
        }
      ]
    },
    {
      "cell_type": "code",
      "source": [
        "#Loja 3 - Criar duas listas com Data da Compra e Preço para o ano de 2022\n",
        "\n",
        "data_2022 = []\n",
        "preco_2022 = []\n",
        "\n",
        "for data, preco in zip(loja3['Data da Compra'], loja1['Preço']):\n",
        "  if '2022' in data:\n",
        "    data_2022.append(data)\n",
        "    preco_2022.append(preco)\n",
        "\n",
        "faturamento = sum(preco_2022)\n",
        "\n",
        "print(data_2022)\n",
        "print(preco_2022)\n",
        "print(round(faturamento, 2))"
      ],
      "metadata": {
        "colab": {
          "base_uri": "https://localhost:8080/"
        },
        "id": "kRg4bh2mPn7t",
        "outputId": "b17cbc54-06b8-4879-9ae9-b59fc260a805"
      },
      "execution_count": 49,
      "outputs": [
        {
          "output_type": "stream",
          "name": "stdout",
          "text": [
            "['22/03/2022', '12/01/2022', '20/11/2022', '01/05/2022', '03/05/2022', '25/09/2022', '31/01/2022', '17/02/2022', '17/08/2022', '01/10/2022', '19/09/2022', '29/08/2022', '24/06/2022', '26/08/2022', '07/09/2022', '30/08/2022', '27/08/2022', '19/11/2022', '28/11/2022', '20/03/2022', '02/04/2022', '29/04/2022', '24/12/2022', '16/06/2022', '05/12/2022', '26/07/2022', '15/07/2022', '22/08/2022', '15/03/2022', '07/10/2022', '02/10/2022', '08/02/2022', '20/04/2022', '01/12/2022', '12/05/2022', '05/03/2022', '24/03/2022', '21/06/2022', '11/02/2022', '10/12/2022', '11/07/2022', '04/12/2022', '22/06/2022', '22/11/2022', '29/07/2022', '10/12/2022', '27/05/2022', '10/08/2022', '19/07/2022', '17/07/2022', '20/01/2022', '06/04/2022', '02/11/2022', '20/11/2022', '20/01/2022', '24/12/2022', '31/03/2022', '21/01/2022', '08/11/2022', '08/07/2022', '29/03/2022', '05/08/2022', '08/04/2022', '28/04/2022', '26/06/2022', '09/11/2022', '06/11/2022', '17/12/2022', '28/06/2022', '25/01/2022', '16/06/2022', '03/04/2022', '19/01/2022', '03/09/2022', '06/09/2022', '19/11/2022', '01/01/2022', '11/06/2022', '17/11/2022', '05/03/2022', '05/06/2022', '25/03/2022', '17/04/2022', '23/02/2022', '15/09/2022', '07/08/2022', '05/05/2022', '15/06/2022', '23/09/2022', '01/08/2022', '21/10/2022', '02/05/2022', '17/09/2022', '17/03/2022', '10/02/2022', '25/06/2022', '06/01/2022', '09/08/2022', '18/05/2022', '24/02/2022', '06/03/2022', '08/08/2022', '20/10/2022', '24/04/2022', '02/09/2022', '01/01/2022', '14/12/2022', '17/08/2022', '20/11/2022', '08/06/2022', '29/07/2022', '03/07/2022', '13/07/2022', '01/12/2022', '17/10/2022', '30/09/2022', '10/10/2022', '15/06/2022', '22/01/2022', '10/07/2022', '09/02/2022', '11/05/2022', '14/02/2022', '19/04/2022', '17/01/2022', '26/02/2022', '21/01/2022', '13/04/2022', '18/08/2022', '05/09/2022', '01/10/2022', '02/08/2022', '18/07/2022', '28/02/2022', '01/02/2022', '29/01/2022', '01/08/2022', '17/06/2022', '03/02/2022', '13/06/2022', '05/01/2022', '10/02/2022', '01/03/2022', '08/01/2022', '07/09/2022', '19/12/2022', '16/05/2022', '21/08/2022', '30/12/2022', '24/09/2022', '15/12/2022', '03/09/2022', '13/03/2022', '29/12/2022', '18/08/2022', '02/04/2022', '02/02/2022', '06/05/2022', '12/07/2022', '14/06/2022', '05/09/2022', '28/06/2022', '04/06/2022', '27/05/2022', '09/12/2022', '08/04/2022', '28/12/2022', '29/10/2022', '14/08/2022', '14/05/2022', '29/01/2022', '24/09/2022', '27/08/2022', '25/10/2022', '10/07/2022', '03/04/2022', '17/04/2022', '15/04/2022', '04/02/2022', '05/11/2022', '01/06/2022', '05/06/2022', '01/08/2022', '14/03/2022', '23/09/2022', '30/09/2022', '29/05/2022', '01/08/2022', '30/06/2022', '05/08/2022', '21/02/2022', '28/03/2022', '07/07/2022', '18/07/2022', '22/05/2022', '13/06/2022', '21/06/2022', '22/05/2022', '27/07/2022', '27/07/2022', '08/12/2022', '26/02/2022', '28/07/2022', '27/11/2022', '31/05/2022', '19/02/2022', '20/12/2022', '05/11/2022', '16/04/2022', '24/03/2022', '27/01/2022', '25/03/2022', '25/09/2022', '28/03/2022', '07/03/2022', '24/08/2022', '04/02/2022', '31/05/2022', '16/08/2022', '13/06/2022', '07/01/2022', '12/09/2022', '02/05/2022', '15/07/2022', '01/06/2022', '09/03/2022', '19/04/2022', '21/07/2022', '28/10/2022', '09/05/2022', '04/04/2022', '14/12/2022', '03/03/2022', '11/03/2022', '02/05/2022', '29/09/2022', '02/02/2022', '10/11/2022', '14/01/2022', '04/12/2022', '11/11/2022', '01/08/2022', '07/01/2022', '10/08/2022', '28/07/2022', '04/11/2022', '02/09/2022', '25/05/2022', '23/04/2022', '14/03/2022', '25/10/2022', '25/12/2022', '10/08/2022', '19/12/2022', '12/12/2022', '30/09/2022', '20/03/2022', '31/01/2022', '03/07/2022', '06/06/2022', '23/12/2022', '01/11/2022', '28/04/2022', '29/11/2022', '15/05/2022', '26/05/2022', '15/12/2022', '09/10/2022', '22/07/2022', '27/02/2022', '18/07/2022', '05/10/2022', '21/04/2022', '27/05/2022', '27/11/2022', '06/08/2022', '20/04/2022', '21/04/2022', '13/02/2022', '07/02/2022', '05/01/2022', '15/09/2022', '07/11/2022', '24/11/2022', '27/06/2022', '05/01/2022', '03/02/2022', '05/11/2022', '20/04/2022', '08/01/2022', '25/03/2022', '10/04/2022', '26/09/2022', '05/04/2022', '01/02/2022', '05/08/2022', '22/11/2022', '28/05/2022', '03/03/2022', '02/07/2022', '23/05/2022', '25/02/2022', '07/09/2022', '27/10/2022', '10/07/2022', '18/06/2022', '11/09/2022', '18/04/2022', '29/12/2022', '11/08/2022', '01/07/2022', '02/03/2022', '15/10/2022', '22/08/2022', '26/10/2022', '03/12/2022', '01/01/2022', '20/09/2022', '21/09/2022', '24/12/2022', '26/10/2022', '23/05/2022', '11/06/2022', '01/02/2022', '04/12/2022', '24/12/2022', '27/08/2022', '07/01/2022', '07/10/2022', '21/09/2022', '08/01/2022', '03/06/2022', '07/12/2022', '23/12/2022', '27/07/2022', '07/08/2022', '21/04/2022', '08/07/2022', '11/12/2022', '05/09/2022', '18/12/2022', '15/07/2022', '13/12/2022', '18/03/2022', '22/04/2022', '11/02/2022', '10/01/2022', '16/08/2022', '15/03/2022', '16/01/2022', '13/12/2022', '30/05/2022', '30/06/2022', '23/07/2022', '27/03/2022', '04/12/2022', '23/11/2022', '19/04/2022', '15/09/2022', '16/07/2022', '27/08/2022', '27/07/2022', '03/09/2022', '26/06/2022', '01/12/2022', '22/05/2022', '07/06/2022', '15/12/2022', '11/06/2022', '13/12/2022', '15/10/2022', '03/09/2022', '03/10/2022', '05/03/2022', '04/01/2022', '13/09/2022', '10/03/2022', '31/01/2022', '18/11/2022', '22/10/2022', '06/03/2022', '15/08/2022', '17/11/2022', '11/10/2022', '27/04/2022', '21/04/2022', '19/05/2022', '01/08/2022', '16/03/2022', '19/10/2022', '05/12/2022', '10/07/2022', '18/02/2022', '20/04/2022', '25/11/2022', '18/09/2022', '21/07/2022', '25/11/2022', '17/10/2022', '06/07/2022', '10/09/2022', '09/11/2022', '16/04/2022', '24/10/2022', '03/01/2022', '05/07/2022', '24/10/2022', '10/08/2022', '23/11/2022', '03/09/2022', '10/08/2022', '08/07/2022', '16/02/2022', '15/02/2022', '09/09/2022', '24/10/2022', '30/10/2022', '03/10/2022', '08/11/2022', '15/12/2022', '12/02/2022', '29/10/2022', '14/08/2022', '12/02/2022', '05/07/2022', '21/03/2022', '12/05/2022', '15/10/2022', '10/02/2022', '19/06/2022', '15/09/2022', '14/03/2022', '13/07/2022', '18/05/2022', '25/06/2022', '15/11/2022', '27/07/2022', '07/09/2022', '26/06/2022', '25/04/2022', '11/03/2022', '07/08/2022', '24/02/2022', '26/11/2022', '27/04/2022', '27/02/2022', '02/06/2022', '09/10/2022', '09/06/2022', '23/03/2022', '20/07/2022', '31/01/2022', '03/02/2022', '16/02/2022', '06/06/2022', '29/06/2022', '11/05/2022', '16/05/2022', '10/03/2022', '19/02/2022', '17/12/2022', '26/06/2022', '19/02/2022', '08/09/2022', '23/11/2022', '30/11/2022', '13/08/2022', '26/03/2022', '20/04/2022', '12/07/2022', '21/03/2022', '05/01/2022', '13/07/2022', '10/04/2022', '08/02/2022', '06/04/2022', '17/07/2022', '27/12/2022', '09/01/2022', '25/10/2022', '02/04/2022', '03/12/2022', '19/03/2022', '23/02/2022', '26/09/2022', '22/12/2022', '24/07/2022', '17/11/2022', '19/05/2022', '09/12/2022', '28/02/2022', '28/09/2022', '16/03/2022', '20/01/2022', '01/07/2022', '25/11/2022', '15/10/2022', '25/09/2022', '10/11/2022', '15/12/2022', '16/12/2022', '18/08/2022', '24/07/2022', '16/12/2022', '19/10/2022', '17/06/2022', '19/11/2022', '13/01/2022', '13/02/2022', '13/07/2022', '01/06/2022', '21/05/2022', '06/12/2022', '17/06/2022', '09/07/2022', '08/07/2022', '20/07/2022', '20/09/2022', '26/10/2022', '17/05/2022', '02/10/2022', '04/11/2022', '20/04/2022', '26/05/2022', '19/11/2022', '23/02/2022', '07/12/2022', '10/02/2022', '07/12/2022', '25/05/2022', '31/01/2022', '06/05/2022', '05/01/2022', '29/06/2022', '24/10/2022', '22/06/2022', '15/01/2022', '09/02/2022', '04/05/2022', '17/08/2022', '26/01/2022', '12/07/2022', '03/01/2022', '18/04/2022', '14/01/2022', '14/04/2022', '17/01/2022', '30/01/2022', '30/06/2022', '07/09/2022', '09/05/2022', '06/06/2022', '30/03/2022', '22/09/2022', '01/03/2022', '03/06/2022', '25/11/2022', '26/11/2022', '09/11/2022', '13/07/2022', '20/01/2022', '02/05/2022', '23/09/2022', '21/05/2022', '03/05/2022', '15/09/2022', '11/10/2022', '08/02/2022', '27/11/2022', '28/05/2022', '27/06/2022', '15/06/2022', '01/10/2022', '09/03/2022', '29/09/2022', '31/01/2022', '09/06/2022', '13/09/2022', '14/12/2022', '04/12/2022', '13/03/2022', '16/06/2022', '23/08/2022', '22/07/2022', '28/09/2022', '09/09/2022', '23/01/2022', '28/04/2022', '01/01/2022', '12/01/2022', '21/03/2022', '10/06/2022', '05/08/2022', '30/01/2022', '06/06/2022', '26/03/2022', '11/10/2022', '20/10/2022', '04/02/2022', '31/03/2022', '13/09/2022', '10/03/2022', '19/10/2022', '18/07/2022', '22/06/2022', '05/01/2022', '12/08/2022', '20/11/2022', '01/10/2022', '12/04/2022', '19/02/2022', '13/06/2022', '08/06/2022', '08/09/2022', '15/11/2022', '16/11/2022', '27/08/2022', '05/08/2022', '23/11/2022', '03/11/2022', '03/04/2022', '07/10/2022', '18/08/2022', '25/03/2022', '31/08/2022', '30/09/2022', '13/12/2022', '19/05/2022', '12/10/2022', '11/08/2022', '25/06/2022', '19/05/2022', '30/04/2022', '03/10/2022', '10/11/2022', '01/01/2022', '16/08/2022', '02/10/2022', '22/03/2022', '16/06/2022', '11/03/2022', '01/11/2022', '26/04/2022', '28/12/2022', '07/07/2022', '24/06/2022', '05/09/2022', '24/06/2022', '15/04/2022', '25/09/2022', '05/11/2022', '14/09/2022', '08/01/2022', '06/10/2022', '14/07/2022', '28/02/2022', '24/01/2022', '24/10/2022', '14/10/2022', '05/08/2022', '20/08/2022', '15/05/2022', '17/03/2022', '25/07/2022', '05/01/2022', '22/01/2022', '17/04/2022', '07/01/2022', '06/05/2022', '06/11/2022', '24/01/2022', '04/02/2022', '03/07/2022', '29/06/2022', '28/11/2022', '02/03/2022', '19/09/2022', '09/09/2022', '12/05/2022', '07/10/2022', '01/08/2022', '15/01/2022', '18/04/2022', '22/11/2022', '29/04/2022', '11/12/2022', '17/08/2022', '22/01/2022', '24/04/2022', '25/04/2022', '25/09/2022', '24/09/2022', '19/02/2022', '05/06/2022', '03/12/2022', '15/07/2022', '28/11/2022', '16/12/2022', '22/05/2022', '25/02/2022', '31/03/2022', '24/04/2022', '24/08/2022', '23/01/2022', '11/09/2022', '02/03/2022', '18/12/2022', '23/08/2022', '24/11/2022', '13/04/2022', '22/05/2022', '01/06/2022', '20/02/2022', '04/02/2022', '30/11/2022', '01/08/2022', '12/03/2022', '14/01/2022', '14/09/2022', '21/05/2022', '11/05/2022', '18/12/2022', '19/10/2022', '15/04/2022', '12/06/2022', '19/02/2022', '21/08/2022', '03/09/2022', '25/10/2022', '15/08/2022', '29/12/2022', '27/12/2022', '12/08/2022', '07/10/2022', '01/06/2022', '23/09/2022', '21/09/2022', '21/10/2022', '23/06/2022', '24/05/2022']\n",
            "[1009.99, 446.99, 32.26, 1586.23, 100.26, 1889.5, 88.91, 78.53, 39.44, 185.17, 580.92, 67.73, 391.33, 105.48, 441.88, 74.16, 32.94, 83.08, 407.18, 91.05, 684.48, 18.55, 320.35, 536.25, 22.86, 807.7, 167.81, 24.39, 17.11, 98.74, 70.68, 333.47, 147.99, 378.87, 185.52, 112.75, 174.39, 55.96, 633.45, 96.77, 65.86, 44.68, 935.91, 73.75, 714.47, 229.77, 52.97, 89.19, 3682.05, 243.75, 46.67, 926.84, 1809.14, 83.2, 74.15, 40.71, 677.41, 3830.38, 601.96, 37.49, 39.36, 11.47, 2094.53, 217.87, 289.4, 65.04, 46.2, 53.09, 862.54, 359.51, 49.96, 1121.4, 447.98, 116.95, 3240.02, 104.0, 47.04, 1337.09, 188.27, 98.22, 40.98, 324.23, 24.83, 651.21, 197.5, 634.32, 482.76, 263.85, 61.72, 235.07, 988.27, 23.75, 1362.06, 91.39, 1298.32, 467.69, 302.7, 1976.24, 2813.37, 192.37, 568.47, 60.39, 318.96, 51.3, 3193.24, 90.71, 1208.97, 43.16, 56.37, 2008.4, 56.58, 128.28, 169.17, 569.96, 27.7, 89.99, 1195.35, 542.45, 313.94, 63.47, 498.95, 171.9, 53.79, 74.44, 26.7, 56.56, 690.77, 107.02, 60.42, 150.18, 26.96, 101.9, 323.19, 42.21, 1540.14, 2761.79, 110.59, 57.25, 297.78, 149.59, 368.58, 1910.43, 32.45, 86.55, 51.49, 82.27, 12.72, 37.26, 94.0, 2268.88, 22.58, 987.27, 1541.5, 1553.61, 20.28, 21.74, 50.65, 1997.95, 739.02, 1711.32, 79.7, 107.88, 85.79, 402.45, 57.21, 74.25, 102.03, 35.74, 776.66, 142.75, 537.42, 614.37, 26.5, 269.81, 1800.71, 21.12, 33.69, 600.61, 3245.3, 3118.95, 633.26, 682.94, 2447.05, 1236.67, 1925.48, 99.69, 1149.19, 1108.63, 102.41, 395.06, 92.17, 43.38, 103.81, 906.63, 2408.03, 1432.66, 67.97, 62.15, 2097.89, 288.87, 60.7, 106.27, 416.21, 333.37, 392.14, 492.76, 96.32, 422.98, 97.66, 113.57, 18.77, 773.21, 286.43, 110.51, 64.91, 68.58, 52.56, 61.05, 746.32, 209.99, 68.29, 105.99, 20.5, 833.85, 50.11, 1201.03, 949.94, 58.93, 1130.91, 207.51, 62.52, 677.22, 364.48, 404.53, 65.93, 474.13, 72.54, 21.55, 1303.92, 1800.41, 59.03, 85.52, 1833.57, 1271.79, 23.08, 990.86, 803.21, 88.75, 85.12, 380.94, 370.74, 42.97, 85.94, 17.91, 641.71, 334.69, 1765.53, 34.67, 52.16, 667.97, 970.53, 558.3, 46.47, 1082.54, 3769.8, 325.44, 24.45, 1946.17, 1128.04, 699.75, 33.97, 1333.28, 78.98, 897.26, 2026.87, 111.53, 151.91, 40.28, 35.72, 318.28, 18.1, 1600.92, 418.05, 24.54, 203.11, 79.27, 72.27, 66.3, 73.96, 654.6, 926.01, 330.4, 163.89, 367.46, 1163.84, 47.31, 1899.3, 20.33, 27.35, 912.34, 39.34, 489.12, 25.3, 39.89, 62.1, 428.95, 76.69, 69.25, 339.76, 108.76, 228.15, 2444.31, 542.47, 400.05, 36.29, 378.35, 63.3, 212.36, 538.65, 77.37, 421.87, 69.62, 3742.56, 2520.5, 323.0, 19.8, 2494.48, 48.32, 107.31, 514.26, 319.37, 95.25, 76.08, 2414.21, 2030.77, 999.77, 68.87, 931.27, 41.65, 2269.44, 3966.67, 627.83, 1005.47, 169.65, 544.17, 1246.92, 522.67, 42.3, 111.94, 40.09, 436.4, 346.19, 85.94, 44.54, 35.02, 437.54, 201.27, 400.86, 78.3, 183.35, 102.01, 3428.3, 2583.82, 310.78, 10.58, 2851.36, 35.05, 267.18, 104.98, 134.02, 1892.2, 683.78, 2065.14, 1613.8, 1999.81, 660.87, 19.8, 68.1, 86.59, 124.92, 980.13, 27.0, 269.3, 81.7, 167.1, 23.62, 684.74, 2295.91, 929.2, 679.93, 71.63, 88.02, 891.78, 56.03, 3712.69, 72.62, 88.81, 670.41, 36.79, 75.13, 3555.39, 1732.36, 425.47, 111.65, 38.86, 690.26, 41.37, 403.12, 343.69, 431.16, 438.43, 3399.04, 120.8, 1294.97, 523.91, 54.86, 1619.45, 41.76, 57.53, 76.93, 25.67, 150.7, 138.57, 971.36, 906.95, 69.42, 47.96, 456.99, 91.33, 74.44, 392.29, 99.75, 73.05, 439.58, 34.52, 36.59, 76.33, 1424.63, 568.55, 143.04, 929.17, 370.74, 974.02, 1765.73, 16.82, 238.59, 311.24, 66.03, 2424.54, 77.1, 32.95, 58.73, 472.77, 14.43, 2012.13, 290.85, 76.05, 930.5, 75.02, 357.51, 56.72, 657.9, 62.93, 41.76, 59.41, 177.78, 70.23, 83.46, 59.19, 49.22, 64.18, 1123.16, 180.46, 901.92, 1016.19, 723.8, 56.8, 35.91, 263.29, 209.26, 34.59, 1787.09, 641.21, 271.28, 724.3, 23.72, 354.92, 2264.7, 339.99, 456.91, 468.0, 24.5, 806.8, 325.91, 86.63, 81.41, 176.08, 1708.94, 12.97, 101.31, 391.32, 88.85, 1092.57, 563.04, 41.87, 2239.38, 426.37, 356.61, 40.0, 1886.81, 2924.32, 46.16, 193.05, 34.21, 672.69, 111.41, 766.15, 1027.0, 1957.59, 401.38, 82.17, 278.2, 77.4, 63.72, 36.42, 1635.24, 1679.47, 326.83, 194.27, 160.54, 49.42, 2829.24, 41.97, 64.73, 74.95, 49.48, 626.49, 1218.13, 906.67, 89.21, 51.18, 45.04, 24.35, 99.54, 1398.25, 404.84, 2215.84, 633.86, 1922.67, 121.5, 19.82, 154.18, 552.53, 329.44, 915.31, 84.45, 1570.84, 72.73, 64.19, 1252.68, 143.46, 59.44, 213.47, 1058.56, 1428.65, 63.39, 1049.89, 897.97, 297.63, 49.08, 1137.73, 3655.0, 99.55, 50.27, 219.42, 229.86, 915.43, 87.49, 62.23, 1336.36, 679.15, 799.12, 65.52, 298.7, 847.66, 41.45, 296.91, 45.53, 16.76, 861.08, 355.22, 489.48, 80.22, 70.97, 37.46, 131.1, 44.06, 569.48, 377.17, 71.48, 62.05, 243.87, 45.89, 193.23, 1361.43, 190.43, 70.9, 2551.23, 1623.33, 23.76, 1278.75, 635.58, 3448.51, 23.44, 929.32, 98.18, 748.63, 636.62, 990.24, 68.72, 33.39, 2383.97, 855.11, 69.48, 26.45, 2977.24, 53.82, 29.17, 1321.29, 36.9, 45.42, 73.49, 696.92, 343.45, 81.89, 52.32, 2125.74, 371.11, 73.85, 2528.67, 2167.03, 231.67, 528.29, 1908.18, 28.89, 1054.22, 1975.66, 36.18, 132.06, 996.55, 313.35, 658.44, 730.84, 97.35, 111.93, 1538.12, 664.51, 76.77, 1045.43, 89.65, 2789.01, 53.62, 200.58, 1282.2, 927.62, 219.3, 2580.24, 50.26, 991.64, 851.5, 3314.11, 28.57, 285.7, 783.56, 181.19, 568.83, 204.81, 28.17, 2493.77, 41.11, 3025.44, 115.92, 972.79, 238.95, 311.37, 408.11, 864.83, 1185.7, 194.37, 413.23, 21.43, 50.53, 41.11, 689.82, 1088.7, 87.82, 11.35, 78.2, 428.48, 65.38, 23.18, 101.42, 484.59, 574.25, 39.43, 66.38, 71.86, 181.79, 1402.71, 43.28, 2729.32, 119.08, 39.95, 754.45, 3346.69, 1565.75, 147.81, 254.48, 405.52, 850.57, 443.87, 145.74, 375.89, 137.68, 339.25, 245.52, 259.56, 43.5, 33.52, 373.3, 1140.93, 50.68, 10.84, 1808.99, 597.95, 76.31, 53.95, 1712.54, 377.02, 259.95]\n",
            "428097.93\n"
          ]
        }
      ]
    },
    {
      "cell_type": "code",
      "source": [
        "#Loja 4 - Criar duas listas com Data da Compra e Preço para o ano de 2020\n",
        "\n",
        "data_2020 = []\n",
        "preco_2020 = []\n",
        "\n",
        "for data, preco in zip(loja4['Data da Compra'], loja1['Preço']):\n",
        "  if '2020' in data:\n",
        "    data_2020.append(data)\n",
        "    preco_2020.append(preco)\n",
        "\n",
        "faturamento = sum(preco_2020)\n",
        "\n",
        "print(data_2020)\n",
        "print(preco_2020)\n",
        "print(round(faturamento, 2))"
      ],
      "metadata": {
        "colab": {
          "base_uri": "https://localhost:8080/"
        },
        "id": "2suf47HZP-1c",
        "outputId": "1bc7744a-1da1-47a1-ee4b-0d6f43b85c42"
      },
      "execution_count": 50,
      "outputs": [
        {
          "output_type": "stream",
          "name": "stdout",
          "text": [
            "['03/01/2020', '30/05/2020', '16/09/2020', '21/11/2020', '14/05/2020', '29/12/2020', '11/03/2020', '09/11/2020', '12/07/2020', '31/03/2020', '28/08/2020', '22/04/2020', '08/08/2020', '08/06/2020', '04/01/2020', '20/03/2020', '08/02/2020', '12/11/2020', '25/08/2020', '24/06/2020', '07/08/2020', '06/04/2020', '13/01/2020', '12/11/2020', '25/06/2020', '27/11/2020', '29/11/2020', '22/04/2020', '28/01/2020', '27/12/2020', '05/02/2020', '09/11/2020', '12/03/2020', '14/04/2020', '04/01/2020', '12/08/2020', '11/03/2020', '20/12/2020', '09/05/2020', '27/04/2020', '02/01/2020', '28/04/2020', '18/02/2020', '22/11/2020', '21/06/2020', '16/07/2020', '16/04/2020', '23/01/2020', '24/12/2020', '22/08/2020', '13/01/2020', '06/09/2020', '17/05/2020', '16/09/2020', '23/09/2020', '11/09/2020', '15/06/2020', '19/05/2020', '03/06/2020', '21/09/2020', '21/08/2020', '15/04/2020', '26/04/2020', '07/12/2020', '12/09/2020', '04/06/2020', '26/05/2020', '16/05/2020', '12/12/2020', '24/05/2020', '02/08/2020', '04/08/2020', '18/11/2020', '12/11/2020', '27/07/2020', '30/11/2020', '07/06/2020', '15/07/2020', '12/05/2020', '25/02/2020', '20/03/2020', '10/12/2020', '29/03/2020', '25/05/2020', '04/11/2020', '16/07/2020', '20/11/2020', '11/11/2020', '21/07/2020', '02/03/2020', '20/02/2020', '28/05/2020', '28/06/2020', '04/11/2020', '09/09/2020', '13/03/2020', '04/11/2020', '25/09/2020', '15/03/2020', '16/01/2020', '16/11/2020', '15/04/2020', '07/01/2020', '18/04/2020', '13/11/2020', '21/08/2020', '16/05/2020', '26/07/2020', '06/03/2020', '05/09/2020', '10/03/2020', '21/05/2020', '22/07/2020', '21/12/2020', '22/07/2020', '11/05/2020', '09/05/2020', '11/06/2020', '14/06/2020', '05/06/2020', '10/06/2020', '23/08/2020', '28/10/2020', '16/12/2020', '03/09/2020', '03/10/2020', '14/10/2020', '28/01/2020', '14/10/2020', '31/05/2020', '18/12/2020', '10/06/2020', '01/02/2020', '10/11/2020', '22/12/2020', '24/03/2020', '13/06/2020', '06/11/2020', '05/03/2020', '24/03/2020', '15/08/2020', '30/09/2020', '27/01/2020', '28/12/2020', '30/12/2020', '01/04/2020', '25/02/2020', '13/11/2020', '18/11/2020', '25/04/2020', '19/04/2020', '13/08/2020', '06/04/2020', '26/05/2020', '13/12/2020', '13/11/2020', '21/12/2020', '11/02/2020', '10/07/2020', '05/03/2020', '10/08/2020', '15/04/2020', '12/04/2020', '05/02/2020', '06/09/2020', '02/03/2020', '05/04/2020', '23/07/2020', '21/07/2020', '09/05/2020', '25/01/2020', '21/01/2020', '27/03/2020', '27/11/2020', '16/02/2020', '18/03/2020', '09/07/2020', '30/06/2020', '19/08/2020', '05/06/2020', '06/09/2020', '01/03/2020', '02/01/2020', '28/03/2020', '13/08/2020', '06/06/2020', '16/01/2020', '20/09/2020', '11/11/2020', '27/05/2020', '31/08/2020', '16/03/2020', '18/03/2020', '25/06/2020', '22/04/2020', '05/04/2020', '30/05/2020', '26/04/2020', '28/07/2020', '15/02/2020', '12/03/2020', '11/05/2020', '18/11/2020', '19/02/2020', '26/02/2020', '29/10/2020', '20/06/2020', '21/01/2020', '15/02/2020', '04/11/2020', '30/11/2020', '10/02/2020', '30/11/2020', '20/11/2020', '01/12/2020', '19/02/2020', '16/05/2020', '10/08/2020', '21/11/2020', '14/11/2020', '22/05/2020', '08/08/2020', '02/07/2020', '10/03/2020', '14/05/2020', '18/05/2020', '29/01/2020', '29/08/2020', '26/06/2020', '23/02/2020', '11/04/2020', '13/05/2020', '19/10/2020', '16/07/2020', '18/06/2020', '13/11/2020', '22/01/2020', '08/03/2020', '28/12/2020', '07/02/2020', '26/09/2020', '27/02/2020', '01/09/2020', '07/03/2020', '06/05/2020', '30/09/2020', '03/05/2020', '22/02/2020', '24/08/2020', '28/04/2020', '15/08/2020', '23/09/2020', '30/07/2020', '22/10/2020', '27/01/2020', '28/06/2020', '03/04/2020', '17/08/2020', '28/08/2020', '09/08/2020', '13/04/2020', '11/02/2020', '07/02/2020', '07/04/2020', '23/02/2020', '06/07/2020', '17/02/2020', '12/01/2020', '14/11/2020', '08/07/2020', '07/07/2020', '13/10/2020', '23/05/2020', '26/06/2020', '11/11/2020', '19/04/2020', '28/09/2020', '28/10/2020', '15/02/2020', '05/11/2020', '15/08/2020', '27/02/2020', '02/04/2020', '31/08/2020', '04/11/2020', '13/05/2020', '22/01/2020', '24/07/2020', '01/12/2020', '11/03/2020', '07/02/2020', '16/04/2020', '12/07/2020', '17/06/2020', '12/11/2020', '07/09/2020', '09/01/2020', '16/04/2020', '21/01/2020', '07/02/2020', '17/06/2020', '22/09/2020', '08/05/2020', '25/07/2020', '30/11/2020', '29/11/2020', '19/11/2020', '03/02/2020', '31/10/2020', '10/03/2020', '20/03/2020', '09/07/2020', '08/04/2020', '16/10/2020', '01/12/2020', '05/08/2020', '18/06/2020', '13/10/2020', '07/01/2020', '23/12/2020', '25/09/2020', '03/03/2020', '20/03/2020', '11/03/2020', '25/07/2020', '18/11/2020', '01/09/2020', '21/01/2020', '07/03/2020', '09/12/2020', '25/02/2020', '30/06/2020', '09/06/2020', '28/02/2020', '17/03/2020', '11/09/2020', '20/09/2020', '11/08/2020', '11/11/2020', '20/11/2020', '20/02/2020', '08/07/2020', '24/03/2020', '24/10/2020', '20/07/2020', '17/12/2020', '17/09/2020', '29/04/2020', '09/02/2020', '16/07/2020', '25/10/2020', '11/08/2020', '12/01/2020', '16/12/2020', '13/11/2020', '27/01/2020', '17/02/2020', '12/01/2020', '21/07/2020', '27/11/2020', '10/04/2020', '13/11/2020', '29/01/2020', '13/11/2020', '17/03/2020', '14/06/2020', '24/06/2020', '14/07/2020', '24/09/2020', '20/05/2020', '27/05/2020', '08/12/2020', '14/06/2020', '20/07/2020', '22/01/2020', '10/08/2020', '09/04/2020', '01/12/2020', '21/09/2020', '22/03/2020', '25/08/2020', '09/09/2020', '16/12/2020', '31/10/2020', '01/01/2020', '03/04/2020', '24/12/2020', '28/03/2020', '29/11/2020', '23/05/2020', '19/07/2020', '19/04/2020', '25/02/2020', '16/12/2020', '22/11/2020', '31/07/2020', '19/02/2020', '29/12/2020', '29/06/2020', '10/05/2020', '13/07/2020', '08/11/2020', '29/03/2020', '08/06/2020', '09/10/2020', '24/04/2020', '20/06/2020', '12/05/2020', '09/09/2020', '05/10/2020', '11/07/2020', '11/09/2020', '15/11/2020', '02/05/2020', '13/01/2020', '05/12/2020', '23/07/2020', '28/09/2020', '02/02/2020', '07/03/2020', '06/02/2020', '24/12/2020', '06/10/2020', '10/03/2020', '22/03/2020', '20/01/2020', '29/05/2020', '14/10/2020', '30/08/2020', '27/05/2020', '10/12/2020', '15/04/2020', '28/03/2020', '08/03/2020', '13/12/2020', '08/11/2020', '11/12/2020', '11/08/2020', '12/03/2020', '18/09/2020', '19/12/2020', '27/08/2020', '12/12/2020', '25/12/2020', '28/09/2020', '06/02/2020', '13/03/2020', '27/03/2020', '05/09/2020', '24/01/2020', '08/01/2020', '06/10/2020', '05/01/2020', '21/06/2020', '01/09/2020', '15/10/2020', '29/07/2020', '03/08/2020', '15/07/2020', '30/12/2020', '28/03/2020', '16/05/2020', '20/01/2020', '17/05/2020', '11/06/2020', '04/08/2020', '08/08/2020', '21/04/2020', '16/07/2020', '01/05/2020', '15/01/2020', '13/07/2020', '28/01/2020', '13/07/2020', '02/10/2020', '25/04/2020', '28/11/2020', '28/11/2020', '04/10/2020', '01/06/2020', '29/05/2020', '14/08/2020', '20/12/2020', '30/06/2020', '04/12/2020', '20/12/2020', '29/04/2020', '06/05/2020', '31/01/2020', '29/04/2020', '12/03/2020', '11/07/2020', '22/09/2020', '26/08/2020', '06/12/2020', '28/08/2020', '03/04/2020', '04/09/2020', '19/04/2020', '03/06/2020', '13/01/2020', '01/03/2020', '18/04/2020', '08/11/2020', '01/11/2020', '13/11/2020', '12/11/2020', '01/06/2020', '27/08/2020', '08/05/2020', '04/01/2020', '11/09/2020', '12/01/2020', '23/03/2020', '18/11/2020', '05/09/2020', '15/04/2020', '30/11/2020', '15/05/2020', '29/04/2020', '23/09/2020', '29/05/2020', '23/02/2020', '21/06/2020', '25/07/2020', '30/04/2020', '26/08/2020', '03/09/2020', '31/01/2020', '12/02/2020', '25/03/2020', '07/08/2020', '17/04/2020', '20/12/2020', '27/12/2020', '20/03/2020', '26/04/2020', '04/04/2020', '02/06/2020', '30/04/2020', '02/04/2020', '18/01/2020', '21/08/2020', '17/11/2020', '23/10/2020', '27/06/2020', '07/04/2020', '26/10/2020', '20/11/2020', '27/05/2020', '26/08/2020', '18/01/2020', '07/11/2020', '13/04/2020', '25/05/2020', '28/03/2020', '21/09/2020', '16/11/2020', '25/12/2020', '10/05/2020', '20/05/2020', '19/04/2020', '04/02/2020', '26/05/2020', '15/03/2020', '30/03/2020', '21/08/2020', '16/09/2020', '06/02/2020', '19/07/2020', '03/08/2020', '17/11/2020', '04/10/2020', '15/01/2020', '26/08/2020', '25/02/2020', '24/04/2020', '28/04/2020', '06/11/2020', '14/03/2020', '30/06/2020', '15/07/2020', '24/01/2020', '26/02/2020', '30/01/2020', '10/03/2020', '26/11/2020', '13/03/2020', '20/08/2020', '14/07/2020', '21/11/2020', '12/01/2020', '27/04/2020', '05/03/2020', '23/02/2020', '11/10/2020', '17/02/2020', '05/12/2020', '25/04/2020', '22/12/2020', '10/06/2020', '14/05/2020', '10/03/2020', '05/08/2020', '17/12/2020', '30/05/2020', '28/06/2020', '05/01/2020', '29/01/2020', '22/07/2020', '29/02/2020', '20/05/2020', '08/11/2020', '27/09/2020', '28/03/2020', '03/01/2020', '21/11/2020', '20/05/2020', '16/05/2020', '16/10/2020', '10/11/2020', '25/03/2020', '17/06/2020', '24/07/2020', '13/11/2020', '30/07/2020', '08/05/2020', '17/12/2020', '30/12/2020', '18/08/2020', '16/04/2020', '01/05/2020', '10/10/2020', '29/08/2020', '12/02/2020', '22/04/2020', '20/10/2020', '12/04/2020', '29/05/2020', '16/09/2020', '31/05/2020', '21/08/2020', '07/12/2020', '27/01/2020', '09/04/2020', '22/02/2020', '18/05/2020', '06/02/2020', '11/12/2020', '26/06/2020', '09/03/2020', '18/03/2020', '02/02/2020', '17/04/2020', '07/04/2020', '16/11/2020', '03/04/2020', '24/06/2020', '27/05/2020', '28/10/2020', '06/11/2020', '11/09/2020', '18/07/2020', '15/09/2020', '11/11/2020', '16/08/2020', '24/01/2020', '28/04/2020', '08/09/2020', '12/08/2020', '21/02/2020', '19/11/2020', '20/12/2020', '16/10/2020', '16/07/2020', '11/02/2020', '28/02/2020', '15/01/2020', '03/07/2020', '21/01/2020', '16/11/2020', '22/07/2020', '12/09/2020', '27/01/2020', '17/08/2020', '20/06/2020', '23/04/2020', '13/04/2020', '19/11/2020', '14/11/2020', '26/10/2020', '18/02/2020', '01/09/2020', '15/03/2020', '01/12/2020', '12/12/2020', '23/08/2020', '19/03/2020', '26/07/2020', '01/06/2020', '03/06/2020', '22/05/2020', '20/07/2020', '24/12/2020', '16/08/2020', '11/12/2020', '16/09/2020', '29/09/2020', '29/01/2020', '22/10/2020', '16/05/2020', '20/04/2020', '03/04/2020', '14/01/2020', '25/11/2020', '26/10/2020', '28/05/2020', '20/03/2020', '02/08/2020', '27/09/2020', '08/11/2020', '26/02/2020', '31/12/2020', '01/08/2020', '12/01/2020', '26/12/2020', '15/09/2020', '27/11/2020', '19/01/2020', '15/09/2020', '09/04/2020', '07/04/2020', '29/11/2020', '25/04/2020', '11/05/2020', '11/09/2020', '23/06/2020', '21/05/2020', '18/02/2020', '21/07/2020', '25/07/2020', '23/12/2020', '18/07/2020', '12/02/2020', '15/06/2020']\n",
            "[256.35, 32.26, 1889.5, 122.42, 78.53, 39.44, 185.17, 67.73, 391.33, 24.58, 74.16, 83.08, 436.23, 320.35, 571.09, 840.05, 22.86, 807.7, 17.11, 98.74, 391.78, 3367.25, 1600.38, 333.47, 147.99, 1594.71, 191.4, 535.83, 491.6, 56.18, 47.03, 549.97, 579.5, 963.53, 104.39, 30.41, 89.19, 3682.05, 59.2, 952.33, 926.84, 83.2, 1454.34, 40.71, 215.52, 903.48, 30.16, 1204.87, 40.4, 601.96, 37.49, 57.26, 877.54, 70.8, 86.66, 79.48, 54.41, 362.7, 58.62, 53.09, 142.64, 359.51, 384.97, 53.58, 49.96, 67.89, 631.8, 2505.72, 871.73, 884.13, 2120.55, 3240.02, 104.0, 76.1, 40.98, 1600.36, 651.21, 80.12, 482.76, 670.91, 401.83, 427.06, 790.74, 980.46, 391.92, 986.73, 235.07, 23.75, 1362.06, 3386.44, 1027.39, 302.7, 3208.54, 3109.99, 127.4, 77.91, 950.37, 606.36, 2249.33, 65.81, 51.3, 45.91, 1208.97, 857.34, 161.39, 594.09, 472.29, 32.21, 837.19, 903.13, 72.34, 667.67, 1149.97, 363.8, 27.7, 1236.9, 28.18, 10.45, 2856.32, 74.44, 210.56, 71.39, 876.45, 51.78, 253.07, 697.51, 253.17, 107.02, 15.37, 57.63, 10.07, 60.42, 2072.6, 26.96, 323.19, 524.55, 236.16, 2761.79, 527.47, 57.25, 37.13, 286.8, 373.88, 347.75, 54.61, 149.59, 258.77, 1181.49, 339.82, 1910.43, 22.12, 1275.79, 56.82, 82.27, 126.59, 94.0, 76.83, 44.25, 2828.63, 2414.98, 74.67, 1553.61, 20.28, 831.95, 57.18, 174.84, 107.88, 210.8, 1176.23, 314.91, 35.74, 642.07, 872.27, 537.42, 357.61, 1800.71, 40.75, 21.12, 2060.2, 297.81, 57.63, 66.21, 242.62, 72.79, 58.27, 61.75, 1124.09, 2447.05, 1236.67, 88.66, 1522.65, 1137.91, 1787.53, 643.56, 2003.89, 645.87, 39.62, 791.91, 34.27, 43.38, 103.81, 116.76, 826.62, 62.75, 1507.74, 368.31, 58.5, 288.87, 2821.51, 293.28, 73.59, 992.84, 333.37, 3332.58, 1886.35, 1224.97, 37.7, 69.45, 92.21, 369.99, 66.57, 492.76, 944.36, 841.74, 267.89, 1370.05, 275.2, 97.66, 899.96, 49.79, 2054.11, 18.77, 814.04, 333.52, 1245.97, 305.56, 64.91, 68.58, 1421.6, 2524.58, 209.99, 68.29, 105.99, 20.5, 257.68, 214.73, 62.52, 1483.03, 404.53, 2004.12, 233.0, 1800.41, 1043.01, 20.65, 114.56, 85.52, 23.08, 204.58, 105.98, 1011.43, 42.97, 22.83, 85.94, 49.91, 423.96, 54.68, 863.14, 753.8, 1110.7, 219.88, 3769.8, 467.06, 948.05, 325.44, 491.74, 1946.17, 250.47, 1333.28, 21.28, 1496.64, 972.95, 2026.87, 233.58, 318.28, 2387.75, 318.02, 148.59, 345.59, 341.95, 964.84, 20.65, 203.11, 51.31, 66.3, 283.51, 103.49, 92.37, 20.33, 373.29, 27.35, 152.16, 912.34, 35.98, 890.74, 427.64, 53.42, 881.81, 517.29, 312.45, 23.76, 1918.51, 428.95, 108.76, 361.03, 90.64, 295.96, 36.29, 150.16, 538.65, 77.37, 379.15, 346.23, 2006.43, 2520.5, 645.44, 1451.86, 33.53, 2494.48, 514.26, 35.76, 1690.25, 650.81, 19.07, 290.5, 139.86, 88.91, 1575.57, 1417.59, 88.6, 544.17, 335.52, 279.11, 281.35, 53.05, 1249.74, 1246.92, 111.94, 1156.68, 2249.86, 436.4, 85.94, 42.47, 56.64, 198.66, 212.91, 50.06, 1340.42, 2583.82, 1306.92, 2851.36, 656.28, 95.01, 1368.02, 604.64, 365.46, 834.31, 45.68, 113.58, 728.67, 780.19, 1613.8, 1999.81, 57.06, 1737.14, 2288.54, 964.94, 295.32, 354.24, 1295.57, 153.17, 257.55, 929.2, 71.63, 384.2, 14.01, 828.92, 602.58, 891.78, 337.49, 3712.69, 110.02, 228.46, 88.81, 401.04, 36.79, 41.27, 3555.39, 425.47, 38.86, 403.12, 287.09, 1937.74, 37.42, 238.73, 1572.45, 523.91, 54.86, 2342.38, 41.76, 63.96, 57.53, 76.93, 458.06, 1153.06, 93.95, 25.67, 2540.79, 75.19, 150.7, 925.16, 971.36, 47.96, 41.66, 1068.33, 456.99, 396.97, 36.59, 76.33, 1424.63, 694.94, 835.73, 1657.76, 1233.13, 1864.15, 42.02, 2008.55, 297.7, 829.33, 1461.16, 19.96, 16.82, 347.48, 136.71, 699.31, 311.24, 153.62, 2462.2, 324.62, 32.95, 58.73, 2012.13, 1400.06, 48.01, 75.02, 56.72, 62.93, 277.82, 350.46, 1042.85, 70.23, 277.78, 102.25, 866.97, 128.85, 627.78, 254.63, 2556.1, 456.08, 36.63, 350.5, 85.17, 59.53, 173.76, 49.22, 960.58, 3157.95, 901.92, 1016.19, 52.81, 1058.88, 127.42, 35.91, 1736.83, 66.77, 3449.89, 688.8, 641.21, 264.88, 51.88, 354.92, 2264.7, 339.99, 1273.07, 72.91, 79.03, 58.72, 34.59, 1708.94, 27.07, 968.79, 50.27, 1092.57, 563.04, 181.71, 116.7, 287.36, 426.37, 59.69, 356.61, 432.38, 3227.68, 49.19, 46.16, 34.21, 86.33, 125.87, 19.31, 300.65, 666.9, 865.48, 1957.59, 50.25, 2217.84, 627.94, 51.66, 258.24, 229.47, 77.4, 1635.24, 94.88, 46.06, 1679.47, 1929.54, 326.83, 3169.69, 1981.92, 160.54, 3310.93, 49.42, 2829.24, 64.73, 23.94, 446.27, 49.48, 626.49, 1771.33, 23.5, 73.73, 906.67, 76.68, 51.18, 602.41, 386.78, 239.97, 45.04, 77.3, 24.35, 323.96, 62.87, 404.84, 2215.84, 2204.56, 390.22, 43.21, 1574.62, 419.04, 502.22, 1750.87, 74.04, 1428.65, 1049.89, 2589.57, 288.45, 49.08, 2236.47, 3655.0, 99.55, 50.27, 88.05, 813.21, 1414.54, 1846.51, 915.43, 1284.36, 344.57, 195.04, 23.8, 646.85, 49.86, 29.46, 1336.36, 306.89, 76.5, 799.12, 295.58, 65.52, 670.63, 521.32, 1180.92, 362.17, 749.27, 163.93, 3270.51, 975.15, 1061.09, 379.37, 617.69, 62.05, 193.23, 375.61, 43.02, 751.38, 27.01, 110.31, 66.06, 1623.33, 23.76, 791.81, 748.63, 636.62, 232.24, 82.32, 2927.76, 837.41, 370.93, 2000.13, 43.35, 26.45, 48.18, 35.37, 72.17, 159.9, 68.89, 2064.81, 75.34, 1248.22, 45.42, 860.62, 61.73, 347.16, 1777.73, 2548.17, 697.39, 74.5, 73.85, 2528.67, 923.97, 231.67, 528.29, 62.19, 288.43, 44.26, 969.21, 979.67, 353.35, 36.18, 1268.08, 105.99, 977.55, 837.81, 117.58, 338.83, 996.55, 313.35, 28.86, 112.3, 94.5, 30.48, 73.07, 658.44, 84.23, 588.25, 643.62, 146.24, 1538.12, 67.78, 326.2, 58.64, 50.64, 53.62, 213.23, 63.32, 2600.35, 219.3, 884.41, 340.93, 64.37, 90.42, 158.12, 1788.02, 982.19, 28.17, 2680.46, 972.79, 229.11, 3317.46, 183.21, 464.71, 41.11, 276.47, 430.28, 2355.32, 409.61, 537.02, 784.89, 275.98, 57.81, 2389.18, 65.38, 101.42, 484.59, 49.12, 435.23, 39.43, 116.36, 71.86, 659.77, 233.98, 649.19, 605.27, 52.41, 119.08, 46.16, 754.45, 1565.75, 12.9, 201.68, 1492.31, 405.52, 850.57, 287.6, 338.27, 137.68, 3081.76, 1175.85, 437.03, 373.3, 50.68, 637.67, 63.95, 303.76, 425.78, 37.76, 53.95, 163.82]\n",
            "479308.59\n"
          ]
        }
      ]
    },
    {
      "cell_type": "code",
      "source": [
        "#Loja 4 - Criar duas listas com Data da Compra e Preço para o ano de 2021\n",
        "\n",
        "data_2021 = []\n",
        "preco_2021 = []\n",
        "\n",
        "for data, preco in zip(loja4['Data da Compra'], loja1['Preço']):\n",
        "  if '2021' in data:\n",
        "    data_2021.append(data)\n",
        "    preco_2021.append(preco)\n",
        "\n",
        "faturamento = sum(preco_2021)\n",
        "\n",
        "print(data_2021)\n",
        "print(preco_2021)\n",
        "print(round(faturamento, 2))"
      ],
      "metadata": {
        "colab": {
          "base_uri": "https://localhost:8080/"
        },
        "id": "uxPDjAT7P-rY",
        "outputId": "ab6f95f2-47a3-4276-a78c-7dd187e8c7bd"
      },
      "execution_count": 51,
      "outputs": [
        {
          "output_type": "stream",
          "name": "stdout",
          "text": [
            "['23/11/2021', '11/07/2021', '31/12/2021', '21/07/2021', '27/05/2021', '06/11/2021', '30/10/2021', '15/08/2021', '30/04/2021', '13/10/2021', '10/07/2021', '30/09/2021', '02/09/2021', '30/10/2021', '09/03/2021', '11/01/2021', '11/10/2021', '02/03/2021', '08/05/2021', '08/07/2021', '11/07/2021', '07/03/2021', '18/04/2021', '10/12/2021', '22/07/2021', '01/02/2021', '15/03/2021', '14/03/2021', '26/03/2021', '24/12/2021', '17/07/2021', '01/06/2021', '31/10/2021', '15/03/2021', '18/05/2021', '18/06/2021', '22/04/2021', '15/02/2021', '12/03/2021', '23/11/2021', '08/01/2021', '23/05/2021', '05/04/2021', '20/11/2021', '30/07/2021', '23/02/2021', '16/10/2021', '27/04/2021', '18/02/2021', '14/09/2021', '06/06/2021', '01/09/2021', '06/07/2021', '24/07/2021', '12/11/2021', '29/07/2021', '12/03/2021', '18/04/2021', '09/02/2021', '23/08/2021', '05/10/2021', '13/12/2021', '06/10/2021', '27/03/2021', '06/01/2021', '15/01/2021', '06/11/2021', '13/03/2021', '26/12/2021', '11/02/2021', '09/01/2021', '01/08/2021', '26/11/2021', '16/01/2021', '01/01/2021', '02/05/2021', '01/02/2021', '04/01/2021', '14/04/2021', '09/08/2021', '21/09/2021', '23/02/2021', '20/08/2021', '23/05/2021', '25/04/2021', '13/02/2021', '17/05/2021', '05/09/2021', '19/03/2021', '08/11/2021', '27/05/2021', '21/08/2021', '04/04/2021', '04/06/2021', '27/05/2021', '15/10/2021', '08/01/2021', '28/09/2021', '22/09/2021', '30/12/2021', '24/05/2021', '31/05/2021', '17/12/2021', '30/03/2021', '22/07/2021', '04/06/2021', '26/08/2021', '20/02/2021', '04/06/2021', '19/05/2021', '02/09/2021', '22/10/2021', '26/01/2021', '23/02/2021', '21/04/2021', '31/08/2021', '23/08/2021', '08/01/2021', '07/04/2021', '29/08/2021', '20/10/2021', '30/05/2021', '14/07/2021', '02/06/2021', '17/08/2021', '23/06/2021', '12/12/2021', '23/05/2021', '11/02/2021', '16/01/2021', '02/10/2021', '14/04/2021', '05/06/2021', '16/11/2021', '24/07/2021', '28/07/2021', '15/11/2021', '18/01/2021', '29/11/2021', '08/07/2021', '22/12/2021', '21/09/2021', '20/06/2021', '09/02/2021', '26/08/2021', '26/03/2021', '29/10/2021', '17/11/2021', '25/09/2021', '14/01/2021', '22/10/2021', '11/03/2021', '24/02/2021', '10/01/2021', '04/11/2021', '15/04/2021', '11/07/2021', '24/09/2021', '14/03/2021', '17/11/2021', '24/04/2021', '22/03/2021', '21/03/2021', '14/11/2021', '13/11/2021', '26/01/2021', '22/09/2021', '19/04/2021', '02/04/2021', '25/02/2021', '03/04/2021', '01/03/2021', '27/09/2021', '02/06/2021', '06/11/2021', '17/08/2021', '19/02/2021', '12/04/2021', '03/01/2021', '21/07/2021', '27/08/2021', '07/05/2021', '24/08/2021', '27/10/2021', '24/10/2021', '17/04/2021', '08/04/2021', '15/04/2021', '18/06/2021', '14/04/2021', '19/08/2021', '29/05/2021', '17/06/2021', '12/12/2021', '28/09/2021', '15/01/2021', '08/02/2021', '08/11/2021', '21/02/2021', '11/12/2021', '14/12/2021', '31/05/2021', '10/04/2021', '15/04/2021', '13/05/2021', '10/07/2021', '02/03/2021', '05/09/2021', '06/10/2021', '24/05/2021', '10/01/2021', '06/12/2021', '08/09/2021', '18/02/2021', '22/01/2021', '08/08/2021', '26/12/2021', '24/08/2021', '23/08/2021', '12/05/2021', '05/07/2021', '27/05/2021', '18/02/2021', '21/07/2021', '22/11/2021', '14/12/2021', '07/02/2021', '07/04/2021', '04/12/2021', '08/01/2021', '25/08/2021', '22/02/2021', '16/12/2021', '06/02/2021', '23/11/2021', '15/11/2021', '27/11/2021', '08/03/2021', '04/07/2021', '04/11/2021', '20/09/2021', '20/12/2021', '05/02/2021', '08/11/2021', '24/04/2021', '25/12/2021', '25/03/2021', '14/05/2021', '11/09/2021', '08/03/2021', '07/11/2021', '03/10/2021', '12/07/2021', '24/12/2021', '06/02/2021', '06/02/2021', '22/04/2021', '11/05/2021', '05/10/2021', '06/06/2021', '21/01/2021', '28/03/2021', '28/08/2021', '11/10/2021', '24/11/2021', '06/11/2021', '19/05/2021', '18/04/2021', '07/03/2021', '07/06/2021', '16/07/2021', '28/04/2021', '10/05/2021', '16/07/2021', '09/03/2021', '30/01/2021', '08/03/2021', '15/02/2021', '14/02/2021', '15/04/2021', '08/09/2021', '30/06/2021', '17/12/2021', '02/02/2021', '09/11/2021', '04/08/2021', '05/11/2021', '11/03/2021', '13/08/2021', '21/08/2021', '12/02/2021', '27/10/2021', '08/10/2021', '04/09/2021', '10/02/2021', '09/05/2021', '09/05/2021', '12/01/2021', '27/12/2021', '27/12/2021', '26/01/2021', '01/06/2021', '15/11/2021', '08/03/2021', '16/03/2021', '18/07/2021', '09/03/2021', '09/09/2021', '14/02/2021', '22/07/2021', '26/11/2021', '22/10/2021', '15/10/2021', '10/05/2021', '12/11/2021', '19/04/2021', '08/10/2021', '18/05/2021', '16/06/2021', '23/02/2021', '02/12/2021', '22/08/2021', '21/03/2021', '14/03/2021', '25/07/2021', '11/05/2021', '22/05/2021', '20/08/2021', '29/05/2021', '27/12/2021', '07/09/2021', '03/11/2021', '13/06/2021', '05/03/2021', '18/10/2021', '25/10/2021', '18/02/2021', '25/03/2021', '08/12/2021', '29/10/2021', '05/05/2021', '25/11/2021', '20/10/2021', '20/12/2021', '29/03/2021', '16/08/2021', '28/07/2021', '20/07/2021', '16/11/2021', '06/10/2021', '31/08/2021', '17/07/2021', '02/01/2021', '10/11/2021', '22/02/2021', '07/10/2021', '18/05/2021', '11/07/2021', '07/02/2021', '27/02/2021', '16/06/2021', '25/10/2021', '16/11/2021', '29/12/2021', '07/02/2021', '12/09/2021', '07/04/2021', '24/12/2021', '11/04/2021', '30/07/2021', '12/06/2021', '07/02/2021', '31/01/2021', '16/10/2021', '20/07/2021', '20/04/2021', '30/05/2021', '28/07/2021', '10/09/2021', '24/07/2021', '19/04/2021', '03/02/2021', '23/10/2021', '17/04/2021', '20/08/2021', '18/10/2021', '31/03/2021', '21/09/2021', '26/06/2021', '29/10/2021', '21/07/2021', '10/05/2021', '13/11/2021', '08/09/2021', '07/11/2021', '11/02/2021', '30/05/2021', '03/04/2021', '31/05/2021', '30/07/2021', '27/09/2021', '16/05/2021', '06/11/2021', '06/12/2021', '01/07/2021', '22/01/2021', '14/06/2021', '06/12/2021', '26/10/2021', '19/09/2021', '27/09/2021', '09/08/2021', '12/01/2021', '18/02/2021', '15/07/2021', '13/12/2021', '20/01/2021', '26/09/2021', '16/01/2021', '17/03/2021', '17/12/2021', '21/01/2021', '06/06/2021', '09/05/2021', '26/11/2021', '12/11/2021', '01/08/2021', '07/07/2021', '23/01/2021', '07/07/2021', '12/02/2021', '27/05/2021', '11/09/2021', '11/02/2021', '18/07/2021', '15/11/2021', '08/09/2021', '29/05/2021', '15/05/2021', '29/08/2021', '24/04/2021', '30/11/2021', '23/01/2021', '24/07/2021', '21/12/2021', '10/03/2021', '06/11/2021', '12/03/2021', '07/01/2021', '21/11/2021', '04/08/2021', '16/04/2021', '29/08/2021', '13/04/2021', '29/01/2021', '19/05/2021', '17/11/2021', '11/08/2021', '25/04/2021', '06/01/2021', '09/07/2021', '17/04/2021', '25/05/2021', '21/10/2021', '21/12/2021', '06/03/2021', '24/03/2021', '18/01/2021', '18/07/2021', '24/01/2021', '01/10/2021', '27/04/2021', '12/02/2021', '05/02/2021', '04/10/2021', '11/05/2021', '11/06/2021', '13/06/2021', '05/11/2021', '26/04/2021', '29/12/2021', '07/11/2021', '14/07/2021', '29/03/2021', '31/07/2021', '24/09/2021', '22/08/2021', '14/05/2021', '29/11/2021', '30/03/2021', '16/02/2021', '05/06/2021', '18/07/2021', '15/07/2021', '08/12/2021', '24/01/2021', '07/11/2021', '30/04/2021', '25/06/2021', '22/07/2021', '08/09/2021', '04/10/2021', '29/07/2021', '29/05/2021', '08/07/2021', '20/09/2021', '11/02/2021', '28/06/2021', '07/03/2021', '20/08/2021', '10/04/2021', '18/04/2021', '06/12/2021', '28/06/2021', '03/06/2021', '02/01/2021', '01/04/2021', '19/12/2021', '28/10/2021', '06/05/2021', '29/09/2021', '05/10/2021', '28/09/2021', '19/09/2021', '29/03/2021', '28/11/2021', '21/04/2021', '10/04/2021', '17/02/2021', '08/03/2021', '01/12/2021', '23/07/2021', '20/04/2021', '10/02/2021', '14/09/2021', '15/02/2021', '24/04/2021', '02/08/2021', '27/02/2021', '14/10/2021', '27/04/2021', '08/11/2021', '17/07/2021', '29/01/2021', '12/04/2021', '08/05/2021', '28/06/2021', '09/02/2021', '24/06/2021', '19/01/2021', '15/08/2021', '28/06/2021', '22/07/2021', '14/10/2021', '23/05/2021', '03/10/2021', '18/09/2021', '23/05/2021', '22/05/2021', '19/11/2021', '13/03/2021', '20/10/2021', '20/11/2021', '25/05/2021', '28/03/2021', '02/01/2021', '09/06/2021', '25/07/2021', '30/04/2021', '03/01/2021', '08/09/2021', '19/02/2021', '05/02/2021', '06/09/2021', '07/03/2021', '26/03/2021', '27/04/2021', '19/10/2021', '23/09/2021', '05/09/2021', '12/12/2021', '11/06/2021', '14/02/2021', '20/04/2021', '16/11/2021', '18/01/2021', '04/03/2021', '01/01/2021', '11/12/2021', '21/11/2021', '05/10/2021', '03/09/2021', '26/10/2021', '15/12/2021', '29/07/2021', '26/01/2021', '16/12/2021', '12/05/2021', '18/01/2021', '07/06/2021', '13/09/2021', '28/12/2021', '10/02/2021', '05/02/2021', '07/04/2021', '08/10/2021', '07/10/2021', '08/01/2021', '02/02/2021', '04/01/2021', '29/11/2021', '10/11/2021', '13/06/2021', '06/08/2021', '07/07/2021', '16/07/2021', '28/02/2021', '01/08/2021', '03/01/2021', '01/04/2021', '06/08/2021', '21/04/2021', '31/01/2021', '01/08/2021', '27/09/2021', '31/08/2021', '11/08/2021', '03/03/2021', '30/10/2021', '12/10/2021', '24/12/2021', '04/08/2021', '27/09/2021', '23/10/2021', '05/10/2021', '27/09/2021', '10/01/2021', '05/04/2021', '13/11/2021', '08/12/2021', '11/03/2021', '12/02/2021', '19/08/2021', '24/12/2021', '16/01/2021', '06/05/2021', '01/06/2021', '07/10/2021', '27/04/2021', '30/06/2021', '15/01/2021', '09/11/2021', '28/08/2021', '30/01/2021', '13/08/2021', '02/01/2021', '19/12/2021', '09/05/2021', '05/05/2021', '30/06/2021', '09/05/2021', '17/01/2021', '29/11/2021', '16/06/2021', '17/02/2021', '26/08/2021', '22/02/2021', '29/08/2021', '12/07/2021', '26/01/2021', '11/08/2021', '09/10/2021', '03/12/2021', '13/02/2021', '17/09/2021', '23/06/2021', '14/11/2021', '29/04/2021', '19/02/2021', '19/04/2021', '10/02/2021', '26/07/2021', '27/07/2021', '21/05/2021', '19/10/2021', '18/01/2021', '22/12/2021', '20/08/2021', '25/11/2021', '17/08/2021', '31/12/2021', '23/08/2021', '28/07/2021', '29/10/2021', '13/11/2021', '10/03/2021', '10/02/2021', '03/02/2021', '21/02/2021', '11/04/2021', '21/06/2021', '23/10/2021', '15/03/2021', '12/11/2021', '31/08/2021', '30/10/2021', '08/02/2021', '14/04/2021', '06/07/2021', '23/04/2021', '09/03/2021', '10/02/2021', '02/11/2021', '30/06/2021', '27/09/2021', '23/07/2021', '14/07/2021', '20/07/2021', '19/04/2021', '25/01/2021', '06/12/2021', '24/09/2021', '25/09/2021', '30/08/2021', '06/07/2021', '31/01/2021', '18/08/2021', '16/05/2021', '06/09/2021', '22/03/2021', '10/09/2021', '17/01/2021', '03/03/2021', '05/05/2021', '18/09/2021', '29/03/2021', '20/06/2021', '24/11/2021', '03/10/2021', '19/06/2021', '04/04/2021', '06/03/2021', '09/06/2021', '17/11/2021']\n",
            "[1009.99, 58.9, 75.92, 2522.26, 580.92, 778.57, 752.25, 407.18, 482.73, 986.28, 536.25, 51.55, 167.81, 24.39, 378.87, 174.39, 593.11, 79.73, 72.82, 935.91, 52.97, 2913.45, 41.25, 3766.19, 2037.22, 111.13, 92.99, 3880.0, 349.98, 74.15, 2569.93, 677.41, 45.29, 201.06, 201.76, 602.71, 24.78, 18.17, 47.66, 728.81, 76.12, 427.94, 13.39, 144.15, 210.29, 94.58, 2094.53, 2509.24, 1742.66, 217.87, 62.33, 65.04, 46.2, 482.79, 27.27, 116.95, 383.53, 2098.54, 127.79, 213.7, 291.53, 88.93, 24.83, 1689.8, 451.83, 197.5, 263.85, 416.39, 168.27, 143.84, 1976.24, 2310.14, 454.81, 206.98, 87.3, 50.43, 363.02, 292.65, 2813.37, 541.84, 192.37, 49.63, 654.5, 181.48, 1017.25, 93.13, 1296.59, 122.27, 60.39, 318.96, 254.01, 77.47, 726.87, 685.39, 415.06, 3836.63, 611.01, 49.38, 90.71, 43.16, 37.85, 187.38, 56.37, 56.58, 12.79, 3402.14, 128.28, 169.17, 89.99, 56.74, 542.45, 63.47, 498.95, 668.91, 2505.44, 959.24, 178.2, 53.79, 311.78, 447.01, 56.56, 690.77, 147.24, 101.9, 42.21, 297.78, 435.44, 13.53, 103.08, 274.28, 368.58, 36.78, 32.45, 86.55, 1127.15, 12.72, 1021.41, 915.49, 377.0, 987.27, 3079.44, 39.23, 904.78, 50.65, 58.54, 85.79, 74.25, 102.03, 142.75, 614.37, 269.81, 3245.3, 120.02, 42.35, 55.29, 251.37, 682.94, 30.75, 926.29, 267.67, 53.74, 1149.19, 333.86, 1108.63, 102.41, 19.56, 840.82, 87.25, 774.32, 64.72, 645.48, 149.63, 906.63, 70.71, 1211.48, 40.8, 37.7, 2408.03, 67.97, 423.93, 106.27, 98.15, 858.54, 2402.6, 144.88, 695.31, 77.09, 422.98, 97.78, 116.73, 411.7, 2715.32, 842.74, 52.56, 583.39, 1031.55, 38.12, 1201.03, 949.94, 58.93, 1773.53, 165.78, 1130.91, 78.22, 677.22, 364.48, 839.8, 892.28, 65.93, 72.54, 21.55, 37.96, 1131.69, 446.11, 59.03, 1796.34, 59.43, 1271.79, 828.2, 890.51, 2808.09, 1180.44, 2022.06, 41.29, 978.67, 3408.33, 52.16, 47.48, 1649.07, 667.97, 558.3, 46.47, 1134.12, 1082.54, 379.31, 476.11, 247.47, 699.75, 331.48, 33.97, 78.98, 897.26, 40.13, 495.71, 310.47, 151.91, 35.72, 2100.95, 56.48, 1375.49, 675.5, 203.72, 18.1, 358.75, 63.99, 418.05, 55.2, 219.16, 48.05, 313.75, 263.06, 1685.19, 73.96, 62.52, 654.6, 1151.32, 984.03, 43.42, 367.46, 602.61, 1778.97, 2056.98, 1899.3, 3545.33, 1622.23, 219.16, 1305.35, 1481.88, 878.23, 3336.49, 39.34, 78.08, 489.12, 19.63, 62.1, 76.69, 65.5, 21.78, 54.14, 260.68, 339.76, 228.15, 2444.31, 64.05, 458.77, 102.79, 715.79, 694.69, 981.47, 400.05, 378.35, 63.3, 3209.26, 1698.33, 421.87, 288.46, 69.62, 3742.56, 123.69, 323.0, 44.82, 19.8, 116.0, 1309.88, 1231.88, 107.31, 77.19, 76.08, 68.87, 931.27, 41.65, 2269.44, 3966.67, 166.35, 292.03, 70.05, 169.65, 365.72, 522.67, 40.09, 921.59, 3582.01, 251.33, 2194.45, 1682.61, 35.57, 531.09, 858.16, 840.38, 437.54, 1442.94, 64.95, 735.3, 2891.16, 78.3, 344.93, 183.35, 325.05, 3428.3, 486.94, 42.37, 310.78, 35.05, 297.82, 95.7, 3048.86, 267.18, 77.51, 337.87, 721.54, 970.05, 588.39, 1185.88, 104.98, 134.02, 1892.2, 219.77, 142.5, 95.75, 29.85, 443.68, 68.1, 235.24, 63.13, 1841.73, 439.17, 15.22, 1476.11, 269.3, 99.11, 1225.92, 636.61, 84.76, 88.02, 40.4, 72.62, 64.71, 57.64, 818.58, 677.31, 466.68, 403.02, 25.81, 111.65, 628.67, 413.47, 45.73, 1580.73, 2843.23, 34.66, 74.83, 37.55, 1525.01, 70.29, 102.74, 238.49, 2312.45, 438.43, 553.83, 3399.04, 28.28, 140.74, 1294.97, 1154.07, 2727.13, 1483.67, 315.03, 2920.79, 120.14, 91.21, 138.38, 906.95, 1485.87, 685.95, 1339.88, 76.38, 414.45, 74.44, 392.29, 99.75, 82.77, 73.05, 2626.51, 439.58, 34.52, 2237.94, 83.92, 611.39, 57.41, 568.55, 1904.12, 299.6, 336.62, 141.12, 693.36, 385.74, 3515.39, 190.61, 66.03, 818.14, 24.85, 2498.06, 1267.97, 638.18, 2303.34, 1123.14, 778.74, 290.85, 357.51, 652.69, 109.31, 657.9, 177.78, 278.46, 175.95, 32.87, 77.41, 465.81, 48.5, 94.22, 496.55, 59.19, 693.3, 385.29, 1997.95, 74.7, 1845.47, 158.02, 1993.67, 1787.09, 392.89, 40.73, 57.44, 746.37, 687.16, 305.53, 452.48, 36.84, 325.91, 55.22, 123.94, 1439.11, 1050.74, 176.08, 12.97, 101.31, 391.32, 87.34, 303.65, 41.87, 2239.38, 2059.72, 1886.81, 106.36, 2924.32, 349.42, 603.9, 437.67, 1951.94, 26.97, 860.34, 2068.18, 12.51, 2320.42, 1521.34, 985.09, 698.34, 1951.95, 418.91, 81.58, 183.79, 1967.01, 36.42, 1457.3, 194.27, 45.89, 41.97, 3969.38, 1218.13, 1863.13, 193.17, 53.79, 950.3, 625.11, 1327.18, 60.27, 338.37, 2522.05, 633.86, 1956.19, 985.32, 1922.67, 1350.78, 121.5, 552.53, 915.31, 1570.84, 64.19, 62.48, 86.9, 213.47, 271.12, 1058.56, 63.39, 897.97, 84.88, 1775.24, 364.14, 83.01, 221.63, 119.86, 57.72, 1137.73, 2147.46, 143.9, 219.42, 85.14, 740.23, 894.48, 64.86, 73.27, 643.88, 87.49, 27.54, 40.33, 91.53, 84.85, 2925.98, 429.14, 447.64, 57.45, 35.6, 41.45, 1983.51, 30.33, 31.47, 16.76, 51.78, 517.69, 915.36, 1803.81, 80.22, 70.97, 37.46, 399.02, 241.37, 569.48, 63.01, 71.48, 243.87, 190.43, 910.76, 976.28, 1583.53, 1501.36, 70.9, 1278.75, 36.25, 23.44, 84.44, 98.18, 379.56, 73.46, 990.24, 147.06, 304.53, 350.15, 254.9, 2438.11, 940.5, 68.34, 380.62, 76.69, 71.83, 63.34, 3033.74, 22.08, 29.17, 1321.29, 36.9, 428.8, 696.92, 1669.63, 748.89, 371.11, 448.5, 1908.18, 23.29, 28.89, 2444.28, 222.18, 64.23, 819.22, 1975.66, 372.24, 330.17, 132.06, 725.58, 341.92, 1012.89, 55.67, 13.02, 2903.39, 31.79, 204.57, 1686.37, 664.51, 930.94, 76.77, 1759.61, 534.02, 32.58, 53.12, 282.35, 927.62, 2943.88, 2580.24, 50.26, 3314.11, 28.57, 783.56, 69.23, 568.83, 83.1, 458.45, 1023.48, 344.8, 1269.11, 115.92, 238.95, 416.25, 921.2, 3399.62, 380.13, 1119.05, 1185.7, 413.23, 21.43, 463.43, 112.49, 20.64, 100.98, 639.99, 83.74, 549.24, 1088.7, 320.94, 87.82, 817.6, 2516.02, 23.18, 200.49, 2013.04, 862.74, 694.6, 51.06, 574.25, 65.42, 60.41, 75.43, 155.99, 866.78, 181.79, 1873.81, 662.89, 20.4, 43.28, 2729.32, 381.56, 450.15, 39.95, 166.15, 899.01, 1689.22, 147.81, 149.28, 59.26, 1618.46, 93.05, 75.8, 71.6, 339.25, 386.6, 42.09, 91.62, 1912.38, 33.52, 3190.23, 83.67, 597.95, 1042.61, 1742.04, 677.19, 921.77]\n",
            "496199.75\n"
          ]
        }
      ]
    },
    {
      "cell_type": "code",
      "source": [
        "#Loja 4 - Criar duas listas com Data da Compra e Preço para o ano de 2022\n",
        "\n",
        "data_2022 = []\n",
        "preco_2022 = []\n",
        "\n",
        "for data, preco in zip(loja4['Data da Compra'], loja1['Preço']):\n",
        "  if '2022' in data:\n",
        "    data_2022.append(data)\n",
        "    preco_2022.append(preco)\n",
        "\n",
        "faturamento = sum(preco_2022)\n",
        "\n",
        "print(data_2022)\n",
        "print(preco_2022)\n",
        "print(round(faturamento, 2))"
      ],
      "metadata": {
        "colab": {
          "base_uri": "https://localhost:8080/"
        },
        "id": "xynRty38P-el",
        "outputId": "8b5fa08f-0aaa-44a4-85d2-dbbb05334bd8"
      },
      "execution_count": 52,
      "outputs": [
        {
          "output_type": "stream",
          "name": "stdout",
          "text": [
            "['11/11/2022', '25/12/2022', '25/04/2022', '19/02/2022', '15/10/2022', '18/11/2022', '03/03/2022', '23/02/2022', '11/08/2022', '29/04/2022', '17/07/2022', '08/02/2022', '12/06/2022', '10/08/2022', '19/06/2022', '14/03/2022', '16/11/2022', '23/05/2022', '19/08/2022', '01/12/2022', '17/04/2022', '19/01/2022', '14/05/2022', '12/03/2022', '15/08/2022', '22/04/2022', '28/09/2022', '03/06/2022', '22/05/2022', '23/10/2022', '20/06/2022', '10/05/2022', '16/12/2022', '16/04/2022', '21/04/2022', '01/03/2022', '11/02/2022', '26/11/2022', '14/04/2022', '20/05/2022', '16/10/2022', '11/02/2022', '23/12/2022', '20/01/2022', '13/07/2022', '28/06/2022', '25/03/2022', '28/12/2022', '31/03/2022', '25/02/2022', '18/08/2022', '25/12/2022', '01/11/2022', '07/03/2022', '30/09/2022', '13/10/2022', '09/12/2022', '12/04/2022', '14/10/2022', '07/01/2022', '30/11/2022', '26/03/2022', '29/07/2022', '23/06/2022', '17/08/2022', '11/06/2022', '22/06/2022', '10/12/2022', '11/11/2022', '21/06/2022', '14/08/2022', '22/05/2022', '20/07/2022', '25/09/2022', '22/12/2022', '08/06/2022', '11/07/2022', '29/09/2022', '17/07/2022', '29/11/2022', '10/12/2022', '11/04/2022', '24/01/2022', '08/04/2022', '03/02/2022', '25/03/2022', '26/11/2022', '08/07/2022', '13/05/2022', '13/08/2022', '09/02/2022', '14/07/2022', '18/11/2022', '05/06/2022', '11/04/2022', '20/09/2022', '22/03/2022', '26/01/2022', '20/01/2022', '25/01/2022', '18/01/2022', '10/06/2022', '02/02/2022', '16/01/2022', '17/12/2022', '08/04/2022', '08/05/2022', '06/01/2022', '31/07/2022', '23/09/2022', '30/09/2022', '19/10/2022', '01/11/2022', '08/04/2022', '16/06/2022', '18/08/2022', '30/06/2022', '20/09/2022', '26/12/2022', '03/04/2022', '12/04/2022', '17/09/2022', '15/01/2022', '23/09/2022', '06/11/2022', '29/06/2022', '28/06/2022', '04/01/2022', '04/03/2022', '09/02/2022', '11/10/2022', '12/07/2022', '06/11/2022', '08/03/2022', '01/07/2022', '05/12/2022', '20/04/2022', '06/05/2022', '21/02/2022', '06/11/2022', '03/03/2022', '29/04/2022', '30/11/2022', '23/06/2022', '03/08/2022', '02/08/2022', '09/11/2022', '21/02/2022', '11/04/2022', '18/01/2022', '28/01/2022', '27/05/2022', '20/05/2022', '21/06/2022', '26/02/2022', '28/01/2022', '21/06/2022', '18/09/2022', '01/05/2022', '26/04/2022', '19/09/2022', '26/12/2022', '04/04/2022', '02/02/2022', '26/07/2022', '23/09/2022', '22/07/2022', '15/03/2022', '30/10/2022', '19/05/2022', '22/05/2022', '15/04/2022', '20/12/2022', '30/08/2022', '09/12/2022', '19/10/2022', '20/01/2022', '26/11/2022', '03/03/2022', '25/01/2022', '10/01/2022', '28/10/2022', '29/01/2022', '24/09/2022', '17/01/2022', '28/09/2022', '11/02/2022', '15/09/2022', '17/04/2022', '15/03/2022', '14/01/2022', '04/11/2022', '29/01/2022', '13/09/2022', '02/08/2022', '26/04/2022', '08/06/2022', '22/01/2022', '17/10/2022', '23/03/2022', '02/09/2022', '09/05/2022', '30/11/2022', '12/02/2022', '02/11/2022', '30/12/2022', '09/02/2022', '02/10/2022', '31/01/2022', '02/05/2022', '22/10/2022', '25/09/2022', '23/02/2022', '10/08/2022', '21/08/2022', '10/04/2022', '19/08/2022', '26/12/2022', '23/06/2022', '29/03/2022', '04/10/2022', '25/12/2022', '24/06/2022', '18/12/2022', '10/07/2022', '18/08/2022', '18/02/2022', '12/09/2022', '16/07/2022', '20/01/2022', '13/02/2022', '30/07/2022', '27/02/2022', '10/07/2022', '14/06/2022', '24/08/2022', '15/07/2022', '30/03/2022', '01/11/2022', '09/11/2022', '16/01/2022', '22/02/2022', '24/05/2022', '02/03/2022', '08/10/2022', '28/12/2022', '19/12/2022', '12/02/2022', '25/11/2022', '27/01/2022', '24/12/2022', '13/08/2022', '19/09/2022', '27/01/2022', '30/12/2022', '14/09/2022', '08/07/2022', '16/01/2022', '10/11/2022', '23/12/2022', '11/11/2022', '02/07/2022', '02/01/2022', '11/08/2022', '27/06/2022', '03/04/2022', '28/10/2022', '05/10/2022', '30/10/2022', '11/04/2022', '07/12/2022', '17/05/2022', '06/11/2022', '05/12/2022', '23/06/2022', '03/09/2022', '09/05/2022', '25/03/2022', '30/11/2022', '04/11/2022', '03/02/2022', '20/04/2022', '26/08/2022', '24/11/2022', '13/08/2022', '03/11/2022', '27/10/2022', '05/07/2022', '18/07/2022', '02/02/2022', '07/11/2022', '13/03/2022', '21/11/2022', '28/03/2022', '20/11/2022', '24/03/2022', '05/07/2022', '03/07/2022', '06/03/2022', '08/02/2022', '18/04/2022', '16/07/2022', '09/01/2022', '18/03/2022', '16/03/2022', '27/03/2022', '24/10/2022', '19/05/2022', '07/06/2022', '17/12/2022', '16/03/2022', '03/03/2022', '01/10/2022', '20/09/2022', '08/01/2022', '26/03/2022', '23/03/2022', '24/02/2022', '31/03/2022', '09/10/2022', '20/11/2022', '23/02/2022', '11/10/2022', '05/12/2022', '13/05/2022', '30/10/2022', '19/07/2022', '01/07/2022', '30/08/2022', '18/09/2022', '03/11/2022', '28/12/2022', '09/10/2022', '29/08/2022', '04/01/2022', '29/04/2022', '02/10/2022', '30/08/2022', '30/09/2022', '12/07/2022', '05/06/2022', '15/12/2022', '13/04/2022', '28/05/2022', '24/03/2022', '01/06/2022', '27/03/2022', '22/11/2022', '28/03/2022', '09/09/2022', '12/06/2022', '16/11/2022', '13/05/2022', '27/02/2022', '17/09/2022', '06/11/2022', '09/08/2022', '04/01/2022', '14/01/2022', '29/01/2022', '25/01/2022', '31/08/2022', '24/05/2022', '04/04/2022', '28/09/2022', '17/03/2022', '19/03/2022', '31/03/2022', '24/02/2022', '18/08/2022', '05/07/2022', '18/05/2022', '22/08/2022', '12/05/2022', '18/06/2022', '13/04/2022', '05/11/2022', '06/12/2022', '15/01/2022', '04/03/2022', '01/06/2022', '27/06/2022', '23/01/2022', '12/10/2022', '21/08/2022', '26/12/2022', '01/03/2022', '20/02/2022', '27/08/2022', '09/02/2022', '10/03/2022', '23/02/2022', '01/03/2022', '23/04/2022', '10/07/2022', '03/09/2022', '25/06/2022', '24/02/2022', '01/08/2022', '12/06/2022', '12/02/2022', '30/08/2022', '11/03/2022', '31/12/2022', '14/02/2022', '14/03/2022', '10/03/2022', '25/04/2022', '25/11/2022', '21/11/2022', '07/08/2022', '31/12/2022', '07/11/2022', '06/04/2022', '17/03/2022', '12/05/2022', '04/08/2022', '28/04/2022', '05/03/2022', '20/11/2022', '08/09/2022', '01/07/2022', '16/05/2022', '05/05/2022', '04/01/2022', '17/01/2022', '07/04/2022', '12/05/2022', '16/03/2022', '08/03/2022', '13/03/2022', '21/11/2022', '23/04/2022', '23/05/2022', '02/02/2022', '04/01/2022', '11/08/2022', '03/06/2022', '29/03/2022', '19/09/2022', '27/03/2022', '09/08/2022', '16/06/2022', '24/11/2022', '07/02/2022', '25/09/2022', '04/09/2022', '22/06/2022', '06/04/2022', '18/06/2022', '09/03/2022', '17/05/2022', '28/04/2022', '12/01/2022', '12/02/2022', '05/07/2022', '12/11/2022', '25/09/2022', '19/12/2022', '13/05/2022', '28/07/2022', '17/08/2022', '15/11/2022', '28/04/2022', '13/11/2022', '25/12/2022', '24/06/2022', '10/01/2022', '04/10/2022', '28/12/2022', '29/04/2022', '27/08/2022', '13/11/2022', '20/11/2022', '05/06/2022', '20/04/2022', '26/04/2022', '06/08/2022', '31/10/2022', '15/11/2022', '22/08/2022', '06/01/2022', '21/10/2022', '02/12/2022', '23/01/2022', '16/02/2022', '18/07/2022', '12/12/2022', '24/06/2022', '16/01/2022', '09/08/2022', '02/12/2022', '29/10/2022', '09/10/2022', '30/01/2022', '17/11/2022', '18/08/2022', '24/12/2022', '24/02/2022', '03/11/2022', '07/06/2022', '09/08/2022', '03/08/2022', '17/11/2022', '10/10/2022', '20/08/2022', '23/09/2022', '09/09/2022', '30/08/2022', '02/04/2022', '12/04/2022', '26/04/2022', '08/04/2022', '05/05/2022', '12/08/2022', '18/11/2022', '06/06/2022', '11/09/2022', '21/03/2022', '27/12/2022', '08/06/2022', '21/04/2022', '01/01/2022', '12/05/2022', '26/03/2022', '30/09/2022', '08/10/2022', '01/06/2022', '30/10/2022', '02/12/2022', '27/10/2022', '15/03/2022', '15/08/2022', '10/10/2022', '23/09/2022', '22/02/2022', '29/03/2022', '31/12/2022', '29/07/2022', '11/08/2022', '10/04/2022', '24/11/2022', '03/03/2022', '22/12/2022', '09/09/2022', '25/12/2022', '11/01/2022', '23/01/2022', '25/11/2022', '18/10/2022', '21/11/2022', '30/09/2022', '26/07/2022', '09/05/2022', '01/02/2022', '10/12/2022', '04/04/2022', '10/07/2022', '14/01/2022', '25/05/2022', '03/03/2022', '13/01/2022', '16/03/2022', '18/10/2022', '24/02/2022', '22/02/2022', '24/09/2022', '27/07/2022', '26/09/2022', '31/10/2022', '05/05/2022', '19/08/2022', '14/02/2022', '10/09/2022', '01/05/2022', '15/12/2022', '02/08/2022', '22/07/2022', '30/09/2022', '23/08/2022', '15/10/2022', '12/11/2022', '26/04/2022', '04/08/2022', '02/09/2022', '11/04/2022', '20/12/2022', '09/02/2022', '18/08/2022', '14/08/2022', '06/10/2022', '11/12/2022', '19/12/2022', '25/09/2022', '07/01/2022', '14/02/2022', '28/08/2022', '19/12/2022', '11/12/2022', '30/07/2022', '03/05/2022', '10/02/2022', '25/02/2022', '29/11/2022', '17/09/2022', '25/11/2022', '11/08/2022', '06/03/2022', '21/12/2022', '04/02/2022', '21/09/2022', '09/09/2022', '22/06/2022', '27/09/2022', '06/01/2022', '25/10/2022', '05/06/2022', '29/01/2022', '11/06/2022', '30/05/2022', '28/01/2022', '23/02/2022', '13/02/2022', '22/05/2022', '22/09/2022', '20/05/2022', '07/11/2022', '06/10/2022', '13/02/2022', '27/12/2022', '13/05/2022', '21/01/2022', '24/08/2022', '25/08/2022', '08/03/2022', '10/07/2022', '18/07/2022', '07/07/2022', '28/04/2022', '31/08/2022', '29/05/2022', '21/12/2022', '27/04/2022', '13/03/2022', '13/06/2022', '21/03/2022', '23/03/2022', '17/08/2022', '08/01/2022', '09/07/2022', '11/09/2022', '13/06/2022', '10/04/2022', '23/08/2022', '16/04/2022', '17/02/2022', '02/02/2022', '30/01/2022', '08/03/2022', '24/07/2022', '05/07/2022', '09/12/2022', '07/01/2022', '01/05/2022', '25/04/2022', '31/03/2022', '22/04/2022', '21/01/2022', '26/03/2022', '15/08/2022', '09/03/2022', '15/08/2022', '13/04/2022', '19/09/2022', '22/10/2022', '12/01/2022', '17/05/2022', '14/12/2022', '13/01/2022', '15/07/2022', '16/10/2022', '13/08/2022', '21/05/2022', '20/06/2022', '19/03/2022', '18/08/2022', '02/12/2022', '04/06/2022', '16/12/2022', '17/02/2022', '24/11/2022', '30/11/2022', '22/05/2022', '07/05/2022', '17/10/2022', '20/02/2022', '07/01/2022', '05/12/2022', '29/08/2022', '25/04/2022', '26/03/2022', '17/05/2022', '09/02/2022', '20/03/2022', '09/06/2022', '18/02/2022', '26/04/2022', '09/08/2022', '06/01/2022', '30/08/2022', '17/05/2022', '03/05/2022']\n",
            "[219.08, 279.51, 446.99, 1586.23, 2024.31, 100.26, 3241.75, 685.95, 44.69, 63.85, 185.73, 105.48, 205.26, 441.88, 32.94, 91.05, 684.48, 18.55, 905.39, 134.52, 1507.11, 425.25, 396.02, 1496.89, 564.7, 420.24, 70.68, 907.92, 60.08, 653.87, 185.52, 112.75, 2896.52, 395.14, 1861.96, 55.96, 384.36, 327.5, 71.75, 372.39, 633.45, 96.77, 65.86, 44.68, 1918.54, 73.75, 71.0, 296.72, 714.47, 229.77, 741.11, 243.75, 46.67, 1809.14, 3135.25, 272.86, 671.64, 3830.38, 950.49, 3282.01, 39.36, 11.47, 786.92, 686.09, 277.62, 85.44, 362.56, 600.9, 43.1, 72.85, 289.4, 862.54, 257.89, 269.55, 1121.4, 447.98, 1215.5, 43.14, 47.04, 1337.09, 188.27, 431.26, 98.22, 2674.02, 324.23, 1008.65, 73.63, 67.46, 116.21, 61.72, 62.5, 88.11, 28.89, 91.39, 3523.43, 2119.81, 568.47, 3193.24, 180.37, 616.91, 2008.4, 1175.91, 990.72, 559.91, 3186.94, 569.96, 136.2, 1195.35, 313.94, 98.53, 929.59, 2854.98, 171.9, 1089.38, 210.0, 285.43, 66.11, 44.69, 26.7, 272.16, 59.31, 304.52, 2232.46, 1291.64, 944.77, 150.18, 210.52, 1540.14, 110.59, 673.95, 1242.14, 53.82, 90.99, 2412.47, 80.68, 300.74, 37.65, 262.73, 51.49, 36.98, 222.29, 351.35, 97.08, 44.39, 2268.88, 32.4, 247.65, 21.43, 22.58, 303.71, 1327.15, 694.5, 1541.5, 136.77, 445.91, 3377.55, 227.71, 21.74, 1997.95, 234.86, 739.02, 1711.32, 53.07, 79.7, 402.45, 57.21, 30.47, 134.85, 417.83, 67.12, 353.21, 26.5, 33.69, 912.15, 600.61, 3118.95, 39.69, 633.26, 98.17, 1925.48, 99.69, 1390.26, 15.51, 43.22, 1057.97, 92.17, 685.78, 1966.4, 1432.66, 3494.73, 62.15, 2097.89, 33.94, 392.14, 154.33, 96.32, 712.85, 182.69, 1822.44, 113.57, 773.21, 135.89, 286.43, 59.9, 110.51, 65.76, 74.66, 348.66, 61.05, 746.32, 1021.25, 54.57, 833.85, 50.11, 1010.03, 546.01, 1612.81, 207.51, 87.94, 21.01, 1674.08, 474.13, 25.32, 1833.57, 151.08, 1004.7, 990.86, 803.21, 88.75, 945.04, 380.94, 370.74, 57.15, 22.12, 17.91, 176.0, 641.71, 334.74, 334.69, 1765.53, 71.59, 34.67, 970.53, 101.74, 44.9, 24.45, 1087.35, 288.1, 1128.04, 28.01, 36.61, 40.28, 364.34, 1600.92, 1839.55, 351.55, 24.54, 1076.01, 79.27, 72.27, 151.07, 1698.17, 926.01, 330.4, 1350.09, 163.89, 107.44, 1163.84, 123.85, 117.37, 2596.62, 2097.01, 174.04, 83.99, 30.79, 71.23, 430.42, 63.16, 529.79, 25.3, 39.89, 1779.04, 354.14, 24.77, 2132.85, 542.47, 110.53, 212.36, 10.72, 328.05, 48.2, 291.96, 48.32, 319.37, 39.12, 57.58, 95.25, 339.73, 74.74, 3367.28, 2414.21, 2030.77, 139.07, 999.77, 2405.84, 135.06, 627.83, 1005.47, 27.59, 221.42, 1767.91, 482.49, 42.3, 346.19, 44.54, 35.02, 78.23, 236.81, 1664.71, 201.27, 400.86, 11.88, 69.52, 3200.96, 102.01, 28.76, 54.95, 203.74, 62.12, 125.67, 683.78, 365.07, 2065.14, 660.87, 19.8, 28.18, 656.25, 86.59, 32.66, 124.92, 83.97, 698.52, 50.11, 97.51, 2779.47, 27.0, 1077.33, 196.56, 111.36, 341.1, 684.74, 2295.91, 679.93, 65.93, 56.47, 367.77, 1839.4, 48.05, 670.41, 69.38, 1882.99, 75.13, 1732.36, 1650.83, 69.96, 52.02, 3056.57, 690.26, 41.37, 216.97, 604.95, 1800.8, 431.16, 2544.32, 77.19, 105.71, 1619.45, 416.52, 138.57, 678.62, 28.39, 353.06, 255.08, 91.33, 2660.31, 617.48, 1679.68, 279.3, 143.04, 1294.99, 385.39, 2094.54, 929.17, 370.74, 974.02, 1765.73, 238.59, 2999.21, 3142.47, 2432.66, 55.17, 652.3, 1734.16, 72.36, 2424.54, 660.46, 509.9, 77.1, 472.77, 14.43, 76.05, 657.6, 930.5, 64.28, 711.96, 483.99, 411.91, 41.76, 59.41, 327.7, 476.63, 83.46, 316.82, 764.41, 189.37, 61.5, 25.71, 47.55, 64.18, 1979.75, 180.46, 139.46, 883.74, 723.8, 56.8, 85.82, 63.51, 263.29, 209.26, 1793.54, 82.21, 376.83, 1920.01, 271.28, 724.3, 1735.93, 47.22, 3212.11, 1640.74, 38.22, 952.25, 1304.52, 468.0, 231.17, 806.8, 690.42, 86.63, 81.41, 111.79, 158.78, 85.69, 53.2, 41.98, 88.85, 21.26, 940.84, 930.32, 69.35, 59.3, 254.47, 29.93, 610.44, 1068.96, 162.24, 40.0, 616.03, 694.69, 78.97, 1476.01, 193.05, 34.56, 1200.6, 111.41, 766.15, 2295.13, 1027.0, 34.68, 66.34, 50.35, 442.12, 401.38, 3085.99, 478.32, 423.2, 82.17, 78.17, 1466.34, 3646.25, 374.91, 63.72, 51.77, 21.49, 126.83, 72.62, 59.44, 74.95, 108.37, 23.67, 28.42, 1791.0, 48.06, 99.54, 59.19, 891.3, 620.5, 19.82, 645.33, 285.85, 788.88, 329.44, 84.45, 340.75, 72.73, 386.87, 395.17, 143.46, 812.91, 59.44, 897.94, 373.2, 1164.74, 297.63, 3852.45, 109.63, 474.86, 3746.15, 173.37, 873.13, 741.34, 2130.47, 291.94, 62.23, 3954.82, 380.87, 936.62, 927.3, 30.62, 298.7, 1541.05, 74.13, 19.93, 296.91, 40.17, 1089.68, 1978.2, 861.08, 355.22, 55.41, 489.48, 131.1, 593.58, 44.06, 377.17, 126.44, 1642.22, 45.89, 1361.43, 1356.3, 627.98, 2551.23, 285.81, 1775.81, 41.19, 44.82, 635.58, 3448.51, 535.78, 863.71, 445.77, 799.6, 352.74, 33.39, 307.72, 855.11, 69.48, 59.69, 697.82, 997.98, 2977.24, 983.72, 1224.99, 53.82, 581.56, 43.01, 1256.69, 171.6, 73.49, 428.64, 343.45, 119.85, 368.1, 52.32, 2125.74, 2167.03, 87.91, 328.4, 607.01, 1851.54, 2065.17, 1054.22, 3676.86, 129.33, 245.97, 83.78, 730.84, 97.35, 111.93, 2916.58, 79.21, 1045.43, 89.65, 2789.01, 75.78, 200.58, 68.26, 95.85, 645.96, 32.43, 93.78, 293.11, 851.5, 285.7, 181.19, 204.81, 27.61, 493.1, 500.85, 2493.77, 42.2, 41.11, 232.23, 3025.44, 217.94, 453.95, 311.37, 89.13, 58.15, 864.83, 79.14, 194.37, 1780.83, 59.52, 3359.54, 689.82, 3216.14, 2017.54, 1470.48, 284.81, 1282.42, 59.68, 164.0, 11.35, 78.2, 573.75, 979.31, 104.59, 67.4, 60.69, 1861.18, 269.37, 1146.69, 649.33, 251.34, 74.88, 66.38, 940.11, 87.11, 249.28, 1402.71, 165.94, 196.12, 731.11, 676.78, 72.01, 297.42, 27.68, 893.96, 3346.69, 254.48, 77.17, 443.87, 271.52, 145.74, 375.89, 902.15, 3527.4, 2131.82, 1270.87, 245.52, 259.56, 43.5, 351.37, 1140.93, 10.84, 65.5, 1808.99, 43.49, 76.31, 47.63, 652.36, 1712.54, 377.02]\n",
            "470628.32\n"
          ]
        }
      ]
    },
    {
      "cell_type": "markdown",
      "source": [
        "# 2. Vendas por Categoria\n"
      ],
      "metadata": {
        "id": "2V_vcAPzWZmR"
      }
    },
    {
      "cell_type": "code",
      "source": [
        "#Loja 1 - Criar uma lista das categorias de produtos\n",
        "\n",
        "categorias = []\n",
        "\n",
        "for categoria in loja1['Categoria do Produto']:\n",
        "    categorias.append(categoria)\n",
        "\n",
        "categorias_unicas = list(set(categorias))  # Remove duplicatas convertendo a lista para set e de volta para lista\n",
        "\n",
        "print(categorias_unicas)"
      ],
      "metadata": {
        "colab": {
          "base_uri": "https://localhost:8080/"
        },
        "id": "4IzcyenqSHVU",
        "outputId": "184786a0-8a44-4e22-e182-f0f9131a7aae"
      },
      "execution_count": 62,
      "outputs": [
        {
          "output_type": "stream",
          "name": "stdout",
          "text": [
            "['livros', 'eletronicos', 'utilidades domesticas', 'eletrodomesticos', 'brinquedos', 'instrumentos musicais', 'esporte e lazer', 'moveis']\n"
          ]
        }
      ]
    },
    {
      "cell_type": "code",
      "source": [
        "#Loja 1 - Criar um dicionário com a chave: categoria de produto e no valor: a soma de todos os produtos vendidos nesta categoria\n",
        "\n",
        "faturamento_por_categoria = {}\n",
        "\n",
        "for categoria, preco in zip(loja1['Categoria do Produto'], loja1['Preço']):\n",
        "    if categoria not in faturamento_por_categoria:\n",
        "        faturamento_por_categoria[categoria] = preco # Adiciona a categoria ao dicionário se ela ainda não existir\n",
        "    else:\n",
        "        faturamento_por_categoria[categoria] += preco # Atualiza o faturamento da categoria se ela já existir\n",
        "\n",
        "ordenado_maior_valor = dict(sorted(faturamento_por_categoria.items(), key=lambda item: item[1], reverse=True))\n",
        "print(\"Faturamento por categoria: \", ordenado_maior_valor)  # Imprime o dicionário com o faturamento por categoria\n",
        ""
      ],
      "metadata": {
        "colab": {
          "base_uri": "https://localhost:8080/"
        },
        "id": "dtyksP9wS8q8",
        "outputId": "7f17d79a-1c7a-48d7-a982-9e56ad20ec89"
      },
      "execution_count": 123,
      "outputs": [
        {
          "output_type": "stream",
          "name": "stdout",
          "text": [
            "Faturamento por categoria:  {'eletronicos': 572659.2299999995, 'eletrodomesticos': 484913.36000000004, 'moveis': 250178.10999999993, 'instrumentos musicais': 121731.68999999997, 'esporte e lazer': 52387.550000000025, 'brinquedos': 23993.78, 'utilidades domesticas': 16931.480000000007, 'livros': 11713.920000000006}\n"
          ]
        }
      ]
    },
    {
      "cell_type": "code",
      "source": [
        "#Loja 2 - Criar uma lista das categorias de produtos\n",
        "\n",
        "categorias = []\n",
        "\n",
        "for categoria in loja2['Categoria do Produto']:\n",
        "  categorias.append(categoria)\n",
        "\n",
        "print(categorias)"
      ],
      "metadata": {
        "colab": {
          "base_uri": "https://localhost:8080/"
        },
        "id": "fLnXcPTRShdK",
        "outputId": "8fb0bb67-209a-45de-8fa4-a8d77812b203"
      },
      "execution_count": 71,
      "outputs": [
        {
          "output_type": "stream",
          "name": "stdout",
          "text": [
            "['moveis', 'instrumentos musicais', 'moveis', 'moveis', 'moveis', 'instrumentos musicais', 'esporte e lazer', 'eletronicos', 'utilidades domesticas', 'brinquedos', 'esporte e lazer', 'eletrodomesticos', 'brinquedos', 'brinquedos', 'esporte e lazer', 'esporte e lazer', 'livros', 'moveis', 'livros', 'esporte e lazer', 'utilidades domesticas', 'brinquedos', 'livros', 'eletrodomesticos', 'brinquedos', 'esporte e lazer', 'esporte e lazer', 'utilidades domesticas', 'eletrodomesticos', 'utilidades domesticas', 'eletronicos', 'brinquedos', 'moveis', 'brinquedos', 'instrumentos musicais', 'eletronicos', 'livros', 'brinquedos', 'esporte e lazer', 'eletronicos', 'eletrodomesticos', 'moveis', 'moveis', 'eletronicos', 'moveis', 'eletrodomesticos', 'instrumentos musicais', 'utilidades domesticas', 'moveis', 'eletrodomesticos', 'instrumentos musicais', 'eletrodomesticos', 'esporte e lazer', 'instrumentos musicais', 'livros', 'instrumentos musicais', 'instrumentos musicais', 'moveis', 'utilidades domesticas', 'eletrodomesticos', 'esporte e lazer', 'esporte e lazer', 'eletronicos', 'livros', 'moveis', 'instrumentos musicais', 'eletronicos', 'instrumentos musicais', 'brinquedos', 'moveis', 'brinquedos', 'esporte e lazer', 'eletrodomesticos', 'livros', 'eletronicos', 'instrumentos musicais', 'moveis', 'eletrodomesticos', 'moveis', 'utilidades domesticas', 'eletrodomesticos', 'eletronicos', 'moveis', 'moveis', 'utilidades domesticas', 'brinquedos', 'brinquedos', 'esporte e lazer', 'instrumentos musicais', 'instrumentos musicais', 'utilidades domesticas', 'eletronicos', 'brinquedos', 'utilidades domesticas', 'utilidades domesticas', 'eletronicos', 'eletronicos', 'moveis', 'moveis', 'brinquedos', 'brinquedos', 'esporte e lazer', 'esporte e lazer', 'moveis', 'brinquedos', 'moveis', 'eletronicos', 'instrumentos musicais', 'eletrodomesticos', 'brinquedos', 'esporte e lazer', 'brinquedos', 'eletronicos', 'esporte e lazer', 'eletrodomesticos', 'moveis', 'brinquedos', 'moveis', 'eletronicos', 'livros', 'moveis', 'moveis', 'moveis', 'instrumentos musicais', 'moveis', 'instrumentos musicais', 'eletronicos', 'brinquedos', 'esporte e lazer', 'esporte e lazer', 'eletronicos', 'instrumentos musicais', 'livros', 'brinquedos', 'livros', 'eletronicos', 'moveis', 'livros', 'moveis', 'utilidades domesticas', 'eletronicos', 'eletronicos', 'livros', 'livros', 'brinquedos', 'brinquedos', 'livros', 'eletrodomesticos', 'moveis', 'brinquedos', 'brinquedos', 'moveis', 'livros', 'moveis', 'livros', 'moveis', 'eletronicos', 'eletronicos', 'eletronicos', 'instrumentos musicais', 'livros', 'moveis', 'brinquedos', 'instrumentos musicais', 'brinquedos', 'eletronicos', 'eletronicos', 'eletrodomesticos', 'moveis', 'eletrodomesticos', 'utilidades domesticas', 'instrumentos musicais', 'eletrodomesticos', 'eletrodomesticos', 'livros', 'instrumentos musicais', 'brinquedos', 'instrumentos musicais', 'moveis', 'eletronicos', 'utilidades domesticas', 'eletrodomesticos', 'moveis', 'eletrodomesticos', 'eletrodomesticos', 'moveis', 'eletronicos', 'instrumentos musicais', 'esporte e lazer', 'moveis', 'livros', 'eletronicos', 'utilidades domesticas', 'eletrodomesticos', 'utilidades domesticas', 'eletronicos', 'livros', 'moveis', 'eletronicos', 'moveis', 'moveis', 'eletrodomesticos', 'eletronicos', 'esporte e lazer', 'eletronicos', 'moveis', 'moveis', 'eletrodomesticos', 'esporte e lazer', 'moveis', 'brinquedos', 'esporte e lazer', 'esporte e lazer', 'instrumentos musicais', 'eletronicos', 'instrumentos musicais', 'moveis', 'eletrodomesticos', 'eletronicos', 'eletronicos', 'eletrodomesticos', 'moveis', 'utilidades domesticas', 'moveis', 'eletronicos', 'moveis', 'brinquedos', 'brinquedos', 'eletrodomesticos', 'utilidades domesticas', 'utilidades domesticas', 'livros', 'instrumentos musicais', 'livros', 'eletrodomesticos', 'moveis', 'eletronicos', 'utilidades domesticas', 'esporte e lazer', 'esporte e lazer', 'eletronicos', 'moveis', 'eletronicos', 'brinquedos', 'utilidades domesticas', 'moveis', 'brinquedos', 'eletronicos', 'eletronicos', 'eletronicos', 'eletronicos', 'instrumentos musicais', 'eletrodomesticos', 'moveis', 'moveis', 'brinquedos', 'eletrodomesticos', 'brinquedos', 'eletronicos', 'utilidades domesticas', 'eletronicos', 'brinquedos', 'utilidades domesticas', 'moveis', 'livros', 'eletronicos', 'moveis', 'utilidades domesticas', 'eletronicos', 'moveis', 'eletronicos', 'eletronicos', 'brinquedos', 'eletrodomesticos', 'eletrodomesticos', 'brinquedos', 'moveis', 'eletronicos', 'utilidades domesticas', 'instrumentos musicais', 'utilidades domesticas', 'eletronicos', 'brinquedos', 'livros', 'esporte e lazer', 'brinquedos', 'instrumentos musicais', 'instrumentos musicais', 'eletronicos', 'moveis', 'eletronicos', 'livros', 'brinquedos', 'utilidades domesticas', 'moveis', 'moveis', 'esporte e lazer', 'eletronicos', 'instrumentos musicais', 'brinquedos', 'brinquedos', 'instrumentos musicais', 'livros', 'esporte e lazer', 'livros', 'moveis', 'eletronicos', 'eletrodomesticos', 'brinquedos', 'eletronicos', 'moveis', 'eletronicos', 'instrumentos musicais', 'eletrodomesticos', 'esporte e lazer', 'esporte e lazer', 'brinquedos', 'esporte e lazer', 'eletronicos', 'moveis', 'eletrodomesticos', 'eletronicos', 'eletronicos', 'esporte e lazer', 'eletrodomesticos', 'instrumentos musicais', 'brinquedos', 'livros', 'utilidades domesticas', 'eletronicos', 'instrumentos musicais', 'eletronicos', 'utilidades domesticas', 'instrumentos musicais', 'moveis', 'brinquedos', 'eletronicos', 'utilidades domesticas', 'eletrodomesticos', 'moveis', 'moveis', 'instrumentos musicais', 'instrumentos musicais', 'eletrodomesticos', 'livros', 'eletrodomesticos', 'moveis', 'eletrodomesticos', 'brinquedos', 'eletronicos', 'eletrodomesticos', 'brinquedos', 'eletronicos', 'brinquedos', 'moveis', 'livros', 'brinquedos', 'esporte e lazer', 'utilidades domesticas', 'brinquedos', 'eletronicos', 'instrumentos musicais', 'moveis', 'moveis', 'esporte e lazer', 'livros', 'esporte e lazer', 'esporte e lazer', 'moveis', 'livros', 'moveis', 'utilidades domesticas', 'eletrodomesticos', 'esporte e lazer', 'instrumentos musicais', 'brinquedos', 'moveis', 'brinquedos', 'moveis', 'eletronicos', 'esporte e lazer', 'brinquedos', 'esporte e lazer', 'moveis', 'livros', 'esporte e lazer', 'moveis', 'instrumentos musicais', 'utilidades domesticas', 'moveis', 'eletrodomesticos', 'esporte e lazer', 'brinquedos', 'utilidades domesticas', 'brinquedos', 'moveis', 'brinquedos', 'eletrodomesticos', 'esporte e lazer', 'moveis', 'eletronicos', 'eletronicos', 'eletrodomesticos', 'moveis', 'eletrodomesticos', 'moveis', 'brinquedos', 'eletrodomesticos', 'livros', 'eletronicos', 'eletronicos', 'instrumentos musicais', 'esporte e lazer', 'esporte e lazer', 'brinquedos', 'livros', 'instrumentos musicais', 'brinquedos', 'moveis', 'esporte e lazer', 'eletronicos', 'esporte e lazer', 'esporte e lazer', 'eletronicos', 'eletrodomesticos', 'eletrodomesticos', 'instrumentos musicais', 'eletronicos', 'instrumentos musicais', 'moveis', 'brinquedos', 'esporte e lazer', 'utilidades domesticas', 'livros', 'esporte e lazer', 'eletronicos', 'eletrodomesticos', 'livros', 'moveis', 'eletronicos', 'instrumentos musicais', 'eletronicos', 'esporte e lazer', 'instrumentos musicais', 'eletrodomesticos', 'eletronicos', 'instrumentos musicais', 'eletronicos', 'moveis', 'moveis', 'instrumentos musicais', 'moveis', 'moveis', 'eletronicos', 'eletronicos', 'brinquedos', 'moveis', 'eletrodomesticos', 'brinquedos', 'eletrodomesticos', 'brinquedos', 'moveis', 'eletrodomesticos', 'eletronicos', 'esporte e lazer', 'eletronicos', 'instrumentos musicais', 'moveis', 'brinquedos', 'moveis', 'moveis', 'eletronicos', 'eletronicos', 'eletronicos', 'brinquedos', 'brinquedos', 'moveis', 'instrumentos musicais', 'livros', 'eletrodomesticos', 'brinquedos', 'instrumentos musicais', 'eletronicos', 'moveis', 'moveis', 'eletronicos', 'livros', 'livros', 'esporte e lazer', 'livros', 'moveis', 'esporte e lazer', 'eletronicos', 'moveis', 'eletronicos', 'moveis', 'eletrodomesticos', 'eletrodomesticos', 'eletrodomesticos', 'eletrodomesticos', 'utilidades domesticas', 'eletronicos', 'moveis', 'moveis', 'eletronicos', 'brinquedos', 'eletrodomesticos', 'moveis', 'utilidades domesticas', 'eletronicos', 'eletrodomesticos', 'esporte e lazer', 'eletrodomesticos', 'esporte e lazer', 'moveis', 'utilidades domesticas', 'eletrodomesticos', 'moveis', 'eletronicos', 'brinquedos', 'moveis', 'brinquedos', 'eletrodomesticos', 'moveis', 'eletronicos', 'moveis', 'livros', 'instrumentos musicais', 'brinquedos', 'instrumentos musicais', 'eletrodomesticos', 'moveis', 'eletronicos', 'moveis', 'esporte e lazer', 'livros', 'eletrodomesticos', 'instrumentos musicais', 'eletronicos', 'brinquedos', 'moveis', 'eletrodomesticos', 'eletronicos', 'eletronicos', 'moveis', 'utilidades domesticas', 'brinquedos', 'brinquedos', 'moveis', 'moveis', 'brinquedos', 'eletronicos', 'eletrodomesticos', 'instrumentos musicais', 'brinquedos', 'esporte e lazer', 'livros', 'instrumentos musicais', 'eletrodomesticos', 'eletronicos', 'moveis', 'eletronicos', 'eletronicos', 'eletrodomesticos', 'instrumentos musicais', 'moveis', 'instrumentos musicais', 'eletrodomesticos', 'eletronicos', 'moveis', 'esporte e lazer', 'eletronicos', 'moveis', 'brinquedos', 'utilidades domesticas', 'eletronicos', 'moveis', 'esporte e lazer', 'eletrodomesticos', 'moveis', 'eletrodomesticos', 'eletronicos', 'instrumentos musicais', 'brinquedos', 'eletronicos', 'eletronicos', 'brinquedos', 'eletronicos', 'eletronicos', 'livros', 'moveis', 'esporte e lazer', 'utilidades domesticas', 'eletrodomesticos', 'moveis', 'brinquedos', 'brinquedos', 'brinquedos', 'livros', 'livros', 'instrumentos musicais', 'eletronicos', 'brinquedos', 'eletronicos', 'eletronicos', 'moveis', 'esporte e lazer', 'brinquedos', 'instrumentos musicais', 'eletronicos', 'eletronicos', 'brinquedos', 'utilidades domesticas', 'moveis', 'esporte e lazer', 'eletrodomesticos', 'moveis', 'instrumentos musicais', 'livros', 'eletronicos', 'esporte e lazer', 'moveis', 'eletronicos', 'eletrodomesticos', 'eletronicos', 'brinquedos', 'eletronicos', 'eletrodomesticos', 'esporte e lazer', 'livros', 'instrumentos musicais', 'esporte e lazer', 'moveis', 'utilidades domesticas', 'livros', 'moveis', 'moveis', 'eletrodomesticos', 'moveis', 'eletronicos', 'moveis', 'livros', 'moveis', 'brinquedos', 'esporte e lazer', 'livros', 'moveis', 'brinquedos', 'moveis', 'eletrodomesticos', 'esporte e lazer', 'moveis', 'moveis', 'moveis', 'eletrodomesticos', 'instrumentos musicais', 'moveis', 'brinquedos', 'livros', 'livros', 'eletrodomesticos', 'moveis', 'moveis', 'eletrodomesticos', 'eletronicos', 'moveis', 'moveis', 'eletronicos', 'eletronicos', 'eletronicos', 'moveis', 'eletronicos', 'livros', 'brinquedos', 'brinquedos', 'moveis', 'moveis', 'esporte e lazer', 'instrumentos musicais', 'eletronicos', 'brinquedos', 'eletronicos', 'utilidades domesticas', 'eletrodomesticos', 'instrumentos musicais', 'livros', 'eletronicos', 'livros', 'instrumentos musicais', 'eletronicos', 'livros', 'moveis', 'moveis', 'eletronicos', 'instrumentos musicais', 'brinquedos', 'eletrodomesticos', 'eletronicos', 'livros', 'eletronicos', 'utilidades domesticas', 'eletrodomesticos', 'brinquedos', 'eletronicos', 'moveis', 'eletronicos', 'eletronicos', 'eletronicos', 'eletrodomesticos', 'eletronicos', 'utilidades domesticas', 'eletrodomesticos', 'brinquedos', 'utilidades domesticas', 'esporte e lazer', 'brinquedos', 'moveis', 'eletronicos', 'livros', 'eletrodomesticos', 'moveis', 'moveis', 'eletronicos', 'instrumentos musicais', 'esporte e lazer', 'utilidades domesticas', 'eletronicos', 'moveis', 'eletronicos', 'eletrodomesticos', 'instrumentos musicais', 'utilidades domesticas', 'eletrodomesticos', 'esporte e lazer', 'eletronicos', 'eletronicos', 'eletronicos', 'esporte e lazer', 'eletronicos', 'moveis', 'instrumentos musicais', 'moveis', 'eletrodomesticos', 'moveis', 'eletronicos', 'utilidades domesticas', 'instrumentos musicais', 'eletrodomesticos', 'instrumentos musicais', 'moveis', 'eletronicos', 'esporte e lazer', 'livros', 'brinquedos', 'livros', 'eletronicos', 'eletrodomesticos', 'moveis', 'esporte e lazer', 'utilidades domesticas', 'eletronicos', 'instrumentos musicais', 'moveis', 'instrumentos musicais', 'brinquedos', 'livros', 'livros', 'esporte e lazer', 'livros', 'brinquedos', 'brinquedos', 'moveis', 'esporte e lazer', 'livros', 'brinquedos', 'esporte e lazer', 'moveis', 'utilidades domesticas', 'instrumentos musicais', 'utilidades domesticas', 'moveis', 'moveis', 'eletrodomesticos', 'eletrodomesticos', 'moveis', 'brinquedos', 'eletronicos', 'eletrodomesticos', 'livros', 'eletrodomesticos', 'eletronicos', 'livros', 'utilidades domesticas', 'eletrodomesticos', 'instrumentos musicais', 'instrumentos musicais', 'livros', 'utilidades domesticas', 'moveis', 'eletronicos', 'instrumentos musicais', 'livros', 'esporte e lazer', 'instrumentos musicais', 'eletronicos', 'eletronicos', 'instrumentos musicais', 'brinquedos', 'eletronicos', 'eletronicos', 'brinquedos', 'instrumentos musicais', 'esporte e lazer', 'eletrodomesticos', 'eletronicos', 'utilidades domesticas', 'eletrodomesticos', 'moveis', 'eletronicos', 'brinquedos', 'moveis', 'utilidades domesticas', 'instrumentos musicais', 'instrumentos musicais', 'eletronicos', 'instrumentos musicais', 'livros', 'eletrodomesticos', 'utilidades domesticas', 'moveis', 'moveis', 'eletronicos', 'eletronicos', 'eletronicos', 'utilidades domesticas', 'moveis', 'moveis', 'utilidades domesticas', 'brinquedos', 'brinquedos', 'eletrodomesticos', 'moveis', 'eletrodomesticos', 'moveis', 'moveis', 'esporte e lazer', 'moveis', 'utilidades domesticas', 'brinquedos', 'brinquedos', 'esporte e lazer', 'moveis', 'moveis', 'eletronicos', 'esporte e lazer', 'eletronicos', 'utilidades domesticas', 'esporte e lazer', 'livros', 'moveis', 'moveis', 'eletronicos', 'esporte e lazer', 'eletronicos', 'livros', 'moveis', 'eletrodomesticos', 'utilidades domesticas', 'utilidades domesticas', 'eletronicos', 'utilidades domesticas', 'livros', 'moveis', 'brinquedos', 'moveis', 'brinquedos', 'esporte e lazer', 'brinquedos', 'livros', 'livros', 'eletronicos', 'eletrodomesticos', 'brinquedos', 'eletronicos', 'moveis', 'eletrodomesticos', 'utilidades domesticas', 'brinquedos', 'eletronicos', 'livros', 'moveis', 'livros', 'eletronicos', 'instrumentos musicais', 'eletrodomesticos', 'eletronicos', 'eletronicos', 'instrumentos musicais', 'esporte e lazer', 'brinquedos', 'brinquedos', 'moveis', 'moveis', 'livros', 'eletrodomesticos', 'brinquedos', 'utilidades domesticas', 'esporte e lazer', 'eletronicos', 'eletronicos', 'moveis', 'livros', 'livros', 'livros', 'esporte e lazer', 'brinquedos', 'brinquedos', 'instrumentos musicais', 'instrumentos musicais', 'instrumentos musicais', 'eletronicos', 'instrumentos musicais', 'eletronicos', 'moveis', 'moveis', 'eletronicos', 'livros', 'esporte e lazer', 'moveis', 'eletronicos', 'eletrodomesticos', 'instrumentos musicais', 'livros', 'moveis', 'moveis', 'utilidades domesticas', 'utilidades domesticas', 'eletronicos', 'moveis', 'brinquedos', 'moveis', 'eletronicos', 'esporte e lazer', 'instrumentos musicais', 'moveis', 'eletrodomesticos', 'eletrodomesticos', 'moveis', 'instrumentos musicais', 'eletronicos', 'moveis', 'instrumentos musicais', 'brinquedos', 'esporte e lazer', 'eletronicos', 'eletronicos', 'eletronicos', 'livros', 'livros', 'moveis', 'eletrodomesticos', 'moveis', 'utilidades domesticas', 'eletronicos', 'moveis', 'eletronicos', 'brinquedos', 'utilidades domesticas', 'eletrodomesticos', 'utilidades domesticas', 'eletrodomesticos', 'brinquedos', 'brinquedos', 'instrumentos musicais', 'esporte e lazer', 'moveis', 'esporte e lazer', 'livros', 'brinquedos', 'esporte e lazer', 'moveis', 'moveis', 'utilidades domesticas', 'brinquedos', 'utilidades domesticas', 'brinquedos', 'moveis', 'eletrodomesticos', 'brinquedos', 'eletronicos', 'eletrodomesticos', 'moveis', 'utilidades domesticas', 'esporte e lazer', 'eletrodomesticos', 'esporte e lazer', 'moveis', 'brinquedos', 'esporte e lazer', 'moveis', 'instrumentos musicais', 'eletrodomesticos', 'moveis', 'moveis', 'brinquedos', 'livros', 'esporte e lazer', 'esporte e lazer', 'instrumentos musicais', 'moveis', 'instrumentos musicais', 'esporte e lazer', 'moveis', 'brinquedos', 'esporte e lazer', 'livros', 'livros', 'moveis', 'esporte e lazer', 'esporte e lazer', 'instrumentos musicais', 'livros', 'esporte e lazer', 'eletrodomesticos', 'instrumentos musicais', 'eletrodomesticos', 'eletrodomesticos', 'eletrodomesticos', 'eletronicos', 'livros', 'moveis', 'eletrodomesticos', 'brinquedos', 'eletronicos', 'livros', 'eletronicos', 'eletronicos', 'brinquedos', 'moveis', 'brinquedos', 'livros', 'moveis', 'brinquedos', 'moveis', 'esporte e lazer', 'eletronicos', 'moveis', 'brinquedos', 'eletrodomesticos', 'moveis', 'livros', 'eletrodomesticos', 'instrumentos musicais', 'eletrodomesticos', 'eletrodomesticos', 'instrumentos musicais', 'esporte e lazer', 'utilidades domesticas', 'eletrodomesticos', 'moveis', 'brinquedos', 'esporte e lazer', 'instrumentos musicais', 'livros', 'esporte e lazer', 'utilidades domesticas', 'brinquedos', 'moveis', 'eletronicos', 'eletronicos', 'eletronicos', 'livros', 'moveis', 'instrumentos musicais', 'instrumentos musicais', 'eletrodomesticos', 'livros', 'eletronicos', 'esporte e lazer', 'eletrodomesticos', 'brinquedos', 'eletronicos', 'livros', 'moveis', 'moveis', 'eletronicos', 'moveis', 'eletronicos', 'brinquedos', 'eletronicos', 'moveis', 'eletronicos', 'eletronicos', 'instrumentos musicais', 'instrumentos musicais', 'eletronicos', 'eletrodomesticos', 'utilidades domesticas', 'eletrodomesticos', 'eletrodomesticos', 'eletronicos', 'moveis', 'eletronicos', 'utilidades domesticas', 'esporte e lazer', 'instrumentos musicais', 'eletronicos', 'eletronicos', 'eletrodomesticos', 'livros', 'livros', 'utilidades domesticas', 'eletrodomesticos', 'eletrodomesticos', 'eletronicos', 'moveis', 'eletronicos', 'moveis', 'brinquedos', 'utilidades domesticas', 'eletronicos', 'livros', 'esporte e lazer', 'livros', 'eletronicos', 'instrumentos musicais', 'eletronicos', 'instrumentos musicais', 'moveis', 'eletronicos', 'esporte e lazer', 'eletrodomesticos', 'esporte e lazer', 'moveis', 'esporte e lazer', 'esporte e lazer', 'utilidades domesticas', 'eletrodomesticos', 'utilidades domesticas', 'eletrodomesticos', 'eletrodomesticos', 'livros', 'brinquedos', 'esporte e lazer', 'utilidades domesticas', 'brinquedos', 'moveis', 'moveis', 'esporte e lazer', 'eletrodomesticos', 'moveis', 'eletronicos', 'moveis', 'eletrodomesticos', 'moveis', 'moveis', 'livros', 'moveis', 'eletronicos', 'livros', 'utilidades domesticas', 'instrumentos musicais', 'brinquedos', 'eletrodomesticos', 'moveis', 'moveis', 'instrumentos musicais', 'brinquedos', 'moveis', 'moveis', 'esporte e lazer', 'brinquedos', 'brinquedos', 'brinquedos', 'brinquedos', 'eletrodomesticos', 'moveis', 'brinquedos', 'esporte e lazer', 'brinquedos', 'esporte e lazer', 'brinquedos', 'eletrodomesticos', 'eletrodomesticos', 'eletrodomesticos', 'esporte e lazer', 'moveis', 'esporte e lazer', 'instrumentos musicais', 'brinquedos', 'eletronicos', 'moveis', 'esporte e lazer', 'eletrodomesticos', 'instrumentos musicais', 'instrumentos musicais', 'esporte e lazer', 'moveis', 'instrumentos musicais', 'moveis', 'livros', 'instrumentos musicais', 'esporte e lazer', 'moveis', 'eletronicos', 'moveis', 'eletronicos', 'instrumentos musicais', 'livros', 'eletronicos', 'eletrodomesticos', 'eletronicos', 'instrumentos musicais', 'instrumentos musicais', 'instrumentos musicais', 'esporte e lazer', 'livros', 'livros', 'moveis', 'utilidades domesticas', 'moveis', 'brinquedos', 'esporte e lazer', 'eletronicos', 'brinquedos', 'eletronicos', 'eletrodomesticos', 'eletronicos', 'eletronicos', 'utilidades domesticas', 'utilidades domesticas', 'livros', 'eletronicos', 'eletrodomesticos', 'esporte e lazer', 'esporte e lazer', 'esporte e lazer', 'eletronicos', 'eletronicos', 'brinquedos', 'eletronicos', 'utilidades domesticas', 'moveis', 'brinquedos', 'livros', 'livros', 'eletronicos', 'esporte e lazer', 'eletronicos', 'esporte e lazer', 'eletrodomesticos', 'eletrodomesticos', 'brinquedos', 'esporte e lazer', 'eletronicos', 'eletrodomesticos', 'esporte e lazer', 'instrumentos musicais', 'instrumentos musicais', 'moveis', 'brinquedos', 'eletrodomesticos', 'eletrodomesticos', 'eletronicos', 'moveis', 'eletrodomesticos', 'moveis', 'esporte e lazer', 'brinquedos', 'instrumentos musicais', 'instrumentos musicais', 'moveis', 'esporte e lazer', 'brinquedos', 'eletronicos', 'brinquedos', 'esporte e lazer', 'eletronicos', 'brinquedos', 'brinquedos', 'esporte e lazer', 'esporte e lazer', 'livros', 'eletronicos', 'moveis', 'moveis', 'brinquedos', 'eletronicos', 'brinquedos', 'brinquedos', 'eletrodomesticos', 'moveis', 'utilidades domesticas', 'eletronicos', 'esporte e lazer', 'eletronicos', 'moveis', 'eletronicos', 'eletronicos', 'brinquedos', 'esporte e lazer', 'brinquedos', 'eletronicos', 'eletronicos', 'eletronicos', 'brinquedos', 'brinquedos', 'eletrodomesticos', 'instrumentos musicais', 'utilidades domesticas', 'eletronicos', 'livros', 'esporte e lazer', 'esporte e lazer', 'brinquedos', 'eletronicos', 'eletronicos', 'eletronicos', 'livros', 'eletronicos', 'esporte e lazer', 'instrumentos musicais', 'livros', 'eletronicos', 'moveis', 'utilidades domesticas', 'esporte e lazer', 'esporte e lazer', 'eletronicos', 'moveis', 'instrumentos musicais', 'moveis', 'esporte e lazer', 'brinquedos', 'moveis', 'eletronicos', 'instrumentos musicais', 'esporte e lazer', 'brinquedos', 'moveis', 'livros', 'eletronicos', 'moveis', 'eletrodomesticos', 'esporte e lazer', 'eletrodomesticos', 'eletrodomesticos', 'moveis', 'brinquedos', 'eletrodomesticos', 'moveis', 'eletronicos', 'eletronicos', 'brinquedos', 'brinquedos', 'brinquedos', 'livros', 'instrumentos musicais', 'livros', 'utilidades domesticas', 'livros', 'livros', 'esporte e lazer', 'utilidades domesticas', 'eletrodomesticos', 'moveis', 'brinquedos', 'brinquedos', 'eletrodomesticos', 'eletronicos', 'utilidades domesticas', 'instrumentos musicais', 'eletronicos', 'brinquedos', 'eletronicos', 'brinquedos', 'eletronicos', 'esporte e lazer', 'moveis', 'eletronicos', 'eletronicos', 'instrumentos musicais', 'moveis', 'moveis', 'brinquedos', 'esporte e lazer', 'utilidades domesticas', 'eletrodomesticos', 'eletronicos', 'moveis', 'livros', 'instrumentos musicais', 'livros', 'brinquedos', 'eletronicos', 'instrumentos musicais', 'brinquedos', 'esporte e lazer', 'instrumentos musicais', 'moveis', 'brinquedos', 'eletrodomesticos', 'moveis', 'instrumentos musicais', 'brinquedos', 'utilidades domesticas', 'moveis', 'esporte e lazer', 'moveis', 'eletrodomesticos', 'esporte e lazer', 'moveis', 'eletrodomesticos', 'eletronicos', 'moveis', 'eletronicos', 'livros', 'brinquedos', 'moveis', 'eletrodomesticos', 'eletrodomesticos', 'utilidades domesticas', 'eletrodomesticos', 'brinquedos', 'brinquedos', 'utilidades domesticas', 'esporte e lazer', 'eletronicos', 'moveis', 'brinquedos', 'moveis', 'eletronicos', 'eletrodomesticos', 'brinquedos', 'esporte e lazer', 'esporte e lazer', 'utilidades domesticas', 'livros', 'esporte e lazer', 'brinquedos', 'utilidades domesticas', 'livros', 'moveis', 'eletronicos', 'moveis', 'esporte e lazer', 'eletronicos', 'moveis', 'esporte e lazer', 'livros', 'utilidades domesticas', 'livros', 'instrumentos musicais', 'eletrodomesticos', 'eletrodomesticos', 'instrumentos musicais', 'esporte e lazer', 'esporte e lazer', 'utilidades domesticas', 'eletrodomesticos', 'brinquedos', 'moveis', 'esporte e lazer', 'eletrodomesticos', 'brinquedos', 'eletronicos', 'moveis', 'instrumentos musicais', 'eletronicos', 'esporte e lazer', 'eletrodomesticos', 'moveis', 'brinquedos', 'moveis', 'livros', 'brinquedos', 'eletrodomesticos', 'brinquedos', 'brinquedos', 'eletrodomesticos', 'eletrodomesticos', 'brinquedos', 'brinquedos', 'brinquedos', 'eletronicos', 'moveis', 'instrumentos musicais', 'esporte e lazer', 'moveis', 'moveis', 'moveis', 'moveis', 'eletronicos', 'eletrodomesticos', 'eletronicos', 'instrumentos musicais', 'eletrodomesticos', 'instrumentos musicais', 'esporte e lazer', 'esporte e lazer', 'utilidades domesticas', 'esporte e lazer', 'instrumentos musicais', 'utilidades domesticas', 'eletrodomesticos', 'instrumentos musicais', 'moveis', 'livros', 'eletronicos', 'brinquedos', 'brinquedos', 'esporte e lazer', 'moveis', 'brinquedos', 'instrumentos musicais', 'livros', 'eletronicos', 'eletronicos', 'esporte e lazer', 'eletrodomesticos', 'esporte e lazer', 'eletrodomesticos', 'esporte e lazer', 'instrumentos musicais', 'brinquedos', 'eletronicos', 'brinquedos', 'eletrodomesticos', 'livros', 'moveis', 'eletrodomesticos', 'livros', 'esporte e lazer', 'eletronicos', 'instrumentos musicais', 'eletrodomesticos', 'brinquedos', 'moveis', 'instrumentos musicais', 'eletronicos', 'moveis', 'esporte e lazer', 'brinquedos', 'utilidades domesticas', 'eletronicos', 'moveis', 'eletronicos', 'eletrodomesticos', 'esporte e lazer', 'instrumentos musicais', 'eletronicos', 'eletrodomesticos', 'utilidades domesticas', 'esporte e lazer', 'eletrodomesticos', 'esporte e lazer', 'utilidades domesticas', 'livros', 'eletronicos', 'instrumentos musicais', 'brinquedos', 'brinquedos', 'eletronicos', 'moveis', 'eletrodomesticos', 'instrumentos musicais', 'eletrodomesticos', 'instrumentos musicais', 'eletrodomesticos', 'esporte e lazer', 'instrumentos musicais', 'esporte e lazer', 'moveis', 'instrumentos musicais', 'instrumentos musicais', 'esporte e lazer', 'livros', 'utilidades domesticas', 'eletronicos', 'eletrodomesticos', 'eletrodomesticos', 'eletrodomesticos', 'moveis', 'eletronicos', 'moveis', 'esporte e lazer', 'eletronicos', 'livros', 'livros', 'instrumentos musicais', 'brinquedos', 'moveis', 'moveis', 'eletronicos', 'eletrodomesticos', 'eletronicos', 'livros', 'moveis', 'moveis', 'eletronicos', 'eletronicos', 'eletronicos', 'instrumentos musicais', 'brinquedos', 'livros', 'eletronicos', 'moveis', 'moveis', 'eletronicos', 'eletrodomesticos', 'eletrodomesticos', 'eletrodomesticos', 'brinquedos', 'livros', 'eletrodomesticos', 'utilidades domesticas', 'eletrodomesticos', 'moveis', 'livros', 'brinquedos', 'esporte e lazer', 'brinquedos', 'brinquedos', 'esporte e lazer', 'moveis', 'esporte e lazer', 'livros', 'eletrodomesticos', 'brinquedos', 'utilidades domesticas', 'instrumentos musicais', 'esporte e lazer', 'eletronicos', 'esporte e lazer', 'eletrodomesticos', 'livros', 'moveis', 'utilidades domesticas', 'eletrodomesticos', 'eletrodomesticos', 'esporte e lazer', 'brinquedos', 'esporte e lazer', 'esporte e lazer', 'moveis', 'eletrodomesticos', 'eletronicos', 'moveis', 'utilidades domesticas', 'esporte e lazer', 'eletronicos', 'brinquedos', 'livros', 'eletronicos', 'instrumentos musicais', 'eletronicos', 'eletrodomesticos', 'eletrodomesticos', 'eletrodomesticos', 'eletronicos', 'esporte e lazer', 'brinquedos', 'eletronicos', 'esporte e lazer', 'brinquedos', 'instrumentos musicais', 'eletronicos', 'eletronicos', 'utilidades domesticas', 'moveis', 'eletronicos', 'brinquedos', 'moveis', 'livros', 'moveis', 'eletronicos', 'livros', 'moveis', 'eletrodomesticos', 'moveis', 'eletrodomesticos', 'instrumentos musicais', 'utilidades domesticas', 'moveis', 'instrumentos musicais', 'livros', 'livros', 'moveis', 'eletrodomesticos', 'brinquedos', 'esporte e lazer', 'utilidades domesticas', 'brinquedos', 'brinquedos', 'esporte e lazer', 'moveis', 'eletronicos', 'livros', 'brinquedos', 'esporte e lazer', 'moveis', 'brinquedos', 'eletronicos', 'eletronicos', 'utilidades domesticas', 'moveis', 'esporte e lazer', 'moveis', 'utilidades domesticas', 'eletrodomesticos', 'brinquedos', 'esporte e lazer', 'eletronicos', 'moveis', 'eletrodomesticos', 'moveis', 'moveis', 'moveis', 'moveis', 'livros', 'eletronicos', 'eletronicos', 'eletrodomesticos', 'esporte e lazer', 'instrumentos musicais', 'livros', 'moveis', 'livros', 'esporte e lazer', 'moveis', 'moveis', 'eletronicos', 'moveis', 'eletronicos', 'moveis', 'eletronicos', 'utilidades domesticas', 'moveis', 'moveis', 'brinquedos', 'moveis', 'livros', 'eletrodomesticos', 'eletronicos', 'eletrodomesticos', 'moveis', 'moveis', 'moveis', 'instrumentos musicais', 'eletronicos', 'eletrodomesticos', 'moveis', 'esporte e lazer', 'eletrodomesticos', 'brinquedos', 'eletrodomesticos', 'eletronicos', 'utilidades domesticas', 'moveis', 'eletrodomesticos', 'livros', 'eletronicos', 'eletronicos', 'moveis', 'esporte e lazer', 'utilidades domesticas', 'eletrodomesticos', 'moveis', 'esporte e lazer', 'eletronicos', 'livros', 'utilidades domesticas', 'moveis', 'moveis', 'esporte e lazer', 'eletronicos', 'eletronicos', 'eletrodomesticos', 'instrumentos musicais', 'eletronicos', 'utilidades domesticas', 'utilidades domesticas', 'moveis', 'eletrodomesticos', 'eletronicos', 'utilidades domesticas', 'brinquedos', 'instrumentos musicais', 'brinquedos', 'moveis', 'esporte e lazer', 'esporte e lazer', 'eletronicos', 'moveis', 'eletrodomesticos', 'eletrodomesticos', 'eletronicos', 'eletronicos', 'moveis', 'eletronicos', 'moveis', 'moveis', 'livros', 'instrumentos musicais', 'moveis', 'eletronicos', 'moveis', 'utilidades domesticas', 'esporte e lazer', 'eletronicos', 'utilidades domesticas', 'eletronicos', 'esporte e lazer', 'esporte e lazer', 'eletronicos', 'moveis', 'eletronicos', 'moveis', 'livros', 'utilidades domesticas', 'brinquedos', 'livros', 'eletronicos', 'moveis', 'eletrodomesticos', 'eletronicos', 'instrumentos musicais', 'utilidades domesticas', 'moveis', 'eletronicos', 'brinquedos', 'moveis', 'utilidades domesticas', 'eletrodomesticos', 'moveis', 'brinquedos', 'moveis', 'utilidades domesticas', 'eletronicos', 'moveis', 'livros', 'esporte e lazer', 'livros', 'brinquedos', 'moveis', 'eletronicos', 'instrumentos musicais', 'utilidades domesticas', 'esporte e lazer', 'brinquedos', 'brinquedos', 'moveis', 'eletrodomesticos', 'brinquedos', 'utilidades domesticas', 'moveis', 'eletrodomesticos', 'eletronicos', 'brinquedos', 'utilidades domesticas', 'moveis', 'livros', 'moveis', 'esporte e lazer', 'brinquedos', 'instrumentos musicais', 'moveis', 'livros', 'moveis', 'eletrodomesticos', 'livros', 'utilidades domesticas', 'eletronicos', 'eletrodomesticos', 'utilidades domesticas', 'eletronicos', 'moveis', 'brinquedos', 'moveis', 'instrumentos musicais', 'eletrodomesticos', 'livros', 'eletrodomesticos', 'eletrodomesticos', 'instrumentos musicais', 'brinquedos', 'brinquedos', 'eletronicos', 'eletronicos', 'livros', 'utilidades domesticas', 'eletrodomesticos', 'eletronicos', 'eletrodomesticos', 'moveis', 'moveis', 'brinquedos', 'eletronicos', 'livros', 'utilidades domesticas', 'utilidades domesticas', 'eletrodomesticos', 'esporte e lazer', 'eletrodomesticos', 'eletrodomesticos', 'esporte e lazer', 'utilidades domesticas', 'moveis', 'esporte e lazer', 'esporte e lazer', 'eletronicos', 'utilidades domesticas', 'esporte e lazer', 'eletronicos', 'utilidades domesticas', 'brinquedos', 'brinquedos', 'brinquedos', 'livros', 'brinquedos', 'eletronicos', 'instrumentos musicais', 'instrumentos musicais', 'esporte e lazer', 'utilidades domesticas', 'eletronicos', 'moveis', 'livros', 'eletronicos', 'esporte e lazer', 'eletronicos', 'moveis', 'eletrodomesticos', 'instrumentos musicais', 'eletronicos', 'eletronicos', 'utilidades domesticas', 'moveis', 'eletronicos', 'eletrodomesticos', 'instrumentos musicais', 'moveis', 'moveis', 'moveis', 'livros', 'livros', 'utilidades domesticas', 'utilidades domesticas', 'esporte e lazer', 'instrumentos musicais', 'instrumentos musicais', 'esporte e lazer', 'moveis', 'brinquedos', 'esporte e lazer', 'instrumentos musicais', 'moveis', 'esporte e lazer', 'livros', 'eletronicos', 'eletronicos', 'eletrodomesticos', 'esporte e lazer', 'eletronicos', 'moveis', 'moveis', 'instrumentos musicais', 'livros', 'brinquedos', 'eletrodomesticos', 'eletrodomesticos', 'moveis', 'esporte e lazer', 'eletronicos', 'livros', 'brinquedos', 'brinquedos', 'eletrodomesticos', 'instrumentos musicais', 'moveis', 'brinquedos', 'moveis', 'esporte e lazer', 'eletronicos', 'esporte e lazer', 'brinquedos', 'brinquedos', 'esporte e lazer', 'brinquedos', 'instrumentos musicais', 'eletronicos', 'moveis', 'esporte e lazer', 'moveis', 'esporte e lazer', 'instrumentos musicais', 'eletronicos', 'eletrodomesticos', 'esporte e lazer', 'eletronicos', 'utilidades domesticas', 'eletrodomesticos', 'utilidades domesticas', 'utilidades domesticas', 'utilidades domesticas', 'eletrodomesticos', 'eletronicos', 'eletrodomesticos', 'esporte e lazer', 'utilidades domesticas', 'instrumentos musicais', 'utilidades domesticas', 'eletrodomesticos', 'instrumentos musicais', 'instrumentos musicais', 'eletrodomesticos', 'brinquedos', 'eletronicos', 'instrumentos musicais', 'utilidades domesticas', 'moveis', 'instrumentos musicais', 'esporte e lazer', 'moveis', 'eletrodomesticos', 'eletrodomesticos', 'instrumentos musicais', 'moveis', 'eletrodomesticos', 'esporte e lazer', 'esporte e lazer', 'moveis', 'brinquedos', 'utilidades domesticas', 'instrumentos musicais', 'livros', 'eletrodomesticos', 'utilidades domesticas', 'eletrodomesticos', 'utilidades domesticas', 'moveis', 'brinquedos', 'esporte e lazer', 'brinquedos', 'brinquedos', 'brinquedos', 'brinquedos', 'moveis', 'brinquedos', 'esporte e lazer', 'brinquedos', 'utilidades domesticas', 'esporte e lazer', 'eletronicos', 'instrumentos musicais', 'eletronicos', 'eletronicos', 'instrumentos musicais', 'eletronicos', 'eletronicos', 'esporte e lazer', 'livros', 'moveis', 'instrumentos musicais', 'moveis', 'moveis', 'esporte e lazer', 'brinquedos', 'brinquedos', 'utilidades domesticas', 'instrumentos musicais', 'livros', 'brinquedos', 'brinquedos', 'eletronicos', 'instrumentos musicais', 'brinquedos', 'moveis', 'eletronicos', 'eletronicos', 'utilidades domesticas', 'esporte e lazer', 'brinquedos', 'eletronicos', 'utilidades domesticas', 'brinquedos', 'eletrodomesticos', 'instrumentos musicais', 'eletronicos', 'instrumentos musicais', 'livros', 'eletrodomesticos', 'eletronicos', 'eletrodomesticos', 'eletronicos', 'moveis', 'eletronicos', 'eletrodomesticos', 'utilidades domesticas', 'instrumentos musicais', 'livros', 'eletrodomesticos', 'utilidades domesticas', 'instrumentos musicais', 'brinquedos', 'eletrodomesticos', 'moveis', 'eletrodomesticos', 'livros', 'livros', 'esporte e lazer', 'utilidades domesticas', 'brinquedos', 'instrumentos musicais', 'moveis', 'instrumentos musicais', 'eletrodomesticos', 'esporte e lazer', 'moveis', 'utilidades domesticas', 'eletronicos', 'eletronicos', 'eletrodomesticos', 'eletrodomesticos', 'moveis', 'esporte e lazer', 'moveis', 'eletronicos', 'brinquedos', 'esporte e lazer', 'esporte e lazer', 'moveis', 'moveis', 'livros', 'eletronicos', 'brinquedos', 'livros', 'eletrodomesticos', 'eletrodomesticos', 'eletrodomesticos', 'eletrodomesticos', 'brinquedos', 'esporte e lazer', 'eletronicos', 'esporte e lazer', 'brinquedos', 'esporte e lazer', 'esporte e lazer', 'brinquedos', 'eletronicos', 'esporte e lazer', 'moveis', 'moveis', 'brinquedos', 'eletronicos', 'eletronicos', 'utilidades domesticas', 'instrumentos musicais', 'livros', 'esporte e lazer', 'moveis', 'utilidades domesticas', 'brinquedos', 'brinquedos', 'instrumentos musicais', 'eletronicos', 'moveis', 'eletronicos', 'eletronicos', 'eletronicos', 'instrumentos musicais', 'moveis', 'eletrodomesticos', 'utilidades domesticas', 'eletrodomesticos', 'moveis', 'eletrodomesticos', 'esporte e lazer', 'eletronicos', 'moveis', 'eletronicos', 'moveis', 'brinquedos', 'moveis', 'livros', 'eletrodomesticos', 'livros', 'brinquedos', 'moveis', 'moveis', 'utilidades domesticas', 'eletrodomesticos', 'eletronicos', 'brinquedos', 'brinquedos', 'eletronicos', 'eletrodomesticos', 'instrumentos musicais', 'eletronicos', 'brinquedos', 'eletronicos', 'eletronicos', 'moveis', 'livros', 'eletrodomesticos', 'brinquedos', 'eletronicos', 'brinquedos', 'brinquedos', 'eletronicos', 'eletrodomesticos', 'livros', 'eletronicos', 'moveis', 'eletronicos', 'esporte e lazer', 'instrumentos musicais', 'livros', 'brinquedos', 'livros', 'moveis', 'eletrodomesticos', 'utilidades domesticas', 'moveis', 'livros', 'eletronicos', 'livros', 'brinquedos', 'utilidades domesticas', 'esporte e lazer', 'moveis', 'utilidades domesticas', 'esporte e lazer', 'esporte e lazer', 'esporte e lazer', 'eletrodomesticos', 'brinquedos', 'eletrodomesticos', 'eletronicos', 'moveis', 'moveis', 'instrumentos musicais', 'livros', 'utilidades domesticas', 'esporte e lazer', 'instrumentos musicais', 'eletrodomesticos', 'eletrodomesticos', 'esporte e lazer', 'eletronicos', 'esporte e lazer', 'eletrodomesticos', 'instrumentos musicais', 'eletronicos', 'esporte e lazer', 'moveis', 'moveis', 'brinquedos', 'eletronicos', 'instrumentos musicais', 'brinquedos', 'instrumentos musicais', 'eletronicos', 'instrumentos musicais', 'brinquedos', 'utilidades domesticas', 'utilidades domesticas', 'moveis', 'esporte e lazer', 'livros', 'utilidades domesticas', 'brinquedos', 'utilidades domesticas', 'instrumentos musicais', 'instrumentos musicais', 'eletronicos', 'utilidades domesticas', 'eletronicos', 'moveis', 'eletronicos', 'eletrodomesticos', 'esporte e lazer', 'moveis', 'eletrodomesticos', 'eletronicos', 'instrumentos musicais', 'moveis', 'eletronicos', 'moveis', 'esporte e lazer', 'eletronicos', 'instrumentos musicais', 'esporte e lazer', 'eletrodomesticos', 'brinquedos', 'brinquedos', 'eletronicos', 'eletrodomesticos', 'esporte e lazer', 'moveis', 'eletrodomesticos', 'brinquedos', 'eletrodomesticos', 'eletrodomesticos', 'brinquedos', 'livros', 'brinquedos', 'eletronicos', 'esporte e lazer', 'instrumentos musicais', 'instrumentos musicais', 'eletrodomesticos', 'moveis', 'eletrodomesticos', 'esporte e lazer', 'moveis', 'brinquedos', 'brinquedos', 'eletronicos', 'eletronicos', 'moveis', 'eletrodomesticos', 'eletronicos', 'utilidades domesticas', 'brinquedos', 'utilidades domesticas', 'brinquedos', 'moveis', 'livros', 'instrumentos musicais', 'eletrodomesticos', 'instrumentos musicais', 'livros', 'brinquedos', 'brinquedos', 'esporte e lazer', 'brinquedos', 'moveis', 'moveis', 'utilidades domesticas', 'instrumentos musicais', 'eletronicos', 'eletrodomesticos', 'eletrodomesticos', 'moveis', 'moveis', 'instrumentos musicais', 'moveis', 'eletrodomesticos', 'esporte e lazer', 'esporte e lazer', 'eletronicos', 'eletrodomesticos', 'esporte e lazer', 'utilidades domesticas', 'eletrodomesticos', 'eletrodomesticos', 'eletronicos', 'esporte e lazer']\n"
          ]
        }
      ]
    },
    {
      "cell_type": "code",
      "source": [
        "#Loja 2 - Criar um dicionário com a chave: categoria de produto e no valor: a soma de todos os produtos vendidos nesta categoria\n",
        "\n",
        "faturamento_por_categoria = {}\n",
        "\n",
        "for categoria, preco in zip(loja2['Categoria do Produto'], loja2['Preço']):\n",
        "    if categoria not in faturamento_por_categoria:\n",
        "        faturamento_por_categoria[categoria] = preco\n",
        "    else:\n",
        "        faturamento_por_categoria[categoria] += preco\n",
        "\n",
        "ordenado_maior_valor = dict(sorted(faturamento_por_categoria.items(), key=lambda item: item[1], reverse=True))\n",
        "print(\"Faturamento por categoria: \", ordenado_maior_valor)"
      ],
      "metadata": {
        "colab": {
          "base_uri": "https://localhost:8080/"
        },
        "id": "3qCKiLXaeeGA",
        "outputId": "197e66f5-24b2-4266-f057-98b92a2a6795"
      },
      "execution_count": 122,
      "outputs": [
        {
          "output_type": "stream",
          "name": "stdout",
          "text": [
            "Faturamento por categoria:  {'eletronicos': 547773.7100000001, 'eletrodomesticos': 464758.13, 'moveis': 235234.67999999993, 'instrumentos musicais': 139987.03000000006, 'esporte e lazer': 46326.09, 'brinquedos': 21262.21000000001, 'utilidades domesticas': 19662.85999999999, 'livros': 13454.349999999997}\n"
          ]
        }
      ]
    },
    {
      "cell_type": "code",
      "source": [
        "#Loja 3 - Criar uma lista das categorias de produtos\n",
        "\n",
        "categorias = []\n",
        "\n",
        "for categoria in loja3['Categoria do Produto']:\n",
        "  categorias.append(categoria)\n",
        "\n",
        "print(categorias)"
      ],
      "metadata": {
        "colab": {
          "base_uri": "https://localhost:8080/"
        },
        "id": "stku1ZfUSk5M",
        "outputId": "f6d6b4d2-234c-43c1-bd22-eb61b8bbf071"
      },
      "execution_count": 75,
      "outputs": [
        {
          "output_type": "stream",
          "name": "stdout",
          "text": [
            "['eletrodomesticos', 'moveis', 'instrumentos musicais', 'esporte e lazer', 'moveis', 'eletronicos', 'brinquedos', 'moveis', 'instrumentos musicais', 'utilidades domesticas', 'brinquedos', 'moveis', 'eletronicos', 'eletronicos', 'utilidades domesticas', 'eletronicos', 'utilidades domesticas', 'utilidades domesticas', 'brinquedos', 'moveis', 'eletrodomesticos', 'utilidades domesticas', 'brinquedos', 'livros', 'utilidades domesticas', 'moveis', 'livros', 'moveis', 'esporte e lazer', 'livros', 'utilidades domesticas', 'esporte e lazer', 'eletrodomesticos', 'brinquedos', 'brinquedos', 'eletrodomesticos', 'esporte e lazer', 'utilidades domesticas', 'utilidades domesticas', 'eletronicos', 'livros', 'eletrodomesticos', 'eletronicos', 'instrumentos musicais', 'esporte e lazer', 'brinquedos', 'eletronicos', 'moveis', 'eletronicos', 'esporte e lazer', 'moveis', 'eletrodomesticos', 'moveis', 'brinquedos', 'eletronicos', 'brinquedos', 'moveis', 'eletronicos', 'eletronicos', 'moveis', 'eletronicos', 'eletronicos', 'moveis', 'moveis', 'eletronicos', 'instrumentos musicais', 'livros', 'moveis', 'brinquedos', 'eletrodomesticos', 'esporte e lazer', 'moveis', 'eletronicos', 'brinquedos', 'esporte e lazer', 'eletrodomesticos', 'eletrodomesticos', 'utilidades domesticas', 'eletronicos', 'esporte e lazer', 'livros', 'esporte e lazer', 'moveis', 'moveis', 'moveis', 'moveis', 'moveis', 'brinquedos', 'brinquedos', 'esporte e lazer', 'eletrodomesticos', 'instrumentos musicais', 'eletronicos', 'instrumentos musicais', 'brinquedos', 'eletrodomesticos', 'eletronicos', 'instrumentos musicais', 'moveis', 'livros', 'moveis', 'brinquedos', 'eletronicos', 'eletrodomesticos', 'utilidades domesticas', 'livros', 'brinquedos', 'moveis', 'utilidades domesticas', 'moveis', 'livros', 'moveis', 'moveis', 'eletronicos', 'eletrodomesticos', 'livros', 'esporte e lazer', 'utilidades domesticas', 'moveis', 'moveis', 'utilidades domesticas', 'eletronicos', 'esporte e lazer', 'moveis', 'eletronicos', 'eletronicos', 'eletronicos', 'moveis', 'brinquedos', 'moveis', 'brinquedos', 'moveis', 'moveis', 'livros', 'esporte e lazer', 'eletronicos', 'esporte e lazer', 'instrumentos musicais', 'livros', 'moveis', 'eletronicos', 'eletrodomesticos', 'brinquedos', 'utilidades domesticas', 'esporte e lazer', 'moveis', 'eletronicos', 'eletronicos', 'eletronicos', 'instrumentos musicais', 'eletrodomesticos', 'instrumentos musicais', 'utilidades domesticas', 'moveis', 'eletronicos', 'eletronicos', 'eletronicos', 'eletronicos', 'eletronicos', 'brinquedos', 'utilidades domesticas', 'esporte e lazer', 'brinquedos', 'eletronicos', 'esporte e lazer', 'moveis', 'eletronicos', 'livros', 'livros', 'moveis', 'moveis', 'eletronicos', 'utilidades domesticas', 'eletronicos', 'moveis', 'eletrodomesticos', 'livros', 'utilidades domesticas', 'livros', 'utilidades domesticas', 'esporte e lazer', 'moveis', 'livros', 'eletronicos', 'eletronicos', 'instrumentos musicais', 'brinquedos', 'eletronicos', 'instrumentos musicais', 'moveis', 'esporte e lazer', 'livros', 'moveis', 'eletronicos', 'eletrodomesticos', 'eletronicos', 'brinquedos', 'eletronicos', 'moveis', 'esporte e lazer', 'eletronicos', 'eletrodomesticos', 'eletronicos', 'brinquedos', 'moveis', 'eletrodomesticos', 'moveis', 'brinquedos', 'brinquedos', 'utilidades domesticas', 'eletronicos', 'livros', 'moveis', 'eletronicos', 'eletronicos', 'moveis', 'moveis', 'instrumentos musicais', 'livros', 'instrumentos musicais', 'brinquedos', 'utilidades domesticas', 'moveis', 'brinquedos', 'instrumentos musicais', 'moveis', 'eletronicos', 'brinquedos', 'eletronicos', 'eletronicos', 'eletronicos', 'eletronicos', 'livros', 'livros', 'brinquedos', 'esporte e lazer', 'eletrodomesticos', 'eletronicos', 'eletronicos', 'esporte e lazer', 'esporte e lazer', 'livros', 'moveis', 'esporte e lazer', 'esporte e lazer', 'moveis', 'instrumentos musicais', 'eletrodomesticos', 'esporte e lazer', 'livros', 'eletrodomesticos', 'moveis', 'esporte e lazer', 'eletronicos', 'brinquedos', 'brinquedos', 'esporte e lazer', 'esporte e lazer', 'eletrodomesticos', 'moveis', 'moveis', 'esporte e lazer', 'livros', 'eletrodomesticos', 'esporte e lazer', 'esporte e lazer', 'moveis', 'instrumentos musicais', 'instrumentos musicais', 'instrumentos musicais', 'eletrodomesticos', 'esporte e lazer', 'eletronicos', 'brinquedos', 'moveis', 'moveis', 'instrumentos musicais', 'moveis', 'instrumentos musicais', 'esporte e lazer', 'moveis', 'eletronicos', 'eletronicos', 'instrumentos musicais', 'esporte e lazer', 'moveis', 'eletronicos', 'esporte e lazer', 'eletronicos', 'instrumentos musicais', 'instrumentos musicais', 'eletronicos', 'livros', 'brinquedos', 'eletrodomesticos', 'moveis', 'moveis', 'eletrodomesticos', 'utilidades domesticas', 'eletrodomesticos', 'eletronicos', 'utilidades domesticas', 'eletronicos', 'eletrodomesticos', 'esporte e lazer', 'eletronicos', 'brinquedos', 'esporte e lazer', 'moveis', 'esporte e lazer', 'eletronicos', 'utilidades domesticas', 'eletronicos', 'brinquedos', 'eletronicos', 'esporte e lazer', 'utilidades domesticas', 'utilidades domesticas', 'brinquedos', 'eletronicos', 'eletrodomesticos', 'eletronicos', 'brinquedos', 'esporte e lazer', 'brinquedos', 'moveis', 'eletronicos', 'utilidades domesticas', 'moveis', 'moveis', 'eletronicos', 'livros', 'eletrodomesticos', 'utilidades domesticas', 'esporte e lazer', 'instrumentos musicais', 'eletrodomesticos', 'esporte e lazer', 'eletronicos', 'brinquedos', 'moveis', 'brinquedos', 'eletronicos', 'moveis', 'brinquedos', 'brinquedos', 'eletronicos', 'esporte e lazer', 'esporte e lazer', 'eletronicos', 'utilidades domesticas', 'brinquedos', 'brinquedos', 'instrumentos musicais', 'eletronicos', 'eletronicos', 'esporte e lazer', 'instrumentos musicais', 'utilidades domesticas', 'moveis', 'eletronicos', 'brinquedos', 'eletronicos', 'utilidades domesticas', 'instrumentos musicais', 'eletronicos', 'instrumentos musicais', 'esporte e lazer', 'eletronicos', 'brinquedos', 'moveis', 'eletrodomesticos', 'eletrodomesticos', 'brinquedos', 'eletronicos', 'esporte e lazer', 'eletronicos', 'eletrodomesticos', 'eletronicos', 'eletrodomesticos', 'eletrodomesticos', 'utilidades domesticas', 'eletrodomesticos', 'esporte e lazer', 'brinquedos', 'brinquedos', 'esporte e lazer', 'livros', 'esporte e lazer', 'eletronicos', 'utilidades domesticas', 'eletrodomesticos', 'utilidades domesticas', 'moveis', 'instrumentos musicais', 'instrumentos musicais', 'eletronicos', 'instrumentos musicais', 'utilidades domesticas', 'brinquedos', 'livros', 'livros', 'brinquedos', 'livros', 'esporte e lazer', 'moveis', 'eletrodomesticos', 'esporte e lazer', 'utilidades domesticas', 'moveis', 'esporte e lazer', 'moveis', 'brinquedos', 'eletronicos', 'esporte e lazer', 'livros', 'eletrodomesticos', 'eletrodomesticos', 'eletronicos', 'eletronicos', 'utilidades domesticas', 'instrumentos musicais', 'livros', 'eletronicos', 'eletrodomesticos', 'eletronicos', 'brinquedos', 'eletrodomesticos', 'eletronicos', 'brinquedos', 'esporte e lazer', 'esporte e lazer', 'livros', 'eletronicos', 'eletronicos', 'eletronicos', 'moveis', 'utilidades domesticas', 'esporte e lazer', 'eletronicos', 'eletrodomesticos', 'livros', 'brinquedos', 'esporte e lazer', 'eletronicos', 'eletronicos', 'esporte e lazer', 'utilidades domesticas', 'brinquedos', 'moveis', 'livros', 'brinquedos', 'eletrodomesticos', 'instrumentos musicais', 'esporte e lazer', 'eletrodomesticos', 'livros', 'moveis', 'esporte e lazer', 'instrumentos musicais', 'esporte e lazer', 'brinquedos', 'brinquedos', 'brinquedos', 'eletronicos', 'esporte e lazer', 'esporte e lazer', 'utilidades domesticas', 'eletronicos', 'brinquedos', 'moveis', 'moveis', 'moveis', 'moveis', 'instrumentos musicais', 'moveis', 'livros', 'esporte e lazer', 'livros', 'eletronicos', 'eletronicos', 'instrumentos musicais', 'moveis', 'eletronicos', 'moveis', 'utilidades domesticas', 'utilidades domesticas', 'moveis', 'livros', 'moveis', 'utilidades domesticas', 'eletronicos', 'eletronicos', 'livros', 'esporte e lazer', 'esporte e lazer', 'livros', 'moveis', 'utilidades domesticas', 'esporte e lazer', 'livros', 'eletronicos', 'instrumentos musicais', 'eletronicos', 'eletronicos', 'utilidades domesticas', 'eletronicos', 'eletronicos', 'eletrodomesticos', 'brinquedos', 'esporte e lazer', 'moveis', 'eletronicos', 'instrumentos musicais', 'eletronicos', 'moveis', 'esporte e lazer', 'moveis', 'eletronicos', 'eletronicos', 'livros', 'brinquedos', 'brinquedos', 'moveis', 'brinquedos', 'moveis', 'brinquedos', 'eletronicos', 'esporte e lazer', 'eletrodomesticos', 'eletrodomesticos', 'brinquedos', 'eletrodomesticos', 'instrumentos musicais', 'moveis', 'utilidades domesticas', 'brinquedos', 'eletrodomesticos', 'brinquedos', 'utilidades domesticas', 'moveis', 'moveis', 'brinquedos', 'eletrodomesticos', 'eletrodomesticos', 'moveis', 'livros', 'esporte e lazer', 'livros', 'eletrodomesticos', 'livros', 'livros', 'utilidades domesticas', 'brinquedos', 'utilidades domesticas', 'moveis', 'esporte e lazer', 'eletronicos', 'livros', 'eletrodomesticos', 'esporte e lazer', 'instrumentos musicais', 'brinquedos', 'instrumentos musicais', 'moveis', 'esporte e lazer', 'eletronicos', 'brinquedos', 'eletrodomesticos', 'eletrodomesticos', 'livros', 'utilidades domesticas', 'esporte e lazer', 'eletronicos', 'utilidades domesticas', 'livros', 'eletronicos', 'esporte e lazer', 'eletronicos', 'brinquedos', 'brinquedos', 'eletronicos', 'brinquedos', 'brinquedos', 'eletronicos', 'eletronicos', 'moveis', 'moveis', 'eletrodomesticos', 'brinquedos', 'brinquedos', 'eletronicos', 'esporte e lazer', 'brinquedos', 'eletronicos', 'eletronicos', 'esporte e lazer', 'moveis', 'brinquedos', 'moveis', 'brinquedos', 'esporte e lazer', 'eletronicos', 'esporte e lazer', 'utilidades domesticas', 'esporte e lazer', 'instrumentos musicais', 'brinquedos', 'instrumentos musicais', 'eletronicos', 'eletronicos', 'livros', 'eletronicos', 'brinquedos', 'eletronicos', 'eletrodomesticos', 'eletronicos', 'eletrodomesticos', 'esporte e lazer', 'esporte e lazer', 'moveis', 'moveis', 'eletrodomesticos', 'moveis', 'brinquedos', 'eletrodomesticos', 'moveis', 'eletrodomesticos', 'moveis', 'esporte e lazer', 'livros', 'eletrodomesticos', 'eletronicos', 'utilidades domesticas', 'livros', 'moveis', 'esporte e lazer', 'esporte e lazer', 'eletrodomesticos', 'moveis', 'brinquedos', 'livros', 'esporte e lazer', 'brinquedos', 'utilidades domesticas', 'eletronicos', 'moveis', 'eletronicos', 'eletrodomesticos', 'moveis', 'moveis', 'esporte e lazer', 'brinquedos', 'esporte e lazer', 'livros', 'esporte e lazer', 'moveis', 'moveis', 'esporte e lazer', 'esporte e lazer', 'eletrodomesticos', 'instrumentos musicais', 'eletronicos', 'moveis', 'moveis', 'moveis', 'brinquedos', 'instrumentos musicais', 'eletronicos', 'eletrodomesticos', 'eletronicos', 'utilidades domesticas', 'instrumentos musicais', 'moveis', 'moveis', 'livros', 'livros', 'livros', 'eletronicos', 'eletronicos', 'moveis', 'brinquedos', 'brinquedos', 'eletronicos', 'moveis', 'moveis', 'esporte e lazer', 'eletronicos', 'eletronicos', 'livros', 'instrumentos musicais', 'esporte e lazer', 'esporte e lazer', 'eletronicos', 'eletrodomesticos', 'instrumentos musicais', 'eletrodomesticos', 'moveis', 'moveis', 'utilidades domesticas', 'brinquedos', 'brinquedos', 'brinquedos', 'brinquedos', 'eletronicos', 'moveis', 'eletronicos', 'utilidades domesticas', 'utilidades domesticas', 'eletronicos', 'instrumentos musicais', 'brinquedos', 'instrumentos musicais', 'instrumentos musicais', 'eletrodomesticos', 'instrumentos musicais', 'brinquedos', 'eletrodomesticos', 'eletrodomesticos', 'livros', 'moveis', 'eletrodomesticos', 'esporte e lazer', 'instrumentos musicais', 'utilidades domesticas', 'eletrodomesticos', 'moveis', 'moveis', 'instrumentos musicais', 'moveis', 'moveis', 'eletronicos', 'brinquedos', 'instrumentos musicais', 'utilidades domesticas', 'instrumentos musicais', 'moveis', 'eletrodomesticos', 'moveis', 'livros', 'brinquedos', 'utilidades domesticas', 'instrumentos musicais', 'moveis', 'moveis', 'eletronicos', 'moveis', 'brinquedos', 'utilidades domesticas', 'eletrodomesticos', 'esporte e lazer', 'brinquedos', 'eletrodomesticos', 'eletronicos', 'eletrodomesticos', 'brinquedos', 'instrumentos musicais', 'moveis', 'brinquedos', 'eletrodomesticos', 'brinquedos', 'moveis', 'moveis', 'eletronicos', 'moveis', 'esporte e lazer', 'esporte e lazer', 'moveis', 'brinquedos', 'eletronicos', 'esporte e lazer', 'livros', 'esporte e lazer', 'eletronicos', 'instrumentos musicais', 'esporte e lazer', 'utilidades domesticas', 'utilidades domesticas', 'brinquedos', 'eletronicos', 'utilidades domesticas', 'eletronicos', 'eletrodomesticos', 'eletrodomesticos', 'eletrodomesticos', 'esporte e lazer', 'utilidades domesticas', 'utilidades domesticas', 'eletronicos', 'brinquedos', 'brinquedos', 'livros', 'eletronicos', 'moveis', 'instrumentos musicais', 'brinquedos', 'esporte e lazer', 'esporte e lazer', 'esporte e lazer', 'moveis', 'utilidades domesticas', 'eletronicos', 'moveis', 'instrumentos musicais', 'moveis', 'eletronicos', 'brinquedos', 'eletronicos', 'moveis', 'instrumentos musicais', 'eletronicos', 'eletrodomesticos', 'instrumentos musicais', 'esporte e lazer', 'brinquedos', 'brinquedos', 'livros', 'eletronicos', 'livros', 'moveis', 'brinquedos', 'eletrodomesticos', 'esporte e lazer', 'eletronicos', 'instrumentos musicais', 'eletronicos', 'utilidades domesticas', 'eletrodomesticos', 'esporte e lazer', 'moveis', 'moveis', 'esporte e lazer', 'eletronicos', 'eletrodomesticos', 'eletrodomesticos', 'moveis', 'brinquedos', 'brinquedos', 'moveis', 'moveis', 'esporte e lazer', 'eletronicos', 'eletrodomesticos', 'eletronicos', 'esporte e lazer', 'eletrodomesticos', 'esporte e lazer', 'moveis', 'moveis', 'moveis', 'eletronicos', 'moveis', 'moveis', 'moveis', 'eletrodomesticos', 'brinquedos', 'utilidades domesticas', 'livros', 'esporte e lazer', 'utilidades domesticas', 'eletrodomesticos', 'moveis', 'moveis', 'eletronicos', 'eletrodomesticos', 'moveis', 'utilidades domesticas', 'esporte e lazer', 'livros', 'esporte e lazer', 'livros', 'brinquedos', 'moveis', 'brinquedos', 'esporte e lazer', 'instrumentos musicais', 'moveis', 'esporte e lazer', 'esporte e lazer', 'utilidades domesticas', 'eletronicos', 'livros', 'brinquedos', 'esporte e lazer', 'livros', 'moveis', 'livros', 'utilidades domesticas', 'esporte e lazer', 'eletrodomesticos', 'moveis', 'moveis', 'instrumentos musicais', 'livros', 'eletrodomesticos', 'moveis', 'eletrodomesticos', 'livros', 'brinquedos', 'moveis', 'utilidades domesticas', 'eletrodomesticos', 'eletronicos', 'eletronicos', 'esporte e lazer', 'moveis', 'eletrodomesticos', 'moveis', 'moveis', 'eletrodomesticos', 'eletronicos', 'instrumentos musicais', 'moveis', 'utilidades domesticas', 'moveis', 'instrumentos musicais', 'livros', 'livros', 'eletronicos', 'eletronicos', 'eletronicos', 'instrumentos musicais', 'esporte e lazer', 'eletrodomesticos', 'utilidades domesticas', 'eletronicos', 'eletrodomesticos', 'livros', 'eletrodomesticos', 'instrumentos musicais', 'livros', 'eletronicos', 'moveis', 'moveis', 'livros', 'moveis', 'eletronicos', 'eletronicos', 'moveis', 'moveis', 'utilidades domesticas', 'brinquedos', 'instrumentos musicais', 'brinquedos', 'moveis', 'instrumentos musicais', 'brinquedos', 'brinquedos', 'eletronicos', 'brinquedos', 'instrumentos musicais', 'utilidades domesticas', 'eletrodomesticos', 'utilidades domesticas', 'utilidades domesticas', 'esporte e lazer', 'eletronicos', 'moveis', 'brinquedos', 'brinquedos', 'eletrodomesticos', 'eletrodomesticos', 'livros', 'esporte e lazer', 'utilidades domesticas', 'eletronicos', 'esporte e lazer', 'instrumentos musicais', 'moveis', 'moveis', 'esporte e lazer', 'eletronicos', 'esporte e lazer', 'eletrodomesticos', 'brinquedos', 'moveis', 'eletrodomesticos', 'moveis', 'moveis', 'brinquedos', 'moveis', 'brinquedos', 'eletronicos', 'eletronicos', 'esporte e lazer', 'moveis', 'brinquedos', 'instrumentos musicais', 'moveis', 'eletronicos', 'eletronicos', 'esporte e lazer', 'instrumentos musicais', 'moveis', 'eletrodomesticos', 'eletronicos', 'moveis', 'esporte e lazer', 'eletrodomesticos', 'eletrodomesticos', 'instrumentos musicais', 'utilidades domesticas', 'esporte e lazer', 'eletronicos', 'eletrodomesticos', 'eletronicos', 'brinquedos', 'esporte e lazer', 'eletronicos', 'livros', 'eletrodomesticos', 'eletrodomesticos', 'brinquedos', 'moveis', 'eletrodomesticos', 'esporte e lazer', 'eletronicos', 'livros', 'livros', 'eletronicos', 'eletrodomesticos', 'brinquedos', 'livros', 'brinquedos', 'moveis', 'moveis', 'utilidades domesticas', 'moveis', 'brinquedos', 'brinquedos', 'eletronicos', 'instrumentos musicais', 'brinquedos', 'utilidades domesticas', 'esporte e lazer', 'brinquedos', 'moveis', 'brinquedos', 'esporte e lazer', 'livros', 'livros', 'moveis', 'eletrodomesticos', 'eletronicos', 'moveis', 'eletronicos', 'utilidades domesticas', 'eletronicos', 'esporte e lazer', 'eletrodomesticos', 'eletronicos', 'utilidades domesticas', 'eletronicos', 'instrumentos musicais', 'brinquedos', 'eletronicos', 'eletrodomesticos', 'esporte e lazer', 'eletronicos', 'moveis', 'brinquedos', 'esporte e lazer', 'instrumentos musicais', 'eletronicos', 'eletronicos', 'eletronicos', 'brinquedos', 'utilidades domesticas', 'moveis', 'moveis', 'eletrodomesticos', 'moveis', 'livros', 'eletrodomesticos', 'brinquedos', 'eletronicos', 'moveis', 'brinquedos', 'eletrodomesticos', 'livros', 'instrumentos musicais', 'eletrodomesticos', 'livros', 'eletronicos', 'brinquedos', 'utilidades domesticas', 'moveis', 'eletrodomesticos', 'utilidades domesticas', 'livros', 'livros', 'brinquedos', 'esporte e lazer', 'moveis', 'eletronicos', 'eletronicos', 'moveis', 'utilidades domesticas', 'esporte e lazer', 'eletrodomesticos', 'moveis', 'eletrodomesticos', 'moveis', 'utilidades domesticas', 'moveis', 'eletronicos', 'esporte e lazer', 'brinquedos', 'eletronicos', 'brinquedos', 'moveis', 'brinquedos', 'eletrodomesticos', 'eletrodomesticos', 'brinquedos', 'moveis', 'esporte e lazer', 'moveis', 'eletronicos', 'eletronicos', 'eletronicos', 'eletrodomesticos', 'eletronicos', 'eletronicos', 'utilidades domesticas', 'eletronicos', 'moveis', 'eletronicos', 'brinquedos', 'eletrodomesticos', 'livros', 'eletrodomesticos', 'moveis', 'eletrodomesticos', 'instrumentos musicais', 'moveis', 'esporte e lazer', 'eletronicos', 'moveis', 'eletrodomesticos', 'moveis', 'brinquedos', 'esporte e lazer', 'moveis', 'moveis', 'brinquedos', 'moveis', 'livros', 'moveis', 'livros', 'livros', 'esporte e lazer', 'brinquedos', 'instrumentos musicais', 'moveis', 'esporte e lazer', 'livros', 'moveis', 'eletrodomesticos', 'eletronicos', 'instrumentos musicais', 'brinquedos', 'esporte e lazer', 'brinquedos', 'brinquedos', 'eletronicos', 'instrumentos musicais', 'livros', 'livros', 'eletronicos', 'utilidades domesticas', 'eletronicos', 'eletrodomesticos', 'eletronicos', 'moveis', 'eletronicos', 'eletronicos', 'eletronicos', 'esporte e lazer', 'eletronicos', 'utilidades domesticas', 'instrumentos musicais', 'eletronicos', 'brinquedos', 'livros', 'brinquedos', 'eletronicos', 'moveis', 'eletronicos', 'eletrodomesticos', 'eletronicos', 'utilidades domesticas', 'moveis', 'eletrodomesticos', 'instrumentos musicais', 'eletronicos', 'eletronicos', 'moveis', 'esporte e lazer', 'moveis', 'eletrodomesticos', 'moveis', 'moveis', 'moveis', 'brinquedos', 'instrumentos musicais', 'esporte e lazer', 'moveis', 'instrumentos musicais', 'eletrodomesticos', 'eletronicos', 'brinquedos', 'moveis', 'instrumentos musicais', 'esporte e lazer', 'eletronicos', 'instrumentos musicais', 'eletrodomesticos', 'utilidades domesticas', 'instrumentos musicais', 'brinquedos', 'moveis', 'instrumentos musicais', 'moveis', 'brinquedos', 'livros', 'eletronicos', 'eletronicos', 'instrumentos musicais', 'moveis', 'eletronicos', 'esporte e lazer', 'eletronicos', 'instrumentos musicais', 'eletronicos', 'brinquedos', 'esporte e lazer', 'moveis', 'utilidades domesticas', 'brinquedos', 'eletronicos', 'eletrodomesticos', 'brinquedos', 'eletronicos', 'utilidades domesticas', 'eletrodomesticos', 'brinquedos', 'moveis', 'moveis', 'livros', 'moveis', 'eletronicos', 'instrumentos musicais', 'moveis', 'eletronicos', 'moveis', 'eletrodomesticos', 'eletronicos', 'moveis', 'eletrodomesticos', 'instrumentos musicais', 'brinquedos', 'moveis', 'moveis', 'livros', 'eletronicos', 'instrumentos musicais', 'esporte e lazer', 'eletronicos', 'livros', 'brinquedos', 'esporte e lazer', 'moveis', 'livros', 'moveis', 'eletrodomesticos', 'livros', 'eletronicos', 'moveis', 'brinquedos', 'eletronicos', 'eletronicos', 'moveis', 'moveis', 'brinquedos', 'esporte e lazer', 'esporte e lazer', 'moveis', 'moveis', 'instrumentos musicais', 'brinquedos', 'brinquedos', 'eletronicos', 'instrumentos musicais', 'eletrodomesticos', 'esporte e lazer', 'utilidades domesticas', 'brinquedos', 'utilidades domesticas', 'moveis', 'eletrodomesticos', 'eletrodomesticos', 'eletronicos', 'eletrodomesticos', 'eletronicos', 'moveis', 'livros', 'esporte e lazer', 'brinquedos', 'eletronicos', 'moveis', 'eletronicos', 'brinquedos', 'esporte e lazer', 'eletrodomesticos', 'brinquedos', 'livros', 'brinquedos', 'moveis', 'livros', 'esporte e lazer', 'eletrodomesticos', 'esporte e lazer', 'moveis', 'instrumentos musicais', 'moveis', 'utilidades domesticas', 'brinquedos', 'eletronicos', 'instrumentos musicais', 'esporte e lazer', 'brinquedos', 'eletronicos', 'moveis', 'brinquedos', 'brinquedos', 'eletrodomesticos', 'esporte e lazer', 'eletrodomesticos', 'brinquedos', 'esporte e lazer', 'moveis', 'eletronicos', 'brinquedos', 'eletronicos', 'utilidades domesticas', 'eletrodomesticos', 'brinquedos', 'esporte e lazer', 'moveis', 'brinquedos', 'moveis', 'eletronicos', 'eletrodomesticos', 'brinquedos', 'utilidades domesticas', 'moveis', 'moveis', 'eletrodomesticos', 'utilidades domesticas', 'moveis', 'instrumentos musicais', 'moveis', 'eletrodomesticos', 'eletrodomesticos', 'eletrodomesticos', 'livros', 'eletronicos', 'eletronicos', 'brinquedos', 'esporte e lazer', 'eletronicos', 'instrumentos musicais', 'eletronicos', 'brinquedos', 'brinquedos', 'moveis', 'eletronicos', 'esporte e lazer', 'moveis', 'eletrodomesticos', 'moveis', 'brinquedos', 'instrumentos musicais', 'eletronicos', 'instrumentos musicais', 'brinquedos', 'eletronicos', 'livros', 'brinquedos', 'eletrodomesticos', 'livros', 'eletronicos', 'esporte e lazer', 'eletrodomesticos', 'eletrodomesticos', 'eletrodomesticos', 'eletronicos', 'livros', 'eletronicos', 'brinquedos', 'eletronicos', 'instrumentos musicais', 'esporte e lazer', 'brinquedos', 'utilidades domesticas', 'esporte e lazer', 'utilidades domesticas', 'moveis', 'esporte e lazer', 'moveis', 'brinquedos', 'brinquedos', 'moveis', 'esporte e lazer', 'livros', 'eletrodomesticos', 'moveis', 'moveis', 'esporte e lazer', 'brinquedos', 'moveis', 'moveis', 'moveis', 'moveis', 'esporte e lazer', 'eletronicos', 'eletronicos', 'eletrodomesticos', 'eletronicos', 'moveis', 'brinquedos', 'moveis', 'eletrodomesticos', 'livros', 'brinquedos', 'eletronicos', 'brinquedos', 'eletronicos', 'esporte e lazer', 'eletronicos', 'esporte e lazer', 'eletronicos', 'eletronicos', 'moveis', 'eletronicos', 'esporte e lazer', 'eletrodomesticos', 'brinquedos', 'instrumentos musicais', 'eletronicos', 'esporte e lazer', 'livros', 'moveis', 'instrumentos musicais', 'livros', 'eletronicos', 'moveis', 'moveis', 'moveis', 'eletrodomesticos', 'instrumentos musicais', 'instrumentos musicais', 'utilidades domesticas', 'brinquedos', 'brinquedos', 'eletrodomesticos', 'brinquedos', 'eletrodomesticos', 'eletronicos', 'moveis', 'moveis', 'eletrodomesticos', 'livros', 'eletrodomesticos', 'instrumentos musicais', 'instrumentos musicais', 'moveis', 'brinquedos', 'eletronicos', 'eletrodomesticos', 'utilidades domesticas', 'eletronicos', 'eletronicos', 'brinquedos', 'moveis', 'moveis', 'moveis', 'brinquedos', 'esporte e lazer', 'moveis', 'instrumentos musicais', 'esporte e lazer', 'esporte e lazer', 'eletronicos', 'esporte e lazer', 'eletronicos', 'livros', 'moveis', 'moveis', 'brinquedos', 'eletrodomesticos', 'eletronicos', 'moveis', 'eletrodomesticos', 'moveis', 'brinquedos', 'eletronicos', 'livros', 'moveis', 'moveis', 'moveis', 'brinquedos', 'utilidades domesticas', 'brinquedos', 'eletronicos', 'esporte e lazer', 'instrumentos musicais', 'moveis', 'instrumentos musicais', 'eletronicos', 'brinquedos', 'moveis', 'moveis', 'moveis', 'eletronicos', 'utilidades domesticas', 'instrumentos musicais', 'eletronicos', 'esporte e lazer', 'eletrodomesticos', 'esporte e lazer', 'esporte e lazer', 'esporte e lazer', 'moveis', 'moveis', 'moveis', 'eletronicos', 'brinquedos', 'brinquedos', 'eletrodomesticos', 'moveis', 'eletronicos', 'moveis', 'livros', 'livros', 'livros', 'eletrodomesticos', 'moveis', 'eletronicos', 'eletronicos', 'moveis', 'moveis', 'instrumentos musicais', 'moveis', 'esporte e lazer', 'moveis', 'eletrodomesticos', 'utilidades domesticas', 'brinquedos', 'utilidades domesticas', 'eletronicos', 'eletrodomesticos', 'esporte e lazer', 'esporte e lazer', 'livros', 'moveis', 'esporte e lazer', 'moveis', 'livros', 'eletronicos', 'utilidades domesticas', 'moveis', 'eletrodomesticos', 'brinquedos', 'moveis', 'livros', 'utilidades domesticas', 'instrumentos musicais', 'moveis', 'moveis', 'livros', 'esporte e lazer', 'eletrodomesticos', 'eletrodomesticos', 'brinquedos', 'eletronicos', 'moveis', 'moveis', 'moveis', 'esporte e lazer', 'utilidades domesticas', 'utilidades domesticas', 'utilidades domesticas', 'instrumentos musicais', 'moveis', 'eletronicos', 'moveis', 'moveis', 'esporte e lazer', 'brinquedos', 'eletronicos', 'utilidades domesticas', 'instrumentos musicais', 'instrumentos musicais', 'esporte e lazer', 'eletrodomesticos', 'moveis', 'eletrodomesticos', 'esporte e lazer', 'esporte e lazer', 'esporte e lazer', 'eletronicos', 'eletronicos', 'esporte e lazer', 'livros', 'moveis', 'livros', 'eletronicos', 'eletrodomesticos', 'moveis', 'eletronicos', 'moveis', 'livros', 'eletronicos', 'moveis', 'livros', 'moveis', 'utilidades domesticas', 'eletronicos', 'eletronicos', 'eletronicos', 'eletrodomesticos', 'livros', 'utilidades domesticas', 'brinquedos', 'brinquedos', 'moveis', 'moveis', 'esporte e lazer', 'eletrodomesticos', 'moveis', 'livros', 'esporte e lazer', 'moveis', 'esporte e lazer', 'esporte e lazer', 'eletronicos', 'moveis', 'eletrodomesticos', 'eletronicos', 'utilidades domesticas', 'moveis', 'eletronicos', 'eletronicos', 'eletronicos', 'brinquedos', 'esporte e lazer', 'instrumentos musicais', 'moveis', 'instrumentos musicais', 'utilidades domesticas', 'brinquedos', 'eletronicos', 'eletrodomesticos', 'eletronicos', 'instrumentos musicais', 'eletrodomesticos', 'eletronicos', 'instrumentos musicais', 'moveis', 'moveis', 'livros', 'eletrodomesticos', 'eletronicos', 'brinquedos', 'eletronicos', 'instrumentos musicais', 'livros', 'eletrodomesticos', 'utilidades domesticas', 'eletronicos', 'brinquedos', 'livros', 'eletrodomesticos', 'moveis', 'eletrodomesticos', 'livros', 'utilidades domesticas', 'eletronicos', 'moveis', 'eletrodomesticos', 'moveis', 'moveis', 'moveis', 'esporte e lazer', 'moveis', 'instrumentos musicais', 'utilidades domesticas', 'moveis', 'moveis', 'brinquedos', 'eletronicos', 'eletronicos', 'eletrodomesticos', 'moveis', 'eletronicos', 'esporte e lazer', 'esporte e lazer', 'brinquedos', 'esporte e lazer', 'moveis', 'brinquedos', 'utilidades domesticas', 'livros', 'livros', 'eletrodomesticos', 'moveis', 'moveis', 'eletronicos', 'brinquedos', 'instrumentos musicais', 'eletrodomesticos', 'moveis', 'eletronicos', 'eletrodomesticos', 'moveis', 'eletrodomesticos', 'utilidades domesticas', 'utilidades domesticas', 'moveis', 'brinquedos', 'brinquedos', 'utilidades domesticas', 'esporte e lazer', 'moveis', 'esporte e lazer', 'moveis', 'instrumentos musicais', 'esporte e lazer', 'instrumentos musicais', 'eletrodomesticos', 'eletrodomesticos', 'livros', 'brinquedos', 'instrumentos musicais', 'moveis', 'moveis', 'brinquedos', 'moveis', 'eletronicos', 'esporte e lazer', 'eletronicos', 'moveis', 'moveis', 'instrumentos musicais', 'brinquedos', 'utilidades domesticas', 'moveis', 'esporte e lazer', 'moveis', 'moveis', 'instrumentos musicais', 'eletrodomesticos', 'moveis', 'moveis', 'moveis', 'livros', 'moveis', 'brinquedos', 'moveis', 'eletrodomesticos', 'moveis', 'eletrodomesticos', 'brinquedos', 'brinquedos', 'eletrodomesticos', 'eletronicos', 'utilidades domesticas', 'utilidades domesticas', 'livros', 'eletronicos', 'brinquedos', 'eletronicos', 'eletronicos', 'eletrodomesticos', 'esporte e lazer', 'instrumentos musicais', 'esporte e lazer', 'eletronicos', 'esporte e lazer', 'eletrodomesticos', 'moveis', 'eletrodomesticos', 'eletrodomesticos', 'livros', 'eletronicos', 'esporte e lazer', 'brinquedos', 'utilidades domesticas', 'instrumentos musicais', 'eletronicos', 'utilidades domesticas', 'moveis', 'eletrodomesticos', 'livros', 'eletrodomesticos', 'livros', 'esporte e lazer', 'moveis', 'esporte e lazer', 'instrumentos musicais', 'moveis', 'livros', 'instrumentos musicais', 'eletrodomesticos', 'brinquedos', 'eletrodomesticos', 'moveis', 'eletronicos', 'livros', 'instrumentos musicais', 'livros', 'moveis', 'brinquedos', 'moveis', 'brinquedos', 'moveis', 'eletronicos', 'esporte e lazer', 'moveis', 'eletronicos', 'utilidades domesticas', 'eletrodomesticos', 'brinquedos', 'eletronicos', 'moveis', 'eletronicos', 'moveis', 'utilidades domesticas', 'eletronicos', 'livros', 'esporte e lazer', 'eletronicos', 'moveis', 'moveis', 'eletronicos', 'eletrodomesticos', 'moveis', 'eletrodomesticos', 'moveis', 'eletronicos', 'livros', 'moveis', 'esporte e lazer', 'moveis', 'eletrodomesticos', 'moveis', 'utilidades domesticas', 'eletronicos', 'instrumentos musicais', 'eletronicos', 'brinquedos', 'eletronicos', 'eletronicos', 'livros', 'eletrodomesticos', 'utilidades domesticas', 'esporte e lazer', 'moveis', 'brinquedos', 'utilidades domesticas', 'esporte e lazer', 'eletronicos', 'eletronicos', 'instrumentos musicais', 'moveis', 'eletrodomesticos', 'moveis', 'eletrodomesticos', 'esporte e lazer', 'moveis', 'utilidades domesticas', 'brinquedos', 'moveis', 'eletronicos', 'utilidades domesticas', 'brinquedos', 'eletronicos', 'utilidades domesticas', 'moveis', 'livros', 'moveis', 'moveis', 'eletronicos', 'esporte e lazer', 'instrumentos musicais', 'moveis', 'livros', 'brinquedos', 'esporte e lazer', 'utilidades domesticas', 'livros', 'utilidades domesticas', 'eletronicos', 'esporte e lazer', 'moveis', 'moveis', 'utilidades domesticas', 'eletrodomesticos', 'moveis', 'brinquedos', 'utilidades domesticas', 'brinquedos', 'eletronicos', 'eletrodomesticos', 'instrumentos musicais', 'moveis', 'instrumentos musicais', 'eletrodomesticos', 'moveis', 'utilidades domesticas', 'eletronicos', 'eletrodomesticos', 'moveis', 'instrumentos musicais', 'eletronicos', 'eletrodomesticos', 'eletronicos', 'brinquedos', 'moveis', 'moveis', 'livros', 'eletrodomesticos', 'eletronicos', 'brinquedos', 'moveis', 'moveis', 'instrumentos musicais', 'moveis', 'esporte e lazer', 'eletronicos', 'moveis', 'esporte e lazer', 'esporte e lazer', 'utilidades domesticas', 'livros', 'moveis', 'eletrodomesticos', 'moveis', 'instrumentos musicais', 'brinquedos', 'livros', 'brinquedos', 'livros', 'eletronicos', 'eletrodomesticos', 'brinquedos', 'eletronicos', 'utilidades domesticas', 'utilidades domesticas', 'esporte e lazer', 'utilidades domesticas', 'utilidades domesticas', 'livros', 'moveis', 'utilidades domesticas', 'instrumentos musicais', 'brinquedos', 'moveis', 'esporte e lazer', 'moveis', 'moveis', 'esporte e lazer', 'instrumentos musicais', 'moveis', 'eletrodomesticos', 'utilidades domesticas', 'livros', 'brinquedos', 'eletronicos', 'eletronicos', 'moveis', 'brinquedos', 'esporte e lazer', 'eletronicos', 'eletronicos', 'eletronicos', 'esporte e lazer', 'moveis', 'livros', 'eletronicos', 'esporte e lazer', 'moveis', 'eletronicos', 'moveis', 'brinquedos', 'eletronicos', 'eletronicos', 'eletronicos', 'eletronicos', 'brinquedos', 'eletrodomesticos', 'moveis', 'instrumentos musicais', 'instrumentos musicais', 'moveis', 'eletronicos', 'eletrodomesticos', 'esporte e lazer', 'esporte e lazer', 'eletronicos', 'moveis', 'moveis', 'brinquedos', 'moveis', 'eletronicos', 'eletronicos', 'moveis', 'esporte e lazer', 'livros', 'moveis', 'instrumentos musicais', 'eletronicos', 'eletrodomesticos', 'brinquedos', 'utilidades domesticas', 'utilidades domesticas', 'eletronicos', 'moveis', 'esporte e lazer', 'moveis', 'eletrodomesticos', 'utilidades domesticas', 'eletronicos', 'brinquedos', 'moveis', 'livros', 'esporte e lazer', 'esporte e lazer', 'livros', 'instrumentos musicais', 'utilidades domesticas', 'eletronicos', 'brinquedos', 'eletrodomesticos', 'eletronicos', 'brinquedos', 'esporte e lazer', 'eletronicos', 'moveis', 'eletronicos', 'livros', 'eletrodomesticos', 'esporte e lazer', 'brinquedos', 'eletronicos', 'esporte e lazer', 'moveis', 'brinquedos', 'esporte e lazer', 'instrumentos musicais', 'moveis', 'brinquedos', 'eletronicos', 'eletrodomesticos', 'brinquedos', 'esporte e lazer', 'eletrodomesticos', 'livros', 'brinquedos', 'instrumentos musicais', 'eletronicos', 'moveis', 'moveis', 'esporte e lazer', 'livros', 'brinquedos', 'moveis', 'livros', 'instrumentos musicais', 'livros', 'instrumentos musicais', 'eletronicos', 'esporte e lazer', 'moveis', 'eletronicos', 'eletronicos', 'brinquedos', 'moveis', 'instrumentos musicais', 'moveis', 'brinquedos', 'eletronicos', 'eletronicos', 'livros', 'eletronicos', 'eletrodomesticos', 'brinquedos', 'brinquedos', 'eletronicos', 'moveis', 'utilidades domesticas', 'esporte e lazer', 'utilidades domesticas', 'eletronicos', 'livros', 'moveis', 'eletronicos', 'brinquedos', 'utilidades domesticas', 'eletrodomesticos', 'moveis', 'eletronicos', 'esporte e lazer', 'esporte e lazer', 'moveis', 'moveis', 'livros', 'eletronicos', 'moveis', 'instrumentos musicais', 'eletrodomesticos', 'brinquedos', 'brinquedos', 'eletronicos', 'moveis', 'moveis', 'moveis', 'livros', 'eletronicos', 'moveis', 'instrumentos musicais', 'instrumentos musicais', 'brinquedos', 'moveis', 'instrumentos musicais', 'moveis', 'instrumentos musicais', 'eletronicos', 'eletronicos', 'utilidades domesticas', 'esporte e lazer', 'eletronicos', 'esporte e lazer', 'brinquedos', 'instrumentos musicais', 'brinquedos', 'moveis', 'esporte e lazer', 'moveis', 'utilidades domesticas', 'brinquedos', 'eletronicos', 'moveis', 'brinquedos', 'eletronicos', 'instrumentos musicais', 'esporte e lazer', 'eletrodomesticos', 'moveis', 'utilidades domesticas', 'eletrodomesticos', 'esporte e lazer', 'eletronicos', 'eletrodomesticos', 'moveis', 'eletronicos', 'eletronicos', 'brinquedos', 'eletronicos', 'brinquedos', 'moveis', 'eletronicos', 'moveis', 'moveis', 'livros', 'eletronicos', 'eletrodomesticos', 'moveis', 'eletrodomesticos', 'moveis', 'instrumentos musicais', 'moveis', 'moveis', 'moveis', 'utilidades domesticas', 'eletronicos', 'eletronicos', 'eletrodomesticos', 'eletronicos', 'esporte e lazer', 'moveis', 'livros', 'esporte e lazer', 'eletrodomesticos', 'brinquedos', 'eletronicos', 'brinquedos', 'moveis', 'instrumentos musicais', 'esporte e lazer', 'eletronicos', 'utilidades domesticas', 'eletrodomesticos', 'eletronicos', 'livros', 'moveis', 'esporte e lazer', 'esporte e lazer', 'utilidades domesticas', 'brinquedos', 'brinquedos', 'esporte e lazer', 'eletrodomesticos', 'eletronicos', 'brinquedos', 'brinquedos', 'eletrodomesticos', 'moveis', 'livros', 'eletrodomesticos', 'moveis', 'brinquedos', 'utilidades domesticas', 'utilidades domesticas', 'moveis', 'moveis', 'livros', 'eletrodomesticos', 'brinquedos', 'brinquedos', 'moveis', 'eletrodomesticos', 'brinquedos', 'eletrodomesticos', 'livros', 'instrumentos musicais', 'moveis', 'eletronicos', 'eletronicos', 'moveis', 'brinquedos', 'eletrodomesticos', 'moveis', 'moveis', 'eletrodomesticos', 'esporte e lazer', 'moveis', 'moveis', 'eletrodomesticos', 'instrumentos musicais', 'eletrodomesticos', 'livros', 'moveis', 'brinquedos', 'eletronicos', 'eletronicos', 'instrumentos musicais', 'esporte e lazer', 'eletrodomesticos', 'eletronicos', 'brinquedos', 'eletronicos', 'esporte e lazer', 'eletrodomesticos', 'moveis', 'instrumentos musicais', 'eletronicos', 'eletronicos', 'brinquedos', 'moveis', 'livros', 'eletrodomesticos', 'eletrodomesticos', 'brinquedos', 'eletronicos', 'eletrodomesticos', 'brinquedos', 'eletronicos', 'brinquedos', 'brinquedos', 'eletrodomesticos', 'moveis', 'eletronicos', 'moveis', 'livros', 'moveis', 'moveis', 'eletrodomesticos', 'esporte e lazer', 'brinquedos', 'eletronicos', 'eletrodomesticos', 'eletronicos', 'eletronicos', 'eletronicos', 'eletronicos', 'brinquedos', 'brinquedos', 'eletronicos', 'moveis', 'utilidades domesticas', 'eletrodomesticos', 'eletronicos', 'instrumentos musicais', 'eletronicos', 'brinquedos', 'eletrodomesticos', 'eletrodomesticos', 'moveis', 'eletronicos', 'instrumentos musicais', 'eletrodomesticos', 'eletrodomesticos', 'livros', 'moveis', 'instrumentos musicais', 'esporte e lazer', 'brinquedos', 'moveis', 'instrumentos musicais', 'eletrodomesticos', 'brinquedos', 'moveis', 'esporte e lazer', 'eletronicos', 'moveis', 'eletronicos', 'eletrodomesticos', 'moveis', 'eletronicos', 'esporte e lazer', 'utilidades domesticas', 'brinquedos', 'brinquedos', 'utilidades domesticas', 'brinquedos', 'eletronicos', 'instrumentos musicais', 'moveis', 'esporte e lazer', 'eletrodomesticos', 'moveis', 'brinquedos', 'utilidades domesticas', 'moveis', 'eletronicos', 'eletrodomesticos', 'utilidades domesticas', 'eletronicos', 'utilidades domesticas', 'eletronicos', 'eletronicos', 'livros', 'livros', 'moveis', 'moveis', 'livros']\n"
          ]
        }
      ]
    },
    {
      "cell_type": "code",
      "source": [
        "#Loja 3 - Criar um dicionário com a chave: categoria de produto e no valor: a soma de todos os produtos vendidos nesta categoria\n",
        "\n",
        "faturamento_por_categoria = {}\n",
        "\n",
        "for categoria, preco in zip(loja3['Categoria do Produto'], loja3['Preço']):\n",
        "    if categoria not in faturamento_por_categoria:\n",
        "        faturamento_por_categoria[categoria] = preco\n",
        "    else:\n",
        "        faturamento_por_categoria[categoria] += preco\n",
        "\n",
        "ordenado_maior_valor = dict(sorted(faturamento_por_categoria.items(), key=lambda item: item[1], reverse=True))\n",
        "print(\"Faturamento por categoria: \", ordenado_maior_valor)"
      ],
      "metadata": {
        "colab": {
          "base_uri": "https://localhost:8080/"
        },
        "id": "BknfQ9The0Ov",
        "outputId": "cb37b0de-e218-4ebc-c999-190133cce403"
      },
      "execution_count": 121,
      "outputs": [
        {
          "output_type": "stream",
          "name": "stdout",
          "text": [
            "Faturamento por categoria:  {'eletronicos': 547699.9199999998, 'eletrodomesticos': 438984.88999999984, 'moveis': 268095.5599999999, 'instrumentos musicais': 103174.44999999997, 'esporte e lazer': 47456.09999999998, 'brinquedos': 25869.199999999983, 'utilidades domesticas': 20080.209999999992, 'livros': 12664.699999999999}\n"
          ]
        }
      ]
    },
    {
      "cell_type": "code",
      "source": [
        "#Loja 4 - Criar uma lista das categorias de produtos\n",
        "\n",
        "categorias = []\n",
        "\n",
        "for categoria in loja4['Categoria do Produto']:\n",
        "  categorias.append(categoria)\n",
        "\n",
        "print(categorias)"
      ],
      "metadata": {
        "colab": {
          "base_uri": "https://localhost:8080/"
        },
        "id": "08KfDtBNSnzs",
        "outputId": "4ec28094-6e14-4285-84d0-9d89cf70c590"
      },
      "execution_count": 73,
      "outputs": [
        {
          "output_type": "stream",
          "name": "stdout",
          "text": [
            "['eletrodomesticos', 'moveis', 'esporte e lazer', 'livros', 'eletronicos', 'eletrodomesticos', 'instrumentos musicais', 'eletronicos', 'eletronicos', 'moveis', 'esporte e lazer', 'brinquedos', 'livros', 'moveis', 'moveis', 'moveis', 'eletronicos', 'utilidades domesticas', 'moveis', 'brinquedos', 'esporte e lazer', 'eletrodomesticos', 'moveis', 'brinquedos', 'moveis', 'moveis', 'esporte e lazer', 'moveis', 'moveis', 'eletrodomesticos', 'livros', 'livros', 'moveis', 'brinquedos', 'moveis', 'eletronicos', 'brinquedos', 'esporte e lazer', 'eletronicos', 'eletronicos', 'brinquedos', 'moveis', 'moveis', 'eletronicos', 'brinquedos', 'moveis', 'moveis', 'brinquedos', 'eletronicos', 'eletrodomesticos', 'utilidades domesticas', 'esporte e lazer', 'instrumentos musicais', 'instrumentos musicais', 'livros', 'brinquedos', 'eletronicos', 'eletronicos', 'utilidades domesticas', 'moveis', 'livros', 'brinquedos', 'brinquedos', 'esporte e lazer', 'esporte e lazer', 'brinquedos', 'brinquedos', 'eletronicos', 'instrumentos musicais', 'moveis', 'eletronicos', 'eletrodomesticos', 'moveis', 'esporte e lazer', 'esporte e lazer', 'eletronicos', 'utilidades domesticas', 'eletronicos', 'eletronicos', 'moveis', 'esporte e lazer', 'instrumentos musicais', 'eletronicos', 'moveis', 'brinquedos', 'brinquedos', 'eletronicos', 'eletrodomesticos', 'esporte e lazer', 'eletronicos', 'brinquedos', 'eletronicos', 'brinquedos', 'utilidades domesticas', 'utilidades domesticas', 'esporte e lazer', 'eletronicos', 'eletrodomesticos', 'moveis', 'eletrodomesticos', 'esporte e lazer', 'moveis', 'eletronicos', 'utilidades domesticas', 'eletronicos', 'esporte e lazer', 'livros', 'eletrodomesticos', 'livros', 'eletronicos', 'eletrodomesticos', 'brinquedos', 'moveis', 'eletrodomesticos', 'livros', 'eletronicos', 'livros', 'esporte e lazer', 'eletronicos', 'moveis', 'eletrodomesticos', 'eletronicos', 'livros', 'eletronicos', 'utilidades domesticas', 'brinquedos', 'instrumentos musicais', 'eletrodomesticos', 'utilidades domesticas', 'eletronicos', 'eletrodomesticos', 'brinquedos', 'eletronicos', 'moveis', 'livros', 'eletronicos', 'brinquedos', 'utilidades domesticas', 'brinquedos', 'eletrodomesticos', 'moveis', 'instrumentos musicais', 'eletronicos', 'eletronicos', 'eletrodomesticos', 'eletrodomesticos', 'utilidades domesticas', 'livros', 'utilidades domesticas', 'esporte e lazer', 'moveis', 'eletronicos', 'instrumentos musicais', 'livros', 'brinquedos', 'moveis', 'eletronicos', 'brinquedos', 'brinquedos', 'moveis', 'brinquedos', 'livros', 'esporte e lazer', 'eletrodomesticos', 'esporte e lazer', 'utilidades domesticas', 'brinquedos', 'eletronicos', 'eletronicos', 'eletrodomesticos', 'eletrodomesticos', 'eletrodomesticos', 'eletronicos', 'moveis', 'moveis', 'utilidades domesticas', 'utilidades domesticas', 'moveis', 'esporte e lazer', 'esporte e lazer', 'brinquedos', 'livros', 'esporte e lazer', 'eletronicos', 'esporte e lazer', 'utilidades domesticas', 'eletronicos', 'brinquedos', 'instrumentos musicais', 'moveis', 'eletrodomesticos', 'brinquedos', 'livros', 'moveis', 'moveis', 'eletronicos', 'utilidades domesticas', 'eletronicos', 'livros', 'esporte e lazer', 'eletronicos', 'eletronicos', 'eletrodomesticos', 'utilidades domesticas', 'eletronicos', 'esporte e lazer', 'eletronicos', 'instrumentos musicais', 'esporte e lazer', 'brinquedos', 'eletronicos', 'moveis', 'moveis', 'eletrodomesticos', 'eletronicos', 'eletronicos', 'brinquedos', 'moveis', 'moveis', 'instrumentos musicais', 'moveis', 'eletrodomesticos', 'esporte e lazer', 'eletronicos', 'moveis', 'esporte e lazer', 'esporte e lazer', 'esporte e lazer', 'brinquedos', 'eletrodomesticos', 'livros', 'eletrodomesticos', 'esporte e lazer', 'moveis', 'esporte e lazer', 'esporte e lazer', 'livros', 'eletronicos', 'brinquedos', 'livros', 'brinquedos', 'moveis', 'esporte e lazer', 'esporte e lazer', 'moveis', 'brinquedos', 'moveis', 'moveis', 'esporte e lazer', 'esporte e lazer', 'livros', 'eletronicos', 'eletrodomesticos', 'esporte e lazer', 'esporte e lazer', 'brinquedos', 'moveis', 'esporte e lazer', 'livros', 'moveis', 'esporte e lazer', 'livros', 'moveis', 'eletrodomesticos', 'utilidades domesticas', 'moveis', 'moveis', 'eletronicos', 'eletrodomesticos', 'brinquedos', 'eletronicos', 'instrumentos musicais', 'brinquedos', 'livros', 'utilidades domesticas', 'eletronicos', 'brinquedos', 'eletronicos', 'brinquedos', 'moveis', 'moveis', 'utilidades domesticas', 'eletronicos', 'eletronicos', 'eletronicos', 'livros', 'eletronicos', 'instrumentos musicais', 'eletrodomesticos', 'esporte e lazer', 'esporte e lazer', 'moveis', 'esporte e lazer', 'eletrodomesticos', 'utilidades domesticas', 'eletronicos', 'eletrodomesticos', 'brinquedos', 'eletrodomesticos', 'instrumentos musicais', 'esporte e lazer', 'livros', 'utilidades domesticas', 'brinquedos', 'instrumentos musicais', 'moveis', 'livros', 'brinquedos', 'brinquedos', 'moveis', 'utilidades domesticas', 'moveis', 'eletronicos', 'brinquedos', 'brinquedos', 'utilidades domesticas', 'brinquedos', 'moveis', 'eletrodomesticos', 'utilidades domesticas', 'utilidades domesticas', 'livros', 'esporte e lazer', 'utilidades domesticas', 'brinquedos', 'instrumentos musicais', 'moveis', 'moveis', 'moveis', 'eletronicos', 'eletronicos', 'utilidades domesticas', 'brinquedos', 'eletronicos', 'eletronicos', 'instrumentos musicais', 'esporte e lazer', 'brinquedos', 'instrumentos musicais', 'eletronicos', 'brinquedos', 'esporte e lazer', 'esporte e lazer', 'brinquedos', 'utilidades domesticas', 'brinquedos', 'moveis', 'esporte e lazer', 'moveis', 'brinquedos', 'moveis', 'eletronicos', 'livros', 'utilidades domesticas', 'instrumentos musicais', 'brinquedos', 'eletronicos', 'brinquedos', 'livros', 'esporte e lazer', 'livros', 'eletrodomesticos', 'eletronicos', 'livros', 'eletrodomesticos', 'moveis', 'moveis', 'eletronicos', 'livros', 'moveis', 'utilidades domesticas', 'eletrodomesticos', 'utilidades domesticas', 'brinquedos', 'eletronicos', 'eletronicos', 'eletrodomesticos', 'utilidades domesticas', 'brinquedos', 'utilidades domesticas', 'brinquedos', 'esporte e lazer', 'instrumentos musicais', 'moveis', 'moveis', 'moveis', 'eletrodomesticos', 'moveis', 'moveis', 'utilidades domesticas', 'moveis', 'instrumentos musicais', 'eletrodomesticos', 'eletronicos', 'eletrodomesticos', 'esporte e lazer', 'eletronicos', 'eletrodomesticos', 'eletrodomesticos', 'brinquedos', 'eletrodomesticos', 'moveis', 'moveis', 'livros', 'eletronicos', 'moveis', 'moveis', 'moveis', 'esporte e lazer', 'moveis', 'eletrodomesticos', 'livros', 'eletrodomesticos', 'brinquedos', 'livros', 'esporte e lazer', 'moveis', 'brinquedos', 'esporte e lazer', 'instrumentos musicais', 'eletronicos', 'esporte e lazer', 'eletrodomesticos', 'eletronicos', 'utilidades domesticas', 'eletronicos', 'utilidades domesticas', 'eletronicos', 'eletronicos', 'moveis', 'moveis', 'eletronicos', 'esporte e lazer', 'esporte e lazer', 'utilidades domesticas', 'utilidades domesticas', 'eletronicos', 'esporte e lazer', 'esporte e lazer', 'moveis', 'eletrodomesticos', 'eletrodomesticos', 'instrumentos musicais', 'brinquedos', 'brinquedos', 'esporte e lazer', 'instrumentos musicais', 'esporte e lazer', 'eletronicos', 'eletrodomesticos', 'instrumentos musicais', 'moveis', 'moveis', 'moveis', 'moveis', 'moveis', 'moveis', 'utilidades domesticas', 'moveis', 'moveis', 'moveis', 'eletronicos', 'esporte e lazer', 'eletronicos', 'moveis', 'esporte e lazer', 'utilidades domesticas', 'esporte e lazer', 'livros', 'brinquedos', 'moveis', 'utilidades domesticas', 'instrumentos musicais', 'eletronicos', 'instrumentos musicais', 'utilidades domesticas', 'eletronicos', 'moveis', 'moveis', 'brinquedos', 'livros', 'utilidades domesticas', 'utilidades domesticas', 'livros', 'instrumentos musicais', 'moveis', 'moveis', 'livros', 'livros', 'eletronicos', 'livros', 'brinquedos', 'esporte e lazer', 'moveis', 'utilidades domesticas', 'esporte e lazer', 'eletronicos', 'livros', 'utilidades domesticas', 'eletronicos', 'brinquedos', 'esporte e lazer', 'moveis', 'livros', 'eletrodomesticos', 'brinquedos', 'eletronicos', 'moveis', 'moveis', 'moveis', 'esporte e lazer', 'livros', 'moveis', 'eletronicos', 'esporte e lazer', 'brinquedos', 'eletronicos', 'utilidades domesticas', 'esporte e lazer', 'livros', 'eletronicos', 'livros', 'moveis', 'instrumentos musicais', 'moveis', 'brinquedos', 'eletrodomesticos', 'esporte e lazer', 'instrumentos musicais', 'esporte e lazer', 'eletronicos', 'moveis', 'moveis', 'moveis', 'livros', 'eletrodomesticos', 'moveis', 'esporte e lazer', 'instrumentos musicais', 'brinquedos', 'esporte e lazer', 'livros', 'esporte e lazer', 'eletronicos', 'eletronicos', 'eletrodomesticos', 'moveis', 'moveis', 'eletronicos', 'livros', 'livros', 'brinquedos', 'brinquedos', 'instrumentos musicais', 'utilidades domesticas', 'esporte e lazer', 'eletronicos', 'esporte e lazer', 'moveis', 'utilidades domesticas', 'utilidades domesticas', 'eletrodomesticos', 'moveis', 'brinquedos', 'moveis', 'moveis', 'brinquedos', 'eletrodomesticos', 'brinquedos', 'eletronicos', 'eletronicos', 'eletrodomesticos', 'moveis', 'eletronicos', 'brinquedos', 'eletronicos', 'moveis', 'brinquedos', 'eletronicos', 'brinquedos', 'brinquedos', 'moveis', 'esporte e lazer', 'moveis', 'eletronicos', 'moveis', 'brinquedos', 'eletrodomesticos', 'eletronicos', 'eletrodomesticos', 'eletrodomesticos', 'brinquedos', 'utilidades domesticas', 'brinquedos', 'eletronicos', 'brinquedos', 'eletronicos', 'brinquedos', 'eletrodomesticos', 'instrumentos musicais', 'moveis', 'instrumentos musicais', 'esporte e lazer', 'eletronicos', 'eletronicos', 'moveis', 'livros', 'eletronicos', 'eletronicos', 'eletrodomesticos', 'utilidades domesticas', 'moveis', 'moveis', 'utilidades domesticas', 'brinquedos', 'eletrodomesticos', 'moveis', 'moveis', 'eletronicos', 'esporte e lazer', 'moveis', 'brinquedos', 'livros', 'moveis', 'esporte e lazer', 'eletronicos', 'esporte e lazer', 'moveis', 'esporte e lazer', 'moveis', 'instrumentos musicais', 'utilidades domesticas', 'moveis', 'moveis', 'eletronicos', 'brinquedos', 'livros', 'esporte e lazer', 'esporte e lazer', 'brinquedos', 'eletrodomesticos', 'eletronicos', 'eletrodomesticos', 'moveis', 'eletronicos', 'moveis', 'eletronicos', 'eletronicos', 'moveis', 'utilidades domesticas', 'eletronicos', 'livros', 'eletrodomesticos', 'eletronicos', 'eletronicos', 'livros', 'eletrodomesticos', 'utilidades domesticas', 'instrumentos musicais', 'esporte e lazer', 'moveis', 'instrumentos musicais', 'moveis', 'utilidades domesticas', 'brinquedos', 'brinquedos', 'brinquedos', 'brinquedos', 'brinquedos', 'moveis', 'eletronicos', 'moveis', 'eletronicos', 'moveis', 'moveis', 'eletrodomesticos', 'moveis', 'moveis', 'eletronicos', 'eletronicos', 'brinquedos', 'eletrodomesticos', 'esporte e lazer', 'moveis', 'eletronicos', 'moveis', 'eletronicos', 'moveis', 'moveis', 'eletrodomesticos', 'eletronicos', 'moveis', 'brinquedos', 'instrumentos musicais', 'livros', 'esporte e lazer', 'brinquedos', 'eletronicos', 'moveis', 'moveis', 'moveis', 'moveis', 'brinquedos', 'eletronicos', 'utilidades domesticas', 'moveis', 'eletronicos', 'livros', 'esporte e lazer', 'eletronicos', 'moveis', 'moveis', 'eletrodomesticos', 'eletronicos', 'instrumentos musicais', 'livros', 'moveis', 'livros', 'esporte e lazer', 'eletronicos', 'moveis', 'esporte e lazer', 'livros', 'eletrodomesticos', 'eletrodomesticos', 'eletronicos', 'livros', 'brinquedos', 'esporte e lazer', 'livros', 'eletronicos', 'eletrodomesticos', 'brinquedos', 'esporte e lazer', 'eletronicos', 'eletrodomesticos', 'utilidades domesticas', 'brinquedos', 'esporte e lazer', 'utilidades domesticas', 'eletrodomesticos', 'esporte e lazer', 'eletronicos', 'moveis', 'brinquedos', 'eletronicos', 'eletrodomesticos', 'brinquedos', 'eletronicos', 'brinquedos', 'brinquedos', 'moveis', 'brinquedos', 'brinquedos', 'brinquedos', 'moveis', 'brinquedos', 'utilidades domesticas', 'instrumentos musicais', 'eletronicos', 'instrumentos musicais', 'eletronicos', 'eletrodomesticos', 'eletrodomesticos', 'eletronicos', 'eletronicos', 'moveis', 'esporte e lazer', 'utilidades domesticas', 'instrumentos musicais', 'eletronicos', 'moveis', 'eletronicos', 'moveis', 'moveis', 'moveis', 'moveis', 'moveis', 'utilidades domesticas', 'brinquedos', 'moveis', 'moveis', 'utilidades domesticas', 'brinquedos', 'eletronicos', 'brinquedos', 'eletrodomesticos', 'moveis', 'esporte e lazer', 'esporte e lazer', 'esporte e lazer', 'moveis', 'moveis', 'esporte e lazer', 'eletronicos', 'eletrodomesticos', 'moveis', 'eletronicos', 'livros', 'brinquedos', 'brinquedos', 'esporte e lazer', 'esporte e lazer', 'esporte e lazer', 'utilidades domesticas', 'eletrodomesticos', 'esporte e lazer', 'moveis', 'brinquedos', 'eletronicos', 'eletronicos', 'brinquedos', 'eletrodomesticos', 'esporte e lazer', 'brinquedos', 'brinquedos', 'instrumentos musicais', 'eletrodomesticos', 'moveis', 'esporte e lazer', 'esporte e lazer', 'eletronicos', 'eletronicos', 'instrumentos musicais', 'instrumentos musicais', 'eletronicos', 'moveis', 'esporte e lazer', 'instrumentos musicais', 'moveis', 'utilidades domesticas', 'moveis', 'utilidades domesticas', 'esporte e lazer', 'eletrodomesticos', 'eletronicos', 'eletronicos', 'eletronicos', 'instrumentos musicais', 'eletronicos', 'moveis', 'eletronicos', 'moveis', 'livros', 'livros', 'utilidades domesticas', 'eletronicos', 'instrumentos musicais', 'utilidades domesticas', 'livros', 'esporte e lazer', 'eletronicos', 'brinquedos', 'instrumentos musicais', 'instrumentos musicais', 'esporte e lazer', 'eletrodomesticos', 'moveis', 'instrumentos musicais', 'esporte e lazer', 'esporte e lazer', 'moveis', 'brinquedos', 'moveis', 'utilidades domesticas', 'moveis', 'eletronicos', 'livros', 'eletrodomesticos', 'eletronicos', 'moveis', 'eletrodomesticos', 'eletronicos', 'instrumentos musicais', 'brinquedos', 'brinquedos', 'eletronicos', 'moveis', 'brinquedos', 'esporte e lazer', 'brinquedos', 'brinquedos', 'moveis', 'esporte e lazer', 'moveis', 'instrumentos musicais', 'eletronicos', 'instrumentos musicais', 'esporte e lazer', 'moveis', 'eletrodomesticos', 'moveis', 'utilidades domesticas', 'brinquedos', 'brinquedos', 'moveis', 'esporte e lazer', 'eletrodomesticos', 'moveis', 'moveis', 'utilidades domesticas', 'eletronicos', 'eletrodomesticos', 'esporte e lazer', 'moveis', 'moveis', 'esporte e lazer', 'brinquedos', 'livros', 'moveis', 'utilidades domesticas', 'brinquedos', 'moveis', 'utilidades domesticas', 'eletronicos', 'instrumentos musicais', 'eletrodomesticos', 'instrumentos musicais', 'eletronicos', 'eletronicos', 'utilidades domesticas', 'livros', 'eletronicos', 'instrumentos musicais', 'esporte e lazer', 'eletronicos', 'eletronicos', 'esporte e lazer', 'moveis', 'eletronicos', 'moveis', 'esporte e lazer', 'esporte e lazer', 'utilidades domesticas', 'moveis', 'instrumentos musicais', 'moveis', 'brinquedos', 'utilidades domesticas', 'eletrodomesticos', 'eletrodomesticos', 'eletronicos', 'eletrodomesticos', 'instrumentos musicais', 'esporte e lazer', 'eletrodomesticos', 'moveis', 'brinquedos', 'esporte e lazer', 'eletronicos', 'brinquedos', 'eletrodomesticos', 'eletronicos', 'eletrodomesticos', 'moveis', 'moveis', 'livros', 'eletrodomesticos', 'brinquedos', 'esporte e lazer', 'moveis', 'eletronicos', 'instrumentos musicais', 'moveis', 'moveis', 'eletrodomesticos', 'brinquedos', 'utilidades domesticas', 'esporte e lazer', 'eletronicos', 'moveis', 'eletrodomesticos', 'moveis', 'moveis', 'utilidades domesticas', 'brinquedos', 'eletronicos', 'eletronicos', 'moveis', 'livros', 'eletrodomesticos', 'eletronicos', 'eletronicos', 'eletrodomesticos', 'eletronicos', 'brinquedos', 'brinquedos', 'brinquedos', 'eletronicos', 'brinquedos', 'esporte e lazer', 'moveis', 'brinquedos', 'eletronicos', 'eletronicos', 'livros', 'moveis', 'livros', 'instrumentos musicais', 'moveis', 'livros', 'brinquedos', 'moveis', 'eletrodomesticos', 'eletronicos', 'eletronicos', 'instrumentos musicais', 'esporte e lazer', 'brinquedos', 'eletronicos', 'eletrodomesticos', 'eletronicos', 'brinquedos', 'brinquedos', 'brinquedos', 'moveis', 'eletrodomesticos', 'utilidades domesticas', 'eletronicos', 'esporte e lazer', 'moveis', 'eletronicos', 'esporte e lazer', 'eletronicos', 'eletrodomesticos', 'eletrodomesticos', 'brinquedos', 'brinquedos', 'moveis', 'utilidades domesticas', 'esporte e lazer', 'utilidades domesticas', 'eletronicos', 'brinquedos', 'eletronicos', 'eletronicos', 'esporte e lazer', 'brinquedos', 'eletrodomesticos', 'brinquedos', 'eletronicos', 'moveis', 'esporte e lazer', 'esporte e lazer', 'utilidades domesticas', 'brinquedos', 'utilidades domesticas', 'esporte e lazer', 'moveis', 'livros', 'instrumentos musicais', 'esporte e lazer', 'livros', 'utilidades domesticas', 'utilidades domesticas', 'brinquedos', 'moveis', 'brinquedos', 'eletronicos', 'instrumentos musicais', 'instrumentos musicais', 'brinquedos', 'brinquedos', 'eletronicos', 'livros', 'esporte e lazer', 'livros', 'eletrodomesticos', 'instrumentos musicais', 'eletrodomesticos', 'brinquedos', 'eletronicos', 'moveis', 'eletronicos', 'eletrodomesticos', 'eletronicos', 'brinquedos', 'eletrodomesticos', 'eletronicos', 'utilidades domesticas', 'brinquedos', 'moveis', 'eletrodomesticos', 'livros', 'livros', 'moveis', 'eletronicos', 'eletrodomesticos', 'eletronicos', 'brinquedos', 'brinquedos', 'utilidades domesticas', 'eletronicos', 'moveis', 'moveis', 'instrumentos musicais', 'livros', 'utilidades domesticas', 'esporte e lazer', 'eletronicos', 'utilidades domesticas', 'brinquedos', 'moveis', 'eletronicos', 'esporte e lazer', 'livros', 'brinquedos', 'eletronicos', 'livros', 'brinquedos', 'instrumentos musicais', 'instrumentos musicais', 'brinquedos', 'brinquedos', 'brinquedos', 'moveis', 'eletrodomesticos', 'esporte e lazer', 'esporte e lazer', 'eletronicos', 'esporte e lazer', 'esporte e lazer', 'eletronicos', 'eletrodomesticos', 'moveis', 'eletronicos', 'livros', 'eletronicos', 'eletronicos', 'esporte e lazer', 'livros', 'instrumentos musicais', 'brinquedos', 'moveis', 'eletronicos', 'moveis', 'instrumentos musicais', 'esporte e lazer', 'moveis', 'eletronicos', 'moveis', 'eletronicos', 'brinquedos', 'esporte e lazer', 'livros', 'moveis', 'utilidades domesticas', 'esporte e lazer', 'eletronicos', 'utilidades domesticas', 'brinquedos', 'eletronicos', 'eletronicos', 'brinquedos', 'brinquedos', 'livros', 'eletrodomesticos', 'eletronicos', 'brinquedos', 'esporte e lazer', 'moveis', 'eletronicos', 'brinquedos', 'esporte e lazer', 'eletronicos', 'brinquedos', 'brinquedos', 'moveis', 'esporte e lazer', 'eletronicos', 'utilidades domesticas', 'moveis', 'eletronicos', 'moveis', 'moveis', 'brinquedos', 'utilidades domesticas', 'moveis', 'moveis', 'utilidades domesticas', 'eletrodomesticos', 'esporte e lazer', 'brinquedos', 'livros', 'eletrodomesticos', 'instrumentos musicais', 'eletronicos', 'eletronicos', 'livros', 'eletronicos', 'brinquedos', 'instrumentos musicais', 'utilidades domesticas', 'eletronicos', 'utilidades domesticas', 'eletrodomesticos', 'brinquedos', 'moveis', 'livros', 'eletronicos', 'eletrodomesticos', 'eletrodomesticos', 'brinquedos', 'esporte e lazer', 'moveis', 'eletronicos', 'instrumentos musicais', 'utilidades domesticas', 'brinquedos', 'esporte e lazer', 'utilidades domesticas', 'brinquedos', 'moveis', 'moveis', 'moveis', 'moveis', 'moveis', 'livros', 'utilidades domesticas', 'brinquedos', 'eletronicos', 'livros', 'eletronicos', 'eletrodomesticos', 'instrumentos musicais', 'eletronicos', 'moveis', 'brinquedos', 'instrumentos musicais', 'brinquedos', 'livros', 'eletrodomesticos', 'utilidades domesticas', 'brinquedos', 'livros', 'moveis', 'esporte e lazer', 'utilidades domesticas', 'moveis', 'brinquedos', 'eletronicos', 'moveis', 'livros', 'instrumentos musicais', 'eletrodomesticos', 'esporte e lazer', 'livros', 'moveis', 'eletrodomesticos', 'moveis', 'livros', 'eletronicos', 'brinquedos', 'livros', 'eletronicos', 'eletronicos', 'eletronicos', 'moveis', 'utilidades domesticas', 'livros', 'utilidades domesticas', 'eletronicos', 'eletronicos', 'eletronicos', 'eletronicos', 'utilidades domesticas', 'eletronicos', 'moveis', 'livros', 'utilidades domesticas', 'utilidades domesticas', 'moveis', 'esporte e lazer', 'eletronicos', 'moveis', 'esporte e lazer', 'brinquedos', 'brinquedos', 'esporte e lazer', 'esporte e lazer', 'brinquedos', 'eletronicos', 'eletronicos', 'eletronicos', 'moveis', 'eletronicos', 'eletrodomesticos', 'utilidades domesticas', 'brinquedos', 'eletronicos', 'livros', 'livros', 'instrumentos musicais', 'moveis', 'brinquedos', 'brinquedos', 'instrumentos musicais', 'brinquedos', 'moveis', 'utilidades domesticas', 'esporte e lazer', 'eletronicos', 'eletronicos', 'moveis', 'esporte e lazer', 'moveis', 'moveis', 'livros', 'utilidades domesticas', 'moveis', 'moveis', 'moveis', 'utilidades domesticas', 'moveis', 'utilidades domesticas', 'eletronicos', 'livros', 'esporte e lazer', 'eletronicos', 'eletronicos', 'eletrodomesticos', 'livros', 'eletrodomesticos', 'moveis', 'moveis', 'instrumentos musicais', 'brinquedos', 'eletronicos', 'eletronicos', 'livros', 'moveis', 'utilidades domesticas', 'moveis', 'eletronicos', 'eletronicos', 'brinquedos', 'livros', 'utilidades domesticas', 'eletronicos', 'brinquedos', 'moveis', 'eletrodomesticos', 'moveis', 'moveis', 'brinquedos', 'instrumentos musicais', 'instrumentos musicais', 'eletrodomesticos', 'moveis', 'eletronicos', 'instrumentos musicais', 'eletronicos', 'utilidades domesticas', 'utilidades domesticas', 'instrumentos musicais', 'instrumentos musicais', 'eletrodomesticos', 'eletronicos', 'utilidades domesticas', 'brinquedos', 'eletronicos', 'moveis', 'moveis', 'livros', 'eletrodomesticos', 'eletronicos', 'esporte e lazer', 'eletronicos', 'eletronicos', 'eletronicos', 'moveis', 'brinquedos', 'moveis', 'utilidades domesticas', 'eletrodomesticos', 'eletronicos', 'eletronicos', 'utilidades domesticas', 'moveis', 'eletrodomesticos', 'eletronicos', 'eletronicos', 'esporte e lazer', 'utilidades domesticas', 'eletronicos', 'esporte e lazer', 'moveis', 'instrumentos musicais', 'moveis', 'brinquedos', 'eletronicos', 'moveis', 'utilidades domesticas', 'livros', 'instrumentos musicais', 'eletronicos', 'esporte e lazer', 'esporte e lazer', 'eletrodomesticos', 'esporte e lazer', 'livros', 'utilidades domesticas', 'brinquedos', 'moveis', 'eletrodomesticos', 'utilidades domesticas', 'eletrodomesticos', 'eletronicos', 'moveis', 'moveis', 'moveis', 'eletronicos', 'eletronicos', 'moveis', 'moveis', 'instrumentos musicais', 'utilidades domesticas', 'livros', 'eletronicos', 'utilidades domesticas', 'moveis', 'moveis', 'brinquedos', 'brinquedos', 'esporte e lazer', 'moveis', 'eletronicos', 'moveis', 'moveis', 'brinquedos', 'esporte e lazer', 'livros', 'moveis', 'eletronicos', 'eletronicos', 'livros', 'eletronicos', 'eletronicos', 'instrumentos musicais', 'instrumentos musicais', 'moveis', 'instrumentos musicais', 'livros', 'eletrodomesticos', 'moveis', 'instrumentos musicais', 'brinquedos', 'moveis', 'instrumentos musicais', 'moveis', 'brinquedos', 'moveis', 'esporte e lazer', 'eletronicos', 'utilidades domesticas', 'instrumentos musicais', 'eletronicos', 'eletronicos', 'livros', 'brinquedos', 'instrumentos musicais', 'eletronicos', 'instrumentos musicais', 'utilidades domesticas', 'eletrodomesticos', 'instrumentos musicais', 'instrumentos musicais', 'livros', 'moveis', 'instrumentos musicais', 'eletronicos', 'brinquedos', 'brinquedos', 'moveis', 'livros', 'moveis', 'brinquedos', 'eletrodomesticos', 'esporte e lazer', 'eletronicos', 'brinquedos', 'eletronicos', 'utilidades domesticas', 'utilidades domesticas', 'moveis', 'brinquedos', 'moveis', 'eletronicos', 'moveis', 'esporte e lazer', 'brinquedos', 'esporte e lazer', 'instrumentos musicais', 'eletronicos', 'esporte e lazer', 'esporte e lazer', 'eletrodomesticos', 'brinquedos', 'brinquedos', 'eletronicos', 'esporte e lazer', 'esporte e lazer', 'esporte e lazer', 'esporte e lazer', 'moveis', 'esporte e lazer', 'livros', 'eletrodomesticos', 'eletrodomesticos', 'livros', 'eletronicos', 'moveis', 'brinquedos', 'brinquedos', 'eletrodomesticos', 'livros', 'brinquedos', 'moveis', 'brinquedos', 'eletrodomesticos', 'eletronicos', 'moveis', 'esporte e lazer', 'eletrodomesticos', 'livros', 'eletronicos', 'moveis', 'eletrodomesticos', 'brinquedos', 'esporte e lazer', 'moveis', 'moveis', 'instrumentos musicais', 'utilidades domesticas', 'brinquedos', 'brinquedos', 'moveis', 'esporte e lazer', 'moveis', 'eletronicos', 'eletronicos', 'instrumentos musicais', 'livros', 'utilidades domesticas', 'utilidades domesticas', 'eletronicos', 'eletrodomesticos', 'brinquedos', 'brinquedos', 'eletronicos', 'brinquedos', 'livros', 'moveis', 'brinquedos', 'instrumentos musicais', 'moveis', 'utilidades domesticas', 'eletronicos', 'eletronicos', 'eletrodomesticos', 'eletrodomesticos', 'livros', 'eletrodomesticos', 'eletrodomesticos', 'eletronicos', 'esporte e lazer', 'eletronicos', 'esporte e lazer', 'esporte e lazer', 'livros', 'brinquedos', 'eletronicos', 'utilidades domesticas', 'brinquedos', 'moveis', 'moveis', 'moveis', 'eletrodomesticos', 'livros', 'moveis', 'eletronicos', 'eletronicos', 'moveis', 'moveis', 'instrumentos musicais', 'eletrodomesticos', 'eletrodomesticos', 'esporte e lazer', 'eletronicos', 'esporte e lazer', 'eletronicos', 'eletronicos', 'esporte e lazer', 'eletrodomesticos', 'eletrodomesticos', 'brinquedos', 'instrumentos musicais', 'livros', 'eletronicos', 'eletrodomesticos', 'esporte e lazer', 'eletronicos', 'eletronicos', 'livros', 'esporte e lazer', 'eletronicos', 'eletronicos', 'utilidades domesticas', 'eletrodomesticos', 'eletrodomesticos', 'utilidades domesticas', 'moveis', 'livros', 'moveis', 'brinquedos', 'moveis', 'esporte e lazer', 'moveis', 'eletrodomesticos', 'utilidades domesticas', 'eletronicos', 'livros', 'moveis', 'moveis', 'utilidades domesticas', 'eletronicos', 'eletronicos', 'instrumentos musicais', 'esporte e lazer', 'brinquedos', 'eletronicos', 'brinquedos', 'eletronicos', 'moveis', 'eletronicos', 'instrumentos musicais', 'utilidades domesticas', 'instrumentos musicais', 'brinquedos', 'esporte e lazer', 'livros', 'brinquedos', 'moveis', 'esporte e lazer', 'eletronicos', 'utilidades domesticas', 'moveis', 'brinquedos', 'esporte e lazer', 'esporte e lazer', 'moveis', 'brinquedos', 'eletrodomesticos', 'utilidades domesticas', 'instrumentos musicais', 'utilidades domesticas', 'utilidades domesticas', 'eletronicos', 'moveis', 'eletrodomesticos', 'esporte e lazer', 'instrumentos musicais', 'eletronicos', 'moveis', 'eletronicos', 'eletronicos', 'eletronicos', 'eletrodomesticos', 'eletrodomesticos', 'brinquedos', 'livros', 'moveis', 'instrumentos musicais', 'instrumentos musicais', 'esporte e lazer', 'esporte e lazer', 'moveis', 'moveis', 'utilidades domesticas', 'esporte e lazer', 'livros', 'eletronicos', 'livros', 'brinquedos', 'moveis', 'brinquedos', 'brinquedos', 'eletrodomesticos', 'utilidades domesticas', 'moveis', 'esporte e lazer', 'moveis', 'eletronicos', 'brinquedos', 'moveis', 'eletronicos', 'utilidades domesticas', 'instrumentos musicais', 'eletronicos', 'brinquedos', 'eletrodomesticos', 'eletrodomesticos', 'eletronicos', 'instrumentos musicais', 'utilidades domesticas', 'eletronicos', 'utilidades domesticas', 'brinquedos', 'utilidades domesticas', 'esporte e lazer', 'esporte e lazer', 'moveis', 'eletronicos', 'brinquedos', 'utilidades domesticas', 'eletrodomesticos', 'eletrodomesticos', 'moveis', 'moveis', 'livros', 'eletronicos', 'eletrodomesticos', 'moveis', 'esporte e lazer', 'moveis', 'livros', 'moveis', 'eletronicos', 'moveis', 'moveis', 'eletronicos', 'eletronicos', 'eletrodomesticos', 'brinquedos', 'moveis', 'moveis', 'livros', 'esporte e lazer', 'brinquedos', 'livros', 'eletronicos', 'moveis', 'eletrodomesticos', 'esporte e lazer', 'eletronicos', 'eletrodomesticos', 'eletronicos', 'moveis', 'moveis', 'esporte e lazer', 'brinquedos', 'brinquedos', 'brinquedos', 'moveis', 'brinquedos', 'instrumentos musicais', 'moveis', 'eletrodomesticos', 'brinquedos', 'utilidades domesticas', 'esporte e lazer', 'eletrodomesticos', 'utilidades domesticas', 'brinquedos', 'livros', 'instrumentos musicais', 'moveis', 'instrumentos musicais', 'livros', 'eletronicos', 'moveis', 'esporte e lazer', 'eletrodomesticos', 'livros', 'moveis', 'eletrodomesticos', 'eletronicos', 'eletrodomesticos', 'eletrodomesticos', 'moveis', 'livros', 'instrumentos musicais', 'moveis', 'brinquedos', 'eletrodomesticos', 'esporte e lazer', 'utilidades domesticas', 'eletrodomesticos', 'eletrodomesticos', 'moveis', 'eletronicos', 'esporte e lazer', 'moveis', 'utilidades domesticas', 'eletronicos', 'eletronicos', 'brinquedos', 'instrumentos musicais', 'moveis', 'utilidades domesticas', 'esporte e lazer', 'eletronicos', 'moveis', 'livros', 'eletronicos', 'eletrodomesticos', 'eletronicos', 'eletrodomesticos', 'livros', 'brinquedos', 'livros', 'instrumentos musicais', 'livros', 'utilidades domesticas', 'instrumentos musicais', 'eletrodomesticos', 'eletronicos', 'brinquedos', 'moveis', 'livros', 'utilidades domesticas', 'instrumentos musicais', 'brinquedos', 'moveis', 'brinquedos', 'eletrodomesticos', 'brinquedos', 'utilidades domesticas', 'brinquedos', 'livros', 'instrumentos musicais', 'moveis', 'instrumentos musicais', 'eletronicos', 'brinquedos', 'eletronicos', 'instrumentos musicais', 'esporte e lazer', 'livros', 'eletrodomesticos', 'esporte e lazer', 'instrumentos musicais', 'livros', 'brinquedos', 'eletronicos', 'brinquedos', 'eletrodomesticos', 'brinquedos', 'utilidades domesticas', 'moveis', 'utilidades domesticas', 'moveis', 'instrumentos musicais', 'esporte e lazer', 'moveis', 'eletronicos', 'brinquedos', 'moveis', 'esporte e lazer', 'eletrodomesticos', 'moveis', 'eletronicos', 'eletrodomesticos', 'moveis', 'brinquedos', 'livros', 'brinquedos', 'livros', 'eletrodomesticos', 'instrumentos musicais', 'moveis', 'moveis', 'moveis', 'eletronicos', 'eletrodomesticos', 'moveis', 'livros', 'livros', 'eletronicos', 'instrumentos musicais', 'eletrodomesticos', 'brinquedos', 'livros', 'utilidades domesticas', 'eletronicos', 'eletrodomesticos', 'instrumentos musicais', 'moveis', 'moveis', 'instrumentos musicais', 'instrumentos musicais', 'moveis', 'brinquedos', 'moveis', 'brinquedos', 'utilidades domesticas', 'eletrodomesticos', 'utilidades domesticas', 'moveis', 'esporte e lazer', 'brinquedos', 'eletronicos', 'moveis', 'esporte e lazer', 'livros', 'eletrodomesticos', 'esporte e lazer', 'esporte e lazer', 'moveis', 'eletronicos', 'utilidades domesticas', 'moveis', 'esporte e lazer', 'brinquedos', 'eletronicos', 'instrumentos musicais', 'eletrodomesticos', 'eletronicos', 'eletrodomesticos', 'moveis', 'moveis', 'esporte e lazer', 'utilidades domesticas', 'moveis', 'eletronicos', 'brinquedos', 'eletrodomesticos', 'utilidades domesticas', 'eletronicos', 'instrumentos musicais', 'livros', 'livros', 'eletrodomesticos', 'brinquedos', 'brinquedos', 'eletronicos', 'eletrodomesticos', 'eletronicos', 'brinquedos', 'moveis', 'moveis', 'esporte e lazer', 'brinquedos', 'moveis', 'eletrodomesticos', 'moveis', 'moveis', 'eletronicos', 'instrumentos musicais', 'livros', 'brinquedos', 'eletronicos', 'esporte e lazer', 'moveis', 'brinquedos', 'brinquedos', 'brinquedos', 'livros', 'livros', 'livros', 'brinquedos', 'eletronicos', 'instrumentos musicais', 'utilidades domesticas', 'utilidades domesticas', 'moveis', 'livros', 'esporte e lazer', 'eletrodomesticos', 'eletrodomesticos', 'eletronicos', 'livros', 'eletronicos', 'utilidades domesticas', 'eletrodomesticos', 'esporte e lazer', 'brinquedos', 'utilidades domesticas', 'utilidades domesticas', 'brinquedos', 'brinquedos', 'brinquedos', 'instrumentos musicais', 'brinquedos', 'esporte e lazer', 'moveis', 'brinquedos', 'esporte e lazer', 'utilidades domesticas', 'moveis', 'brinquedos', 'moveis', 'eletronicos', 'eletronicos', 'eletronicos', 'moveis', 'brinquedos', 'moveis', 'eletronicos', 'moveis', 'moveis', 'eletrodomesticos', 'eletrodomesticos', 'moveis', 'brinquedos', 'brinquedos', 'moveis', 'utilidades domesticas', 'moveis', 'utilidades domesticas', 'eletronicos', 'esporte e lazer', 'instrumentos musicais', 'eletronicos', 'moveis', 'moveis', 'moveis', 'livros', 'livros', 'moveis', 'eletronicos', 'eletrodomesticos', 'moveis', 'brinquedos', 'eletronicos', 'brinquedos', 'moveis', 'moveis', 'esporte e lazer', 'utilidades domesticas', 'eletronicos', 'eletronicos', 'eletronicos', 'moveis', 'eletronicos', 'moveis', 'utilidades domesticas', 'moveis', 'eletronicos', 'eletrodomesticos', 'moveis', 'esporte e lazer', 'eletronicos', 'eletrodomesticos', 'livros', 'eletrodomesticos', 'brinquedos', 'brinquedos', 'eletronicos', 'esporte e lazer', 'eletronicos', 'eletrodomesticos', 'instrumentos musicais', 'eletronicos', 'brinquedos', 'eletrodomesticos', 'moveis', 'livros', 'moveis', 'eletronicos', 'esporte e lazer', 'livros', 'livros', 'eletronicos', 'instrumentos musicais', 'eletronicos', 'eletrodomesticos', 'brinquedos', 'instrumentos musicais', 'livros', 'brinquedos', 'moveis', 'moveis', 'brinquedos', 'eletrodomesticos', 'instrumentos musicais', 'eletronicos', 'moveis', 'brinquedos', 'eletronicos', 'instrumentos musicais', 'eletronicos', 'instrumentos musicais', 'brinquedos', 'instrumentos musicais', 'eletronicos', 'esporte e lazer', 'eletronicos', 'eletrodomesticos', 'eletronicos', 'moveis', 'brinquedos', 'brinquedos', 'eletrodomesticos', 'esporte e lazer', 'instrumentos musicais', 'utilidades domesticas', 'livros', 'brinquedos', 'instrumentos musicais', 'eletronicos', 'moveis', 'moveis', 'eletrodomesticos', 'moveis', 'brinquedos', 'esporte e lazer', 'esporte e lazer', 'livros', 'eletronicos', 'utilidades domesticas', 'eletronicos', 'moveis', 'eletrodomesticos', 'moveis', 'instrumentos musicais', 'utilidades domesticas', 'eletronicos', 'eletrodomesticos', 'eletronicos', 'eletrodomesticos', 'brinquedos', 'instrumentos musicais', 'moveis', 'instrumentos musicais', 'eletrodomesticos', 'eletronicos', 'moveis', 'eletrodomesticos', 'eletrodomesticos', 'eletrodomesticos', 'eletrodomesticos', 'eletrodomesticos', 'eletronicos', 'livros', 'brinquedos', 'utilidades domesticas', 'eletrodomesticos', 'moveis', 'brinquedos', 'eletrodomesticos', 'moveis', 'eletrodomesticos', 'eletronicos', 'instrumentos musicais', 'eletronicos', 'eletrodomesticos', 'moveis', 'instrumentos musicais', 'eletronicos', 'instrumentos musicais', 'esporte e lazer', 'instrumentos musicais', 'instrumentos musicais', 'utilidades domesticas', 'moveis', 'eletronicos', 'instrumentos musicais', 'esporte e lazer', 'moveis', 'moveis', 'esporte e lazer', 'livros', 'eletronicos', 'eletronicos', 'esporte e lazer', 'eletronicos', 'moveis', 'brinquedos', 'moveis', 'livros', 'eletronicos', 'moveis', 'eletronicos', 'moveis', 'eletrodomesticos', 'eletrodomesticos', 'brinquedos', 'esporte e lazer', 'esporte e lazer', 'moveis', 'moveis', 'eletronicos', 'instrumentos musicais', 'eletronicos', 'brinquedos', 'utilidades domesticas', 'livros', 'moveis', 'esporte e lazer', 'brinquedos', 'moveis', 'utilidades domesticas', 'moveis', 'instrumentos musicais', 'utilidades domesticas', 'eletronicos', 'eletronicos', 'eletronicos', 'livros', 'eletronicos', 'esporte e lazer', 'eletronicos', 'brinquedos', 'esporte e lazer', 'moveis', 'esporte e lazer', 'esporte e lazer', 'esporte e lazer', 'instrumentos musicais', 'esporte e lazer', 'moveis', 'instrumentos musicais', 'livros', 'brinquedos', 'eletronicos', 'eletronicos', 'eletronicos', 'moveis', 'brinquedos', 'eletronicos', 'eletrodomesticos', 'livros', 'esporte e lazer', 'eletronicos', 'eletrodomesticos', 'eletrodomesticos', 'esporte e lazer', 'brinquedos', 'eletrodomesticos', 'esporte e lazer', 'eletronicos', 'eletronicos', 'utilidades domesticas', 'eletrodomesticos', 'instrumentos musicais', 'brinquedos', 'moveis', 'eletronicos', 'eletrodomesticos', 'brinquedos', 'eletronicos', 'esporte e lazer', 'eletronicos', 'eletrodomesticos', 'eletronicos', 'esporte e lazer', 'moveis', 'moveis', 'eletronicos', 'esporte e lazer', 'utilidades domesticas', 'eletronicos', 'livros', 'instrumentos musicais', 'instrumentos musicais', 'instrumentos musicais', 'esporte e lazer', 'eletrodomesticos', 'moveis', 'brinquedos', 'brinquedos', 'eletronicos', 'eletrodomesticos', 'esporte e lazer', 'moveis', 'esporte e lazer', 'esporte e lazer', 'livros', 'eletronicos', 'utilidades domesticas', 'moveis', 'utilidades domesticas', 'eletrodomesticos', 'instrumentos musicais', 'esporte e lazer', 'moveis', 'moveis', 'instrumentos musicais', 'moveis', 'brinquedos', 'brinquedos', 'moveis', 'eletronicos', 'moveis', 'eletronicos', 'utilidades domesticas', 'brinquedos', 'instrumentos musicais', 'utilidades domesticas', 'eletrodomesticos', 'esporte e lazer', 'esporte e lazer', 'utilidades domesticas', 'instrumentos musicais', 'brinquedos', 'esporte e lazer', 'eletrodomesticos', 'moveis', 'esporte e lazer', 'livros', 'eletronicos', 'brinquedos', 'eletronicos', 'moveis', 'livros', 'utilidades domesticas', 'eletronicos', 'eletronicos', 'moveis', 'moveis', 'esporte e lazer', 'moveis', 'esporte e lazer', 'esporte e lazer', 'utilidades domesticas', 'brinquedos', 'instrumentos musicais', 'eletronicos', 'brinquedos', 'eletronicos', 'moveis', 'utilidades domesticas', 'eletronicos', 'utilidades domesticas', 'eletronicos', 'utilidades domesticas', 'moveis', 'brinquedos', 'brinquedos', 'brinquedos', 'moveis', 'brinquedos', 'eletrodomesticos', 'esporte e lazer', 'utilidades domesticas', 'eletronicos', 'utilidades domesticas', 'brinquedos', 'eletrodomesticos', 'moveis', 'eletrodomesticos', 'esporte e lazer', 'moveis', 'moveis', 'moveis', 'eletrodomesticos', 'livros', 'eletronicos', 'moveis', 'brinquedos', 'instrumentos musicais', 'moveis', 'moveis', 'moveis', 'esporte e lazer', 'utilidades domesticas', 'esporte e lazer']\n"
          ]
        }
      ]
    },
    {
      "cell_type": "code",
      "source": [
        "#Loja 4 - Criar um dicionário com a chave: categoria de produto e no valor: a soma de todos os produtos vendidos nesta categoria\n",
        "\n",
        "faturamento_por_categoria = {}\n",
        "\n",
        "for categoria, preco in zip(loja4['Categoria do Produto'], loja4['Preço']):\n",
        "    if categoria not in faturamento_por_categoria:\n",
        "        faturamento_por_categoria[categoria] = preco\n",
        "    else:\n",
        "        faturamento_por_categoria[categoria] += preco\n",
        "\n",
        "ordenado_maior_valor = dict(sorted(faturamento_por_categoria.items(), key=lambda item: item[1], reverse=True))\n",
        "print(\"Faturamento por categoria: \", ordenado_maior_valor)"
      ],
      "metadata": {
        "colab": {
          "base_uri": "https://localhost:8080/"
        },
        "id": "xSn3e4Q_SHLc",
        "outputId": "c3d6ebc0-b253-4a3e-f646-feaa7b3b6d37"
      },
      "execution_count": 124,
      "outputs": [
        {
          "output_type": "stream",
          "name": "stdout",
          "text": [
            "Faturamento por categoria:  {'eletronicos': 545966.8599999996, 'eletrodomesticos': 377680.6500000002, 'moveis': 256705.64999999973, 'instrumentos musicais': 100136.50000000006, 'esporte e lazer': 44465.64999999998, 'brinquedos': 27015.66999999999, 'utilidades domesticas': 20098.83000000001, 'livros': 12427.769999999993}\n"
          ]
        }
      ]
    },
    {
      "cell_type": "markdown",
      "source": [
        "# 3. Média de Avaliação das Lojas"
      ],
      "metadata": {
        "id": "Rq6tU_xSY3jk"
      }
    },
    {
      "cell_type": "code",
      "source": [
        "# Loja 1 - Criar um dicionário com a quantidade de avaliações da loja, sendo:\n",
        "#avaliacao = {'Muito ruim': 1, 'Ruim': 2, 'Neutra': 3, 'Boa': 4, 'Muito boa': 5}\n",
        "\n",
        "avaliacao_loja1 = {}\n",
        "\n",
        "for avaliacao in loja1['Avaliação da compra']:\n",
        "  avaliacao_loja1[avaliacao] = avaliacao_loja1.get(avaliacao, 0) + 1\n",
        "\n",
        "# Ordenar o dicionário por valor crescente\n",
        "ordenado_por_valor = dict(sorted(avaliacao_loja1.items(), key=lambda item: item[0], reverse=False))\n",
        "print(\"Ordenado por valor:\", ordenado_por_valor)\n",
        "\n"
      ],
      "metadata": {
        "id": "bh3jjjJwY5MU",
        "colab": {
          "base_uri": "https://localhost:8080/"
        },
        "outputId": "298767fb-f7b2-4574-ccba-70aa81085422"
      },
      "execution_count": 85,
      "outputs": [
        {
          "output_type": "stream",
          "name": "stdout",
          "text": [
            "Ordenado por valor: {1: 319, 2: 86, 3: 218, 4: 444, 5: 1292}\n"
          ]
        }
      ]
    },
    {
      "cell_type": "code",
      "source": [
        "# Loja 2 - Criar um dicionário com a quantidade de avaliações da loja, sendo:\n",
        "#avaliacao = {'Muito ruim': 1, 'Ruim': 2, 'Neutra': 3, 'Boa': 4, 'Muito boa': 5}\n",
        "\n",
        "avaliacao_loja2 = {}\n",
        "\n",
        "for avaliacao in loja2['Avaliação da compra']:\n",
        "  avaliacao_loja2[avaliacao] = avaliacao_loja2.get(avaliacao, 0) + 1\n",
        "\n",
        "# Ordenar o dicionário por valor crescente\n",
        "ordenado_por_valor = dict(sorted(avaliacao_loja2.items(), key=lambda item: item[0], reverse=False))\n",
        "print(\"Ordenado por valor:\", ordenado_por_valor)"
      ],
      "metadata": {
        "id": "I0KkjPoTY88F",
        "colab": {
          "base_uri": "https://localhost:8080/"
        },
        "outputId": "66444ca1-2121-480a-ab45-051c210d49bd"
      },
      "execution_count": 94,
      "outputs": [
        {
          "output_type": "stream",
          "name": "stdout",
          "text": [
            "Ordenado por valor: {1: 273, 2: 93, 3: 209, 4: 482, 5: 1302}\n"
          ]
        }
      ]
    },
    {
      "cell_type": "code",
      "source": [
        "# Loja 3 - Criar um dicionário com a quantidade de avaliações da loja, sendo:\n",
        "#avaliacao = {'Muito ruim': 1, 'Ruim': 2, 'Neutra': 3, 'Boa': 4, 'Muito boa': 5}\n",
        "\n",
        "avaliacao_loja3 = {}\n",
        "\n",
        "for avaliacao in loja3['Avaliação da compra']:\n",
        "  avaliacao_loja3[avaliacao] = avaliacao_loja3.get(avaliacao, 0) + 1\n",
        "\n",
        "# Ordenar o dicionário por valor crescente\n",
        "ordenado_por_valor = dict(sorted(avaliacao_loja3.items(), key=lambda item: item[0], reverse=False))\n",
        "print(\"Ordenado por valor:\", ordenado_por_valor)"
      ],
      "metadata": {
        "colab": {
          "base_uri": "https://localhost:8080/"
        },
        "id": "dqueUfs2koHX",
        "outputId": "36fef21e-6ffd-4686-f258-0b924f478fea"
      },
      "execution_count": 93,
      "outputs": [
        {
          "output_type": "stream",
          "name": "stdout",
          "text": [
            "Ordenado por valor: {1: 297, 2: 79, 3: 193, 4: 434, 5: 1356}\n"
          ]
        }
      ]
    },
    {
      "cell_type": "code",
      "source": [
        "# Loja 4 - Criar um dicionário com a quantidade de avaliações da loja, sendo:\n",
        "#avaliacao = {'Muito ruim': 1, 'Ruim': 2, 'Neutra': 3, 'Boa': 4, 'Muito boa': 5}\n",
        "\n",
        "avaliacao_loja4 = {}\n",
        "\n",
        "for avaliacao in loja4['Avaliação da compra']:\n",
        "  avaliacao_loja4[avaliacao] = avaliacao_loja4.get(avaliacao, 0) + 1\n",
        "\n",
        "# Ordenar o dicionário por valor crescente\n",
        "ordenado_por_valor = dict(sorted(avaliacao_loja4.items(), key=lambda item: item[0], reverse=False))\n",
        "print(\"Ordenado por valor:\", ordenado_por_valor)"
      ],
      "metadata": {
        "colab": {
          "base_uri": "https://localhost:8080/"
        },
        "id": "l4jK7H3Gkv8A",
        "outputId": "ad76bab1-f379-4494-9906-ea2cfb350a38"
      },
      "execution_count": 92,
      "outputs": [
        {
          "output_type": "stream",
          "name": "stdout",
          "text": [
            "Ordenado por valor: {1: 310, 2: 85, 3: 210, 4: 453, 5: 1300}\n"
          ]
        }
      ]
    },
    {
      "cell_type": "code",
      "source": [
        "#Calcular a media de todas as avaliações das 4 lojas, por nível de avaliação\n",
        "avaliacao = {'Muito ruim': 1, 'Ruim': 2, 'Neutra': 3, 'Boa': 4, 'Muito boa': 5}\n",
        "\n",
        "media_avaliacao = {}\n",
        "\n",
        "for chave, valor in avaliacao.items():\n",
        "  media_avaliacao[valor] = (avaliacao_loja1.get(valor, 0) + avaliacao_loja2.get(valor, 0) + avaliacao_loja3.get(valor, 0) + avaliacao_loja4.get(valor, 0)) / 4\n",
        "\n",
        "print(media_avaliacao)"
      ],
      "metadata": {
        "colab": {
          "base_uri": "https://localhost:8080/"
        },
        "id": "XbUxJH7L0S0j",
        "outputId": "28036eca-4412-47e1-88b5-a1bf5e911d39"
      },
      "execution_count": 111,
      "outputs": [
        {
          "output_type": "stream",
          "name": "stdout",
          "text": [
            "{1: 299.75, 2: 85.75, 3: 207.5, 4: 453.25, 5: 1312.5}\n"
          ]
        }
      ]
    },
    {
      "cell_type": "markdown",
      "source": [
        "# 4. Produtos Mais e Menos Vendidos"
      ],
      "metadata": {
        "id": "DmNp1KPBZCm-"
      }
    },
    {
      "cell_type": "code",
      "source": [
        "#Loja 1 - Criar uma lista dos produtos\n",
        "\n",
        "produtos = []\n",
        "\n",
        "for produto in loja1['Produto']:\n",
        "  produtos.append(produto)\n",
        "\n",
        "\n",
        "print(set(produtos))"
      ],
      "metadata": {
        "id": "qoyjqijQZHfF",
        "colab": {
          "base_uri": "https://localhost:8080/"
        },
        "outputId": "326c2899-aa2f-4bf5-a98e-ba16abc69a17"
      },
      "execution_count": 97,
      "outputs": [
        {
          "output_type": "stream",
          "name": "stdout",
          "text": [
            "{'Guarda roupas', 'Micro-ondas', 'Panela de pressão', 'Smartwatch', 'Assistente virtual', 'Mesa de jantar', 'Sofá retrátil', 'TV Led UHD 4K', 'Smart TV', 'Corda de pular', 'Blocos de montar', 'Faqueiro', 'Celular Plus X42', 'Carrinho controle remoto', 'Poltrona', 'Fone de ouvido', 'Bateria', 'Modelagem preditiva', 'Secadora de roupas', 'Ciência de dados com python', 'Xadrez de madeira', 'Guitarra', 'Tablet ABXY', 'Lavadora de roupas', 'Violão', 'Jogo de panelas', 'Bola de vôlei', 'Boneca bebê', 'Cadeira de escritório', 'Dinossauro Rex', 'Jogo de copos', 'Headset', 'Bola de basquete', 'Cômoda', 'Dashboards com Power BI', 'Lava louças', 'Celular ABXY', 'Jogo de tabuleiro', 'Mochila', 'Fogão', 'Pandeiro', 'Kit banquetas', 'Iniciando em programação', 'Geladeira', 'Bicicleta', 'Impressora', 'Copo térmico', 'Cubo mágico 8x8', 'Cama box', 'Mesa de centro', 'Cama king'}\n"
          ]
        }
      ]
    },
    {
      "cell_type": "code",
      "source": [
        "#Loja 1 - Criar uma lista de produtos mais e menos vendidos\n",
        "produtos_vendidos = {}\n",
        "\n",
        "for produto in loja1['Produto']:\n",
        "  produtos_vendidos[produto] = produtos_vendidos.get(produto, 0) + 1\n",
        "  produtos_vendidos_ordenado = dict(sorted(produtos_vendidos.items(), key=lambda item: item[1], reverse=True))\n",
        "\n",
        "print(produtos_vendidos_ordenado)"
      ],
      "metadata": {
        "id": "0Sw3sd4IZIGW",
        "colab": {
          "base_uri": "https://localhost:8080/"
        },
        "outputId": "72ccaba0-c79d-4290-f942-e5179eb8c248"
      },
      "execution_count": 98,
      "outputs": [
        {
          "output_type": "stream",
          "name": "stdout",
          "text": [
            "{'Micro-ondas': 60, 'TV Led UHD 4K': 60, 'Guarda roupas': 60, 'Secadora de roupas': 58, 'Blocos de montar': 56, 'Cômoda': 56, 'Bola de basquete': 55, 'Geladeira': 54, 'Bicicleta': 54, 'Copo térmico': 54, 'Impressora': 54, 'Bateria': 53, 'Carrinho controle remoto': 52, 'Faqueiro': 52, 'Modelagem preditiva': 51, 'Fone de ouvido': 50, 'Xadrez de madeira': 49, 'Celular Plus X42': 49, 'Lava louças': 48, 'Lavadora de roupas': 47, 'Guitarra': 47, 'Cadeira de escritório': 46, 'Sofá retrátil': 46, 'Violão': 46, 'Fogão': 45, 'Kit banquetas': 44, 'Cama box': 44, 'Cubo mágico 8x8': 44, 'Mesa de centro': 44, 'Cama king': 44, 'Smart TV': 44, 'Jogo de tabuleiro': 43, 'Jogo de panelas': 43, 'Smartwatch': 43, 'Bola de vôlei': 42, 'Dashboards com Power BI': 42, 'Tablet ABXY': 42, 'Jogo de copos': 41, 'Poltrona': 41, 'Iniciando em programação': 41, 'Assistente virtual': 40, 'Mesa de jantar': 40, 'Boneca bebê': 40, 'Corda de pular': 40, 'Dinossauro Rex': 40, 'Ciência de dados com python': 39, 'Mochila': 39, 'Pandeiro': 36, 'Panela de pressão': 35, 'Headset': 33, 'Celular ABXY': 33}\n"
          ]
        }
      ]
    },
    {
      "cell_type": "code",
      "source": [
        "#Loja 2 - Criar uma lista dos produtos\n",
        "\n",
        "produtos = []\n",
        "\n",
        "for produto in loja2['Produto']:\n",
        "  produtos.append(produto)\n",
        "\n",
        "\n",
        "print(set(produtos))"
      ],
      "metadata": {
        "colab": {
          "base_uri": "https://localhost:8080/"
        },
        "id": "GtUq-LLSy52-",
        "outputId": "67539a2e-6c3b-4d99-eb50-282a88d29969"
      },
      "execution_count": 100,
      "outputs": [
        {
          "output_type": "stream",
          "name": "stdout",
          "text": [
            "{'Guarda roupas', 'Micro-ondas', 'Panela de pressão', 'Smart TV', 'Assistente virtual', 'Mesa de jantar', 'Sofá retrátil', 'TV Led UHD 4K', 'Smartwatch', 'Corda de pular', 'Blocos de montar', 'Faqueiro', 'Celular Plus X42', 'Carrinho controle remoto', 'Poltrona', 'Modelagem preditiva', 'Bateria', 'Fone de ouvido', 'Secadora de roupas', 'Xadrez de madeira', 'Ciência de dados com python', 'Guitarra', 'Tablet ABXY', 'Violão', 'Lavadora de roupas', 'Jogo de panelas', 'Boneca bebê', 'Jogo de copos', 'Cadeira de escritório', 'Dinossauro Rex', 'Bola de vôlei', 'Headset', 'Bola de basquete', 'Cômoda', 'Dashboards com Power BI', 'Lava louças', 'Celular ABXY', 'Jogo de tabuleiro', 'Mochila', 'Fogão', 'Pandeiro', 'Kit banquetas', 'Iniciando em programação', 'Geladeira', 'Bicicleta', 'Impressora', 'Copo térmico', 'Cubo mágico 8x8', 'Cama box', 'Mesa de centro', 'Cama king'}\n"
          ]
        }
      ]
    },
    {
      "cell_type": "code",
      "source": [
        "#Loja 2 - Criar uma lista de produtos mais e menos vendidos\n",
        "produtos_vendidos = {}\n",
        "\n",
        "for produto in loja2['Produto']:\n",
        "  produtos_vendidos[produto] = produtos_vendidos.get(produto, 0) + 1\n",
        "  produtos_vendidos_ordenado = dict(sorted(produtos_vendidos.items(), key=lambda item: item[1], reverse=True))\n",
        "\n",
        "print(produtos_vendidos_ordenado)"
      ],
      "metadata": {
        "colab": {
          "base_uri": "https://localhost:8080/"
        },
        "id": "nqdmruDFx5oB",
        "outputId": "ef87e896-8c3b-4cbc-b010-180f09223644"
      },
      "execution_count": 103,
      "outputs": [
        {
          "output_type": "stream",
          "name": "stdout",
          "text": [
            "{'Iniciando em programação': 65, 'Micro-ondas': 62, 'Bateria': 61, 'Pandeiro': 58, 'Violão': 58, 'Secadora de roupas': 57, 'Celular Plus X42': 55, 'Blocos de montar': 54, 'Guarda roupas': 54, 'Jogo de panelas': 52, 'Corda de pular': 50, 'Cadeira de escritório': 49, 'Geladeira': 49, 'Lavadora de roupas': 49, 'Boneca bebê': 48, 'Copo térmico': 47, 'Guitarra': 47, 'Cama box': 47, 'Carrinho controle remoto': 47, 'Modelagem preditiva': 46, 'Jogo de copos': 46, 'Lava louças': 46, 'Bola de vôlei': 46, 'Cama king': 45, 'Mochila': 45, 'Cubo mágico 8x8': 45, 'Xadrez de madeira': 45, 'Bicicleta': 45, 'TV Led UHD 4K': 45, 'Mesa de centro': 45, 'Kit banquetas': 45, 'Tablet ABXY': 44, 'Panela de pressão': 44, 'Headset': 44, 'Sofá retrátil': 44, 'Smartwatch': 44, 'Cômoda': 44, 'Dashboards com Power BI': 43, 'Ciência de dados com python': 43, 'Fogão': 42, 'Dinossauro Rex': 42, 'Bola de basquete': 42, 'Celular ABXY': 41, 'Smart TV': 40, 'Faqueiro': 39, 'Assistente virtual': 38, 'Fone de ouvido': 37, 'Poltrona': 35, 'Mesa de jantar': 34, 'Impressora': 34, 'Jogo de tabuleiro': 32}\n"
          ]
        }
      ]
    },
    {
      "cell_type": "code",
      "source": [
        "#Loja 3 - Criar uma lista dos produtos\n",
        "\n",
        "produtos = []\n",
        "\n",
        "for produto in loja3['Produto']:\n",
        "  produtos.append(produto)\n",
        "\n",
        "\n",
        "print(set(produtos))"
      ],
      "metadata": {
        "colab": {
          "base_uri": "https://localhost:8080/"
        },
        "id": "tJCEsp7-x5YH",
        "outputId": "cc71b130-38cc-412e-b75b-7b8439315cc0"
      },
      "execution_count": 104,
      "outputs": [
        {
          "output_type": "stream",
          "name": "stdout",
          "text": [
            "{'Guarda roupas', 'Smartwatch', 'Panela de pressão', 'Smart TV', 'Assistente virtual', 'Mesa de jantar', 'Sofá retrátil', 'TV Led UHD 4K', 'Micro-ondas', 'Corda de pular', 'Celular Plus X42', 'Faqueiro', 'Blocos de montar', 'Carrinho controle remoto', 'Poltrona', 'Fone de ouvido', 'Modelagem preditiva', 'Bateria', 'Secadora de roupas', 'Xadrez de madeira', 'Ciência de dados com python', 'Guitarra', 'Tablet ABXY', 'Violão', 'Lavadora de roupas', 'Jogo de panelas', 'Boneca bebê', 'Bola de vôlei', 'Cadeira de escritório', 'Dinossauro Rex', 'Jogo de copos', 'Headset', 'Bola de basquete', 'Cômoda', 'Dashboards com Power BI', 'Lava louças', 'Celular ABXY', 'Jogo de tabuleiro', 'Mochila', 'Fogão', 'Pandeiro', 'Kit banquetas', 'Iniciando em programação', 'Geladeira', 'Bicicleta', 'Impressora', 'Copo térmico', 'Cubo mágico 8x8', 'Cama box', 'Mesa de centro', 'Cama king'}\n"
          ]
        }
      ]
    },
    {
      "cell_type": "code",
      "source": [
        "#Loja 3 - Criar uma lista de produtos mais e menos vendidos\n",
        "produtos_vendidos = {}\n",
        "\n",
        "for produto in loja3['Produto']:\n",
        "  produtos_vendidos[produto] = produtos_vendidos.get(produto, 0) + 1\n",
        "  produtos_vendidos_ordenado = dict(sorted(produtos_vendidos.items(), key=lambda item: item[1], reverse=True))\n",
        "\n",
        "print(produtos_vendidos_ordenado)"
      ],
      "metadata": {
        "colab": {
          "base_uri": "https://localhost:8080/"
        },
        "id": "CHv7rRhgzosr",
        "outputId": "4ee8ab05-9e77-4fd1-cbaa-d2142e818f37"
      },
      "execution_count": 105,
      "outputs": [
        {
          "output_type": "stream",
          "name": "stdout",
          "text": [
            "{'Kit banquetas': 57, 'Mesa de jantar': 56, 'Cama king': 56, 'Cômoda': 55, 'Jogo de panelas': 55, 'Smart TV': 54, 'Modelagem preditiva': 53, 'Corda de pular': 53, 'Fogão': 53, 'Carrinho controle remoto': 52, 'Bicicleta': 52, 'Lava louças': 52, 'Jogo de tabuleiro': 52, 'Pandeiro': 51, 'Impressora': 50, 'Bola de basquete': 50, 'Geladeira': 50, 'Guarda roupas': 49, 'Bola de vôlei': 48, 'Tablet ABXY': 48, 'Violão': 47, 'Panela de pressão': 47, 'Xadrez de madeira': 47, 'Poltrona': 47, 'Cadeira de escritório': 46, 'Dinossauro Rex': 46, 'Iniciando em programação': 46, 'Cama box': 46, 'Celular Plus X42': 46, 'Smartwatch': 46, 'Ciência de dados com python': 46, 'Secadora de roupas': 45, 'Sofá retrátil': 45, 'Celular ABXY': 44, 'Cubo mágico 8x8': 44, 'Fone de ouvido': 43, 'TV Led UHD 4K': 42, 'Lavadora de roupas': 42, 'Mesa de centro': 42, 'Bateria': 41, 'Dashboards com Power BI': 40, 'Faqueiro': 39, 'Boneca bebê': 39, 'Headset': 39, 'Assistente virtual': 39, 'Guitarra': 38, 'Copo térmico': 38, 'Jogo de copos': 36, 'Mochila': 36, 'Micro-ondas': 36, 'Blocos de montar': 35}\n"
          ]
        }
      ]
    },
    {
      "cell_type": "code",
      "source": [
        "#Loja 4 - Criar uma lista dos produtos\n",
        "\n",
        "produtos = []\n",
        "\n",
        "for produto in loja4['Produto']:\n",
        "  produtos.append(produto)\n",
        "\n",
        "\n",
        "print(set(produtos))"
      ],
      "metadata": {
        "colab": {
          "base_uri": "https://localhost:8080/"
        },
        "id": "bRoy0FatzxNo",
        "outputId": "025088e2-b5df-4677-c76b-695944b48e8c"
      },
      "execution_count": 106,
      "outputs": [
        {
          "output_type": "stream",
          "name": "stdout",
          "text": [
            "{'Guarda roupas', 'Micro-ondas', 'Smart TV', 'Panela de pressão', 'Assistente virtual', 'Mesa de jantar', 'Smartwatch', 'TV Led UHD 4K', 'Sofá retrátil', 'Corda de pular', 'Celular Plus X42', 'Faqueiro', 'Blocos de montar', 'Carrinho controle remoto', 'Poltrona', 'Modelagem preditiva', 'Fone de ouvido', 'Bateria', 'Secadora de roupas', 'Xadrez de madeira', 'Guitarra', 'Ciência de dados com python', 'Tablet ABXY', 'Violão', 'Lavadora de roupas', 'Jogo de panelas', 'Boneca bebê', 'Cadeira de escritório', 'Jogo de copos', 'Bola de vôlei', 'Dinossauro Rex', 'Headset', 'Bola de basquete', 'Cômoda', 'Dashboards com Power BI', 'Lava louças', 'Celular ABXY', 'Jogo de tabuleiro', 'Mochila', 'Fogão', 'Pandeiro', 'Kit banquetas', 'Iniciando em programação', 'Geladeira', 'Bicicleta', 'Impressora', 'Copo térmico', 'Cubo mágico 8x8', 'Cama box', 'Mesa de centro', 'Cama king'}\n"
          ]
        }
      ]
    },
    {
      "cell_type": "code",
      "source": [
        "#Loja 4 - Criar uma lista de produtos mais e menos vendidos\n",
        "produtos_vendidos = {}\n",
        "\n",
        "for produto in loja4['Produto']:\n",
        "  produtos_vendidos[produto] = produtos_vendidos.get(produto, 0) + 1\n",
        "  produtos_vendidos_ordenado = dict(sorted(produtos_vendidos.items(), key=lambda item: item[1], reverse=True))\n",
        "\n",
        "print(produtos_vendidos_ordenado)"
      ],
      "metadata": {
        "colab": {
          "base_uri": "https://localhost:8080/"
        },
        "id": "Sy6hM1wIzw9r",
        "outputId": "cb7568a7-eb9f-473f-e384-ceb851bd8b7d"
      },
      "execution_count": 107,
      "outputs": [
        {
          "output_type": "stream",
          "name": "stdout",
          "text": [
            "{'Cama box': 62, 'Faqueiro': 59, 'Dashboards com Power BI': 56, 'Cama king': 56, 'Cômoda': 55, 'Mesa de jantar': 55, 'Carrinho controle remoto': 55, 'Smart TV': 54, 'Blocos de montar': 54, 'Pandeiro': 52, 'Bola de basquete': 50, 'Modelagem preditiva': 50, 'Impressora': 50, 'Assistente virtual': 50, 'Jogo de panelas': 50, 'Celular Plus X42': 48, 'Boneca bebê': 48, 'Bola de vôlei': 48, 'Copo térmico': 48, 'Bateria': 48, 'Jogo de tabuleiro': 48, 'Micro-ondas': 48, 'Fogão': 47, 'Dinossauro Rex': 47, 'Cubo mágico 8x8': 47, 'Sofá retrátil': 47, 'Jogo de copos': 46, 'Panela de pressão': 46, 'Tablet ABXY': 45, 'Bicicleta': 45, 'Poltrona': 45, 'Fone de ouvido': 44, 'Mesa de centro': 44, 'Lava louças': 43, 'Corda de pular': 43, 'Iniciando em programação': 43, 'Mochila': 43, 'Headset': 42, 'Kit banquetas': 42, 'Cadeira de escritório': 40, 'Secadora de roupas': 40, 'TV Led UHD 4K': 40, 'Celular ABXY': 39, 'Xadrez de madeira': 39, 'Smartwatch': 39, 'Geladeira': 38, 'Lavadora de roupas': 38, 'Ciência de dados com python': 38, 'Violão': 37, 'Guarda roupas': 34, 'Guitarra': 33}\n"
          ]
        }
      ]
    },
    {
      "cell_type": "markdown",
      "source": [
        "# 5. Frete Médio por Loja\n"
      ],
      "metadata": {
        "id": "Fl0cGi3bZKqU"
      }
    },
    {
      "cell_type": "code",
      "source": [
        "# Loja 1 - Criar lista com o preço medio do frete por loja\n",
        "\n",
        "frete_medio = []\n",
        "\n",
        "for frete in loja1['Frete']:\n",
        "  frete_medio.append(frete)\n",
        "\n",
        "media_frete = sum(frete_medio) / len(frete_medio)\n",
        "\n",
        "print(round(media_frete, 2))"
      ],
      "metadata": {
        "id": "S2JeaCykZNy9",
        "colab": {
          "base_uri": "https://localhost:8080/"
        },
        "outputId": "d8aed2f2-db39-4532-97c3-a937fa88d5a6"
      },
      "execution_count": 112,
      "outputs": [
        {
          "output_type": "stream",
          "name": "stdout",
          "text": [
            "34.69\n"
          ]
        }
      ]
    },
    {
      "cell_type": "code",
      "source": [
        "# Loja 2 - Criar lista com o preço medio do frete por loja\n",
        "\n",
        "frete_medio = []\n",
        "\n",
        "for frete in loja2['Frete']:\n",
        "  frete_medio.append(frete)\n",
        "\n",
        "media_frete = sum(frete_medio) / len(frete_medio)\n",
        "\n",
        "print(round(media_frete, 2))"
      ],
      "metadata": {
        "id": "0tSdCie9ZQlt",
        "colab": {
          "base_uri": "https://localhost:8080/"
        },
        "outputId": "5b946759-b6fc-4480-ba58-2c613b007b97"
      },
      "execution_count": 113,
      "outputs": [
        {
          "output_type": "stream",
          "name": "stdout",
          "text": [
            "33.62\n"
          ]
        }
      ]
    },
    {
      "cell_type": "code",
      "source": [
        "# Loja 3 - Criar lista com o preço medio do frete por loja\n",
        "\n",
        "frete_medio = []\n",
        "\n",
        "for frete in loja3['Frete']:\n",
        "  frete_medio.append(frete)\n",
        "\n",
        "media_frete = sum(frete_medio) / len(frete_medio)\n",
        "\n",
        "print(round(media_frete, 2))"
      ],
      "metadata": {
        "colab": {
          "base_uri": "https://localhost:8080/"
        },
        "id": "OH6KZKSt6twe",
        "outputId": "43a5fa52-4bbe-45d0-ae5e-45841c13e32e"
      },
      "execution_count": 114,
      "outputs": [
        {
          "output_type": "stream",
          "name": "stdout",
          "text": [
            "33.07\n"
          ]
        }
      ]
    },
    {
      "cell_type": "code",
      "source": [
        "# Loja 4 - Criar lista com o preço medio do frete por loja\n",
        "\n",
        "frete_medio = []\n",
        "\n",
        "for frete in loja4['Frete']:\n",
        "  frete_medio.append(frete)\n",
        "\n",
        "media_frete = sum(frete_medio) / len(frete_medio)\n",
        "\n",
        "print(round(media_frete, 2))"
      ],
      "metadata": {
        "colab": {
          "base_uri": "https://localhost:8080/"
        },
        "id": "_KGl9TJr6tgM",
        "outputId": "93f06cee-7ee4-49e4-e5d4-2fb0a3e110d0"
      },
      "execution_count": 115,
      "outputs": [
        {
          "output_type": "stream",
          "name": "stdout",
          "text": [
            "31.28\n"
          ]
        }
      ]
    }
  ]
}